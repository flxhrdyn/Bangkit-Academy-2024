{
  "cells": [
    {
      "cell_type": "markdown",
      "metadata": {
        "id": "9o11rSepeBnr"
      },
      "source": [
        "<a href=\"https://colab.research.google.com/github/https-deeplearning-ai/tensorflow-1-public/blob/main/C4/W3/ungraded_labs/C4_W3_Lab_2_LSTM.ipynb\" target=\"_parent\"><img src=\"https://colab.research.google.com/assets/colab-badge.svg\" alt=\"Open In Colab\"/></a>"
      ]
    },
    {
      "cell_type": "markdown",
      "metadata": {
        "id": "sV_nvXSQGJPK"
      },
      "source": [
        "# Ungraded Lab: Using a multi-layer LSTM for forecasting\n",
        "\n",
        "In this lab, you will use the same RNN architecure in the first lab but will instead stack [LSTM](https://www.tensorflow.org/api_docs/python/tf/keras/layers/LSTM) layers instead of `SimpleRNN`."
      ]
    },
    {
      "cell_type": "markdown",
      "metadata": {
        "id": "3IMbAWETGOWD"
      },
      "source": [
        "## Imports"
      ]
    },
    {
      "cell_type": "code",
      "execution_count": 1,
      "metadata": {
        "id": "BOjujz601HcS"
      },
      "outputs": [],
      "source": [
        "import tensorflow as tf\n",
        "import numpy as np\n",
        "import matplotlib.pyplot as plt"
      ]
    },
    {
      "cell_type": "markdown",
      "metadata": {
        "id": "kD7RQQ0xGQVH"
      },
      "source": [
        "## Utilities"
      ]
    },
    {
      "cell_type": "code",
      "execution_count": 2,
      "metadata": {
        "id": "Zswl7jRtGzkk"
      },
      "outputs": [],
      "source": [
        "def plot_series(time, series, format=\"-\", start=0, end=None):\n",
        "    \"\"\"\n",
        "    Visualizes time series data\n",
        "\n",
        "    Args:\n",
        "      time (array of int) - contains the time steps\n",
        "      series (array of int) - contains the measurements for each time step\n",
        "      format - line style when plotting the graph\n",
        "      start - first time step to plot\n",
        "      end - last time step to plot\n",
        "    \"\"\"\n",
        "\n",
        "    # Setup dimensions of the graph figure\n",
        "    plt.figure(figsize=(10, 6))\n",
        "\n",
        "    if type(series) is tuple:\n",
        "\n",
        "      for series_num in series:\n",
        "        # Plot the time series data\n",
        "        plt.plot(time[start:end], series_num[start:end], format)\n",
        "\n",
        "    else:\n",
        "      # Plot the time series data\n",
        "      plt.plot(time[start:end], series[start:end], format)\n",
        "\n",
        "    # Label the x-axis\n",
        "    plt.xlabel(\"Time\")\n",
        "\n",
        "    # Label the y-axis\n",
        "    plt.ylabel(\"Value\")\n",
        "\n",
        "    # Overlay a grid on the graph\n",
        "    plt.grid(True)\n",
        "\n",
        "    # Draw the graph on screen\n",
        "    plt.show()\n",
        "\n",
        "def trend(time, slope=0):\n",
        "    \"\"\"\n",
        "    Generates synthetic data that follows a straight line given a slope value.\n",
        "\n",
        "    Args:\n",
        "      time (array of int) - contains the time steps\n",
        "      slope (float) - determines the direction and steepness of the line\n",
        "\n",
        "    Returns:\n",
        "      series (array of float) - measurements that follow a straight line\n",
        "    \"\"\"\n",
        "\n",
        "    # Compute the linear series given the slope\n",
        "    series = slope * time\n",
        "\n",
        "    return series\n",
        "\n",
        "def seasonal_pattern(season_time):\n",
        "    \"\"\"\n",
        "    Just an arbitrary pattern, you can change it if you wish\n",
        "\n",
        "    Args:\n",
        "      season_time (array of float) - contains the measurements per time step\n",
        "\n",
        "    Returns:\n",
        "      data_pattern (array of float) -  contains revised measurement values according\n",
        "                                  to the defined pattern\n",
        "    \"\"\"\n",
        "\n",
        "    # Generate the values using an arbitrary pattern\n",
        "    data_pattern = np.where(season_time < 0.4,\n",
        "                    np.cos(season_time * 2 * np.pi),\n",
        "                    1 / np.exp(3 * season_time))\n",
        "\n",
        "    return data_pattern\n",
        "\n",
        "def seasonality(time, period, amplitude=1, phase=0):\n",
        "    \"\"\"\n",
        "    Repeats the same pattern at each period\n",
        "\n",
        "    Args:\n",
        "      time (array of int) - contains the time steps\n",
        "      period (int) - number of time steps before the pattern repeats\n",
        "      amplitude (int) - peak measured value in a period\n",
        "      phase (int) - number of time steps to shift the measured values\n",
        "\n",
        "    Returns:\n",
        "      data_pattern (array of float) - seasonal data scaled by the defined amplitude\n",
        "    \"\"\"\n",
        "\n",
        "    # Define the measured values per period\n",
        "    season_time = ((time + phase) % period) / period\n",
        "\n",
        "    # Generates the seasonal data scaled by the defined amplitude\n",
        "    data_pattern = amplitude * seasonal_pattern(season_time)\n",
        "\n",
        "    return data_pattern\n",
        "\n",
        "def noise(time, noise_level=1, seed=None):\n",
        "    \"\"\"Generates a normally distributed noisy signal\n",
        "\n",
        "    Args:\n",
        "      time (array of int) - contains the time steps\n",
        "      noise_level (float) - scaling factor for the generated signal\n",
        "      seed (int) - number generator seed for repeatability\n",
        "\n",
        "    Returns:\n",
        "      noise (array of float) - the noisy signal\n",
        "    \"\"\"\n",
        "\n",
        "    # Initialize the random number generator\n",
        "    rnd = np.random.RandomState(seed)\n",
        "\n",
        "    # Generate a random number for each time step and scale by the noise level\n",
        "    noise = rnd.randn(len(time)) * noise_level\n",
        "\n",
        "    return noise"
      ]
    },
    {
      "cell_type": "markdown",
      "metadata": {
        "id": "yxNyeFWjGSdj"
      },
      "source": [
        "## Generate the Synthetic Data"
      ]
    },
    {
      "cell_type": "code",
      "execution_count": 3,
      "metadata": {
        "id": "KYEUfDbdpHPm",
        "colab": {
          "base_uri": "https://localhost:8080/",
          "height": 542
        },
        "outputId": "0182b0ec-4b91-4e9d-f0e4-325cbbc53459"
      },
      "outputs": [
        {
          "output_type": "display_data",
          "data": {
            "text/plain": [
              "<Figure size 1000x600 with 1 Axes>"
            ],
            "image/png": "[encoded data removed]"
          },
          "metadata": {}
        }
      ],
      "source": [
        "# Parameters\n",
        "time = np.arange(4 * 365 + 1, dtype=\"float32\")\n",
        "baseline = 10\n",
        "amplitude = 40\n",
        "slope = 0.05\n",
        "noise_level = 5\n",
        "\n",
        "# Create the series\n",
        "series = baseline + trend(time, slope) + seasonality(time, period=365, amplitude=amplitude)\n",
        "\n",
        "# Update with noise\n",
        "series += noise(time, noise_level, seed=42)\n",
        "\n",
        "# Plot the results\n",
        "plot_series(time, series)"
      ]
    },
    {
      "cell_type": "markdown",
      "metadata": {
        "id": "MYKCvv-eGWRc"
      },
      "source": [
        "## Split the Dataset"
      ]
    },
    {
      "cell_type": "code",
      "execution_count": 4,
      "metadata": {
        "id": "hpp0slenpKVD"
      },
      "outputs": [],
      "source": [
        "# Define the split time\n",
        "split_time = 1000\n",
        "\n",
        "# Get the train set\n",
        "time_train = time[:split_time]\n",
        "x_train = series[:split_time]\n",
        "\n",
        "# Get the validation set\n",
        "time_valid = time[split_time:]\n",
        "x_valid = series[split_time:]"
      ]
    },
    {
      "cell_type": "markdown",
      "metadata": {
        "id": "cktHz9aOGYtV"
      },
      "source": [
        "## Prepare Features and Labels"
      ]
    },
    {
      "cell_type": "code",
      "execution_count": 5,
      "metadata": {
        "id": "G_j_2_Mqwn7-"
      },
      "outputs": [],
      "source": [
        "# Parameters\n",
        "window_size = 20\n",
        "batch_size = 32\n",
        "shuffle_buffer_size = 1000"
      ]
    },
    {
      "cell_type": "code",
      "execution_count": 6,
      "metadata": {
        "id": "4sTTIOCbyShY"
      },
      "outputs": [],
      "source": [
        "def windowed_dataset(series, window_size, batch_size, shuffle_buffer):\n",
        "    \"\"\"Generates dataset windows\n",
        "\n",
        "    Args:\n",
        "      series (array of float) - contains the values of the time series\n",
        "      window_size (int) - the number of time steps to include in the feature\n",
        "      batch_size (int) - the batch size\n",
        "      shuffle_buffer(int) - buffer size to use for the shuffle method\n",
        "\n",
        "    Returns:\n",
        "      dataset (TF Dataset) - TF Dataset containing time windows\n",
        "    \"\"\"\n",
        "\n",
        "    # Generate a TF Dataset from the series values\n",
        "    dataset = tf.data.Dataset.from_tensor_slices(series)\n",
        "\n",
        "    # Window the data but only take those with the specified size\n",
        "    dataset = dataset.window(window_size + 1, shift=1, drop_remainder=True)\n",
        "\n",
        "    # Flatten the windows by putting its elements in a single batch\n",
        "    dataset = dataset.flat_map(lambda window: window.batch(window_size + 1))\n",
        "\n",
        "    # Create tuples with features and labels\n",
        "    dataset = dataset.map(lambda window: (window[:-1], window[-1]))\n",
        "\n",
        "    # Shuffle the windows\n",
        "    dataset = dataset.shuffle(shuffle_buffer)\n",
        "\n",
        "    # Create batches of windows\n",
        "    dataset = dataset.batch(batch_size).prefetch(1)\n",
        "\n",
        "    return dataset"
      ]
    },
    {
      "cell_type": "code",
      "execution_count": 7,
      "metadata": {
        "id": "vGj5-InSwtQQ"
      },
      "outputs": [],
      "source": [
        "# Generate the dataset windows\n",
        "dataset = windowed_dataset(x_train, window_size, batch_size, shuffle_buffer_size)"
      ]
    },
    {
      "cell_type": "markdown",
      "metadata": {
        "id": "p9-Ke8ZaGcjd"
      },
      "source": [
        "## Build the Model\n",
        "\n",
        "As mentioned, you will swap `SimpleRNN` for `LSTM` in this lab. It is also set as bidirectional below but feel free to revise later and see what results you get. LSTMs are much more complex in their internal architecture than simpleRNNs. It implements a cell state that allows it to remember sequences better than simple implementations. This added complexity results in a bigger set of parameters to train and you'll see that when you print the model summary below."
      ]
    },
    {
      "cell_type": "code",
      "execution_count": 8,
      "metadata": {
        "id": "A1Hl39rklkLm",
        "colab": {
          "base_uri": "https://localhost:8080/"
        },
        "outputId": "f9b21f85-ff96-4834-e459-f69d604c5956"
      },
      "outputs": [
        {
          "output_type": "stream",
          "name": "stdout",
          "text": [
            "Model: \"sequential\"\n",
            "_________________________________________________________________\n",
            " Layer (type)                Output Shape              Param #   \n",
            "=================================================================\n",
            " lambda (Lambda)             (None, 20, 1)             0         \n",
            "                                                                 \n",
            " bidirectional (Bidirection  (None, 20, 64)            8704      \n",
            " al)                                                             \n",
            "                                                                 \n",
            " bidirectional_1 (Bidirecti  (None, 64)                24832     \n",
            " onal)                                                           \n",
            "                                                                 \n",
            " dense (Dense)               (None, 1)                 65        \n",
            "                                                                 \n",
            " lambda_1 (Lambda)           (None, 1)                 0         \n",
            "                                                                 \n",
            "=================================================================\n",
            "Total params: 33601 (131.25 KB)\n",
            "Trainable params: 33601 (131.25 KB)\n",
            "Non-trainable params: 0 (0.00 Byte)\n",
            "_________________________________________________________________\n"
          ]
        }
      ],
      "source": [
        "# Build the Model\n",
        "model_tune = tf.keras.models.Sequential([\n",
        "  tf.keras.layers.Lambda(lambda x: tf.expand_dims(x, axis=-1),\n",
        "                      input_shape=[window_size]),\n",
        "    tf.keras.layers.Bidirectional(tf.keras.layers.LSTM(32, return_sequences=True)),\n",
        "  tf.keras.layers.Bidirectional(tf.keras.layers.LSTM(32)),\n",
        "  tf.keras.layers.Dense(1),\n",
        "  tf.keras.layers.Lambda(lambda x: x * 100.0)\n",
        "])\n",
        "\n",
        "# Print the model summary\n",
        "model_tune.summary()"
      ]
    },
    {
      "cell_type": "markdown",
      "metadata": {
        "id": "FHaFblbwq0GV"
      },
      "source": [
        "## Tune the Learning Rate\n",
        "\n",
        "As usual, you will pick a learning rate by running the tuning code below."
      ]
    },
    {
      "cell_type": "code",
      "execution_count": 9,
      "metadata": {
        "id": "qE7al18qw48G",
        "colab": {
          "base_uri": "https://localhost:8080/"
        },
        "outputId": "ec5e7674-292c-40a4-8e40-3f1a65eeac2e"
      },
      "outputs": [
        {
          "output_type": "stream",
          "name": "stdout",
          "text": [
            "Epoch 1/100\n",
            "31/31 [==============================] - 19s 74ms/step - loss: 108.0647 - lr: 1.0000e-08\n",
            "Epoch 2/100\n",
            "31/31 [==============================] - 2s 55ms/step - loss: 107.1041 - lr: 1.1220e-08\n",
            "Epoch 3/100\n",
            "31/31 [==============================] - 2s 62ms/step - loss: 105.9252 - lr: 1.2589e-08\n",
            "Epoch 4/100\n",
            "31/31 [==============================] - 1s 41ms/step - loss: 104.5747 - lr: 1.4125e-08\n",
            "Epoch 5/100\n",
            "31/31 [==============================] - 1s 25ms/step - loss: 102.9830 - lr: 1.5849e-08\n",
            "Epoch 6/100\n",
            "31/31 [==============================] - 1s 25ms/step - loss: 100.9137 - lr: 1.7783e-08\n",
            "Epoch 7/100\n",
            "31/31 [==============================] - 1s 25ms/step - loss: 97.7036 - lr: 1.9953e-08\n",
            "Epoch 8/100\n",
            "31/31 [==============================] - 1s 24ms/step - loss: 92.1271 - lr: 2.2387e-08\n",
            "Epoch 9/100\n",
            "31/31 [==============================] - 1s 26ms/step - loss: 84.2680 - lr: 2.5119e-08\n",
            "Epoch 10/100\n",
            "31/31 [==============================] - 1s 26ms/step - loss: 79.2317 - lr: 2.8184e-08\n",
            "Epoch 11/100\n",
            "31/31 [==============================] - 1s 29ms/step - loss: 75.2791 - lr: 3.1623e-08\n",
            "Epoch 12/100\n",
            "31/31 [==============================] - 1s 28ms/step - loss: 71.2438 - lr: 3.5481e-08\n",
            "Epoch 13/100\n",
            "31/31 [==============================] - 1s 39ms/step - loss: 66.8879 - lr: 3.9811e-08\n",
            "Epoch 14/100\n",
            "31/31 [==============================] - 2s 43ms/step - loss: 62.1198 - lr: 4.4668e-08\n",
            "Epoch 15/100\n",
            "31/31 [==============================] - 1s 26ms/step - loss: 56.8802 - lr: 5.0119e-08\n",
            "Epoch 16/100\n",
            "31/31 [==============================] - 1s 24ms/step - loss: 51.0966 - lr: 5.6234e-08\n",
            "Epoch 17/100\n",
            "31/31 [==============================] - 1s 24ms/step - loss: 44.7094 - lr: 6.3096e-08\n",
            "Epoch 18/100\n",
            "31/31 [==============================] - 1s 24ms/step - loss: 37.6819 - lr: 7.0795e-08\n",
            "Epoch 19/100\n",
            "31/31 [==============================] - 1s 25ms/step - loss: 29.9574 - lr: 7.9433e-08\n",
            "Epoch 20/100\n",
            "31/31 [==============================] - 1s 25ms/step - loss: 21.5055 - lr: 8.9125e-08\n",
            "Epoch 21/100\n",
            "31/31 [==============================] - 1s 28ms/step - loss: 13.3198 - lr: 1.0000e-07\n",
            "Epoch 22/100\n",
            "31/31 [==============================] - 1s 36ms/step - loss: 9.3727 - lr: 1.1220e-07\n",
            "Epoch 23/100\n",
            "31/31 [==============================] - 2s 46ms/step - loss: 8.7913 - lr: 1.2589e-07\n",
            "Epoch 24/100\n",
            "31/31 [==============================] - 1s 27ms/step - loss: 8.6949 - lr: 1.4125e-07\n",
            "Epoch 25/100\n",
            "31/31 [==============================] - 1s 24ms/step - loss: 8.6054 - lr: 1.5849e-07\n",
            "Epoch 26/100\n",
            "31/31 [==============================] - 1s 29ms/step - loss: 8.4082 - lr: 1.9953e-07\n",
            "Epoch 28/100\n",
            "31/31 [==============================] - 1s 27ms/step - loss: 8.3082 - lr: 2.2387e-07\n",
            "Epoch 29/100\n",
            "31/31 [==============================] - 1s 24ms/step - loss: 8.1992 - lr: 2.5119e-07\n",
            "Epoch 30/100\n",
            "31/31 [==============================] - 1s 24ms/step - loss: 8.0802 - lr: 2.8184e-07\n",
            "Epoch 31/100\n",
            "31/31 [==============================] - 1s 28ms/step - loss: 7.9611 - lr: 3.1623e-07\n",
            "Epoch 32/100\n",
            "31/31 [==============================] - 2s 43ms/step - loss: 7.8677 - lr: 3.5481e-07\n",
            "Epoch 33/100\n",
            "31/31 [==============================] - 1s 27ms/step - loss: 7.7373 - lr: 3.9811e-07\n",
            "Epoch 34/100\n",
            "31/31 [==============================] - 1s 24ms/step - loss: 7.6223 - lr: 4.4668e-07\n",
            "Epoch 35/100\n",
            "31/31 [==============================] - 1s 26ms/step - loss: 7.5063 - lr: 5.0119e-07\n",
            "Epoch 36/100\n",
            "31/31 [==============================] - 1s 23ms/step - loss: 7.4072 - lr: 5.6234e-07\n",
            "Epoch 37/100\n",
            "31/31 [==============================] - 1s 24ms/step - loss: 7.3256 - lr: 6.3096e-07\n",
            "Epoch 38/100\n",
            "31/31 [==============================] - 1s 24ms/step - loss: 7.1936 - lr: 7.0795e-07\n",
            "Epoch 39/100\n",
            "31/31 [==============================] - 1s 27ms/step - loss: 7.0886 - lr: 7.9433e-07\n",
            "Epoch 40/100\n",
            "31/31 [==============================] - 1s 24ms/step - loss: 6.9998 - lr: 8.9125e-07\n",
            "Epoch 41/100\n",
            "31/31 [==============================] - 1s 29ms/step - loss: 6.9474 - lr: 1.0000e-06\n",
            "Epoch 42/100\n",
            "31/31 [==============================] - 2s 44ms/step - loss: 6.7717 - lr: 1.1220e-06\n",
            "Epoch 43/100\n",
            "31/31 [==============================] - 1s 24ms/step - loss: 6.7029 - lr: 1.2589e-06\n",
            "Epoch 44/100\n",
            "31/31 [==============================] - 1s 24ms/step - loss: 6.6107 - lr: 1.4125e-06\n",
            "Epoch 45/100\n",
            "31/31 [==============================] - 1s 24ms/step - loss: 6.4990 - lr: 1.5849e-06\n",
            "Epoch 46/100\n",
            "31/31 [==============================] - 1s 24ms/step - loss: 6.4389 - lr: 1.7783e-06\n",
            "Epoch 47/100\n",
            "31/31 [==============================] - 1s 29ms/step - loss: 6.2965 - lr: 1.9953e-06\n",
            "Epoch 48/100\n",
            "31/31 [==============================] - 1s 29ms/step - loss: 6.1449 - lr: 2.2387e-06\n",
            "Epoch 49/100\n",
            "31/31 [==============================] - 1s 28ms/step - loss: 6.1813 - lr: 2.5119e-06\n",
            "Epoch 50/100\n",
            "31/31 [==============================] - 1s 26ms/step - loss: 5.8942 - lr: 2.8184e-06\n",
            "Epoch 51/100\n",
            "31/31 [==============================] - 1s 24ms/step - loss: 6.0606 - lr: 3.1623e-06\n",
            "Epoch 52/100\n",
            "31/31 [==============================] - 1s 43ms/step - loss: 5.7288 - lr: 3.5481e-06\n",
            "Epoch 53/100\n",
            "31/31 [==============================] - 1s 25ms/step - loss: 5.8003 - lr: 3.9811e-06\n",
            "Epoch 54/100\n",
            "31/31 [==============================] - 1s 25ms/step - loss: 5.5407 - lr: 4.4668e-06\n",
            "Epoch 55/100\n",
            "31/31 [==============================] - 1s 27ms/step - loss: 5.5717 - lr: 5.0119e-06\n",
            "Epoch 56/100\n",
            "31/31 [==============================] - 1s 25ms/step - loss: 5.5652 - lr: 5.6234e-06\n",
            "Epoch 57/100\n",
            "31/31 [==============================] - 1s 25ms/step - loss: 5.8540 - lr: 6.3096e-06\n",
            "Epoch 58/100\n",
            "31/31 [==============================] - 1s 25ms/step - loss: 5.6382 - lr: 7.0795e-06\n",
            "Epoch 59/100\n",
            "31/31 [==============================] - 1s 25ms/step - loss: 5.2965 - lr: 7.9433e-06\n",
            "Epoch 60/100\n",
            "31/31 [==============================] - 1s 28ms/step - loss: 5.7005 - lr: 8.9125e-06\n",
            "Epoch 61/100\n",
            "31/31 [==============================] - 2s 46ms/step - loss: 5.2489 - lr: 1.0000e-05\n",
            "Epoch 62/100\n",
            "31/31 [==============================] - 1s 28ms/step - loss: 5.5777 - lr: 1.1220e-05\n",
            "Epoch 63/100\n",
            "31/31 [==============================] - 1s 24ms/step - loss: 5.2003 - lr: 1.2589e-05\n",
            "Epoch 64/100\n",
            "31/31 [==============================] - 1s 24ms/step - loss: 5.6805 - lr: 1.4125e-05\n",
            "Epoch 65/100\n",
            "31/31 [==============================] - 1s 28ms/step - loss: 5.4788 - lr: 1.5849e-05\n",
            "Epoch 66/100\n",
            "31/31 [==============================] - 1s 39ms/step - loss: 5.2426 - lr: 1.7783e-05\n",
            "Epoch 67/100\n",
            "31/31 [==============================] - 1s 28ms/step - loss: 5.2671 - lr: 1.9953e-05\n",
            "Epoch 68/100\n",
            "31/31 [==============================] - 1s 26ms/step - loss: 5.2188 - lr: 2.2387e-05\n",
            "Epoch 69/100\n",
            "31/31 [==============================] - 2s 46ms/step - loss: 5.5946 - lr: 2.5119e-05\n",
            "Epoch 70/100\n",
            "31/31 [==============================] - 1s 25ms/step - loss: 6.8284 - lr: 2.8184e-05\n",
            "Epoch 71/100\n",
            "31/31 [==============================] - 1s 25ms/step - loss: 5.6194 - lr: 3.1623e-05\n",
            "Epoch 72/100\n",
            "31/31 [==============================] - 1s 26ms/step - loss: 5.4487 - lr: 3.5481e-05\n",
            "Epoch 73/100\n",
            "31/31 [==============================] - 1s 24ms/step - loss: 6.6904 - lr: 3.9811e-05\n",
            "Epoch 74/100\n",
            "31/31 [==============================] - 1s 28ms/step - loss: 6.1233 - lr: 4.4668e-05\n",
            "Epoch 75/100\n",
            "31/31 [==============================] - 1s 25ms/step - loss: 6.1271 - lr: 5.0119e-05\n",
            "Epoch 76/100\n",
            "31/31 [==============================] - 1s 25ms/step - loss: 5.5984 - lr: 5.6234e-05\n",
            "Epoch 77/100\n",
            "31/31 [==============================] - 1s 26ms/step - loss: 5.0218 - lr: 6.3096e-05\n",
            "Epoch 78/100\n",
            "31/31 [==============================] - 1s 40ms/step - loss: 5.0977 - lr: 7.0795e-05\n",
            "Epoch 79/100\n",
            "31/31 [==============================] - 1s 28ms/step - loss: 5.7461 - lr: 7.9433e-05\n",
            "Epoch 80/100\n",
            "31/31 [==============================] - 1s 26ms/step - loss: 5.6033 - lr: 8.9125e-05\n",
            "Epoch 81/100\n",
            "31/31 [==============================] - 1s 25ms/step - loss: 6.1869 - lr: 1.0000e-04\n",
            "Epoch 82/100\n",
            "31/31 [==============================] - 1s 29ms/step - loss: 9.6381 - lr: 1.1220e-04\n",
            "Epoch 83/100\n",
            "31/31 [==============================] - 1s 29ms/step - loss: 9.1736 - lr: 1.2589e-04\n",
            "Epoch 84/100\n",
            "31/31 [==============================] - 1s 29ms/step - loss: 8.1034 - lr: 1.4125e-04\n",
            "Epoch 85/100\n",
            "31/31 [==============================] - 1s 27ms/step - loss: 7.8127 - lr: 1.5849e-04\n",
            "Epoch 86/100\n",
            "31/31 [==============================] - 1s 26ms/step - loss: 7.2519 - lr: 1.7783e-04\n",
            "Epoch 87/100\n",
            "31/31 [==============================] - 2s 50ms/step - loss: 9.9215 - lr: 1.9953e-04\n",
            "Epoch 88/100\n",
            "31/31 [==============================] - 1s 26ms/step - loss: 9.5155 - lr: 2.2387e-04\n",
            "Epoch 89/100\n",
            "31/31 [==============================] - 1s 25ms/step - loss: 7.6004 - lr: 2.5119e-04\n",
            "Epoch 90/100\n",
            "31/31 [==============================] - 1s 24ms/step - loss: 7.5374 - lr: 2.8184e-04\n",
            "Epoch 91/100\n",
            "31/31 [==============================] - 1s 29ms/step - loss: 14.1439 - lr: 3.1623e-04\n",
            "Epoch 92/100\n",
            "31/31 [==============================] - 1s 28ms/step - loss: 9.0200 - lr: 3.5481e-04\n",
            "Epoch 93/100\n",
            "31/31 [==============================] - 1s 24ms/step - loss: 10.7743 - lr: 3.9811e-04\n",
            "Epoch 94/100\n",
            "31/31 [==============================] - 1s 29ms/step - loss: 11.4148 - lr: 4.4668e-04\n",
            "Epoch 95/100\n",
            "31/31 [==============================] - 1s 25ms/step - loss: 11.1208 - lr: 5.0119e-04\n",
            "Epoch 96/100\n",
            "31/31 [==============================] - 1s 37ms/step - loss: 7.4433 - lr: 5.6234e-04\n",
            "Epoch 97/100\n",
            "31/31 [==============================] - 1s 25ms/step - loss: 9.1536 - lr: 6.3096e-04\n",
            "Epoch 98/100\n",
            "31/31 [==============================] - 1s 25ms/step - loss: 12.8782 - lr: 7.0795e-04\n",
            "Epoch 99/100\n",
            "31/31 [==============================] - 1s 28ms/step - loss: 12.7393 - lr: 7.9433e-04\n",
            "Epoch 100/100\n",
            "31/31 [==============================] - 1s 25ms/step - loss: 13.2612 - lr: 8.9125e-04\n"
          ]
        }
      ],
      "source": [
        "# Set the learning rate scheduler\n",
        "lr_schedule = tf.keras.callbacks.LearningRateScheduler(\n",
        "    lambda epoch: 1e-8 * 10**(epoch / 20))\n",
        "\n",
        "# Initialize the optimizer\n",
        "optimizer = tf.keras.optimizers.SGD(momentum=0.9)\n",
        "\n",
        "# Set the training parameters\n",
        "model_tune.compile(loss=tf.keras.losses.Huber(), optimizer=optimizer)\n",
        "\n",
        "# Train the model\n",
        "history = model_tune.fit(dataset, epochs=100, callbacks=[lr_schedule])"
      ]
    },
    {
      "cell_type": "code",
      "execution_count": 10,
      "metadata": {
        "id": "AkBsrsXMzoWR",
        "colab": {
          "base_uri": "https://localhost:8080/",
          "height": 558
        },
        "outputId": "b7f60550-f214-4188-9e9d-86aacd46ddea"
      },
      "outputs": [
        {
          "output_type": "execute_result",
          "data": {
            "text/plain": [
              "(1e-08, 0.001, 0.0, 30.0)"
            ]
          },
          "metadata": {},
          "execution_count": 10
        },
        {
          "output_type": "display_data",
          "data": {
            "text/plain": [
              "<Figure size 1000x600 with 1 Axes>"
            ],
            "image/png": "[encoded data removed]"
          },
          "metadata": {}
        }
      ],
      "source": [
        "# Define the learning rate array\n",
        "lrs = 1e-8 * (10 ** (np.arange(100) / 20))\n",
        "\n",
        "# Set the figure size\n",
        "plt.figure(figsize=(10, 6))\n",
        "\n",
        "# Set the grid\n",
        "plt.grid(True)\n",
        "\n",
        "# Plot the loss in log scale\n",
        "plt.semilogx(lrs, history.history[\"loss\"])\n",
        "\n",
        "# Increase the tickmarks size\n",
        "plt.tick_params('both', length=10, width=1, which='both')\n",
        "\n",
        "# Set the plot boundaries\n",
        "plt.axis([1e-8, 1e-3, 0, 30])"
      ]
    },
    {
      "cell_type": "markdown",
      "metadata": {
        "id": "i-lKNp4pq_w8"
      },
      "source": [
        "## Train the Model\n",
        "\n",
        "You can then proceed to train the model with your chosen learning rate.\n",
        "\n",
        "*Tip: When experimenting and you find yourself running different iterations of a model, you may want to use the [`clear_session()`](https://www.tensorflow.org/api_docs/python/tf/keras/backend/clear_session) method to declutter memory used by Keras. This is added in the first line below.*\n"
      ]
    },
    {
      "cell_type": "code",
      "execution_count": 11,
      "metadata": {
        "id": "4uh-97bpLZCA",
        "colab": {
          "base_uri": "https://localhost:8080/"
        },
        "outputId": "3976078c-c2bc-43b5-85d8-d88cc1dc1a18"
      },
      "outputs": [
        {
          "output_type": "stream",
          "name": "stdout",
          "text": [
            "Epoch 1/100\n",
            "31/31 [==============================] - 8s 28ms/step - loss: 19.1801 - mae: 19.6721\n",
            "Epoch 2/100\n",
            "31/31 [==============================] - 1s 28ms/step - loss: 14.9501 - mae: 15.4430\n",
            "Epoch 3/100\n",
            "31/31 [==============================] - 1s 28ms/step - loss: 11.5935 - mae: 12.0835\n",
            "Epoch 4/100\n",
            "31/31 [==============================] - 1s 25ms/step - loss: 8.3186 - mae: 8.8016\n",
            "Epoch 5/100\n",
            "31/31 [==============================] - 1s 24ms/step - loss: 7.8764 - mae: 8.3589\n",
            "Epoch 6/100\n",
            "31/31 [==============================] - 1s 28ms/step - loss: 7.9497 - mae: 8.4363\n",
            "Epoch 7/100\n",
            "31/31 [==============================] - 1s 30ms/step - loss: 7.7474 - mae: 8.2296\n",
            "Epoch 8/100\n",
            "31/31 [==============================] - 2s 44ms/step - loss: 7.4560 - mae: 7.9380\n",
            "Epoch 9/100\n",
            "31/31 [==============================] - 1s 25ms/step - loss: 7.3435 - mae: 7.8265\n",
            "Epoch 10/100\n",
            "31/31 [==============================] - 1s 28ms/step - loss: 7.1372 - mae: 7.6201\n",
            "Epoch 11/100\n",
            "31/31 [==============================] - 1s 26ms/step - loss: 6.8222 - mae: 7.3033\n",
            "Epoch 12/100\n",
            "31/31 [==============================] - 1s 25ms/step - loss: 6.9516 - mae: 7.4334\n",
            "Epoch 13/100\n",
            "31/31 [==============================] - 1s 28ms/step - loss: 6.8601 - mae: 7.3411\n",
            "Epoch 14/100\n",
            "31/31 [==============================] - 1s 25ms/step - loss: 6.7131 - mae: 7.1964\n",
            "Epoch 15/100\n",
            "31/31 [==============================] - 1s 28ms/step - loss: 6.6233 - mae: 7.1093\n",
            "Epoch 16/100\n",
            "31/31 [==============================] - 1s 24ms/step - loss: 6.5338 - mae: 7.0139\n",
            "Epoch 17/100\n",
            "31/31 [==============================] - 1s 43ms/step - loss: 6.4621 - mae: 6.9426\n",
            "Epoch 18/100\n",
            "31/31 [==============================] - 1s 24ms/step - loss: 6.3818 - mae: 6.8613\n",
            "Epoch 19/100\n",
            "31/31 [==============================] - 1s 28ms/step - loss: 6.1875 - mae: 6.6648\n",
            "Epoch 20/100\n",
            "31/31 [==============================] - 1s 24ms/step - loss: 6.0791 - mae: 6.5608\n",
            "Epoch 21/100\n",
            "31/31 [==============================] - 1s 29ms/step - loss: 6.0857 - mae: 6.5677\n",
            "Epoch 22/100\n",
            "31/31 [==============================] - 1s 26ms/step - loss: 6.0703 - mae: 6.5512\n",
            "Epoch 23/100\n",
            "31/31 [==============================] - 1s 24ms/step - loss: 5.9785 - mae: 6.4580\n",
            "Epoch 24/100\n",
            "31/31 [==============================] - 1s 25ms/step - loss: 5.8673 - mae: 6.3488\n",
            "Epoch 25/100\n",
            "31/31 [==============================] - 1s 24ms/step - loss: 5.7684 - mae: 6.2492\n",
            "Epoch 26/100\n",
            "31/31 [==============================] - 1s 24ms/step - loss: 5.7665 - mae: 6.2469\n",
            "Epoch 27/100\n",
            "31/31 [==============================] - 2s 49ms/step - loss: 5.8012 - mae: 6.2860\n",
            "Epoch 28/100\n",
            "31/31 [==============================] - 1s 26ms/step - loss: 5.6332 - mae: 6.1164\n",
            "Epoch 29/100\n",
            "31/31 [==============================] - 1s 25ms/step - loss: 5.5374 - mae: 6.0161\n",
            "Epoch 30/100\n",
            "31/31 [==============================] - 1s 28ms/step - loss: 5.6401 - mae: 6.1191\n",
            "Epoch 31/100\n",
            "31/31 [==============================] - 1s 27ms/step - loss: 5.5663 - mae: 6.0420\n",
            "Epoch 32/100\n",
            "31/31 [==============================] - 1s 24ms/step - loss: 5.4056 - mae: 5.8827\n",
            "Epoch 33/100\n",
            "31/31 [==============================] - 1s 24ms/step - loss: 5.3570 - mae: 5.8377\n",
            "Epoch 34/100\n",
            "31/31 [==============================] - 1s 29ms/step - loss: 5.4928 - mae: 5.9751\n",
            "Epoch 35/100\n",
            "31/31 [==============================] - 1s 30ms/step - loss: 5.2873 - mae: 5.7642\n",
            "Epoch 36/100\n",
            "31/31 [==============================] - 2s 45ms/step - loss: 5.2695 - mae: 5.7508\n",
            "Epoch 37/100\n",
            "31/31 [==============================] - 1s 24ms/step - loss: 5.1350 - mae: 5.6149\n",
            "Epoch 38/100\n",
            "31/31 [==============================] - 1s 24ms/step - loss: 5.1412 - mae: 5.6199\n",
            "Epoch 39/100\n",
            "31/31 [==============================] - 1s 27ms/step - loss: 5.1135 - mae: 5.5892\n",
            "Epoch 40/100\n",
            "31/31 [==============================] - 1s 24ms/step - loss: 5.0389 - mae: 5.5168\n",
            "Epoch 41/100\n",
            "31/31 [==============================] - 1s 24ms/step - loss: 5.0156 - mae: 5.4908\n",
            "Epoch 42/100\n",
            "31/31 [==============================] - 1s 24ms/step - loss: 4.9708 - mae: 5.4503\n",
            "Epoch 43/100\n",
            "31/31 [==============================] - 1s 24ms/step - loss: 4.9169 - mae: 5.3930\n",
            "Epoch 44/100\n",
            "31/31 [==============================] - 1s 25ms/step - loss: 5.0786 - mae: 5.5615\n",
            "Epoch 45/100\n",
            "31/31 [==============================] - 1s 35ms/step - loss: 4.9804 - mae: 5.4594\n",
            "Epoch 46/100\n",
            "31/31 [==============================] - 2s 44ms/step - loss: 5.0110 - mae: 5.4921\n",
            "Epoch 47/100\n",
            "31/31 [==============================] - 1s 29ms/step - loss: 4.8407 - mae: 5.3218\n",
            "Epoch 48/100\n",
            "31/31 [==============================] - 1s 26ms/step - loss: 4.8206 - mae: 5.3008\n",
            "Epoch 49/100\n",
            "31/31 [==============================] - 1s 24ms/step - loss: 5.0559 - mae: 5.5346\n",
            "Epoch 50/100\n",
            "31/31 [==============================] - 1s 24ms/step - loss: 4.9834 - mae: 5.4630\n",
            "Epoch 51/100\n",
            "31/31 [==============================] - 1s 29ms/step - loss: 4.9034 - mae: 5.3816\n",
            "Epoch 52/100\n",
            "31/31 [==============================] - 1s 30ms/step - loss: 4.7456 - mae: 5.2215\n",
            "Epoch 53/100\n",
            "31/31 [==============================] - 1s 28ms/step - loss: 4.8063 - mae: 5.2852\n",
            "Epoch 54/100\n",
            "31/31 [==============================] - 1s 32ms/step - loss: 4.8834 - mae: 5.3589\n",
            "Epoch 55/100\n",
            "31/31 [==============================] - 2s 44ms/step - loss: 4.7280 - mae: 5.2066\n",
            "Epoch 56/100\n",
            "31/31 [==============================] - 1s 28ms/step - loss: 4.7163 - mae: 5.1922\n",
            "Epoch 57/100\n",
            "31/31 [==============================] - 1s 24ms/step - loss: 4.6031 - mae: 5.0811\n",
            "Epoch 58/100\n",
            "31/31 [==============================] - 1s 24ms/step - loss: 4.5917 - mae: 5.0669\n",
            "Epoch 59/100\n",
            "31/31 [==============================] - 1s 25ms/step - loss: 4.6192 - mae: 5.0988\n",
            "Epoch 60/100\n",
            "31/31 [==============================] - 1s 23ms/step - loss: 4.5873 - mae: 5.0646\n",
            "Epoch 61/100\n",
            "31/31 [==============================] - 1s 24ms/step - loss: 4.5946 - mae: 5.0672\n",
            "Epoch 62/100\n",
            "31/31 [==============================] - 1s 23ms/step - loss: 4.6504 - mae: 5.1298\n",
            "Epoch 63/100\n",
            "31/31 [==============================] - 1s 25ms/step - loss: 4.6724 - mae: 5.1485\n",
            "Epoch 64/100\n",
            "31/31 [==============================] - 1s 45ms/step - loss: 4.6019 - mae: 5.0821\n",
            "Epoch 65/100\n",
            "31/31 [==============================] - 1s 24ms/step - loss: 4.7303 - mae: 5.2105\n",
            "Epoch 66/100\n",
            "31/31 [==============================] - 1s 25ms/step - loss: 4.5222 - mae: 4.9963\n",
            "Epoch 67/100\n",
            "31/31 [==============================] - 1s 24ms/step - loss: 4.6724 - mae: 5.1536\n",
            "Epoch 68/100\n",
            "31/31 [==============================] - 1s 28ms/step - loss: 4.5894 - mae: 5.0681\n",
            "Epoch 69/100\n",
            "31/31 [==============================] - 1s 24ms/step - loss: 4.5149 - mae: 4.9899\n",
            "Epoch 70/100\n",
            "31/31 [==============================] - 1s 26ms/step - loss: 4.4939 - mae: 4.9730\n",
            "Epoch 71/100\n",
            "31/31 [==============================] - 1s 29ms/step - loss: 4.6716 - mae: 5.1522\n",
            "Epoch 72/100\n",
            "31/31 [==============================] - 1s 29ms/step - loss: 4.6565 - mae: 5.1272\n",
            "Epoch 73/100\n",
            "31/31 [==============================] - 1s 24ms/step - loss: 4.6498 - mae: 5.1271\n",
            "Epoch 74/100\n",
            "31/31 [==============================] - 2s 50ms/step - loss: 4.5117 - mae: 4.9895\n",
            "Epoch 75/100\n",
            "31/31 [==============================] - 1s 30ms/step - loss: 4.5178 - mae: 4.9925\n",
            "Epoch 76/100\n",
            "31/31 [==============================] - 1s 29ms/step - loss: 4.5581 - mae: 5.0360\n",
            "Epoch 77/100\n",
            "31/31 [==============================] - 1s 25ms/step - loss: 4.5431 - mae: 5.0183\n",
            "Epoch 78/100\n",
            "31/31 [==============================] - 1s 25ms/step - loss: 4.4855 - mae: 4.9579\n",
            "Epoch 79/100\n",
            "31/31 [==============================] - 1s 28ms/step - loss: 4.4854 - mae: 4.9603\n",
            "Epoch 80/100\n",
            "31/31 [==============================] - 1s 25ms/step - loss: 4.4796 - mae: 4.9577\n",
            "Epoch 81/100\n",
            "31/31 [==============================] - 1s 24ms/step - loss: 4.5758 - mae: 5.0547\n",
            "Epoch 82/100\n",
            "31/31 [==============================] - 1s 25ms/step - loss: 4.6087 - mae: 5.0875\n",
            "Epoch 83/100\n",
            "31/31 [==============================] - 1s 39ms/step - loss: 4.5243 - mae: 5.0025\n",
            "Epoch 84/100\n",
            "31/31 [==============================] - 2s 46ms/step - loss: 4.5825 - mae: 5.0615\n",
            "Epoch 85/100\n",
            "31/31 [==============================] - 1s 24ms/step - loss: 4.5045 - mae: 4.9823\n",
            "Epoch 86/100\n",
            "31/31 [==============================] - 1s 29ms/step - loss: 4.5010 - mae: 4.9802\n",
            "Epoch 87/100\n",
            "31/31 [==============================] - 1s 24ms/step - loss: 4.4823 - mae: 4.9591\n",
            "Epoch 88/100\n",
            "31/31 [==============================] - 1s 25ms/step - loss: 4.5386 - mae: 5.0123\n",
            "Epoch 89/100\n",
            "31/31 [==============================] - 1s 24ms/step - loss: 4.5156 - mae: 4.9949\n",
            "Epoch 90/100\n",
            "31/31 [==============================] - 1s 24ms/step - loss: 4.5723 - mae: 5.0494\n",
            "Epoch 91/100\n",
            "31/31 [==============================] - 1s 24ms/step - loss: 4.7422 - mae: 5.2177\n",
            "Epoch 92/100\n",
            "31/31 [==============================] - 1s 28ms/step - loss: 4.5622 - mae: 5.0393\n",
            "Epoch 93/100\n",
            "31/31 [==============================] - 2s 43ms/step - loss: 4.7246 - mae: 5.1977\n",
            "Epoch 94/100\n",
            "31/31 [==============================] - 1s 28ms/step - loss: 4.4927 - mae: 4.9700\n",
            "Epoch 95/100\n",
            "31/31 [==============================] - 1s 24ms/step - loss: 4.4810 - mae: 4.9589\n",
            "Epoch 96/100\n",
            "31/31 [==============================] - 1s 27ms/step - loss: 4.4917 - mae: 4.9677\n",
            "Epoch 97/100\n",
            "31/31 [==============================] - 1s 30ms/step - loss: 4.5230 - mae: 4.9990\n",
            "Epoch 98/100\n",
            "31/31 [==============================] - 1s 29ms/step - loss: 4.4880 - mae: 4.9670\n",
            "Epoch 99/100\n",
            "31/31 [==============================] - 1s 40ms/step - loss: 4.4241 - mae: 4.9016\n",
            "Epoch 100/100\n",
            "31/31 [==============================] - 1s 27ms/step - loss: 4.6632 - mae: 5.1427\n"
          ]
        }
      ],
      "source": [
        "# Reset states generated by Keras\n",
        "tf.keras.backend.clear_session()\n",
        "\n",
        "# Build the model\n",
        "model = tf.keras.models.Sequential([\n",
        "  tf.keras.layers.Lambda(lambda x: tf.expand_dims(x, axis=-1),\n",
        "                      input_shape=[None]),\n",
        "   tf.keras.layers.Bidirectional(tf.keras.layers.LSTM(32, return_sequences=True)),\n",
        "  tf.keras.layers.Bidirectional(tf.keras.layers.LSTM(32)),\n",
        "  tf.keras.layers.Dense(1),\n",
        "  tf.keras.layers.Lambda(lambda x: x * 100.0)\n",
        "])\n",
        "\n",
        "# Set the learning rate\n",
        "learning_rate = 2e-6\n",
        "\n",
        "# Set the optimizer\n",
        "optimizer = tf.keras.optimizers.SGD(learning_rate=learning_rate, momentum=0.9)\n",
        "\n",
        "# Set the training parameters\n",
        "model.compile(loss=tf.keras.losses.Huber(),\n",
        "              optimizer=optimizer,\n",
        "              metrics=[\"mae\"])\n",
        "\n",
        "# Train the model\n",
        "history = model.fit(dataset,epochs=100)"
      ]
    },
    {
      "cell_type": "markdown",
      "metadata": {
        "id": "RjP4kbGiI7cw"
      },
      "source": [
        "## Model Prediction\n",
        "\n",
        "You will then generate batches of windows to generate predictions that align with the validation set."
      ]
    },
    {
      "cell_type": "code",
      "execution_count": 12,
      "metadata": {
        "id": "QO8cfKwKBBG6"
      },
      "outputs": [],
      "source": [
        "def model_forecast(model, series, window_size, batch_size):\n",
        "    \"\"\"Uses an input model to generate predictions on data windows\n",
        "\n",
        "    Args:\n",
        "      model (TF Keras Model) - model that accepts data windows\n",
        "      series (array of float) - contains the values of the time series\n",
        "      window_size (int) - the number of time steps to include in the window\n",
        "      batch_size (int) - the batch size\n",
        "\n",
        "    Returns:\n",
        "      forecast (numpy array) - array containing predictions\n",
        "    \"\"\"\n",
        "\n",
        "    # Generate a TF Dataset from the series values\n",
        "    dataset = tf.data.Dataset.from_tensor_slices(series)\n",
        "\n",
        "    # Window the data but only take those with the specified size\n",
        "    dataset = dataset.window(window_size, shift=1, drop_remainder=True)\n",
        "\n",
        "    # Flatten the windows by putting its elements in a single batch\n",
        "    dataset = dataset.flat_map(lambda w: w.batch(window_size))\n",
        "\n",
        "    # Create batches of windows\n",
        "    dataset = dataset.batch(batch_size).prefetch(1)\n",
        "\n",
        "    # Get predictions on the entire dataset\n",
        "    forecast = model.predict(dataset)\n",
        "\n",
        "    return forecast"
      ]
    },
    {
      "cell_type": "code",
      "execution_count": 13,
      "metadata": {
        "id": "_plB3UseBD8o",
        "colab": {
          "base_uri": "https://localhost:8080/",
          "height": 559
        },
        "outputId": "525ec30b-2dae-409f-8499-26e286225b49"
      },
      "outputs": [
        {
          "output_type": "stream",
          "name": "stdout",
          "text": [
            "15/15 [==============================] - 3s 11ms/step\n"
          ]
        },
        {
          "output_type": "display_data",
          "data": {
            "text/plain": [
              "<Figure size 1000x600 with 1 Axes>"
            ],
            "image/png": "[encoded data removed]"
          },
          "metadata": {}
        }
      ],
      "source": [
        "# Reduce the original series\n",
        "forecast_series = series[split_time-window_size:-1]\n",
        "\n",
        "# Use helper function to generate predictions\n",
        "forecast = model_forecast(model, forecast_series, window_size, batch_size)\n",
        "\n",
        "# Drop single dimensional axis\n",
        "results = forecast.squeeze()\n",
        "\n",
        "# Plot the results\n",
        "plot_series(time_valid, (x_valid, results))"
      ]
    },
    {
      "cell_type": "markdown",
      "metadata": {
        "id": "Nn8iSQkZtaRC"
      },
      "source": [
        "You can then generate the metrics to evaluate the model's performance."
      ]
    },
    {
      "cell_type": "code",
      "execution_count": 14,
      "metadata": {
        "id": "-IKhueZaBGID",
        "colab": {
          "base_uri": "https://localhost:8080/"
        },
        "outputId": "c8b52dcd-9553-4415-a134-bf4fc4dcc03b"
      },
      "outputs": [
        {
          "output_type": "stream",
          "name": "stdout",
          "text": [
            "62.61004\n",
            "5.767326\n"
          ]
        }
      ],
      "source": [
        "# Compute the MSE and MAE\n",
        "print(tf.keras.metrics.mean_squared_error(x_valid, results).numpy())\n",
        "print(tf.keras.metrics.mean_absolute_error(x_valid, results).numpy())"
      ]
    },
    {
      "cell_type": "markdown",
      "metadata": {
        "id": "bzPIqeMWvbPy"
      },
      "source": [
        "## Wrap Up\n",
        "\n",
        "This concludes this short exercise on using LSTMs for time series forecasting. Next week, you will build upon this and add convolutions. Then, you will start to move away from synthetic data and use real-world datasets. See you there!"
      ]
    },
    {
      "cell_type": "markdown",
      "metadata": {
        "id": "U5PqTePGHeMH"
      },
      "source": [
        "## Optional: Including a Validation Set while Training\n",
        "\n",
        "Back in the first course of this specialization, you saw how you can also monitor the performance of your model against a validation set while training. You can also do that for this lab.\n",
        "\n",
        "First, you need to generate a `val_set` which are data windows and labels that your model can accept. You can simply reuse the `windowed_dataset` function for that and you can pass in the `x_valid` points to generate the windows."
      ]
    },
    {
      "cell_type": "code",
      "execution_count": 15,
      "metadata": {
        "id": "kvFVwL3PC4iX"
      },
      "outputs": [],
      "source": [
        "# Generate data windows of the validation set\n",
        "val_set = windowed_dataset(x_valid, window_size, batch_size, shuffle_buffer_size)"
      ]
    },
    {
      "cell_type": "markdown",
      "metadata": {
        "id": "p68j6XxEvP9K"
      },
      "source": [
        "You can then do the same training as before but pass in the `val_set` to the `validation_data` parameter of the `fit()` method."
      ]
    },
    {
      "cell_type": "code",
      "execution_count": 16,
      "metadata": {
        "id": "wujKz6tXDSn0",
        "colab": {
          "base_uri": "https://localhost:8080/"
        },
        "outputId": "71759aba-8428-4a50-fca7-3ae01ad7b4bc"
      },
      "outputs": [
        {
          "output_type": "stream",
          "name": "stdout",
          "text": [
            "Epoch 1/100\n",
            "31/31 [==============================] - 10s 109ms/step - loss: 29.3964 - mae: 29.8923 - val_loss: 47.6651 - val_mae: 48.1651\n",
            "Epoch 2/100\n",
            "31/31 [==============================] - 1s 37ms/step - loss: 14.1219 - mae: 14.6165 - val_loss: 25.4523 - val_mae: 25.9482\n",
            "Epoch 3/100\n",
            "31/31 [==============================] - 1s 34ms/step - loss: 8.7190 - mae: 9.2030 - val_loss: 15.8524 - val_mae: 16.3466\n",
            "Epoch 4/100\n",
            "31/31 [==============================] - 1s 30ms/step - loss: 7.7435 - mae: 8.2285 - val_loss: 14.7832 - val_mae: 15.2741\n",
            "Epoch 5/100\n",
            "31/31 [==============================] - 1s 35ms/step - loss: 7.4135 - mae: 7.8964 - val_loss: 13.2689 - val_mae: 13.7594\n",
            "Epoch 6/100\n",
            "31/31 [==============================] - 1s 36ms/step - loss: 7.1987 - mae: 7.6809 - val_loss: 12.2419 - val_mae: 12.7301\n",
            "Epoch 7/100\n",
            "31/31 [==============================] - 1s 38ms/step - loss: 7.0752 - mae: 7.5580 - val_loss: 10.9089 - val_mae: 11.3992\n",
            "Epoch 8/100\n",
            "31/31 [==============================] - 1s 30ms/step - loss: 6.9367 - mae: 7.4233 - val_loss: 9.6328 - val_mae: 10.1203\n",
            "Epoch 9/100\n",
            "31/31 [==============================] - 1s 35ms/step - loss: 6.6879 - mae: 7.1700 - val_loss: 10.0774 - val_mae: 10.5697\n",
            "Epoch 10/100\n",
            "31/31 [==============================] - 2s 70ms/step - loss: 6.4997 - mae: 6.9833 - val_loss: 10.4916 - val_mae: 10.9799\n",
            "Epoch 11/100\n",
            "31/31 [==============================] - 1s 29ms/step - loss: 6.3807 - mae: 6.8617 - val_loss: 9.6284 - val_mae: 10.1195\n",
            "Epoch 12/100\n",
            "31/31 [==============================] - 1s 34ms/step - loss: 6.1550 - mae: 6.6317 - val_loss: 9.3711 - val_mae: 9.8603\n",
            "Epoch 13/100\n",
            "31/31 [==============================] - 1s 29ms/step - loss: 5.9597 - mae: 6.4371 - val_loss: 9.5609 - val_mae: 10.0473\n",
            "Epoch 14/100\n",
            "31/31 [==============================] - 1s 29ms/step - loss: 5.8558 - mae: 6.3333 - val_loss: 10.1233 - val_mae: 10.6160\n",
            "Epoch 15/100\n",
            "31/31 [==============================] - 1s 36ms/step - loss: 5.7545 - mae: 6.2317 - val_loss: 8.7995 - val_mae: 9.2873\n",
            "Epoch 16/100\n",
            "31/31 [==============================] - 1s 34ms/step - loss: 5.6433 - mae: 6.1234 - val_loss: 8.2924 - val_mae: 8.7796\n",
            "Epoch 17/100\n",
            "31/31 [==============================] - 1s 29ms/step - loss: 5.7248 - mae: 6.2049 - val_loss: 8.6882 - val_mae: 9.1731\n",
            "Epoch 18/100\n",
            "31/31 [==============================] - 1s 35ms/step - loss: 5.5869 - mae: 6.0662 - val_loss: 8.7852 - val_mae: 9.2717\n",
            "Epoch 19/100\n",
            "31/31 [==============================] - 2s 55ms/step - loss: 5.4792 - mae: 5.9599 - val_loss: 9.9003 - val_mae: 10.3920\n",
            "Epoch 20/100\n",
            "31/31 [==============================] - 1s 34ms/step - loss: 5.6296 - mae: 6.1084 - val_loss: 8.3942 - val_mae: 8.8780\n",
            "Epoch 21/100\n",
            "31/31 [==============================] - 1s 29ms/step - loss: 5.4209 - mae: 5.8999 - val_loss: 8.7065 - val_mae: 9.1972\n",
            "Epoch 22/100\n",
            "31/31 [==============================] - 1s 32ms/step - loss: 5.3644 - mae: 5.8433 - val_loss: 8.3042 - val_mae: 8.7933\n",
            "Epoch 23/100\n",
            "31/31 [==============================] - 1s 29ms/step - loss: 5.2610 - mae: 5.7425 - val_loss: 8.3727 - val_mae: 8.8621\n",
            "Epoch 24/100\n",
            "31/31 [==============================] - 1s 34ms/step - loss: 5.2466 - mae: 5.7207 - val_loss: 6.9492 - val_mae: 7.4311\n",
            "Epoch 25/100\n",
            "31/31 [==============================] - 1s 34ms/step - loss: 5.1805 - mae: 5.6610 - val_loss: 6.9454 - val_mae: 7.4270\n",
            "Epoch 26/100\n",
            "31/31 [==============================] - 1s 29ms/step - loss: 5.2051 - mae: 5.6815 - val_loss: 6.3470 - val_mae: 6.8253\n",
            "Epoch 27/100\n",
            "31/31 [==============================] - 1s 36ms/step - loss: 5.3571 - mae: 5.8396 - val_loss: 8.3260 - val_mae: 8.8138\n",
            "Epoch 28/100\n",
            "31/31 [==============================] - 2s 59ms/step - loss: 5.1993 - mae: 5.6773 - val_loss: 6.8499 - val_mae: 7.3299\n",
            "Epoch 29/100\n",
            "31/31 [==============================] - 1s 29ms/step - loss: 5.1260 - mae: 5.6023 - val_loss: 7.8423 - val_mae: 8.3250\n",
            "Epoch 30/100\n",
            "31/31 [==============================] - 1s 34ms/step - loss: 5.0182 - mae: 5.4994 - val_loss: 7.2602 - val_mae: 7.7479\n",
            "Epoch 31/100\n",
            "31/31 [==============================] - 1s 34ms/step - loss: 5.1393 - mae: 5.6194 - val_loss: 6.3141 - val_mae: 6.7975\n",
            "Epoch 32/100\n",
            "31/31 [==============================] - 1s 31ms/step - loss: 4.9925 - mae: 5.4719 - val_loss: 7.2755 - val_mae: 7.7617\n",
            "Epoch 33/100\n",
            "31/31 [==============================] - 1s 29ms/step - loss: 4.9532 - mae: 5.4267 - val_loss: 6.9792 - val_mae: 7.4632\n",
            "Epoch 34/100\n",
            "31/31 [==============================] - 1s 38ms/step - loss: 4.9004 - mae: 5.3826 - val_loss: 6.2777 - val_mae: 6.7629\n",
            "Epoch 35/100\n",
            "31/31 [==============================] - 1s 34ms/step - loss: 4.9493 - mae: 5.4254 - val_loss: 6.6275 - val_mae: 7.1044\n",
            "Epoch 36/100\n",
            "31/31 [==============================] - 1s 39ms/step - loss: 4.8780 - mae: 5.3579 - val_loss: 6.6718 - val_mae: 7.1493\n",
            "Epoch 37/100\n",
            "31/31 [==============================] - 2s 57ms/step - loss: 5.0770 - mae: 5.5566 - val_loss: 6.2009 - val_mae: 6.6838\n",
            "Epoch 38/100\n",
            "31/31 [==============================] - 1s 31ms/step - loss: 4.8894 - mae: 5.3641 - val_loss: 6.4594 - val_mae: 6.9392\n",
            "Epoch 39/100\n",
            "31/31 [==============================] - 1s 35ms/step - loss: 4.8825 - mae: 5.3589 - val_loss: 6.4327 - val_mae: 6.9154\n",
            "Epoch 40/100\n",
            "31/31 [==============================] - 1s 34ms/step - loss: 4.7614 - mae: 5.2361 - val_loss: 6.2343 - val_mae: 6.7195\n",
            "Epoch 41/100\n",
            "31/31 [==============================] - 1s 34ms/step - loss: 4.8574 - mae: 5.3366 - val_loss: 6.7898 - val_mae: 7.2742\n",
            "Epoch 42/100\n",
            "31/31 [==============================] - 1s 29ms/step - loss: 4.7946 - mae: 5.2741 - val_loss: 6.6268 - val_mae: 7.1066\n",
            "Epoch 43/100\n",
            "31/31 [==============================] - 1s 30ms/step - loss: 5.1306 - mae: 5.6068 - val_loss: 5.9164 - val_mae: 6.3984\n",
            "Epoch 44/100\n",
            "31/31 [==============================] - 1s 38ms/step - loss: 4.7649 - mae: 5.2415 - val_loss: 7.7728 - val_mae: 8.2623\n",
            "Epoch 45/100\n",
            "31/31 [==============================] - 1s 36ms/step - loss: 4.7297 - mae: 5.2104 - val_loss: 5.9947 - val_mae: 6.4826\n",
            "Epoch 46/100\n",
            "31/31 [==============================] - 1s 40ms/step - loss: 4.6967 - mae: 5.1738 - val_loss: 6.3257 - val_mae: 6.8045\n",
            "Epoch 47/100\n",
            "31/31 [==============================] - 1s 29ms/step - loss: 4.7401 - mae: 5.2169 - val_loss: 6.5292 - val_mae: 7.0081\n",
            "Epoch 48/100\n",
            "31/31 [==============================] - 1s 29ms/step - loss: 4.6826 - mae: 5.1595 - val_loss: 6.5817 - val_mae: 7.0642\n",
            "Epoch 49/100\n",
            "31/31 [==============================] - 1s 34ms/step - loss: 4.6849 - mae: 5.1630 - val_loss: 6.8036 - val_mae: 7.2873\n",
            "Epoch 50/100\n",
            "31/31 [==============================] - 1s 31ms/step - loss: 4.8290 - mae: 5.3096 - val_loss: 6.0788 - val_mae: 6.5613\n",
            "Epoch 51/100\n",
            "31/31 [==============================] - 1s 35ms/step - loss: 4.6761 - mae: 5.1548 - val_loss: 6.9968 - val_mae: 7.4750\n",
            "Epoch 52/100\n",
            "31/31 [==============================] - 1s 34ms/step - loss: 5.1591 - mae: 5.6370 - val_loss: 6.2313 - val_mae: 6.7108\n",
            "Epoch 53/100\n",
            "31/31 [==============================] - 1s 39ms/step - loss: 4.7500 - mae: 5.2218 - val_loss: 6.7578 - val_mae: 7.2411\n",
            "Epoch 54/100\n",
            "31/31 [==============================] - 2s 56ms/step - loss: 4.6642 - mae: 5.1416 - val_loss: 6.1379 - val_mae: 6.6176\n",
            "Epoch 55/100\n",
            "31/31 [==============================] - 1s 35ms/step - loss: 4.8708 - mae: 5.3482 - val_loss: 5.8070 - val_mae: 6.2947\n",
            "Epoch 56/100\n",
            "31/31 [==============================] - 1s 33ms/step - loss: 4.7086 - mae: 5.1842 - val_loss: 6.2524 - val_mae: 6.7310\n",
            "Epoch 57/100\n",
            "31/31 [==============================] - 1s 35ms/step - loss: 4.8618 - mae: 5.3433 - val_loss: 6.2857 - val_mae: 6.7641\n",
            "Epoch 58/100\n",
            "31/31 [==============================] - 1s 29ms/step - loss: 4.8190 - mae: 5.2966 - val_loss: 5.6747 - val_mae: 6.1566\n",
            "Epoch 59/100\n",
            "31/31 [==============================] - 1s 35ms/step - loss: 4.7063 - mae: 5.1835 - val_loss: 6.6935 - val_mae: 7.1736\n",
            "Epoch 60/100\n",
            "31/31 [==============================] - 1s 34ms/step - loss: 4.6556 - mae: 5.1323 - val_loss: 8.0463 - val_mae: 8.5313\n",
            "Epoch 61/100\n",
            "31/31 [==============================] - 1s 32ms/step - loss: 4.6040 - mae: 5.0806 - val_loss: 6.4374 - val_mae: 6.9146\n",
            "Epoch 62/100\n",
            "31/31 [==============================] - 1s 34ms/step - loss: 4.8050 - mae: 5.2799 - val_loss: 6.7938 - val_mae: 7.2752\n",
            "Epoch 63/100\n",
            "31/31 [==============================] - 2s 66ms/step - loss: 4.6731 - mae: 5.1519 - val_loss: 6.4322 - val_mae: 6.9106\n",
            "Epoch 64/100\n",
            "31/31 [==============================] - 1s 30ms/step - loss: 4.7733 - mae: 5.2507 - val_loss: 6.0070 - val_mae: 6.4884\n",
            "Epoch 65/100\n",
            "31/31 [==============================] - 1s 34ms/step - loss: 4.6017 - mae: 5.0818 - val_loss: 6.0782 - val_mae: 6.5577\n",
            "Epoch 66/100\n",
            "31/31 [==============================] - 1s 30ms/step - loss: 4.5631 - mae: 5.0353 - val_loss: 5.7429 - val_mae: 6.2284\n",
            "Epoch 67/100\n",
            "31/31 [==============================] - 1s 30ms/step - loss: 4.6617 - mae: 5.1383 - val_loss: 6.2992 - val_mae: 6.7764\n",
            "Epoch 68/100\n",
            "31/31 [==============================] - 1s 34ms/step - loss: 4.6326 - mae: 5.1094 - val_loss: 5.9365 - val_mae: 6.4190\n",
            "Epoch 69/100\n",
            "31/31 [==============================] - 1s 35ms/step - loss: 4.6167 - mae: 5.0920 - val_loss: 5.6193 - val_mae: 6.1006\n",
            "Epoch 70/100\n",
            "31/31 [==============================] - 1s 38ms/step - loss: 4.6056 - mae: 5.0806 - val_loss: 5.8696 - val_mae: 6.3532\n",
            "Epoch 71/100\n",
            "31/31 [==============================] - 2s 54ms/step - loss: 4.6750 - mae: 5.1524 - val_loss: 5.4344 - val_mae: 5.9182\n",
            "Epoch 72/100\n",
            "31/31 [==============================] - 1s 39ms/step - loss: 4.5764 - mae: 5.0523 - val_loss: 5.5749 - val_mae: 6.0530\n",
            "Epoch 73/100\n",
            "31/31 [==============================] - 1s 39ms/step - loss: 4.5559 - mae: 5.0274 - val_loss: 6.2851 - val_mae: 6.7615\n",
            "Epoch 74/100\n",
            "31/31 [==============================] - 1s 35ms/step - loss: 4.6281 - mae: 5.1034 - val_loss: 5.4146 - val_mae: 5.8962\n",
            "Epoch 75/100\n",
            "31/31 [==============================] - 1s 34ms/step - loss: 4.6871 - mae: 5.1616 - val_loss: 7.3239 - val_mae: 7.8103\n",
            "Epoch 76/100\n",
            "31/31 [==============================] - 1s 34ms/step - loss: 4.5719 - mae: 5.0485 - val_loss: 5.7012 - val_mae: 6.1875\n",
            "Epoch 77/100\n",
            "31/31 [==============================] - 1s 29ms/step - loss: 4.5162 - mae: 4.9916 - val_loss: 5.8579 - val_mae: 6.3382\n",
            "Epoch 78/100\n",
            "31/31 [==============================] - 2s 59ms/step - loss: 4.5463 - mae: 5.0183 - val_loss: 5.6325 - val_mae: 6.1185\n",
            "Epoch 79/100\n",
            "31/31 [==============================] - 1s 30ms/step - loss: 4.5335 - mae: 5.0075 - val_loss: 7.7824 - val_mae: 8.2709\n",
            "Epoch 80/100\n",
            "31/31 [==============================] - 1s 29ms/step - loss: 4.5562 - mae: 5.0321 - val_loss: 6.0250 - val_mae: 6.5022\n",
            "Epoch 81/100\n",
            "31/31 [==============================] - 1s 35ms/step - loss: 4.5563 - mae: 5.0321 - val_loss: 5.6897 - val_mae: 6.1745\n",
            "Epoch 82/100\n",
            "31/31 [==============================] - 1s 34ms/step - loss: 4.6891 - mae: 5.1621 - val_loss: 5.4677 - val_mae: 5.9462\n",
            "Epoch 83/100\n",
            "31/31 [==============================] - 1s 37ms/step - loss: 4.5656 - mae: 5.0433 - val_loss: 5.9008 - val_mae: 6.3811\n",
            "Epoch 84/100\n",
            "31/31 [==============================] - 1s 36ms/step - loss: 4.6896 - mae: 5.1656 - val_loss: 6.0964 - val_mae: 6.5730\n",
            "Epoch 85/100\n",
            "31/31 [==============================] - 1s 38ms/step - loss: 4.6281 - mae: 5.1069 - val_loss: 5.3190 - val_mae: 5.7973\n",
            "Epoch 86/100\n",
            "31/31 [==============================] - 1s 44ms/step - loss: 4.5340 - mae: 5.0092 - val_loss: 5.3256 - val_mae: 5.8080\n",
            "Epoch 87/100\n",
            "31/31 [==============================] - 1s 39ms/step - loss: 4.6353 - mae: 5.1122 - val_loss: 7.2266 - val_mae: 7.7097\n",
            "Epoch 88/100\n",
            "31/31 [==============================] - 1s 35ms/step - loss: 4.5622 - mae: 5.0402 - val_loss: 5.8405 - val_mae: 6.3221\n",
            "Epoch 89/100\n",
            "31/31 [==============================] - 1s 34ms/step - loss: 4.5080 - mae: 4.9849 - val_loss: 5.3100 - val_mae: 5.7932\n",
            "Epoch 90/100\n",
            "31/31 [==============================] - 1s 40ms/step - loss: 4.5297 - mae: 5.0062 - val_loss: 5.5611 - val_mae: 6.0469\n",
            "Epoch 91/100\n",
            "31/31 [==============================] - 1s 35ms/step - loss: 4.4948 - mae: 4.9719 - val_loss: 6.4103 - val_mae: 6.8887\n",
            "Epoch 92/100\n",
            "31/31 [==============================] - 1s 39ms/step - loss: 4.5977 - mae: 5.0767 - val_loss: 5.3484 - val_mae: 5.8267\n",
            "Epoch 93/100\n",
            "31/31 [==============================] - 1s 35ms/step - loss: 4.6044 - mae: 5.0819 - val_loss: 5.8995 - val_mae: 6.3790\n",
            "Epoch 94/100\n",
            "31/31 [==============================] - 2s 55ms/step - loss: 4.4923 - mae: 4.9676 - val_loss: 7.0429 - val_mae: 7.5273\n",
            "Epoch 95/100\n",
            "31/31 [==============================] - 1s 34ms/step - loss: 4.6018 - mae: 5.0812 - val_loss: 5.3830 - val_mae: 5.8645\n",
            "Epoch 96/100\n",
            "31/31 [==============================] - 1s 34ms/step - loss: 4.5651 - mae: 5.0399 - val_loss: 5.3548 - val_mae: 5.8344\n",
            "Epoch 97/100\n",
            "31/31 [==============================] - 1s 35ms/step - loss: 4.6008 - mae: 5.0826 - val_loss: 6.6297 - val_mae: 7.1110\n",
            "Epoch 98/100\n",
            "31/31 [==============================] - 1s 30ms/step - loss: 4.5357 - mae: 5.0111 - val_loss: 5.4370 - val_mae: 5.9215\n",
            "Epoch 99/100\n",
            "31/31 [==============================] - 1s 35ms/step - loss: 4.5442 - mae: 5.0230 - val_loss: 5.5374 - val_mae: 6.0254\n",
            "Epoch 100/100\n",
            "31/31 [==============================] - 1s 38ms/step - loss: 4.5431 - mae: 5.0209 - val_loss: 5.9839 - val_mae: 6.4626\n"
          ]
        }
      ],
      "source": [
        "# Reset states generated by Keras\n",
        "tf.keras.backend.clear_session()\n",
        "\n",
        "# Build the model\n",
        "model = tf.keras.models.Sequential([\n",
        "  tf.keras.layers.Lambda(lambda x: tf.expand_dims(x, axis=-1),\n",
        "                      input_shape=[None]),\n",
        "   tf.keras.layers.Bidirectional(tf.keras.layers.LSTM(32, return_sequences=True)),\n",
        "  tf.keras.layers.Bidirectional(tf.keras.layers.LSTM(32)),\n",
        "  tf.keras.layers.Dense(1),\n",
        "  tf.keras.layers.Lambda(lambda x: x * 100.0)\n",
        "])\n",
        "\n",
        "# Set the learning rate\n",
        "learning_rate = 2e-6\n",
        "\n",
        "# Set the optimizer\n",
        "optimizer = tf.keras.optimizers.SGD(learning_rate=learning_rate, momentum=0.9)\n",
        "\n",
        "# Set the training parameters\n",
        "model.compile(loss=tf.keras.losses.Huber(),\n",
        "              optimizer=optimizer,\n",
        "              metrics=[\"mae\"])\n",
        "\n",
        "# Train the model\n",
        "history = model.fit(dataset,epochs=100, validation_data=val_set)"
      ]
    }
  ],
  "metadata": {
    "colab": {
      "provenance": []
    },
    "kernelspec": {
      "display_name": "Python 3",
      "name": "python3"
    },
    "language_info": {
      "codemirror_mode": {
        "name": "ipython",
        "version": 3
      },
      "file_extension": ".py",
      "mimetype": "text/x-python",
      "name": "python",
      "nbconvert_exporter": "python",
      "pygments_lexer": "ipython3",
      "version": "3.9.13"
    }
  },
  "nbformat": 4,
  "nbformat_minor": 0
}