{
 "cells": [
  {
   "cell_type": "markdown",
   "metadata": {},
   "source": [
    "# Creating A Sctipt"
   ]
  },
  {
   "cell_type": "markdown",
   "metadata": {},
   "source": [
    "## 1. sort() and sorted()"
   ]
  },
  {
   "cell_type": "code",
   "execution_count": 19,
   "metadata": {},
   "outputs": [
    {
     "name": "stdout",
     "output_type": "stream",
     "text": [
      "[1, 2, 4, 6, 7]\n"
     ]
    }
   ],
   "source": [
    "numbers = [ 4, 6, 2, 7, 1 ]\n",
    "numbers.sort() # sort the list by returning the same list reorganized\n",
    "numbers.sort(reverse=True) # sort the list descending\n",
    "numbers.sort(reverse=False) # sort the list ascending\n",
    "print(numbers)"
   ]
  },
  {
   "cell_type": "code",
   "execution_count": 20,
   "metadata": {},
   "outputs": [
    {
     "name": "stdout",
     "output_type": "stream",
     "text": [
      "['Alex', 'Carlos', 'Kelly', 'Ray']\n",
      "['Carlos', 'Ray', 'Alex', 'Kelly']\n",
      "['Ray', 'Alex', 'Kelly', 'Carlos']\n"
     ]
    }
   ],
   "source": [
    "names = [\"Carlos\", \"Ray\", \"Alex\", \"Kelly\"]\n",
    "print(sorted(names)) # sorted returns a new list and kept the original list intact\n",
    "print(names)\n",
    "print(sorted(names, key=len)) # sorting names list according to the length of the string"
   ]
  },
  {
   "cell_type": "markdown",
   "metadata": {},
   "source": [
    "## 2. Writing the script"
   ]
  },
  {
   "cell_type": "code",
   "execution_count": 13,
   "metadata": {},
   "outputs": [
    {
     "name": "stdout",
     "output_type": "stream",
     "text": [
      "{'webserver.local': {'lane'}, 'myworkstation.local': set(), 'mailserver.local': {' '}}\n",
      "webserver.local: lane\n",
      "mailserver.local:  \n"
     ]
    }
   ],
   "source": [
    "# get event date\n",
    "def get_event_date(event):\n",
    "\treturn event.date\n",
    "\n",
    "# processing function\n",
    "def current_users(events):\n",
    "  \n",
    "  # sorting the events and passing the get_event_date function as the key\n",
    "  events.sort(key=get_event_date)\n",
    "\n",
    "  # create new dict named machine\n",
    "  machines = {}\n",
    "\n",
    "  # for each event in iside the event list\n",
    "  for event in events:\n",
    "    if event.machine not in machines: # if event is not inside the list\n",
    "      machines[event.machine] = set() # add event to the list as an empty set\n",
    "    if event.type == \"login\":\n",
    "      machines[event.machine].add(event.user)\n",
    "    elif event.type == \"logout\":\n",
    "        if event.user in machines[event.machine]:\n",
    "            machines[event.machine].remove(event.user)\n",
    "        else:\n",
    "            machines[event.machine].add(\" \")\n",
    "       \n",
    "  return machines\n",
    "\n",
    "# function to print the report\n",
    "def generate_report(machines):\n",
    "  for machine, users in machines.items(): # return the key and value from the machine dict\n",
    "    # Ensure that we don't print any machines where nobody is currently logged in\n",
    "    if len(users) > 0 and users != \" \": # if the users element is greater than zero\n",
    "      user_list = \", \".join(users)# name a user list by joining the users value\n",
    "      print(\"{}: {}\".format(machine, user_list)) # print with the format machine: user_list\n",
    "\n",
    "# events class\n",
    "class Event:\n",
    "  def __init__(self, event_date, event_type, machine_name, user):\n",
    "    self.date = event_date\n",
    "    self.type = event_type\n",
    "    self.machine = machine_name\n",
    "    self.user = user\n",
    "\n",
    "# Events list\n",
    "events = [\n",
    "  Event('2020-01-21 12:45:46', 'login', 'myworkstation.local', 'jordan'),\n",
    "  Event('2020-01-22 15:53:42', 'logout', 'webserver.local', 'jordan'),\n",
    "  Event('2020-01-21 18:53:21', 'login', 'webserver.local', 'lane'),\n",
    "  Event('2020-01-22 10:25:34', 'logout', 'myworkstation.local', 'jordan'),\n",
    "  Event('2020-01-21 08:20:01', 'login', 'webserver.local', 'jordan'),\n",
    "  Event('2020-01-23 11:24:35', 'logout', 'mailserver.local', 'chris'),\n",
    "]\n",
    "\n",
    "users = current_users(events) # feeding the events list to the current_users function\n",
    "print(users) # print the returned value after the function is runned\n",
    "\n",
    "generate_report(users) # print the generated report with the value from the users list above"
   ]
  }
 ],
 "metadata": {
  "kernelspec": {
   "display_name": "Python 3",
   "language": "python",
   "name": "python3"
  },
  "language_info": {
   "codemirror_mode": {
    "name": "ipython",
    "version": 3
   },
   "file_extension": ".py",
   "mimetype": "text/x-python",
   "name": "python",
   "nbconvert_exporter": "python",
   "pygments_lexer": "ipython3",
   "version": "3.12.0"
  }
 },
 "nbformat": 4,
 "nbformat_minor": 2
}
