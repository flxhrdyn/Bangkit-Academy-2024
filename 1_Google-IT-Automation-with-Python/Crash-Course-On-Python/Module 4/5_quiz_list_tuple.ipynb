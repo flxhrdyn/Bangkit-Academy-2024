{
 "cells": [
  {
   "cell_type": "code",
   "execution_count": 1,
   "metadata": {},
   "outputs": [
    {
     "name": "stdout",
     "output_type": "stream",
     "text": [
      "['January 2024', 'May 2025', 'April 2024', 'August 2024', 'September 2025', 'December 2024']\n"
     ]
    }
   ],
   "source": [
    "# This block of code changes the year on a list of dates.\n",
    "# The \"years\" list is given with existing elements. \n",
    "years = [\"January 2023\", \"May 2025\", \"April 2023\", \"August 2024\", \"September 2025\", \"December 2023\"]\n",
    "\n",
    "# The variable \"updated_years\" is initialized as a list data type \n",
    "# using empty square brackets []. This list will hold the new list\n",
    "# with the updated years. \n",
    "updated_years = []\n",
    "# The for loop checks each \"year\" element in the list \"years\".\n",
    "for year in years:\n",
    "    # The if-statement checks if the \"year\" element ends with the \n",
    "    # substring \"2023\". \n",
    "    if year.endswith(\"2023\"):\n",
    "        # If True, then a temporary variable \"new\" will hold the \n",
    "        # modified \"year\" element where the \"2023\" substring is \n",
    "        # replaced with the substring \"2024\".\n",
    "        new = year.replace(\"2023\",\"2024\")\n",
    "        # Then, the list \"updated_years\" is appended with the changed\n",
    "        # element held in the temporary variable \"new\".\n",
    "        updated_years.append(new)\n",
    "    # If False, the original \"year\" element will be appended to the \n",
    "    # the \"updated_years\" list unchanged.\n",
    "    else:\n",
    "        updated_years.append(year)\n",
    "\n",
    "print(updated_years) \n",
    "# Should print [\"January 2024\", \"May 2025\", \"April 2024\", \"August 2024\", \"September 2025\", \"December 2024\"]"
   ]
  },
  {
   "cell_type": "code",
   "execution_count": 2,
   "metadata": {},
   "outputs": [
    {
     "name": "stdout",
     "output_type": "stream",
     "text": [
      "[4, 9]\n",
      "[1, 4, 9, 16, 25]\n",
      "[0, 1, 4, 9, 16, 25, 36, 49, 64, 81, 100]\n"
     ]
    }
   ],
   "source": [
    "# This list comprehension creates a list of squared numbers (n*n). It\n",
    "# accepts two integer variables through the function’s parameters.\n",
    "def squares(start, end):\n",
    "    # The list comprehension calculates the square of a variable integer \n",
    "    # \"n\", where \"n\" ranges from the \"start\" to \"end\" variables inclusively.\n",
    "    # To be inclusive in a range(), add +1 to the end of range variable.\n",
    "    return [n*n for n in range(start,end+1)] \n",
    "\n",
    "print(squares(2, 3))  # Should print [4, 9]\n",
    "print(squares(1, 5))  # Should print [1, 4, 9, 16, 25]\n",
    "print(squares(0, 10)) # Should print [0, 1, 4, 9, 16, 25, 36, 49, 64, 81, 100]"
   ]
  },
  {
   "cell_type": "code",
   "execution_count": 3,
   "metadata": {},
   "outputs": [
    {
     "name": "stdout",
     "output_type": "stream",
     "text": [
      "['January 2024', 'May 2025', 'April 2024', 'August 2024', 'September 2025', 'December 2024']\n"
     ]
    }
   ],
   "source": [
    "# This block of code also changes the year on a list of dates using a\n",
    "# different approach than demonstrated in Skill Group 1. By using a \n",
    "# list comprehension, you can see how it is possible to refactor the\n",
    "# code to a shorter, more efficient code block. \n",
    "\n",
    "# The \"years\" list is given with existing elements.\n",
    "years = [\"January 2023\", \"May 2025\", \"April 2023\", \"August 2024\", \"September 2025\", \"December 2023\"]\n",
    "\n",
    "# The list comprehension below creates a new list \"updated_years\" to\n",
    "# hold the command to replace the \"2023\" substring of the \"year\"\n",
    "# element with the substring \"2024\". This action will be executed if\n",
    "# the last 4 indices of the \"year\" string is equal to the substring\n",
    "# \"2023\". If false (else), the \"year\" element will be included in the\n",
    "# new list \"updated_years\" unchanged.\n",
    "updated_years = [year.replace(\"2023\",\"2024\") if year[-4:] == \"2023\" else year for year in years]\n",
    "\n",
    "print(updated_years) \n",
    "# Should print [\"January 2024\", \"May 2025\", \"April 2024\", \"August 2024\", \"September 2025\", \"December 2024\"]"
   ]
  },
  {
   "cell_type": "code",
   "execution_count": 4,
   "metadata": {},
   "outputs": [
    {
     "name": "stdout",
     "output_type": "stream",
     "text": [
      "one-1 two-2 three-3 four-4 five-5 \n"
     ]
    }
   ],
   "source": [
    "# This function splits a given string into a list of elements. Then, it\n",
    "# modifies each element by moving the first character to the end of the \n",
    "# element and adds a dash between the element and the moved character. \n",
    "# For example, the element \"2two\" will be changed to \"two-2\". Finally,\n",
    "# the function converts the list back to a string, and returns the\n",
    "# new string.\n",
    "def change_string(given_string):\n",
    "\n",
    "    # Initialize \"new_string\" as a string data type by using empty quotes.`\n",
    "    new_string = \"\"\n",
    "\n",
    "    # Split the \"given_string\" into a \"new_list\", with each \"element\"\n",
    "    # holding an individual word from the string.\n",
    "    new_list = given_string.split()\n",
    "\n",
    "    # The for loop iterates over each \"element\" in the \"new_list\".\n",
    "    for element in new_list:\n",
    "        # Convert the list into a \"new_string\" by using the assignment\n",
    "        # operator += to concatenate the following items: \n",
    "        # + Each list \"element\" (starting at index position [1:]), \n",
    "        # + a dash \"-\", \n",
    "        # + append the first character of the \"element\" (using the index \n",
    "        # [0]) to the end of the \"element\", and finally,\n",
    "        # + a space \" \" to separate each \"element\" in the \"new_string\".\n",
    "        new_string += element[1:] + \"-\" + element[0] + \" \"\n",
    "\n",
    "    # Return the list that has been converted back into a string.\n",
    "    return new_string\n",
    "\n",
    "print(change_string(\"1one 2two 3three 4four 5five\")) # Should print \"one-1 two-2 three-3 four-4 five-5\"  "
   ]
  },
  {
   "cell_type": "code",
   "execution_count": 5,
   "metadata": {},
   "outputs": [
    {
     "name": "stdout",
     "output_type": "stream",
     "text": [
      "The Printers list includes: Color Printer, Black and White Printer, 3-D Printer\n"
     ]
    }
   ],
   "source": [
    "# This function accepts a list name and a list of elements, and returns\n",
    "# a string with the format: \"The \"list_name\" list includes: element1, \n",
    "# element2, element3\". \n",
    "def list_elements(list_name, elements):\n",
    "    # This task can be completed in a single line of code. The \n",
    "    # concatenation of strings, \"list_name\", and the list \"elements\" can\n",
    "    # occur on the return line. In this case, the string \"The \" is added \n",
    "    # to the \"list_name\", plus the string \" list includes: \", then the\n",
    "    # \"elements\" are joined using a comma to separate each element of the \n",
    "    # list.\n",
    "    return \"The \" + list_name + \" list includes: \" + \", \".join(elements)\n",
    "\n",
    "print(list_elements(\"Printers\", [\"Color Printer\", \"Black and White Printer\", \"3-D Printer\"]))\n",
    "# Should print \"The Printers list includes: Color Printer, Black and White Printer, 3-D Printer\""
   ]
  },
  {
   "cell_type": "code",
   "execution_count": 6,
   "metadata": {},
   "outputs": [
    {
     "name": "stdout",
     "output_type": "stream",
     "text": [
      "[2, 3, 4, 5, 6]\n"
     ]
    }
   ],
   "source": [
    "# A simple function to add 1 to a given number\n",
    "def add_one(number):\n",
    "    return number + 1\n",
    "\n",
    "# A list of numbers\n",
    "numbers = [1, 2, 3, 4, 5]\n",
    "\n",
    "# Use map to apply the function to each element in the list\n",
    "result = map(add_one, numbers)\n",
    "\n",
    "# Convert the map object to a list to print the result\n",
    "print(list(result))\n",
    "\n",
    "# Outputs: [2, 3, 4, 5, 6]"
   ]
  },
  {
   "cell_type": "code",
   "execution_count": 7,
   "metadata": {},
   "outputs": [
    {
     "name": "stdout",
     "output_type": "stream",
     "text": [
      "[('Alice', 25), ('Bob', 30), ('Charlie', 35)]\n"
     ]
    }
   ],
   "source": [
    "# Two lists\n",
    "names = [\"Alice\", \"Bob\", \"Charlie\"]\n",
    "ages = [25, 30, 35]\n",
    "\n",
    "# Use zip to combine the lists\n",
    "combined = zip(names, ages)\n",
    "\n",
    "# Convert the zip object to a list to print the result\n",
    "print(list(combined))\n",
    "\n",
    "# Outputs: [('Alice', 25), ('Bob', 30), ('Charlie', 35)]"
   ]
  }
 ],
 "metadata": {
  "kernelspec": {
   "display_name": "Python 3",
   "language": "python",
   "name": "python3"
  },
  "language_info": {
   "codemirror_mode": {
    "name": "ipython",
    "version": 3
   },
   "file_extension": ".py",
   "mimetype": "text/x-python",
   "name": "python",
   "nbconvert_exporter": "python",
   "pygments_lexer": "ipython3",
   "version": "3.12.0"
  }
 },
 "nbformat": 4,
 "nbformat_minor": 2
}
