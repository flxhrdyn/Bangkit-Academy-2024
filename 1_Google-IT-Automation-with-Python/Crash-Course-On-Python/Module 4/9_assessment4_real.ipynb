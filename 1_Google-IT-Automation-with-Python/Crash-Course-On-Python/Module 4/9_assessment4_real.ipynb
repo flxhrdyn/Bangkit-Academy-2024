{
 "cells": [
  {
   "cell_type": "markdown",
   "metadata": {},
   "source": [
    "Fill in the blanks to complete the “confirm_length” function. This function should return how many characters a string contains as long as it has one or more characters, otherwise it will return 0. Complete the string operations needed in this function so that input like \"Monday\" will produce the output \"6\"."
   ]
  },
  {
   "cell_type": "code",
   "execution_count": 5,
   "metadata": {},
   "outputs": [
    {
     "name": "stdout",
     "output_type": "stream",
     "text": [
      "1\n",
      "21\n",
      "6\n",
      "0\n"
     ]
    }
   ],
   "source": [
    "def confirm_length(word):\n",
    "\n",
    "    # Complete the condition statement using a string operation. \n",
    "    if len(word) >= 1: \n",
    "        # Complete the return statement using a string operation.\n",
    "        return len(word) \n",
    "    else:\n",
    "        return 0\n",
    "\n",
    "\n",
    "print(confirm_length(\"a\")) # Should print 1\n",
    "print(confirm_length(\"This is a long string\")) # Should print 21\n",
    "print(confirm_length(\"Monday\")) # Should print 6\n",
    "print(confirm_length(\"\")) # Should print 0"
   ]
  },
  {
   "cell_type": "markdown",
   "metadata": {},
   "source": [
    "Complete the for loop and string method needed in this function so that a function call like \"alpha_length(\"This has 1 number in it\")\" will return the output \"17\". This function should:\n",
    "\n",
    "accept a string through the parameters of the function;\n",
    "\n",
    "iterate over the characters in the string;\n",
    "\n",
    "determine if each character is a letter (counting only alphabetic characters; numbers, punctuation, and spaces should be ignored);\n",
    "\n",
    "increment the counter;\n",
    "\n",
    "return the count of letters in the string."
   ]
  },
  {
   "cell_type": "code",
   "execution_count": 1,
   "metadata": {},
   "outputs": [
    {
     "name": "stdout",
     "output_type": "stream",
     "text": [
      "18\n",
      "16\n",
      "22\n"
     ]
    }
   ],
   "source": [
    "def alpha_length(string):\n",
    "    character = \"\"\n",
    "    count_alpha = 0\n",
    "    # Complete the for loop sequence to iterate over \"string\".\n",
    "    for char in string: \n",
    "        # Complete the if-statement using a string method. \n",
    "        if char.strip():\n",
    "            count_alpha += 1  \n",
    "    return count_alpha\n",
    " \n",
    "print(alpha_length(\"This has 1 number in it\")) # Should print 17\n",
    "print(alpha_length(\"Thisisallletters\")) # Should print 16\n",
    "print(alpha_length(\"This one has punctuation!\")) # Should print 21"
   ]
  },
  {
   "cell_type": "markdown",
   "metadata": {},
   "source": [
    "Consider the following scenario about using Python lists: \n",
    "\n",
    "Employees at a company shared  the distance they drive to work (in miles) through an online survey. These distances were automatically added by Python to a list called “distances” in the order that each employee submitted their distance. Management wants the list to be sorted in the order of the longest distance to the shortest distance. \n",
    "\n",
    "Complete the function to sort the “distances” list. This function should:\n",
    "\n",
    "sort the given “distances” list, passed through the function’s parameters; ; \n",
    "\n",
    "reverse the sort order so that it goes from the longest to the shortest distance;\n",
    "\n",
    "return the modified “distances” list."
   ]
  },
  {
   "cell_type": "code",
   "execution_count": 4,
   "metadata": {},
   "outputs": [
    {
     "name": "stdout",
     "output_type": "stream",
     "text": [
      "[15, 9, 8, 4, 2, 0]\n"
     ]
    }
   ],
   "source": [
    "def sort_distance(distances):\n",
    "    distances.sort() # Sort the list\n",
    "    distances.reverse() # Reverse the order of the list\n",
    "    return distances\n",
    "\n",
    "\n",
    "print(sort_distance([2,4,0,15,8,9]))\n",
    "# Should print [15, 9, 8, 4, 2, 0]"
   ]
  },
  {
   "cell_type": "markdown",
   "metadata": {},
   "source": [
    "Fill in the blank to complete the “increments” function. This function should use a list comprehension to create a list of numbers incremented by 2 (n+2). The function receives two variables and should return a list of incremented consecutive numbers between “start” and “end” inclusively (meaning the range should include both the “start” and “end” values). Complete the list comprehension in this function so that input like “squares(2, 3)” will produce the output “[4, 5]”."
   ]
  },
  {
   "cell_type": "code",
   "execution_count": 3,
   "metadata": {},
   "outputs": [
    {
     "name": "stdout",
     "output_type": "stream",
     "text": [
      "[4, 5]\n",
      "[3, 4, 5, 6, 7]\n",
      "[2, 3, 4, 5, 6, 7, 8, 9, 10, 11, 12]\n"
     ]
    }
   ],
   "source": [
    "def increments(start, end):\n",
    "    return [ x+2 for x in range(start, end+1) ] # Create the required list comprehension.\n",
    "\n",
    "\n",
    "print(increments(2, 3)) # Should print [4, 5]\n",
    "print(increments(1, 5)) # Should print [3, 4, 5, 6, 7]\n",
    "print(increments(0, 10)) # Should print [2, 3, 4, 5, 6, 7, 8, 9, 10, 11, 12]"
   ]
  },
  {
   "cell_type": "markdown",
   "metadata": {},
   "source": [
    "## 5. Question 5\n",
    "Fill in the blanks to complete the “endangered_animals” function. This function accepts a dictionary containing a list of endangered animals (keys) and their remaining population (values).  For each key in the given “animal_dict” dictionary, format a string to print the name of the animal, with one animal name per line."
   ]
  },
  {
   "cell_type": "code",
   "execution_count": 2,
   "metadata": {},
   "outputs": [
    {
     "name": "stdout",
     "output_type": "stream",
     "text": [
      "Javan Rhinoceros\n",
      "Vaquita\n",
      "Mountain Gorilla\n",
      "Tiger\n",
      "\n"
     ]
    }
   ],
   "source": [
    "def endangered_animals(animal_dict):\n",
    "    result = \"\"\n",
    "    # Complete the for loop to iterate through the key and value items \n",
    "    # in the dictionary.    \n",
    "    for name, pop in animal_dict.items(): \n",
    "        # Use a string method to format the required string.\n",
    "        result += \"{}\".format(name) + \"\\n\"\n",
    "    return result\n",
    "\n",
    "\n",
    "print(endangered_animals({\"Javan Rhinoceros\":60, \"Vaquita\":10, \"Mountain Gorilla\":200, \"Tiger\":500}))\n",
    "\n",
    "# Should print:\n",
    "# Javan Rhinoceros\n",
    "# Vaquita\n",
    "# Mountain Gorilla\n",
    "# Tiger"
   ]
  },
  {
   "cell_type": "markdown",
   "metadata": {},
   "source": [
    "## 6.Question 6\n",
    "Consider the following scenario about using Python dictionaries and lists: \n",
    "\n",
    "Tessa and Rick are hosting a party. Before they send out invitations, they want to add all of the people they are inviting to a dictionary so they can also add how many guests each friend is bringing to the party.  \n",
    "\n",
    "Complete the function so that it accepts a list of people, then iterates over the list and adds all of the names (elements) to the dictionary as keys with a starting value of 0. Tessa and Rick plan to update these values with the number of guests their friends will bring with them to the party. Then, print the new dictionary.\n",
    "\n",
    "This function should:\n",
    "\n",
    "accept a list variable named “guest_list” through the function’s parameter;\n",
    "\n",
    "add the contents of the list as keys to a new, blank dictionary;\n",
    "\n",
    "assign each new key with the value 0;\n",
    "\n",
    "print the new dictionary."
   ]
  },
  {
   "cell_type": "code",
   "execution_count": 6,
   "metadata": {},
   "outputs": [
    {
     "name": "stdout",
     "output_type": "stream",
     "text": [
      "{'Adam': 0, 'Camila': 0, 'David': 0, 'Jamal': 0, 'Charley': 0, 'Titus': 0, 'Raj': 0, 'Noemi': 0, 'Sakira': 0, 'Chidi': 0}\n"
     ]
    }
   ],
   "source": [
    "def setup_guests(guest_list):\n",
    "    # loop over the guest list and add each guest to the dictionary with\n",
    "    # an initial value of 0\n",
    "    result = {} # Initialize a new dictionary \n",
    "    for name in guest_list: # Iterate over the elements in the list \n",
    "        result[name] = 0 # Add each list element to the dictionary as a key with \n",
    "            # the starting value of 0\n",
    "    return result\n",
    "\n",
    "guests = [\"Adam\",\"Camila\",\"David\",\"Jamal\",\"Charley\",\"Titus\",\"Raj\",\"Noemi\",\"Sakira\",\"Chidi\"]\n",
    "\n",
    "print(setup_guests(guests))\n",
    "# Should print {'Adam': 0, 'Camila': 0, 'David': 0, 'Jamal': 0, 'Charley': 0, 'Titus': 0, 'Raj': 0, 'Noemi': 0, 'Sakira': 0, 'Chidi': 0}"
   ]
  },
  {
   "cell_type": "markdown",
   "metadata": {},
   "source": [
    "## 7. Question 7\n",
    "Complete the function so that input like \"This is a sentence.\" will return a dictionary that holds the count of each letter that occurs in the string: {'t': 2, 'h': 1, 'i': 2, 's': 3, 'a': 1, 'e': 3, 'n': 2, 'c': 1}. This function should:\n",
    "\n",
    "accept a string “text” variable through the function’s parameters;\n",
    "\n",
    "iterate over each character the input string to count the frequency of each letter found, (only letters should be counted, do not count blank spaces, numbers, or punctuation; keep in mind that Python is case sensitive);\n",
    "\n",
    "populate the new dictionary with the letters as keys, ensuring each key is unique, and assign the value for each key with the count of that letter;\n",
    "\n",
    "return the new dictionary."
   ]
  },
  {
   "cell_type": "code",
   "execution_count": 7,
   "metadata": {},
   "outputs": [
    {
     "name": "stdout",
     "output_type": "stream",
     "text": [
      "{'a': 2, 'b': 2, 'c': 2}\n",
      "{'m': 1, 'a': 1, 't': 1, 'h': 1, 'i': 1, 's': 1, 'f': 1, 'u': 1, 'n': 1}\n",
      "{'t': 2, 'h': 1, 'i': 2, 's': 3, 'a': 1, 'e': 3, 'n': 2, 'c': 1}\n"
     ]
    }
   ],
   "source": [
    "def count_letters(text):\n",
    "  # Initialize a new dictionary.\n",
    "  dictionary = {} \n",
    "  # Complete the for loop to iterate through each \"text\" character and \n",
    "  # use a string method to ensure all letters are lowercase.\n",
    "  for letter in text.lower():\n",
    "    # Complete the if-statement using a string method to check if the\n",
    "    # character is a letter.\n",
    "    if letter.isalpha():\n",
    "      # Complete the if-statement using a logical operator to check if \n",
    "      # the letter is not already in the dictionary.\n",
    "      if letter not in dictionary:\n",
    "           # Use a dictionary operation to add the letter as a key\n",
    "           # and set the initial count value to zero.\n",
    "          dictionary[letter] = 0  \n",
    "      # Use a dictionary operation to increment the letter count value \n",
    "      # for the existing key.\n",
    "      dictionary[letter]+=1  \n",
    "       # Increment the letter counter. \n",
    "  return dictionary\n",
    "\n",
    "print(count_letters(\"AaBbCc\"))\n",
    "# Should be {'a': 2, 'b': 2, 'c': 2}\n",
    "\n",
    "print(count_letters(\"Math is fun! 2+2=4\"))\n",
    "# Should be {'m': 1, 'a': 1, 't': 1, 'h': 1, 'i': 1, 's': 1, 'f': 1, 'u': 1, 'n': 1}\n",
    "\n",
    "print(count_letters(\"This is a sentence.\"))\n",
    "# Should be {'t': 2, 'h': 1, 'i': 2, 's': 3, 'a': 1, 'e': 3, 'n': 2, 'c': 1}"
   ]
  }
 ],
 "metadata": {
  "kernelspec": {
   "display_name": "Python 3",
   "language": "python",
   "name": "python3"
  },
  "language_info": {
   "codemirror_mode": {
    "name": "ipython",
    "version": 3
   },
   "file_extension": ".py",
   "mimetype": "text/x-python",
   "name": "python",
   "nbconvert_exporter": "python",
   "pygments_lexer": "ipython3",
   "version": "3.12.0"
  }
 },
 "nbformat": 4,
 "nbformat_minor": 2
}
