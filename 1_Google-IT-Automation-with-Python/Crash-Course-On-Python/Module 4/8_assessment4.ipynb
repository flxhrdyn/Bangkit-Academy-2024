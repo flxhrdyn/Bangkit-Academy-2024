{
 "cells": [
  {
   "cell_type": "code",
   "execution_count": 1,
   "metadata": {},
   "outputs": [
    {
     "name": "stdout",
     "output_type": "stream",
     "text": [
      "Winter fleece jackets are on sale for $49.99\n"
     ]
    }
   ],
   "source": [
    "def sales_prices(item_and_price):\n",
    "    # Initialize variables \"item\" and \"price\" as strings\n",
    "    item = \"\"\n",
    "    price = \"\"\n",
    "    # Create a variable \"item_or_price\" to hold the result of the split. \n",
    "    item_or_price = item_and_price.split()\n",
    "\n",
    "    # For each element \"x\" in the split variable \"item_or_price\" \n",
    "    for x in item_or_price:\n",
    "\n",
    "        # Check if the element is a number\n",
    "        if x.isalpha():\n",
    "\n",
    "            # If true, assign the element to the \"item\" string variable and add a space \n",
    "            # for any item names containing multiple words, like \"Winter fleece jacket\".\n",
    "            item += x + \" \"\n",
    "\n",
    "        # Else, if x is a number (if x.isalpha() is false): \n",
    "        else:\n",
    "            # Assign the element to the \"price\" string variable. \n",
    "            price = x\n",
    "\n",
    "    # Strip the extra space to the right of the last \"item\" word\n",
    "    item = item.strip()\n",
    "\n",
    "    # Return the item name and price formatted in a sentence \n",
    "    return \"{} are on sale for ${}\".format(item,price)\n",
    "\n",
    "\n",
    "# Call to the function \n",
    "print(sales_prices(\"Winter fleece jackets 49.99\"))\n",
    "# Should print \"Winter fleece jackets are on sale for $49.99\""
   ]
  },
  {
   "cell_type": "code",
   "execution_count": 2,
   "metadata": {},
   "outputs": [
    {
     "data": {
      "text/plain": [
       "9"
      ]
     },
     "execution_count": 2,
     "metadata": {},
     "output_type": "execute_result"
    }
   ],
   "source": [
    "# This function accepts a string variable \"data_field\".  \n",
    "def count_words(data_field):\n",
    "\n",
    "    # Splits the string into individual words. \n",
    "    split_data = data_field.split()\n",
    "  \n",
    "    # Then returns the number of words in the string using the len()\n",
    "    # function. \n",
    "    return len(split_data)\n",
    "    \n",
    "    # Note that it is possible to combine the len() function and the \n",
    "    # .split() method into the same line of code by inserting the \n",
    "    # data_field.split() command into the the len() function parameters.\n",
    "\n",
    "# Call to the function\n",
    "count_words(\"Catalog item 3523: Organic raw pumpkin seeds in shell\")\n",
    "# Output would be 9"
   ]
  },
  {
   "cell_type": "code",
   "execution_count": 3,
   "metadata": {},
   "outputs": [
    {
     "name": "stdout",
     "output_type": "stream",
     "text": [
      "[1989, 1992, 1997, 2001, 2006, 2011, 2018, 2022]\n"
     ]
    }
   ],
   "source": [
    "# This function accepts two variables, each containing a list of years.\n",
    "# A current \"recent_first\" list contains [2022, 2018, 2011, 2006].\n",
    "# An older \"recent_last\" list contains [1989, 1992, 1997, 2001].\n",
    "# The lists need to be combined with the years in chronological order.\n",
    "def record_profit_years(recent_first, recent_last):\n",
    "\n",
    "    # Reverse the order of the \"recent_first\" list so that it is in \n",
    "    # chronological order.\n",
    "    recent_first.reverse()\n",
    "\n",
    "    # Extend the \"recent_last\" list by appending the newly reversed \n",
    "    # \"recent_first\" list.\n",
    "    recent_last.extend(recent_first)\n",
    "\n",
    "    # Return the \"recent_last\", which now contains the two lists \n",
    "    # combined in chronological order. \n",
    "    return recent_last\n",
    "\n",
    "# Assign the two lists to the two variables to be passed to the \n",
    "# record_profit_years() function.\n",
    "recent_first = [2022, 2018, 2011, 2006]\n",
    "recent_last = [1989, 1992, 1997, 2001]\n",
    "\n",
    "\n",
    "\n",
    "# Call the record_profit_years() function and pass the two lists as \n",
    "# parameters. \n",
    "print(record_profit_years(recent_first, recent_last))\n",
    "# Should print [1989, 1992, 1997, 2001, 2006, 2011, 2018, 2022]"
   ]
  },
  {
   "cell_type": "code",
   "execution_count": 4,
   "metadata": {},
   "outputs": [
    {
     "name": "stdout",
     "output_type": "stream",
     "text": [
      "[1972, 1973, 1974, 1975]\n"
     ]
    }
   ],
   "source": [
    "# The function accepts two parameters: a start year and an end year.\n",
    "def list_years(start, end):\n",
    "\n",
    "    # It returns a list comprehension that creates a list of years in a for\n",
    "    # loop using a range from the start year to the end year (inclusive of \n",
    "    # the upper range year, using end+1).\n",
    "    return [year for year in range(start, end+1)]\n",
    "\n",
    "\n",
    "# Call the years() function with two parameters.\n",
    "print(list_years(1972, 1975)) \n",
    "# Should print [1972, 1973, 1974, 1975]"
   ]
  },
  {
   "cell_type": "code",
   "execution_count": 5,
   "metadata": {},
   "outputs": [
    {
     "name": "stdout",
     "output_type": "stream",
     "text": [
      "[5, 7, 9, 11, 13]\n"
     ]
    }
   ],
   "source": [
    "# The function accepts two variable integers through the parameters and\n",
    "# returns all odd numbers between x and y-1.\n",
    "def odd_numbers(x, y):\n",
    "\n",
    "\n",
    "# This list comprehension uses a for loop to iterate through values \n",
    "# of n in a range from x to y, with the value of y excluded (meaning\n",
    "# keep the default range() function behavior to exclude the\n",
    "# end-of-range value from the range). Since an incremental value is not \n",
    "# specified, the range function uses the default increment of +1.\n",
    "# The if condition checks n to test if the number is odd using the\n",
    "# modulo operator. This condition is written to check if n is divided \n",
    "# by 2, that the remainder is not 0. \n",
    "    return [n for n in range(x, y) if n % 2 != 0]\n",
    "\n",
    "\n",
    "# Call the years() function with two parameters.\n",
    "print(odd_numbers(5, 15)) \n",
    "# Should print [5, 7, 9, 11, 13]"
   ]
  },
  {
   "cell_type": "code",
   "execution_count": 6,
   "metadata": {},
   "outputs": [
    {
     "name": "stdout",
     "output_type": "stream",
     "text": [
      "The IP address of the Domain Name Server server is 8.8.8.8\n",
      "The IP address of the Gateway Server server is 192.168.1.1\n",
      "The IP address of the Print Server server is 192.168.1.33\n",
      "The IP address of the Mail Server server is 192.168.1.190\n",
      "\n"
     ]
    }
   ],
   "source": [
    "# The network() function accepts a dictionary \"servers\" as a parameter.\n",
    "def network(servers):\n",
    "\n",
    "    # A string variable is initialized to hold the \"result\". \n",
    "    result = \"\"\n",
    "\n",
    "    # For each \"hostname\" (key) and \"IP address\" (value) in the \"server\" dictionary items...\n",
    "    for hostname, IP_address in servers.items():\n",
    "\n",
    "        # A string identifying the hostname and IP address for each server is added\n",
    "        # to the \"result\" variable. The string .format() function and is used to plug\n",
    "        # the hostname and IP_address variables into the designated {} placeholders\n",
    "        # within the string.\n",
    "        result += \"The IP address of the {} server is {}\".format(hostname, IP_address) + \"\\n\"\n",
    "    \n",
    "    # Return the \"result\" variable string.\n",
    "    return result \n",
    "\n",
    "# Call the \"network\" function with the dictionary. \n",
    "print(network({\"Domain Name Server\":\"8.8.8.8\", \"Gateway Server\":\"192.168.1.1\", \"Print Server\":\"192.168.1.33\", \"Mail Server\":\"192.168.1.190\"}))\n",
    "\n",
    "# Should print:\n",
    "# The IP address of the Domain Name Server server is 8.8.8.8\n",
    "# The IP address of the Gateway Server server is 192.168.1.1\n",
    "# The IP address of the Print Server server is 192.168.1.33\n",
    "# The IP address of the Mail Server server is 192.168.1.190\n"
   ]
  },
  {
   "cell_type": "code",
   "execution_count": 7,
   "metadata": {},
   "outputs": [
    {
     "name": "stdout",
     "output_type": "stream",
     "text": [
      "{'Arshi': 0, 'Catalina': 0, 'Diego': 0}\n"
     ]
    }
   ],
   "source": [
    "# The scores() function accepts a dictionary \"game_scores\" as a parameter.\n",
    "def reset_scores(game_scores):\n",
    "\n",
    "    # The .copy() dictionary method is used to create a new copy of the \"game_scores\".\n",
    "    new_game_scores = game_scores.copy() \n",
    "\n",
    "    # The for loop iterates over new_game_scores items, with the player as the key\n",
    "    # and the score as the value. \n",
    "    for player, score in new_game_scores.items():\n",
    "    \n",
    "        # The dictionary operation to assign a new value to a key is used\n",
    "        # to reset the grade values to 0.\n",
    "        new_game_scores[player] = 0\n",
    "  \n",
    "    return new_game_scores\n",
    " \n",
    "# The dictionary is defined.\n",
    "game1_scores = {\"Arshi\": 3, \"Catalina\": 7, \"Diego\": 6}\n",
    " \n",
    "# Call the \"reset_scores\" function with the \"game1_scores\" dictionary. \n",
    "print(reset_scores(game1_scores))\n",
    "# Should print {'Arshi': 0, 'Catalina': 0, 'Diego': 0}"
   ]
  }
 ],
 "metadata": {
  "kernelspec": {
   "display_name": "Python 3",
   "language": "python",
   "name": "python3"
  },
  "language_info": {
   "codemirror_mode": {
    "name": "ipython",
    "version": 3
   },
   "file_extension": ".py",
   "mimetype": "text/x-python",
   "name": "python",
   "nbconvert_exporter": "python",
   "pygments_lexer": "ipython3",
   "version": "3.12.0"
  }
 },
 "nbformat": 4,
 "nbformat_minor": 2
}
