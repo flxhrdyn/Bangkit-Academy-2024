{
 "cells": [
  {
   "cell_type": "code",
   "execution_count": 3,
   "metadata": {},
   "outputs": [
    {
     "name": "stdout",
     "output_type": "stream",
     "text": [
      "20.1\n"
     ]
    }
   ],
   "source": [
    "# This function returns the total time, with minutes represented as \n",
    "# decimals (example: 1 hour 30 minutes = 1.5), for all end user time\n",
    "# spent accessing a server in a given day. \n",
    "\n",
    "\n",
    "def sum_server_use_time(Server):\n",
    "\n",
    "    # Initialize the variable as a float data type, which will be used\n",
    "    # to hold the sum of the total hours and minutes of server usage by\n",
    "    # end users in a day.\n",
    "    total_use_time = 0.0\n",
    "\n",
    "    # Iterate through the \"Server\" dictionary’s key and value items \n",
    "    # using a for loop.\n",
    "    for key,value in Server.items():\n",
    "\n",
    "        # For each end user key, add the associated time value to the\n",
    "        # total sum of all end user use time.\n",
    "        total_use_time += Server[key]\n",
    "        \n",
    "    # Round the return value and limit to 2 decimal places.\n",
    "    return round(total_use_time, 2)  \n",
    "\n",
    "FileServer = {\"EndUser1\": 2.25, \"EndUser2\": 4.5, \"EndUser3\": 1, \"EndUser4\": 3.75, \"EndUser5\": 0.6, \"EndUser6\": 8}\n",
    "\n",
    "print(sum_server_use_time(FileServer)) # Should print 20.1"
   ]
  },
  {
   "cell_type": "code",
   "execution_count": 2,
   "metadata": {},
   "outputs": [
    {
     "name": "stdout",
     "output_type": "stream",
     "text": [
      "['Muhammad Ali', 'Amir Ali', 'Malik Ali', 'Ram Devi', 'Amaira Devi', 'Feng Chen', 'Li Chen']\n"
     ]
    }
   ],
   "source": [
    "# This function receives a dictionary, which contains common employee \n",
    "# last names as keys, and a list of employee first names as values. \n",
    "# The function generates a new list that contains each employees’ full\n",
    "# name (First_name Last_Name). For example, the key \"Garcia\" with the \n",
    "# values [\"Maria\", \"Hugo\", \"Lucia\"] should be converted to a list \n",
    "# that contains [\"Maria Garcia\", \"Hugo Garcia\", \"Lucia Garcia\"].\n",
    "\n",
    "\n",
    "def list_full_names(employee_dictionary):\n",
    "    # Initialize the \"full_names\" variable as a list data type using\n",
    "    # empty [] square brackets.  \n",
    "    full_names = []\n",
    "\n",
    "    # The outer for loop iterates through each \"last_name\" key and \n",
    "    # associated \"first_name\" values, in the \"employee_dictionary\" items.\n",
    "    for last_name, first_names in employee_dictionary.items():\n",
    "\n",
    "        # The inner for loop iterates over each \"first_name\" value in \n",
    "        # the list of \"first_names\" for one \"last_name\" key at a time.\n",
    "        for first_name in first_names:\n",
    "\n",
    "            # Append the new \"full_names\" list with the \"first_name\" value\n",
    "            # concatenated with a space \" \", and the key \"last_name\". \n",
    "            full_names.append(first_name+\" \"+last_name)\n",
    "            \n",
    "    # Return the new \"full_names\" list once the outer for loop has \n",
    "    # completed all iterations. \n",
    "    return(full_names)\n",
    "\n",
    "\n",
    "print(list_full_names({\"Ali\": [\"Muhammad\", \"Amir\", \"Malik\"], \"Devi\": [\"Ram\", \"Amaira\"], \"Chen\": [\"Feng\", \"Li\"]}))\n",
    "# Should print ['Muhammad Ali', 'Amir Ali', 'Malik Ali', 'Ram Devi', 'Amaira Devi', 'Feng Chen', 'Li Chen']\n"
   ]
  },
  {
   "cell_type": "code",
   "execution_count": 1,
   "metadata": {},
   "outputs": [
    {
     "name": "stdout",
     "output_type": "stream",
     "text": [
      "{'IDE HDDs': ['Hard Drives', 'PC Parts'], 'SCSI HDDs': ['Hard Drives', 'PC Parts'], 'High-end video cards': ['PC Parts', 'Video Cards'], 'Basic video cards': ['PC Parts', 'Video Cards']}\n"
     ]
    }
   ],
   "source": [
    "# This function receives a dictionary, which contains resource \n",
    "# categories (keys) with a list of available resources (values) for a \n",
    "# company’s IT Department. The resources belong to multiple categories.\n",
    "# The function should reverse the keys and values to show which \n",
    "# categories (values) each resource (key) belongs to. \n",
    "\n",
    "\n",
    "def invert_resource_dict(resource_dictionary):\n",
    "  # Initialize a \"new_dictionary\" variable as a dict data type using\n",
    "  # empty {} curly brackets. \n",
    "    new_dictionary = {}\n",
    "    # The outer for loop iterates through each \"resource_group\" and \n",
    "    # associated \"resources\" in the \"resource_dictionary\" items.\n",
    "    for resource_group, resources in resource_dictionary.items():\n",
    "        # The inner for loop iterates over each \"resource\" value in \n",
    "        # the list of \"resources\" for one \"resource_group\" key at a time.\n",
    "        for resource in resources:\n",
    "            # The if-statement checks if the current \"resource\" value has \n",
    "            # been appended as a key to the \"new_dictionary\" yet.\n",
    "            if resource in new_dictionary:\n",
    "                # If True, then append the \"resource_group\" as a value to the\n",
    "                # \"resource\", which is now the key.\n",
    "                new_dictionary[resource].append(resource_group)\n",
    "            # If False (else), then add the \"resource\" as a new key with the \n",
    "            # \"resource_group\" as a value for that key.\n",
    "            else:\n",
    "                new_dictionary[resource] = [resource_group]\n",
    "    # Return the new dictionary once the outer for loop has completed  \n",
    "    # all iterations.\n",
    "    return(new_dictionary)\n",
    "\n",
    "\n",
    "print(invert_resource_dict({\"Hard Drives\": [\"IDE HDDs\", \"SCSI HDDs\"],\n",
    "        \"PC Parts\":  [\"IDE HDDs\", \"SCSI HDDs\", \"High-end video cards\", \n",
    "                      \"Basic video cards\"], \"Video Cards\": [\"High-end video cards\", \"Basic video cards\"]}))\n",
    "# Should print {'IDE HDDs': ['Hard Drives', 'PC Parts'], 'SCSI HDDs': ['Hard Drives', 'PC Parts'], \n",
    "# 'High-end video cards': ['PC Parts', 'Video Cards'], 'Basic video cards': ['PC Parts', 'Video Cards']}\n"
   ]
  },
  {
   "cell_type": "code",
   "execution_count": 9,
   "metadata": {},
   "outputs": [],
   "source": [
    "wardrobe = {'shirt': ['red', 'blue', 'white'], 'jeans': ['blue', 'black']}\n",
    "new_items = {'jeans': ['white'], 'scarf': ['yellow'], 'socks': ['black', 'brown']}\n",
    "wardrobe.update(new_items)"
   ]
  }
 ],
 "metadata": {
  "kernelspec": {
   "display_name": "Python 3",
   "language": "python",
   "name": "python3"
  },
  "language_info": {
   "codemirror_mode": {
    "name": "ipython",
    "version": 3
   },
   "file_extension": ".py",
   "mimetype": "text/x-python",
   "name": "python",
   "nbconvert_exporter": "python",
   "pygments_lexer": "ipython3",
   "version": "3.12.0"
  }
 },
 "nbformat": 4,
 "nbformat_minor": 2
}
