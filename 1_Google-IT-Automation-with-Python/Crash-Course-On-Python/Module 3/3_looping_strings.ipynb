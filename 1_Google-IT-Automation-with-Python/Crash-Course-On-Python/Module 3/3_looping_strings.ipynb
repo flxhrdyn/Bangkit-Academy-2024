{
 "cells": [
  {
   "cell_type": "markdown",
   "metadata": {},
   "source": [
    "## 1. Looping over a string\n",
    "Looping over a string allows programmers to examine each character within a string individually, gather information about its occurrences, and perform a given operation. There are multiple ways to loop over a string—some ways are more beneficial than others—and which one you choose depends on the information you need. "
   ]
  },
  {
   "cell_type": "code",
   "execution_count": 1,
   "metadata": {},
   "outputs": [
    {
     "name": "stdout",
     "output_type": "stream",
     "text": [
      "F\n",
      "e\n",
      "l\n",
      "i\n",
      "x\n"
     ]
    }
   ],
   "source": [
    "name = \"Felix\"\n",
    "for char in name:\n",
    "    print(char)"
   ]
  },
  {
   "cell_type": "markdown",
   "metadata": {},
   "source": [
    "## 2. While Loop indexing\n",
    "This while loop is the more “common” while loop that programmers often use. This type of loop involves an index variable to represent the current position within the sequence. Most of the time, this will start with 0 for the initial iteration. "
   ]
  },
  {
   "cell_type": "code",
   "execution_count": 4,
   "metadata": {},
   "outputs": [
    {
     "name": "stdout",
     "output_type": "stream",
     "text": [
      "F\n",
      "e\n",
      "l\n",
      "i\n",
      "x\n"
     ]
    }
   ],
   "source": [
    "# or you can use while loop\n",
    "name = \"Felix\"\n",
    "index = 0\n",
    "while index < len(name):\n",
    "\tprint(name[index])\n",
    "\tindex += 1"
   ]
  },
  {
   "cell_type": "markdown",
   "metadata": {},
   "source": [
    "The initial index value is 0, and the while loop continues to execute as long as the index variable is less than the length of the len(greeting). At each iteration, Python prints the value at the current index position (greeting[index]). Then, Python increments the index by 1 (index += 1) to move to the next position. The output of this example is:"
   ]
  },
  {
   "cell_type": "markdown",
   "metadata": {},
   "source": [
    "## 3. While Loop with slicing\n",
    "Using a while loop with slicing accomplishes the same thing that a while loop with indexing does—like the example you explored above—this is just another way to write a while loop. You use this while loop in combination with string slicing to iterate over a portion of a sequence."
   ]
  },
  {
   "cell_type": "code",
   "execution_count": 3,
   "metadata": {},
   "outputs": [
    {
     "name": "stdout",
     "output_type": "stream",
     "text": [
      "H\n",
      "e\n",
      "l\n",
      "l\n",
      "o\n"
     ]
    }
   ],
   "source": [
    "greeting = 'Hello'\n",
    "index = 0\n",
    "while index < len(greeting):\n",
    "    print(greeting[index:index+1])\n",
    "    index += 1"
   ]
  },
  {
   "cell_type": "markdown",
   "metadata": {},
   "source": [
    "This while loop continues to run as long as the index variable is less than the length of the string, which is determined by using len(greeting). With each iteration, a substring of length 1 is extracted using (greeting[index:index+1]) and printed. Then, the index is incremented by 1 (index += 1) to move to the next position. "
   ]
  },
  {
   "cell_type": "markdown",
   "metadata": {},
   "source": [
    "## 4. List comprehension"
   ]
  },
  {
   "cell_type": "code",
   "execution_count": 2,
   "metadata": {},
   "outputs": [
    {
     "name": "stdout",
     "output_type": "stream",
     "text": [
      "[1, 4, 9, 16, 25]\n"
     ]
    }
   ],
   "source": [
    "numbers = [1, 2, 3, 4, 5] # reate a new list called squared_numbers\n",
    "squared_numbers = [x ** 2 for x in numbers] # apply x ** 2 to square each element in the numbers list.\n",
    "print(squared_numbers)"
   ]
  },
  {
   "cell_type": "markdown",
   "metadata": {},
   "source": [
    "## 5. map() \n",
    "The map() function applies the specified function to every item of the passed iterable, yields the results, and returns an iterator.\n",
    "\n",
    "Syntax:\n",
    "map(function, iterables) --> map object\n",
    "- function: The function to be called for each element of the specified iterable.\n",
    "- iterables: One or more iterables separated by a comma (such as string, list, tuple, dictionary)."
   ]
  },
  {
   "cell_type": "code",
   "execution_count": 10,
   "metadata": {},
   "outputs": [
    {
     "data": {
      "text/plain": [
       "9"
      ]
     },
     "execution_count": 10,
     "metadata": {},
     "output_type": "execute_result"
    }
   ],
   "source": [
    "def square(x):\n",
    "    return x*x\n",
    "numbers=[1, 2, 3, 4, 5] \n",
    "sqrs_of_numbers = map(square, numbers) # apply squre function to values in numbers list\n",
    "\n",
    "next(sqrs_of_numbers) # we can use the next() function to traverse the list."
   ]
  },
  {
   "cell_type": "markdown",
   "metadata": {},
   "source": [
    "## 6. zip() Method\n",
    "The zip() method takes one or more iterables (such as list, tuple, string, etc.) and constructs the iterator of tuples where each tuple contains elements from each iterable.\n",
    "\n",
    "Syntax:\n",
    "zip(*iterables)\n",
    "- iterables: Can be built-in iterables or user defined iterables.\n",
    "\n",
    "Returns zip object that works as an iterator."
   ]
  },
  {
   "cell_type": "code",
   "execution_count": 11,
   "metadata": {},
   "outputs": [
    {
     "name": "stdout",
     "output_type": "stream",
     "text": [
      "<zip object at 0x0000019C51230D40>\n",
      "[(1, 'One'), (2, 'Two'), (3, 'Three')]\n"
     ]
    }
   ],
   "source": [
    "numbers = [1,2,3]\n",
    "str_numbers = ['One','Two','Three']\n",
    "result = zip(numbers, str_numbers) # zip two lists together\n",
    "print(result)\n",
    "print(list(result))"
   ]
  }
 ],
 "metadata": {
  "kernelspec": {
   "display_name": "Python 3",
   "language": "python",
   "name": "python3"
  },
  "language_info": {
   "codemirror_mode": {
    "name": "ipython",
    "version": 3
   },
   "file_extension": ".py",
   "mimetype": "text/x-python",
   "name": "python",
   "nbconvert_exporter": "python",
   "pygments_lexer": "ipython3",
   "version": "3.12.0"
  }
 },
 "nbformat": 4,
 "nbformat_minor": 2
}
