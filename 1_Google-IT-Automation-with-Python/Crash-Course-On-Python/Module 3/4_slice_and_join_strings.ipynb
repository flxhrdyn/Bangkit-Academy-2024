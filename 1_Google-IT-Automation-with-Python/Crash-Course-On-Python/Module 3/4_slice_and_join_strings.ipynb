{
 "cells": [
  {
   "cell_type": "markdown",
   "metadata": {},
   "source": [
    "# Slice and Join Strings\n",
    "When you slice a string, you extract a subset of the original string—sometimes referred to as indexing a string. \n",
    "\n",
    "Joining strings is the process of linking two or more strings together to create a bigger string."
   ]
  },
  {
   "cell_type": "markdown",
   "metadata": {},
   "source": [
    "## 1. Slice a string\n",
    "Bracket notation, [ ], is used to specify the start of the index, ending index, or both. If you do not include the starting index, then the slice contains everything from the beginning of the string to the ending index. This is the same if you do not include the ending index.\n",
    "\n",
    "__Remember that the indexes in Python start with 0, and not 1.__"
   ]
  },
  {
   "cell_type": "code",
   "execution_count": 3,
   "metadata": {},
   "outputs": [
    {
     "name": "stdout",
     "output_type": "stream",
     "text": [
      "G\n",
      "ting\n",
      "Earthlings\n",
      "Greet\n",
      "Earthlings\n",
      "\n"
     ]
    }
   ],
   "source": [
    "string1 = \"Greetings, Earthlings\"\n",
    "print(string1[0])   # Prints “G”\n",
    "# When you specify an ending index, Python slices everything up to, but not including the ending index.\n",
    "print(string1[4:8]) # Prints “ting”, the ending index is 8, but the characters sliced are 4–7.\n",
    "print(string1[11:]) # Prints “Earthlings”\n",
    "print(string1[:5])  # Prints “Greet”\n",
    "\n",
    "# If your index is negative, Python counts back from the end of the string instead of the beginning.\n",
    "print(string1[-10:]) # Prints “Earthlings” again\n",
    "\n",
    "# If your index is beyond the end of the string, Python returns an empty string.\n",
    "print(string1[55:]) # Prints “” "
   ]
  },
  {
   "cell_type": "markdown",
   "metadata": {},
   "source": [
    "An optional way to slice an index is by the stride argument, indicated by using a double colon. This allows you to skip over the corresponding number of characters in your index, or if you’re using a negative stride, the string prints backwards."
   ]
  },
  {
   "cell_type": "code",
   "execution_count": 4,
   "metadata": {},
   "outputs": [
    {
     "name": "stdout",
     "output_type": "stream",
     "text": [
      "Getns atlns\n",
      "sgnilhtraE ,sgniteerG\n"
     ]
    }
   ],
   "source": [
    "string1 = \"Greetings, Earthlings\"\n",
    "\n",
    "print(string1[0::2]) # Prints “Getns atlns”\n",
    "print(string1[::-1]) # Prints “sgnilhtraE ,sgniteerG”"
   ]
  },
  {
   "cell_type": "markdown",
   "metadata": {},
   "source": [
    "## 2. Join a string\n",
    "To join strings in Python, you use the plus operator, + , just as if you were adding two numbers together. The following example joins three strings together."
   ]
  },
  {
   "cell_type": "code",
   "execution_count": 5,
   "metadata": {},
   "outputs": [
    {
     "name": "stdout",
     "output_type": "stream",
     "text": [
      "Hello world\n"
     ]
    }
   ],
   "source": [
    "print(\"Hello\" + \" \" + \"world\") #Prints “Hello world”"
   ]
  },
  {
   "cell_type": "markdown",
   "metadata": {},
   "source": [
    "You can also use the join() function, which is very useful when you want to concatenate elements from a list of strings with a specific delimiter."
   ]
  },
  {
   "cell_type": "code",
   "execution_count": 7,
   "metadata": {},
   "outputs": [
    {
     "name": "stdout",
     "output_type": "stream",
     "text": [
      "Hello world\n"
     ]
    }
   ],
   "source": [
    "greetings = [\"Hello\", \"world\"]\n",
    "print(\" \".join(greetings)) # Prints \"Hello world\""
   ]
  },
  {
   "cell_type": "markdown",
   "metadata": {},
   "source": [
    "## 3. Example\n",
    "Now you know how to slice strings and join strings. Now, let’s put the two operations together by taking an unformatted phone number, 2025551212, and return it as a properly formatted U.S. number. In this example, we’ll use phonenum to refer to the unformatted phone number."
   ]
  },
  {
   "cell_type": "code",
   "execution_count": 8,
   "metadata": {},
   "outputs": [
    {
     "name": "stdout",
     "output_type": "stream",
     "text": [
      "(202) 555-1212\n"
     ]
    }
   ],
   "source": [
    "def format_phone(phonenum):\n",
    "    # The first 3 digits are the area code\n",
    "    area_code = \"(\" + phonenum[:3] + \")\" # three numbers from the start of the list\n",
    "\n",
    "    # The next 3 digits are called the “exchange”\n",
    "    exchange = phonenum[3:6] # number from 3-6\n",
    "\n",
    "    # The next 4 digits are the line number\n",
    "    line = phonenum[-4:] # four number from the back of the list\n",
    "    \n",
    "    # Put the pieces back together into a nicely formatted string\n",
    "    return area_code + \" \" + exchange + \"-\" + line\n",
    "\n",
    "print(format_phone(\"2025551212\")) # Outputs: (202) 555-1212"
   ]
  }
 ],
 "metadata": {
  "kernelspec": {
   "display_name": "Python 3",
   "language": "python",
   "name": "python3"
  },
  "language_info": {
   "codemirror_mode": {
    "name": "ipython",
    "version": 3
   },
   "file_extension": ".py",
   "mimetype": "text/x-python",
   "name": "python",
   "nbconvert_exporter": "python",
   "pygments_lexer": "ipython3",
   "version": "3.12.0"
  }
 },
 "nbformat": 4,
 "nbformat_minor": 2
}
