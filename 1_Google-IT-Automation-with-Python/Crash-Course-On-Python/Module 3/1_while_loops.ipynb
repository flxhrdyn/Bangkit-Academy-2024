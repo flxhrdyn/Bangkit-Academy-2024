{
 "cells": [
  {
   "cell_type": "markdown",
   "metadata": {},
   "source": [
    "# While Loop\n",
    "Tells the computer to execute a set of instructions while a specified condition is True. In other words, while loops keep executing the same group of instructions until the condition becomes False.\n",
    "\n",
    "With the while loop we can execute a set of statements as long as a condition is true.\n",
    "\n",
    "NOTE : remember to increment i, or else the loop will continue forever."
   ]
  },
  {
   "cell_type": "markdown",
   "metadata": {},
   "source": [
    "## 1. Examples"
   ]
  },
  {
   "cell_type": "code",
   "execution_count": 6,
   "metadata": {},
   "outputs": [
    {
     "name": "stdout",
     "output_type": "stream",
     "text": [
      "The current number is 0\n",
      "The current number is 1\n",
      "The current number is 2\n",
      "The current number is 3\n",
      "The current number is 4\n",
      "The loop is done\n"
     ]
    }
   ],
   "source": [
    "# defining a function named attempt\n",
    "def attempt(number):\n",
    "    number = 0 # initial variable\n",
    "\n",
    "    #While the number is less than 5 execute this code block,\n",
    "    while number < 5:\n",
    "        print(f\"The current number is {number}\") # print the current number\n",
    "        number += 1 # increment the value of number variable, to prevent an infinite loop\n",
    "    print(\"The loop is done\") # print this if the loop condition becames false\n",
    " \n",
    "attempt(7) # call the attempt function"
   ]
  },
  {
   "cell_type": "code",
   "execution_count": 16,
   "metadata": {},
   "outputs": [
    {
     "name": "stdout",
     "output_type": "stream",
     "text": [
      "45 10\n"
     ]
    }
   ],
   "source": [
    "x = 1\n",
    "sum = 0\n",
    "while x < 10:\n",
    "    sum += x\n",
    "    x += 1\n",
    "\n",
    "product = x\n",
    "while x < 10:\n",
    "    x += 1\n",
    "\n",
    "print(sum, product)"
   ]
  },
  {
   "cell_type": "code",
   "execution_count": 22,
   "metadata": {},
   "outputs": [
    {
     "name": "stdout",
     "output_type": "stream",
     "text": [
      "0\n",
      "2\n",
      "4\n",
      "8\n"
     ]
    }
   ],
   "source": [
    "# This function counts the number of integer factors for a \n",
    "# \"given_number\" variable, passed through the function’s parameters.\n",
    "# The \"count\" return value includes the \"given_number\" itself as a \n",
    "# factor (n*1). \n",
    "def count_factors(given_number):\n",
    "\n",
    "    # To include the \"given_number\" variable as a \"factor\", initialize\n",
    "    # the \"factor\" variable with the value 1 (if the \"factor\" variable\n",
    "    # were to start at 2, the \"given_number\" itself would be excluded). \n",
    "    factor = 1\n",
    "    count = 1\n",
    "\n",
    "    # This \"if\" block will run if the \"given_number\" equals 0.\n",
    "    if given_number == 0:\n",
    "        # If True, the return value will be 0 factors. \n",
    "        return 0\n",
    "\n",
    "    # The while loop will run while the \"factor\" is still less than\n",
    "    # the \"given_number\" variable.\n",
    "    while factor < given_number:\n",
    "        # This \"if\" block checks if the \"given_number\" can be divided by\n",
    "        # the \"factor\" variable without leaving a remainder. The modulo\n",
    "        # operator % is used to test for a remainder.\n",
    "        if given_number % factor == 0:\n",
    "            # If True, then the \"factor\" variable is added to the count of\n",
    "            # the \"given_number\"’s integer factors.\n",
    "            count += 1\n",
    "        # When exiting the if block, increment the \"factor\" variable by 1\n",
    "        # to divide the \"given_number\" variable by a new \"factor\" value\n",
    "        # inside the while loop.\n",
    "        factor += 1\n",
    "\n",
    "    # When the interpreter exits either the while loop or the top if\n",
    "    # block, it will return the value of the \"count\" variable.\n",
    "    return count\n",
    "\n",
    "\n",
    "print(count_factors(0)) # Count value should be 0\n",
    "print(count_factors(3)) # Should count 2 factors (1x3)\n",
    "print(count_factors(10)) # Should count 4 factors (1x10, 2x5)\n",
    "print(count_factors(24)) # Should count 8 factors (1x24, 2x12, 3x8, and 4x6). "
   ]
  },
  {
   "cell_type": "code",
   "execution_count": 21,
   "metadata": {},
   "outputs": [
    {
     "name": "stdout",
     "output_type": "stream",
     "text": [
      "5 + 1 = 6\n",
      "5 + 2 = 7\n",
      "5 + 3 = 8\n",
      "5 + 4 = 9\n",
      "5 + 5 = 10\n",
      "17 + 1 = 18\n",
      "17 + 2 = 19\n",
      "17 + 3 = 20\n"
     ]
    }
   ],
   "source": [
    "# This function outputs an addition table. It is written to end after\n",
    "# printing 5 lines of the addition table, but it will break out of the\n",
    "# loop if the \"my_sum\" variable exceeds 20.\n",
    "\n",
    "# The function accepts a \"given_number\" variable through its\n",
    "# parameters.\n",
    "def addition_table(given_number):\n",
    "\n",
    "\t# The \"iterated_number\" and \"my_sum\" variables are initialized with\n",
    "\t# the value of 1. Although the \"my_sum\" variable does not need any\n",
    "\t# specific initial value, it still must be assigned a data type\n",
    "\t# before being used in the while loop. By initializing \"my_sum\"\n",
    "\t# with any integer, the data type will be set to int.\n",
    "\titerated_number = 1\n",
    "\tmy_sum = 1\n",
    "\n",
    "\t# The while loop will run while it is True that the\n",
    "\t# \"iterated_number\" is less than or equal to 5.\n",
    "\twhile iterated_number <= 5:\n",
    "\n",
    "\t\t# The \"my_sum\" variable is assigned the value of the\n",
    "\t\t# \"given_number\" plus the \"iterated_number\" variables.\n",
    "\t\tmy_sum = given_number + iterated_number\n",
    "\n",
    "\t\t# Test to see if the \"my_sum\" variable is greater than 20.\n",
    "\t\tif my_sum > 20:\n",
    "\t\t\t# If True, then use the break keyword to exit the loop.\n",
    "\t\t\tbreak\n",
    "\n",
    "\t\t# If False, the Python interpreter will move to the next line\n",
    "\t\t# in the while loop after the if-statement has ended.\n",
    "\n",
    "\t\t# The print function will output the \"given_number\" plus\n",
    "\t\t# the \"iterated_number\" equals \"my_sum\".\n",
    "\t\tprint(str(given_number), \"+\", str(iterated_number), \"=\", str(my_sum))\n",
    "\n",
    "\t\t# Increment the \"iterated_number\" before the while loop starts\n",
    "\t\t# over again to print a new \"my_sum\" value.\n",
    "\t\titerated_number += 1\n",
    "\n",
    "\n",
    "addition_table(5)\n",
    "addition_table(17)\n",
    "addition_table(30)\n",
    "\n",
    "# Expected output:\n",
    "# 5 + 1 = 6\n",
    "# 5 + 2 = 7\n",
    "# 5 + 3 = 8\n",
    "# 5 + 4 = 9\n",
    "# 5 + 5 = 10\n",
    "# 17 + 1 = 18\n",
    "# 17 + 2 = 19\n",
    "# 17 + 3 = 20\n",
    "# None"
   ]
  },
  {
   "cell_type": "markdown",
   "metadata": {},
   "source": [
    "## 2. Practice Quiz"
   ]
  },
  {
   "cell_type": "markdown",
   "metadata": {},
   "source": [
    "Write a function that takes an argument n and returns the sum of integers from 1 to n. \n",
    "\n",
    "For example, if n=5, your function should add up 1+2+3+4+5 and return 15. If n is less than 1, just return 0. \n",
    "\n",
    "Use a while loop to calculate this sum. "
   ]
  },
  {
   "cell_type": "code",
   "execution_count": null,
   "metadata": {},
   "outputs": [],
   "source": [
    "def sum_of_integers(n):\n",
    "  if n < 1:\n",
    "    return 0\n",
    "  \n",
    "  i = 1\n",
    "  sum = 0\n",
    "  while i <= n:\n",
    "    sum = sum + i\n",
    "    i = i + 1\n",
    "\n",
    "  return sum\n",
    "\n",
    "print(sum_of_integers(3))  # should print 6\n",
    "print(sum_of_integers(4))  # should print 10\n",
    "print(sum_of_integers(5))  # should print 15"
   ]
  },
  {
   "cell_type": "markdown",
   "metadata": {},
   "source": [
    "Fill in the blanks to complete the function, which should output a multiplication table. The function accepts a variable “number” through its parameters. This “number” variable should be multiplied by the numbers 1 through 5, and printed in a format similar to “1x6=6” (“number” x “multiplier” = “result”). The code should also limit the “result” to not exceed 25. To satisfy these conditions, you will need to:\n",
    "\n",
    "- Initialize the “multiplier\" variable with the starting value\n",
    "- Complete the while loop condition\n",
    "- Add an exit point for the loop\n",
    "- Increment the “multiplier\" variable inside the while loop"
   ]
  },
  {
   "cell_type": "code",
   "execution_count": 23,
   "metadata": {},
   "outputs": [
    {
     "name": "stdout",
     "output_type": "stream",
     "text": [
      "3x1=3\n",
      "3x2=6\n",
      "3x3=9\n",
      "3x4=12\n",
      "3x5=15\n",
      "5x1=5\n",
      "5x2=10\n",
      "5x3=15\n",
      "5x4=20\n",
      "5x5=25\n",
      "8x1=8\n",
      "8x2=16\n",
      "8x3=24\n"
     ]
    }
   ],
   "source": [
    "def multiplication_table(number):\n",
    "    # Initialize the appropriate variable\n",
    "    multiplier = 1\n",
    "\n",
    "\n",
    "    # Complete the while loop condition.\n",
    "    while multiplier <= 5:\n",
    "        result = number * multiplier \n",
    "        if  result > 25:\n",
    "            # Enter the action to take if the result > 25\n",
    "            break\n",
    "        print(str(number) + \"x\" + str(multiplier) + \"=\" + str(result))\n",
    "        \n",
    "        # Increment the appropriate variable\n",
    "        multiplier += 1\n",
    "\n",
    "multiplication_table(3) \n",
    "multiplication_table(5) \n",
    "multiplication_table(8)"
   ]
  }
 ],
 "metadata": {
  "kernelspec": {
   "display_name": "Python 3",
   "language": "python",
   "name": "python3"
  },
  "language_info": {
   "codemirror_mode": {
    "name": "ipython",
    "version": 3
   },
   "file_extension": ".py",
   "mimetype": "text/x-python",
   "name": "python",
   "nbconvert_exporter": "python",
   "pygments_lexer": "ipython3",
   "version": "3.12.0"
  }
 },
 "nbformat": 4,
 "nbformat_minor": 2
}
