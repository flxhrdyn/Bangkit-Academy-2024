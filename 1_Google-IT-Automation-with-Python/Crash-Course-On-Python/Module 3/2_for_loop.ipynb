{
 "cells": [
  {
   "cell_type": "markdown",
   "metadata": {},
   "source": [
    "# For Loop\n",
    "For loops are used for sequential traversal. For example: traversing a list or string or array etc. In Python, there is “for in” loop which is similar to foreach loop in other languages.\n",
    "\n",
    "It can be used to iterate over a range and iterators. We can also use for loop to iterate lists, tuples, strings and dictionaries in Python.\n",
    "\n",
    "__The range() function can take up to three parameters:  range(start, stop, step)__"
   ]
  },
  {
   "cell_type": "markdown",
   "metadata": {},
   "source": [
    "## 1. For Loop examples"
   ]
  },
  {
   "cell_type": "code",
   "execution_count": 17,
   "metadata": {},
   "outputs": [
    {
     "name": "stdout",
     "output_type": "stream",
     "text": [
      "1\n",
      "3\n",
      "5\n",
      "7\n",
      "9\n"
     ]
    }
   ],
   "source": [
    "# for loop using range\n",
    "\n",
    "# for loop always starts from 0\n",
    "for x in range(1, 10, 2): # for each number(x) in the range of 5 with the step(increment) of 2 \n",
    "    print(x)"
   ]
  },
  {
   "cell_type": "code",
   "execution_count": 7,
   "metadata": {},
   "outputs": [
    {
     "name": "stdout",
     "output_type": "stream",
     "text": [
      "Toyota\n",
      "Honda\n",
      "Ferrari\n"
     ]
    }
   ],
   "source": [
    "# for loop using list\n",
    "\n",
    "cars = [\"Toyota\", \"Honda\", \"Ferrari\"]\n",
    "for car in cars: # for each car(member of the list) in car list\n",
    "    print(car)"
   ]
  },
  {
   "cell_type": "code",
   "execution_count": 15,
   "metadata": {},
   "outputs": [
    {
     "name": "stdout",
     "output_type": "stream",
     "text": [
      "The average of the list is 18.0\n"
     ]
    }
   ],
   "source": [
    "numbers = [10, 14, 15, 20, 31] # numbers list \n",
    "\n",
    "# initial value of sum and length variable\n",
    "sum = 0 \n",
    "length = 0\n",
    "\n",
    "# for each number inside the numbers list\n",
    "for number in numbers:\n",
    "    sum += number # add the sum variable with the number\n",
    "    length += 1 # add the length with 1 \n",
    "    average = sum/length # average formula\n",
    "\n",
    "print(f\"The average of the list is {average}\")"
   ]
  },
  {
   "cell_type": "code",
   "execution_count": 31,
   "metadata": {},
   "outputs": [
    {
     "name": "stdout",
     "output_type": "stream",
     "text": [
      "Hi Taylor\n",
      "Hi Luisa\n",
      "Hi Jamaal\n",
      "Hi Eli\n"
     ]
    }
   ],
   "source": [
    "def greet_friends(friends):\n",
    "    for friend in friends:\n",
    "        print(\"Hi \" + friend)\n",
    "\n",
    "greet_friends(['Taylor', 'Luisa', 'Jamaal', 'Eli'])"
   ]
  },
  {
   "cell_type": "code",
   "execution_count": 33,
   "metadata": {},
   "outputs": [
    {
     "name": "stdout",
     "output_type": "stream",
     "text": [
      "0\n",
      "2\n",
      "4\n",
      "6\n",
      "[0, 2, 4, 6]\n"
     ]
    }
   ],
   "source": [
    "# This for loop iterates through the numbers 0 to 6. The if statement\n",
    "# uses the modulo operator to test if the \"x\" variable is divisible by\n",
    "# 2. If True, the if statement will print the value of \"x\" and exit\n",
    "# back into the for loop for the next iteration of \"x\". Since no \n",
    "# incremental value is specified in the range() parameters, the default\n",
    "# increment is +1. \n",
    "\n",
    "for x in range(7):\n",
    "    if x % 2 == 0:\n",
    "        print(x)\n",
    "\n",
    "# The loop should print 0, 2, 4, 6\n",
    "\n",
    "# As a list comprehension:\n",
    "even_numbers = [x for x in range(7) if x % 2 == 0]\n",
    "print(even_numbers)"
   ]
  },
  {
   "cell_type": "markdown",
   "metadata": {},
   "source": [
    "## 2. Nested For Loop"
   ]
  },
  {
   "cell_type": "code",
   "execution_count": 32,
   "metadata": {},
   "outputs": [
    {
     "name": "stdout",
     "output_type": "stream",
     "text": [
      "This is the outer loop iteration number 0\n",
      "Inner loop iteration number 0\n",
      "Inner loop iteration number 1\n",
      "Inner loop iteration number 2\n",
      "Inner loop iteration number 3\n",
      "Exit inner loop\n",
      "This is the outer loop iteration number 1\n",
      "Inner loop iteration number 0\n",
      "Inner loop iteration number 1\n",
      "Inner loop iteration number 2\n",
      "Inner loop iteration number 3\n",
      "Exit inner loop\n"
     ]
    }
   ],
   "source": [
    "# This code demonstrates the outer and inner loop iterations of a pair \n",
    "# of nested for loops. Click \"Run\" to see the results. The outer loop\n",
    "# will run twice for the range pointer positions [0, 1] in range(2).\n",
    "# The inner loop will run 4 times for the range pointer positions \n",
    "# [0, 1, 2, 3] in range(3+1) or range(4) each time the outer loop runs.\n",
    "# So, the inner loop will execute 8 times in total.\n",
    "\n",
    "for x in range(2):\n",
    "    print(\"This is the outer loop iteration number \" + str(x))\n",
    "    for y in range(3+1):\n",
    "        print(\"Inner loop iteration number \" + str(y))\n",
    "    print(\"Exit inner loop\")"
   ]
  },
  {
   "cell_type": "code",
   "execution_count": 21,
   "metadata": {},
   "outputs": [
    {
     "name": "stdout",
     "output_type": "stream",
     "text": [
      "Mercedes is the Winner, Redbull is the Loser\n",
      "Mercedes is the Winner, Ferrari is the Loser\n",
      "Redbull is the Winner, Mercedes is the Loser\n",
      "Redbull is the Winner, Ferrari is the Loser\n",
      "Ferrari is the Winner, Mercedes is the Loser\n",
      "Ferrari is the Winner, Redbull is the Loser\n"
     ]
    }
   ],
   "source": [
    "teams = [\"Mercedes\", \"Redbull\", \"Ferrari\"]\n",
    "for winning_team in teams:\n",
    "    for losing_team in teams: \n",
    "        # if the value of the winning team is not the same as the losing team\n",
    "        if winning_team != losing_team:\n",
    "            print(f\"{winning_team} is the Winner, {losing_team} is the Loser\")"
   ]
  },
  {
   "cell_type": "code",
   "execution_count": 25,
   "metadata": {},
   "outputs": [
    {
     "name": "stdout",
     "output_type": "stream",
     "text": [
      "[0|0] [0|1] [0|2] [0|3] [0|4] [0|5] [0|6] \n",
      "[1|1] [1|2] [1|3] [1|4] [1|5] [1|6] \n",
      "[2|2] [2|3] [2|4] [2|5] [2|6] \n",
      "[3|3] [3|4] [3|5] [3|6] \n",
      "[4|4] [4|5] [4|6] \n",
      "[5|5] [5|6] \n",
      "[6|6] \n"
     ]
    }
   ],
   "source": [
    "# Domino\n",
    "for left in range(7): # numbers in the left\n",
    "    for right in range(left, 7): # numbers in the right\n",
    "        print(f\"[{left}|{right}]\", end=\" \") # print the domino, end=\" \" to print the next domino at the same line\n",
    "    print() # print domino with the new left value"
   ]
  },
  {
   "cell_type": "markdown",
   "metadata": {},
   "source": [
    "## 3. List Comprehension\n",
    "It is important to know that loops can be avoided sometimes; as you progress, you will develop a sense of when and how to do so. The concepts for loops are similar between other languages, but in Python, list comprehensions provide a concise way to create lists based on existing lists or sequences. \n",
    "\n",
    "Here is a concrete example for better understanding. Let's say you have a sequence of numbers and you want to create a new list containing only the even numbers from the sequence."
   ]
  },
  {
   "cell_type": "code",
   "execution_count": 35,
   "metadata": {},
   "outputs": [
    {
     "name": "stdout",
     "output_type": "stream",
     "text": [
      "[0, 2, 4, 6, 8]\n"
     ]
    }
   ],
   "source": [
    "sequence = range(10) # sequence of numbers\n",
    "new_list = [] # a new list to contain the numbers\n",
    "\n",
    "# for loop\n",
    "for x in sequence: # for each number in sequence\n",
    "    if x % 2 == 0: # if the number is even\n",
    "        new_list.append(x) # append it to the new_list\n",
    "        \n",
    "print(new_list)"
   ]
  },
  {
   "cell_type": "markdown",
   "metadata": {},
   "source": [
    "Using list comprehension\n",
    "\n",
    "__Syntax : new_list = [do_something(thing) for thing in list_of_things]__\n",
    "\n",
    "\n",
    "or\n",
    "\n",
    "__Syntax: newList = [expression(element) for element in oldList if condition]__\n",
    "Parameter:\n",
    "\n",
    "- expression: Represents the operation you want to execute on every item within the iterable.\n",
    "- element: The term “variable” refers to each value taken from the iterable.\n",
    "- iterable: specify the sequence of elements you want to iterate through.(e.g., a list, tuple, or string).\n",
    "- condition: (Optional) A filter helps decide whether or not an element should be added to the new list.\n",
    "\n",
    "With a list comprehension, you could achieve the same result in a more concise way:"
   ]
  },
  {
   "cell_type": "code",
   "execution_count": 5,
   "metadata": {},
   "outputs": [
    {
     "name": "stdout",
     "output_type": "stream",
     "text": [
      "[0, 2, 4, 6, 8]\n"
     ]
    }
   ],
   "source": [
    "new_list= [x for x in range(10) if x % 2 == 0] # list comprehension\n",
    "print(new_list)"
   ]
  },
  {
   "cell_type": "code",
   "execution_count": null,
   "metadata": {},
   "outputs": [],
   "source": [
    "def odd_numbers(n):\n",
    "\treturn [x for x in range(0,n+1) if x%2 == 1] # for each(x) in range of 0 to n+! return x, if x%2 is equals to 1\n",
    "\n",
    "print(odd_numbers(5))  # Should print [1, 3, 5]\n",
    "print(odd_numbers(10)) # Should print [1, 3, 5, 7, 9]"
   ]
  },
  {
   "cell_type": "code",
   "execution_count": 2,
   "metadata": {},
   "outputs": [
    {
     "name": "stdout",
     "output_type": "stream",
     "text": [
      "[7, 14, 21, 28, 35, 42, 49, 56, 63, 70]\n"
     ]
    }
   ],
   "source": [
    "# create a list\n",
    "multiples = [x*7 for x in range(1,11)] # for each number(x) in range of 1-11, multiply x by 7(x*7)\n",
    "print(multiples)"
   ]
  },
  {
   "cell_type": "code",
   "execution_count": 1,
   "metadata": {},
   "outputs": [
    {
     "name": "stdout",
     "output_type": "stream",
     "text": [
      "[0, 3, 6, 9, 12, 15, 18, 21, 24, 27, 30, 33, 36, 39, 42, 45, 48, 51, 54, 57, 60, 63, 66, 69, 72, 75, 78, 81, 84, 87, 90, 93, 96, 99]\n"
     ]
    }
   ],
   "source": [
    "z = [x for x in range(0,101) if x % 3 == 0] # for each(x) in range of 1-100, if x % 3 equals 0,\n",
    "print(z) # print z"
   ]
  }
 ],
 "metadata": {
  "kernelspec": {
   "display_name": "Python 3",
   "language": "python",
   "name": "python3"
  },
  "language_info": {
   "codemirror_mode": {
    "name": "ipython",
    "version": 3
   },
   "file_extension": ".py",
   "mimetype": "text/x-python",
   "name": "python",
   "nbconvert_exporter": "python",
   "pygments_lexer": "ipython3",
   "version": "3.12.0"
  }
 },
 "nbformat": 4,
 "nbformat_minor": 2
}
