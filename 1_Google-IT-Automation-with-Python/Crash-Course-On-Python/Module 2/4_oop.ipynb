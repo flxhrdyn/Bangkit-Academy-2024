{
 "cells": [
  {
   "cell_type": "markdown",
   "metadata": {},
   "source": [
    "# Object Oriented Programming\n",
    "Object-oriented Programming (OOPs) is a programming paradigm that uses objects and classes in programming. It aims to implement real-world entities like inheritance, polymorphisms, encapsulation, etc. in the programming. The main concept of OOPs is to bind the data and the functions that work on that together as a single unit so that no other part of the code can access this data."
   ]
  },
  {
   "cell_type": "markdown",
   "metadata": {},
   "source": [
    "## 1. Class Methods\n",
    "In Python, methods are behaviors associated with object parameters that modify the state of that object. They are essentially functions that belong to a specific instance of a class. This means that calling a method on a list, for example, only modifies that instance of the list, and not all lists globally. \n",
    "\n",
    "Each time you create an instance of a class, Python calls a special class method the constructor. The constructor’s job is to set up the object, meaning that instance of the class, so it’s ready to be used. Usually this means initializing some variables and doing other simple housekeeping.\n",
    "\n",
    "When writing a Python class, you define a method called __init__ to be your constructor. The special name tells Python to use that method as the constructor. Just like any other method, the constructor can take arguments. When making an argument to the class, the first constructor must always be self."
   ]
  },
  {
   "cell_type": "markdown",
   "metadata": {},
   "source": [
    "## 2. Defining a class method\n",
    "Classes define the behavior of all instances of a specific class. In Python, the code defining a class is, itself, an object; classes can be used without instantiating a single object, such as when using static methods\n",
    "\n",
    "Remember, each variable of a specific class is an instance or object."
   ]
  },
  {
   "cell_type": "code",
   "execution_count": null,
   "metadata": {},
   "outputs": [],
   "source": [
    "# class ClassName:\n",
    "#     def method_name(self, other_parameters):\n",
    "#         body_of_method"
   ]
  },
  {
   "cell_type": "code",
   "execution_count": 1,
   "metadata": {},
   "outputs": [
    {
     "name": "stdout",
     "output_type": "stream",
     "text": [
      "sweet\n",
      "tart\n"
     ]
    }
   ],
   "source": [
    "class Apple:\n",
    "    # method __init__() which is called a constructor and is used to initialize the object’s attributes.\n",
    "    # __init__() constructor method takes the self variable, which represents the instance, as well as color and flavor parameters.\n",
    "    def __init__(self, color, flavor): \n",
    "        self.color = color\n",
    "        self.flavor = flavor\n",
    "\n",
    "# objects\n",
    "honeycrisp = Apple(\"red\", \"sweet\")\n",
    "fuji = Apple(\"red\", \"tart\")\n",
    "print(honeycrisp.flavor)\n",
    "print(fuji.flavor)\n",
    "\n",
    "# prints \"sweet\" and \"tart\""
   ]
  },
  {
   "cell_type": "markdown",
   "metadata": {},
   "source": [
    "## 3. Documenting class, methods, and functions\n"
   ]
  },
  {
   "cell_type": "code",
   "execution_count": null,
   "metadata": {},
   "outputs": [],
   "source": [
    "# class ClassName:\n",
    "#     \"\"\"Documentation for the class.\"\"\"\n",
    "#     def method_name(self, other_parameters):\n",
    "#         \"\"\"Documentation for the method.\"\"\"\n",
    "#         body_of_method\n",
    "        \n",
    "# def function_name(parameters):\n",
    "#     \"\"\"Documentation for the function.\"\"\"\n",
    "#     body_of_function"
   ]
  },
  {
   "cell_type": "markdown",
   "metadata": {},
   "source": [
    "## 4. Examples"
   ]
  },
  {
   "cell_type": "code",
   "execution_count": 2,
   "metadata": {},
   "outputs": [
    {
     "name": "stdout",
     "output_type": "stream",
     "text": [
      "an apple which is red and sweet\n"
     ]
    }
   ],
   "source": [
    "class Apple:\n",
    "    def __init__(self, color, flavor):\n",
    "        self.color = color\n",
    "        self.flavor = flavor\n",
    "\n",
    "    # __str__() method allows us to define how an instance of an object will be printed when it’s passed to the print() function. \n",
    "    def __str__(self):\n",
    "        return \"an apple which is {} and {}\".format(self.color, self.flavor)\n",
    "\n",
    "# object\n",
    "honeycrisp = Apple(\"red\", \"sweet\")\n",
    "print(honeycrisp)\n",
    "\n",
    "# prints \"an apple which is red and sweet\""
   ]
  },
  {
   "cell_type": "code",
   "execution_count": 3,
   "metadata": {},
   "outputs": [
    {
     "name": "stdout",
     "output_type": "stream",
     "text": [
      "The area of triangle 1 is 25.0\n",
      "The area of triangle 2 is 24.0\n",
      "The area of both triangles is 49.0\n"
     ]
    }
   ],
   "source": [
    "# In this example, the Triangle class has a method __init__()\n",
    "# which is called a constructor and is used to initialize the object’s attributes.\n",
    "class Triangle:\n",
    "    def __init__(self, base, height):\n",
    "        self.base = base\n",
    "        self.height = height\n",
    "    \n",
    "    # This part of the code, area(self) method, computes the area of the triangle based on its height and base length.\n",
    "    def area(self):\n",
    "        return 0.5 * self.base * self.height\n",
    "    \n",
    "    # This method overrides the + operator to \"add\" two triangles together.\n",
    "    def __add__(self, other):\n",
    "        return self.area() + other.area()\n",
    "    \n",
    "triangle1 = Triangle(10, 5)\n",
    "triangle2 = Triangle(6, 8)\n",
    "print(\"The area of triangle 1 is\", triangle1.area())\n",
    "print(\"The area of triangle 2 is\", triangle2.area())\n",
    "print(\"The area of both triangles is\", triangle1 + triangle2)"
   ]
  },
  {
   "cell_type": "code",
   "execution_count": 1,
   "metadata": {},
   "outputs": [
    {
     "name": "stdout",
     "output_type": "stream",
     "text": [
      "Toyota's top speed is 100 km/h in normal mode\n",
      "And 120 km/h in race mode\n"
     ]
    }
   ],
   "source": [
    "# Define a class named Car\n",
    "class Car:\n",
    "    # Constructor method to initialize the object with brand and top_speed attributes\n",
    "    def __init__(self, brand, top_speed):\n",
    "        self.brand = brand  # Initialize brand attribute\n",
    "        self.top_speed = top_speed  # Initialize top_speed attribute\n",
    "    \n",
    "    # Method to calculate top speed in race mode, returning a rounded value\n",
    "    def race_mode(self):\n",
    "        return round(self.top_speed * 1.2)\n",
    "    \n",
    "    # Method to return a string representation of the object\n",
    "    def __str__(self):\n",
    "        return f\"{self.brand}'s top speed is {self.top_speed} km/h in normal mode\"\n",
    "\n",
    "# Create an instance of the Car class with brand \"Toyota\" and top speed 100 km/h\n",
    "car1 = Car(\"Toyota\", 100)\n",
    "\n",
    "# Print the string representation of the car object in normal mode\n",
    "print(car1)\n",
    "\n",
    "# Print the top speed of the car in race mode by calling the race_mode() method\n",
    "print(f\"And {car1.race_mode()} km/h in race mode\")\n"
   ]
  }
 ],
 "metadata": {
  "kernelspec": {
   "display_name": "Python 3",
   "language": "python",
   "name": "python3"
  },
  "language_info": {
   "codemirror_mode": {
    "name": "ipython",
    "version": 3
   },
   "file_extension": ".py",
   "mimetype": "text/x-python",
   "name": "python",
   "nbconvert_exporter": "python",
   "pygments_lexer": "ipython3",
   "version": "3.12.0"
  }
 },
 "nbformat": 4,
 "nbformat_minor": 2
}
