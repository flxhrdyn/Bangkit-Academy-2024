{
 "cells": [
  {
   "cell_type": "markdown",
   "metadata": {},
   "source": [
    "# 1. Examples"
   ]
  },
  {
   "cell_type": "code",
   "execution_count": 1,
   "metadata": {},
   "outputs": [
    {
     "name": "stdout",
     "output_type": "stream",
     "text": [
      "Provide IT Support to employees\n"
     ]
    }
   ],
   "source": [
    "# A function is created with the def() keyword. The parameter\n",
    "# variable \"time_as_string\" is passed to the function through a \n",
    "# call to the function.\n",
    "def task_reminder(time_as_string):\n",
    "\n",
    "    # The following if-elif-else block assigns various strings to\n",
    "    # the variable \"task\" depending on specific conditions. The\n",
    "    # test conditions are set using the == equality comparison \n",
    "    # operator. In this case, the time passed through the \n",
    "    # \"time_as_string\" parameter variable is tested as the \n",
    "    # specific condition. So, if the time  is \"11:30 a.m.\", then \n",
    "    # \"task\" is assigned the value: \"Run TPS report\".\n",
    "    if time_as_string == \"8:00 a.m.\":\n",
    "        task = \"Check overnight backup images\"\n",
    "    elif time_as_string == \"11:30 a.m.\":\n",
    "        task = \"Run TPS report\"\n",
    "    elif time_as_string == \"5:30 p.m.\":\n",
    "        task = \"Reboot servers\"\n",
    "    # The else statement is a catchall for all other values of \n",
    "    # the \"time_as_string\" parameter variable not listed in the\n",
    "    # if-elif block of code.\n",
    "    else:\n",
    "        task = \"Provide IT Support to employees\"\n",
    "\n",
    "    # This line returns the value of \"task\" to the function call.\n",
    "    return task\n",
    "\n",
    "# This line calls the function and passes a parameter  \n",
    "# (\"10:00 a.m.\") to the function.\n",
    "print(task_reminder(\"10:00 a.m.\"))\n",
    "# Should print \"Provide IT Support to employees\"\n"
   ]
  },
  {
   "cell_type": "code",
   "execution_count": 8,
   "metadata": {},
   "outputs": [
    {
     "name": "stdout",
     "output_type": "stream",
     "text": [
      "120\n"
     ]
    }
   ],
   "source": [
    "# Example 1\n",
    "# Evaluate the output of this print statement\n",
    "\n",
    "def product(a, b):\n",
    "        return(a*b)\n",
    "\n",
    "print(product(product(2,4), product(3,5)))"
   ]
  },
  {
   "cell_type": "code",
   "execution_count": 7,
   "metadata": {},
   "outputs": [
    {
     "name": "stdout",
     "output_type": "stream",
     "text": [
      "-2\n"
     ]
    }
   ],
   "source": [
    "# Example 2 \n",
    "# Evaluate the output of this print statement\n",
    "\n",
    "def difference(a, b):\n",
    "        return(a-b)\n",
    "\n",
    "def sum(a, b):\n",
    "        return(a+b)\n",
    "\n",
    "print(difference(sum(2,2), sum(3,3)))"
   ]
  },
  {
   "cell_type": "code",
   "execution_count": 6,
   "metadata": {},
   "outputs": [
    {
     "name": "stdout",
     "output_type": "stream",
     "text": [
      "False\n"
     ]
    }
   ],
   "source": [
    "# Example 3\n",
    "# Evaluate the Boolean output of this comparison\n",
    "\n",
    "print((5 >= 2*4) and (5 <= 4*3))"
   ]
  },
  {
   "cell_type": "code",
   "execution_count": 5,
   "metadata": {},
   "outputs": [
    {
     "name": "stdout",
     "output_type": "stream",
     "text": [
      "This comparison is True\n"
     ]
    }
   ],
   "source": [
    "# Example 4 \n",
    "# Evaluate the value of the comparison in the if statement \n",
    "\n",
    "x = 3\n",
    "if x+5 > x**2 or x % 4 != 0:\n",
    "        print(\"This comparison is True\")"
   ]
  },
  {
   "cell_type": "code",
   "execution_count": 4,
   "metadata": {},
   "outputs": [
    {
     "name": "stdout",
     "output_type": "stream",
     "text": [
      "0\n"
     ]
    }
   ],
   "source": [
    "# Example 5 \n",
    "# Evaluate the output of this if-elif-else statement\n",
    "\n",
    "number = 6\n",
    "if number * 2 < 14:\n",
    "        print(number * 6 % 3)\n",
    "elif number > 7:\n",
    "        print(100 / number)\n",
    "else:\n",
    "        print(7 - number)"
   ]
  },
  {
   "cell_type": "code",
   "execution_count": 3,
   "metadata": {},
   "outputs": [
    {
     "name": "stdout",
     "output_type": "stream",
     "text": [
      "0.3333333333333333\n"
     ]
    }
   ],
   "source": [
    "def get_remainder(x, y):\n",
    " \n",
    "  if x == 0 or y == 0 or x == y:\n",
    "    remainder = 0\n",
    "  else:\n",
    "    remainder = (x % y) / y\n",
    "  return remainder\n",
    "\n",
    "\n",
    "print(get_remainder(10, 3))\n"
   ]
  },
  {
   "cell_type": "code",
   "execution_count": 10,
   "metadata": {},
   "outputs": [
    {
     "name": "stdout",
     "output_type": "stream",
     "text": [
      "10\n"
     ]
    }
   ],
   "source": [
    "def sum(x, y):\n",
    "    return(x+y)\n",
    "print(sum(sum(1, 2), sum(3, 4)))"
   ]
  },
  {
   "cell_type": "code",
   "execution_count": 11,
   "metadata": {},
   "outputs": [
    {
     "name": "stdout",
     "output_type": "stream",
     "text": [
      "False\n"
     ]
    }
   ],
   "source": [
    "x = 5*2\n",
    "print((10!=x)or(10>x))"
   ]
  }
 ],
 "metadata": {
  "kernelspec": {
   "display_name": "Python 3",
   "language": "python",
   "name": "python3"
  },
  "language_info": {
   "codemirror_mode": {
    "name": "ipython",
    "version": 3
   },
   "file_extension": ".py",
   "mimetype": "text/x-python",
   "name": "python",
   "nbconvert_exporter": "python",
   "pygments_lexer": "ipython3",
   "version": "3.12.0"
  }
 },
 "nbformat": 4,
 "nbformat_minor": 2
}
