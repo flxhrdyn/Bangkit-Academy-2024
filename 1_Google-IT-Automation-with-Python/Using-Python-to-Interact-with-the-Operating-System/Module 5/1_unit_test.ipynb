{
 "cells": [
  {
   "cell_type": "markdown",
   "metadata": {},
   "source": [
    "# unittest\n",
    "A unittest provides developers with a set of tools to construct and run tests. These tests can be run on individual components or by isolating units of code to ensure their correctness. By running unittests, developers can identify and fix any bugs that appear, creating a more reliable code. In this reading, you will learn about unittest concepts, how to use and when to use them, and view an example along the way."
   ]
  },
  {
   "cell_type": "markdown",
   "metadata": {},
   "source": [
    "## Concepts\n",
    "Unittest relies on the following concepts:\n",
    "\n",
    "- Test fixture: This refers to preparing to perform one or more tests. In addition, test fixtures also include any actions involved in testing cleanup. This could involve creating temporary or proxy databases, directories, or starting a server process.\n",
    "\n",
    "- Test case: This is the individual unit of testing that looks for a specific response to a set of inputs. If needed, TestCase is a base class provided by unittest and can be used to create new test cases.\n",
    "\n",
    "- Test suite: This is a collection of test cases, test suites, or a combination of both. It is used to compile tests that should be executed together.\n",
    "\n",
    "- Test runner: This runs the test and provides developers with the outcome’s data. The test runner can use different interfaces, like graphical or textual, to provide the developer with the test results. It can also provide a special value to developers to communicate the test results. "
   ]
  },
  {
   "cell_type": "markdown",
   "metadata": {},
   "source": [
    "## 1. Test cases\n",
    "The building blocks of unit tests within the unittest module are test cases, which enable developers to run multiple tests at once. To write test cases, developers need to write subclasses of TestCase or use FunctionTestCase. \n",
    "\n",
    "To perform a specific test, the TestCase subclass needs to implement a test method that starts with the name test. This identifier is what informs the test runner about which methods represent tests.\n",
    "\n",
    "Examine the following example for test cases:"
   ]
  },
  {
   "cell_type": "code",
   "execution_count": null,
   "metadata": {},
   "outputs": [],
   "source": [
    "import unittest\n",
    "\n",
    "\n",
    "class TestStringMethods(unittest.TestCase):\n",
    "\n",
    "\n",
    "    def test_upper(self):\n",
    "        self.assertEqual('foo'.upper(), 'FOO')\n",
    "\n",
    "\n",
    "    def test_isupper(self):\n",
    "        self.assertTrue('FOO'.isupper())\n",
    "        self.assertFalse('Foo'.isupper())\n",
    "\n",
    "\n",
    "    def test_split(self):\n",
    "        s = 'hello world'\n",
    "        self.assertEqual(s.split(), ['hello', 'world'])\n",
    "        # check that s.split fails when the separator is not a string\n",
    "        with self.assertRaises(TypeError): \n",
    "            s.split(2)\n",
    "\n",
    "\n",
    "if __name__ == '__main__':\n",
    "    unittest.main()"
   ]
  },
  {
   "cell_type": "markdown",
   "metadata": {},
   "source": [
    "Notice how the following example contains three individual tests: test_upper(), test_isupper(), and test_split(), which are responsible for testing different string methods. This example code also includes four assertions (covered below) and a call to the command-line interface, which you’ll learn more about later in this reading.   "
   ]
  },
  {
   "cell_type": "markdown",
   "metadata": {},
   "source": [
    "## 2. Assertions\n",
    "The TestCase class also employs its own assert methods that work similarly to the assert statement: if a test fails, an exception is raised with an explanatory message, and unittest identifies the test case as a failure. In the above example, there are several assertions used: \n",
    "\n",
    "- An assertEqual() to check for an expected result\n",
    "\n",
    "- An assertTrue() and an assertFalse() to verify a condition\n",
    "\n",
    "- An assertRaises() to verify that a specific exception gets raised\n",
    "\n",
    "Each of these assert methods is used in place of the standard assert statement so the test runner can gather all the test results and generate a report.\n",
    "\n",
    "Below is a list of commonly used assert methods in the TestCase class. For more information on each method, select the embedded link in the list provided.    \n",
    "\n",
    "- The assertEqual(a, b) method checks that a == b\n",
    "\n",
    "- The assertNotEqual(a, b)method checks that a != b\n",
    "\n",
    "- The assertTrue(x) method checks that bool(x) is True\n",
    "\n",
    "- The assertFalse(x)method checks that bool(x) is False\n",
    "\n",
    "- The assertIs(a, b) method checks that a is b\n",
    "\n",
    "- The assertIsNot(a, b) method checks that a is not b\n",
    "\n",
    "- The assertIsNone(x) method checks that x is None\n",
    "\n",
    "- The assertIsNotNone(x) ethod checks that x is not None\n",
    "\n",
    "- The assertIn(a, b) method checks that a in b\n",
    "\n",
    "- The assertNotIn(a, b) method checks that a not in b\n",
    "\n",
    "- The assertIsInstance(a, b) method checks that isinstance(a, b)\n",
    "\n",
    "- The assertNotIsInstance(a, b) method checks that not isinstance(a, b)\n",
    "\n",
    "You can also use assert methods to generate exceptions, warnings, and log messages. For example, another important assert method in unit testing is assertRaises. It allows you to test whether exceptions are raised when they should be, ensuring that your program can handle errors. assertRaises also allows developers to check which specific exception type is raised, ensuring that the correct error handling is in place."
   ]
  },
  {
   "cell_type": "markdown",
   "metadata": {},
   "source": [
    "## 3. Command-line interface\n",
    "The command-line interface allows you to interact with an application or program through your operating system command line, terminal, or console by beginning your code with a text command. When you want to run tests in Python, you can use the unittest module from the command line to run tests from modules, classes, or even individual test methods. This also allows you to run multiple files at one time. \n",
    "\n",
    "To call an entire module:\n",
    "\n",
    "- python -m unittest test_module1 test_module2 \n",
    "\n",
    "To call a test class:\n",
    "\n",
    "- python -m unittest test_module.TestClass\n",
    "\n",
    "To call a test method:\n",
    "\n",
    "- python -m unittest test_module.TestClass.test_method\n",
    "\n",
    "Test modules can also be called using a file path, as written below:\n",
    "\n",
    "- python -m unittest tests/test_something.py\n",
    "\n",
    "In each instance, the structure of the command remained the same, with the test class and test method being added to the original module that was called. \n",
    "\n",
    "You can also use the command line for test discovery, for running all of the tests in a single project, or even for just a subset of tests. "
   ]
  },
  {
   "cell_type": "markdown",
   "metadata": {},
   "source": [
    "## 4. Unit test design patterns\n",
    "One pattern that you can use for unit tests is made up of three phases: arrange, act, and assert. Arrange represents the preparation of the environment for testing; act represents the action, or the objective of the test, performed; and assert represents whether the results checked are expected or not. \n",
    "\n",
    "Imagine building a system for a library. The objective is to test whether a new book can be added to the library's collection and then to check if the book is in the collection. Using the above structure of arrange, act, and assert, consider the following example code:\n",
    "\n",
    "- What’s given (arrange): A library with a collection of books\n",
    "\n",
    "- When to test (act): A new book is added to the collection\n",
    "\n",
    "- Then check (assert): The new book should be present in the library's collection"
   ]
  },
  {
   "cell_type": "code",
   "execution_count": null,
   "metadata": {},
   "outputs": [],
   "source": [
    "class Library:\n",
    "\tdef __init__(self):\n",
    "\t\tself.collection = []\n",
    "\n",
    "\tdef add_book(self, book_title):\n",
    "\t\tself.collection.append(book_title)\n",
    "\n",
    "\tdef has_book(self, book_title):\n",
    "\t\treturn book_title in self.collection\n",
    "\n",
    "# Unit test for the Library system\n",
    "class TestLibrary(unittest.TestCase):\n",
    "\n",
    "\tdef test_adding_book_to_library(self):\n",
    "    \t# Arrange\n",
    "\t\tlibrary = Library()\n",
    "\t\tnew_book = \"Python Design Patterns\"\n",
    "\n",
    "    \t# Act\n",
    "\t\tlibrary.add_book(new_book)\n",
    "\n",
    "    \t# Assert\n",
    "\t\tself.assertTrue(library.has_book(new_book))\n",
    "\n",
    "# Running the test\n",
    "library_test_output = unittest.TextTestRunner().run(unittest.TestLoader().loadTestsFromTestCase(TestLibrary))\n",
    "print(library_test_output)"
   ]
  },
  {
   "cell_type": "markdown",
   "metadata": {},
   "source": [
    "## 5. Test suites\n",
    "Testing can be time-intensive, but there are ways that you can optimize the testing process. The following methods and modules allow you to define instructions that execute before and after each test method:\n",
    "\n",
    "- setUp() can be called automatically with every test that’s run to set up code. \n",
    "\n",
    "- tearDown() helps clean up after the test has been run. \n",
    "\n",
    "If setUp()raises an exception during the test, the unittest framework considers this to be an error and the test method is not executed. If setUp() is successful, tearDown() runs even if the test method fails. You can add these methods to your unit tests, which you can then include in a test suite. Test suites are collections of tests that should be executed together—so all of the topics covered in this reading can be included within a test suite. \n",
    "\n",
    "Consider the following code example to see how each of these unit testing components is used together and run within a test suite:"
   ]
  },
  {
   "cell_type": "markdown",
   "metadata": {},
   "source": [
    "Tests can be grouped together according to the features they test. In unittest, this functionality is known as a test suite, and it allows developers to organize how and in which order their tests are run. \n",
    "\n",
    "In each respective phase, an instance of the library class was created. The title of the book was defined as “Python Design Patterns,” a new book was added to the library using the add_book method, and a check was run to see if the new book was successfully added to the library’s collection using the has_book method.  "
   ]
  },
  {
   "cell_type": "code",
   "execution_count": null,
   "metadata": {},
   "outputs": [],
   "source": [
    "import unittest\n",
    "import os\n",
    "import shutil\n",
    "\n",
    "# Function to test\n",
    "def simple_addition(a, b):\n",
    "\treturn a + b\n",
    "\n",
    "# Paths for file operations\n",
    "ORIGINAL_FILE_PATH = \"/tmp/original_test_file.txt\"\n",
    "COPIED_FILE_PATH = \"/mnt/data/copied_test_file.txt\"\n",
    "\n",
    "# Global counter\n",
    "COUNTER = 0\n",
    "\n",
    "# This method will be run once before any tests or test classes\n",
    "def setUpModule():\n",
    "\tglobal COUNTER\n",
    "\tCOUNTER = 0\n",
    "    \n",
    "\t# Create a file in /tmp\n",
    "\twith open(ORIGINAL_FILE_PATH, 'w') as file:\n",
    "\t\tfile.write(\"Test Results:\\n\")\n",
    "\n",
    "# This method will be run once after all tests and test classes\n",
    "def tearDownModule():\n",
    "\t# Copy the file to another directory\n",
    "\tshutil.copy2(ORIGINAL_FILE_PATH, COPIED_FILE_PATH)\n",
    "    \n",
    "\t# Remove the original file\n",
    "\tos.remove(ORIGINAL_FILE_PATH)\n",
    "\n",
    "class TestSimpleAddition(unittest.TestCase):\n",
    "\n",
    "\t# This method will be run before each individual test\n",
    "\tdef setUp(self):\n",
    "\t\tglobal COUNTER\n",
    "\t\tCOUNTER += 1\n",
    "\n",
    "\t# This method will be run after each individual test\n",
    "\tdef tearDown(self):\n",
    "    \t# Append the test result to the file\n",
    "\t\t\twith open(ORIGINAL_FILE_PATH, 'a') as file:\n",
    "\t\t\t\tresult = \"PASSED\" if self._outcome.success else \"FAILED\"\n",
    "\t\t\t\tfile.write(f\"Test {COUNTER}: {result}\\n\")\n",
    "\n",
    "\tdef test_add_positive_numbers(self):\n",
    "\t\tself.assertEqual(simple_addition(3, 4), 7)\n",
    "\n",
    "\tdef test_add_negative_numbers(self):\n",
    "\t\tself.assertEqual(simple_addition(-3, -4), -7)\n",
    "\n",
    "# Running the tests\n",
    "suite = unittest.TestLoader().loadTestsFromTestCase(TestSimpleAddition)\n",
    "runner = unittest.TextTestRunner()\n",
    "runner.run(suite)\n",
    "\n",
    "# Read the copied file to show the results\n",
    "with open(COPIED_FILE_PATH, 'r') as result_file:\n",
    "\ttest_results = result_file.read()\n",
    "\n",
    "print(test_results)"
   ]
  },
  {
   "cell_type": "markdown",
   "metadata": {},
   "source": [
    " In the example, a global counter is initialized in setUpModule. The counter is incremented in the setUp method before each test starts. After each test is completed, the tearDown method checks the test result and appends it to the temporary file. During module teardown in tearDownModule, the temporary file is copied to another directory and the original file is deleted.  "
   ]
  },
  {
   "cell_type": "markdown",
   "metadata": {},
   "source": [
    "## 6. Use case\n",
    "Let’s look at a test case example where the Python code simulates a cake factory and performs different functions. These include choosing different sizes and flavors of a cake, including small, medium, and large, and chocolate or vanilla. In addition, the simple class allows developers to add sprinkles or cherries to the cake, return a list of ingredients, and return the price of the cake based on size and toppings."
   ]
  },
  {
   "cell_type": "code",
   "execution_count": 1,
   "metadata": {},
   "outputs": [
    {
     "data": {
      "text/plain": [
       "(['flour', 'sugar', 'eggs', 'cocoa', 'sprinkles', 'cherries'], 14)"
      ]
     },
     "execution_count": 1,
     "metadata": {},
     "output_type": "execute_result"
    }
   ],
   "source": [
    "from typing import List # import list\n",
    "\n",
    "# cake factory class \n",
    "class CakeFactory:\n",
    "    def __init__(self, cake_type: str, size: str): \n",
    "        self.cake_type = cake_type \n",
    "        self.size = size\n",
    "        self.toppings = []\n",
    "\n",
    "        # Price based on cake type and size\n",
    "        self.price = 10 if self.cake_type == \"chocolate\" else 8\n",
    "        self.price += 2 if self.size == \"medium\" else 4 if self.size == \"large\" else 0\n",
    "\n",
    "    # add topping function\n",
    "    def add_topping(self, topping: str):\n",
    "        self.toppings.append(topping)\n",
    "        # Adding 1 to the price for each topping\n",
    "        self.price += 1\n",
    "\n",
    "    # check ingredients function\n",
    "    def check_ingredients(self) -> List[str]:\n",
    "        ingredients = ['flour', 'sugar', 'eggs']\n",
    "        ingredients.append('cocoa') if self.cake_type == \"chocolate\" else ingredients.append('vanilla extract')\n",
    "        ingredients += self.toppings\n",
    "        return ingredients\n",
    "\n",
    "    # check price function\n",
    "    def check_price(self) -> float:\n",
    "        return self.price\n",
    "\n",
    "\n",
    "# Example of creating a cake and adding toppings\n",
    "cake = CakeFactory(\"chocolate\", \"medium\")\n",
    "cake.add_topping(\"sprinkles\")\n",
    "cake.add_topping(\"cherries\")\n",
    "cake_ingredients = cake.check_ingredients()\n",
    "cake_price = cake.check_price()\n",
    "\n",
    "\n",
    "cake_ingredients, cake_price\n",
    "\n",
    "# OUTPUT:\n",
    "# (['flour', 'sugar', 'eggs', 'cocoa', 'sprinkles', 'cherries'], 14)"
   ]
  },
  {
   "cell_type": "markdown",
   "metadata": {},
   "source": [
    "In the code above, the cake factor class and methods are defined. Now it’s time to define the unittest methods to test the different functions of the code. The test suite includes tests for the cake’s flavor, size, toppings, ingredients, and price. The first test case in the suite will intentionally provide the wrong value—and that’s what we want! Create specific statements to make sure the program is behaving as it should. That includes providing incorrect data to determine if the program will provide failed results. Because unittest is class-based,  encapsulate these statements into test methods."
   ]
  },
  {
   "cell_type": "code",
   "execution_count": null,
   "metadata": {},
   "outputs": [],
   "source": [
    "import unittest\n",
    "\n",
    "\n",
    "class TestCakeFactory(unittest.TestCase):\n",
    "    def test_create_cake(self):\n",
    "        cake = CakeFactory(\"vanilla\", \"small\")      \n",
    "        self.assertEqual(cake.cake_type, \"vanilla\")\n",
    "        self.assertEqual(cake.size, \"small\")\n",
    "        self.assertEqual(cake.price, 8) # Vanilla cake, small size\n",
    "\n",
    "\n",
    "    def test_add_topping(self):\n",
    "        cake = CakeFactory(\"chocolate\", \"large\")\n",
    "        cake.add_topping(\"sprinkles\")\n",
    "        self.assertIn(\"sprinkles\", cake.toppings)\n",
    "\n",
    "\n",
    "    def test_check_ingredients(self):\n",
    "        cake = CakeFactory(\"chocolate\", \"medium\")\n",
    "        cake.add_topping(\"cherries\")\n",
    "        ingredients = cake.check_ingredients()\n",
    "        self.assertIn(\"cocoa\", ingredients)\n",
    "        self.assertIn(\"cherries\", ingredients)\n",
    "        self.assertNotIn(\"vanilla extract\", ingredients)\n",
    "\n",
    "\n",
    "    def test_check_price(self):\n",
    "        cake = CakeFactory(\"vanilla\", \"large\")\n",
    "        cake.add_topping(\"sprinkles\")\n",
    "        cake.add_topping(\"cherries\")\n",
    "        price = cake.check_price()\n",
    "        self.assertEqual(price, 13) # Vanilla cake, large size + 2 toppings\n",
    "\n",
    "\n",
    "# Running the unittests\n",
    "unittest.TextTestRunner().run(unittest.TestLoader().loadTestsFromTestCase(TestCakeFactory))\n",
    "\n",
    "\n",
    "# OUTPUT:\n",
    "# Ran 4 tests in 0.009s\n",
    "# FAILED (failures=1)\n",
    "# RESULT\n",
    "# <unittest.runner.TextTestResult run=4 errors=0 failures=1>"
   ]
  },
  {
   "cell_type": "markdown",
   "metadata": {},
   "source": [
    "The program calls the TextTestRunner() method, which returns a runner (TextTestResult). It says one failure occurred: the statement self.assertEqual(price, 13) was incorrect, as it should have been 14. How can we correct that part of the test? Update that part of the code to the following"
   ]
  },
  {
   "cell_type": "code",
   "execution_count": null,
   "metadata": {},
   "outputs": [],
   "source": [
    "# Fixing the test_check_price method\n",
    "class TestCakeFactory(unittest.TestCase):\n",
    "\t# ... Other tests remain the same\n",
    "\n",
    "\n",
    "\tdef test_check_price(self):\n",
    "\t\tcake = CakeFactory(\"vanilla\", \"large\")\n",
    "\t\tcake.add_topping(\"sprinkles\")\n",
    "\t\tcake.add_topping(\"cherries\")\n",
    "\t\tprice = cake.check_price()\n",
    "\t\tself.assertEqual(price, 14) # Vanilla cake, large size + 2 toppings\n",
    "\n",
    "\n",
    "# Re-running the unittests\n",
    "unittest.TextTestRunner().run(unittest.TestLoader().loadTestsFromTestCase(TestCakeFactory))\n",
    "\n",
    "# Ran 1 test in 0.004s\n",
    "# OK\n",
    "# RESULT\n",
    "# <unittest.runner.TextTestResult run=1 errors=0 failures=0>"
   ]
  },
  {
   "cell_type": "code",
   "execution_count": null,
   "metadata": {},
   "outputs": [],
   "source": [
    "#!/usr/bin/env python3\n",
    "import re\n",
    "def rearrange_name(name):\n",
    "    result = re.search(r\"^([\\w .]*), ([\\w .]*)$\", name)\n",
    "    return \"{} {}\".format(result[2], result[1])\n",
    "\n",
    "from rearrange import rearrange_name\n",
    "\n",
    "rearrange_name(\"Lovelace, Ada\")  "
   ]
  },
  {
   "cell_type": "markdown",
   "metadata": {},
   "source": [
    "## 7. Writing unit tests\n"
   ]
  },
  {
   "cell_type": "code",
   "execution_count": null,
   "metadata": {},
   "outputs": [],
   "source": [
    "#!/usr/bin/env python3\n",
    "\n",
    "import re\n",
    "\n",
    "def rearrange_name(name):\n",
    "  result = re.search(r\"^([\\w .]*), ([\\w .]*)$\", name)\n",
    "  return \"{} {}\".format(result[2], result[1])\n",
    "\n",
    "#!/usr/bin/env python3\n",
    "\n",
    "import unittest\n",
    "\n",
    "from rearrange import rearrange_name\n",
    "\n",
    "class TestRearrange(unittest.TestCase):\n",
    "    \n",
    "  def test_basic(self):\n",
    "    testcase = \"Lovelace, Ada\"\n",
    "    expected = \"Ada Lovelace\"\n",
    "    self.assertEqual(rearrange_name(testcase), expected)\n",
    "\n",
    "# Run the tests\n",
    "unittest.main()\n",
    "\n",
    "# chmod +x rearrange_test.py \n",
    "# ./rearrange_test.py "
   ]
  }
 ],
 "metadata": {
  "kernelspec": {
   "display_name": "Python 3",
   "language": "python",
   "name": "python3"
  },
  "language_info": {
   "codemirror_mode": {
    "name": "ipython",
    "version": 3
   },
   "file_extension": ".py",
   "mimetype": "text/x-python",
   "name": "python",
   "nbconvert_exporter": "python",
   "pygments_lexer": "ipython3",
   "version": "3.12.0"
  }
 },
 "nbformat": 4,
 "nbformat_minor": 2
}
