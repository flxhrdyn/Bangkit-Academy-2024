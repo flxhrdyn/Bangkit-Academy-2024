{
 "cells": [
  {
   "cell_type": "markdown",
   "metadata": {},
   "source": [
    "# Practice Notebook - Errors and \n"
   ]
  },
  {
   "cell_type": "markdown",
   "metadata": {},
   "source": [
    "Below we have a function that removes an item from an input list."
   ]
  },
  {
   "cell_type": "code",
   "execution_count": 1,
   "metadata": {},
   "outputs": [
    {
     "name": "stdout",
     "output_type": "stream",
     "text": [
      "[5, 9, 6, 8]\n"
     ]
    }
   ],
   "source": [
    "my_list = [27, 5, 9, 6, 8]\n",
    "\n",
    "def RemoveValue(myVal):\n",
    "    my_list.remove(myVal)\n",
    "    return my_list\n",
    "\n",
    "print(RemoveValue(27))"
   ]
  },
  {
   "cell_type": "markdown",
   "metadata": {},
   "source": [
    "We used the RemoveValue() function to remove the number, 27 from the given list. Great! The function seems to be working fine. However, there is a problem when we try to call the function on the number 27 again. Run the following cell to see what happens."
   ]
  },
  {
   "cell_type": "code",
   "execution_count": 2,
   "metadata": {},
   "outputs": [
    {
     "ename": "ValueError",
     "evalue": "list.remove(x): x not in list",
     "output_type": "error",
     "traceback": [
      "\u001b[1;31m---------------------------------------------------------------------------\u001b[0m",
      "\u001b[1;31mValueError\u001b[0m                                Traceback (most recent call last)",
      "Cell \u001b[1;32mIn[2], line 1\u001b[0m\n\u001b[1;32m----> 1\u001b[0m \u001b[38;5;28mprint\u001b[39m(\u001b[43mRemoveValue\u001b[49m\u001b[43m(\u001b[49m\u001b[38;5;241;43m27\u001b[39;49m\u001b[43m)\u001b[49m)\n",
      "Cell \u001b[1;32mIn[1], line 4\u001b[0m, in \u001b[0;36mRemoveValue\u001b[1;34m(myVal)\u001b[0m\n\u001b[0;32m      3\u001b[0m \u001b[38;5;28;01mdef\u001b[39;00m \u001b[38;5;21mRemoveValue\u001b[39m(myVal):\n\u001b[1;32m----> 4\u001b[0m     \u001b[43mmy_list\u001b[49m\u001b[38;5;241;43m.\u001b[39;49m\u001b[43mremove\u001b[49m\u001b[43m(\u001b[49m\u001b[43mmyVal\u001b[49m\u001b[43m)\u001b[49m\n\u001b[0;32m      5\u001b[0m     \u001b[38;5;28;01mreturn\u001b[39;00m my_list\n",
      "\u001b[1;31mValueError\u001b[0m: list.remove(x): x not in list"
     ]
    }
   ],
   "source": [
    "print(RemoveValue(27))"
   ]
  },
  {
   "cell_type": "markdown",
   "metadata": {},
   "source": [
    "From the above output we see that our function now raises a ValueError. This is because we are trying to remove a number from a list that is not in the list. When we removed 27 from the list the first time, it was no longer available in the list to be removed a second time. Python is letting us know that the number 27 no longer makes sense for our RemoveValue() function.\n",
    "\n",
    "We'd like to take control of the error messaging here and pre-empt this error. Fill in the blanks below to raise a ValueError in the RemoveValue() function if a value is not in the list. You can have the error message say something obvious like \"Value must be in the given list\"."
   ]
  },
  {
   "cell_type": "code",
   "execution_count": null,
   "metadata": {},
   "outputs": [],
   "source": [
    "\n",
    "def RemoveValue(myVal):\n",
    "    if myVal not in my_list:\n",
    "        raise ValueError(\"Value must be in the given list\")\n",
    "    else:\n",
    "        my_list.remove(myVal)\n",
    "    return my_list\n",
    "\n",
    "print(RemoveValue(27))"
   ]
  },
  {
   "cell_type": "markdown",
   "metadata": {},
   "source": [
    "Did your error message print correctly? Was the output something like: ValueError: Value must be in the given list? If not, go back to the previous cell and make sure you filled in the blanks correctly. If your error message did print correctly, great! You are on your way to mastering the basics of handling errors and exceptions.\n",
    "\n",
    "Now, let's look at a different function. Below we have a function that sorts an input list alphabetically. Run it to see what it does."
   ]
  },
  {
   "cell_type": "code",
   "execution_count": 3,
   "metadata": {},
   "outputs": [
    {
     "name": "stdout",
     "output_type": "stream",
     "text": [
      "['after', 'east', 'inside', 'over', 'up']\n"
     ]
    }
   ],
   "source": [
    "my_word_list = ['east', 'after', 'up', 'over', 'inside']\n",
    "\n",
    "def OrganizeList(myList):\n",
    "    myList.sort()\n",
    "    return myList\n",
    "\n",
    "print(OrganizeList(my_word_list))"
   ]
  },
  {
   "cell_type": "markdown",
   "metadata": {},
   "source": [
    "We used the OrganizeList() function to sort a given list alphabetically. The function seems to be working fine. However, there is a problem when we try to call the function on a list containing number values. Run the following cell to see what happens."
   ]
  },
  {
   "cell_type": "code",
   "execution_count": 2,
   "metadata": {},
   "outputs": [
    {
     "ename": "TypeError",
     "evalue": "'<' not supported between instances of 'str' and 'int'",
     "output_type": "error",
     "traceback": [
      "\u001b[1;31m---------------------------------------------------------------------------\u001b[0m",
      "\u001b[1;31mTypeError\u001b[0m                                 Traceback (most recent call last)",
      "Cell \u001b[1;32mIn[2], line 7\u001b[0m\n\u001b[0;32m      4\u001b[0m     myList\u001b[38;5;241m.\u001b[39msort()\n\u001b[0;32m      5\u001b[0m     \u001b[38;5;28;01mreturn\u001b[39;00m myList\n\u001b[1;32m----> 7\u001b[0m \u001b[38;5;28mprint\u001b[39m(\u001b[43mOrganizeList\u001b[49m\u001b[43m(\u001b[49m\u001b[43mmy_new_list\u001b[49m\u001b[43m)\u001b[49m)\n",
      "Cell \u001b[1;32mIn[2], line 4\u001b[0m, in \u001b[0;36mOrganizeList\u001b[1;34m(myList)\u001b[0m\n\u001b[0;32m      3\u001b[0m \u001b[38;5;28;01mdef\u001b[39;00m \u001b[38;5;21mOrganizeList\u001b[39m(myList):\n\u001b[1;32m----> 4\u001b[0m     \u001b[43mmyList\u001b[49m\u001b[38;5;241;43m.\u001b[39;49m\u001b[43msort\u001b[49m\u001b[43m(\u001b[49m\u001b[43m)\u001b[49m\n\u001b[0;32m      5\u001b[0m     \u001b[38;5;28;01mreturn\u001b[39;00m myList\n",
      "\u001b[1;31mTypeError\u001b[0m: '<' not supported between instances of 'str' and 'int'"
     ]
    }
   ],
   "source": [
    "my_new_list = [6, 3, 8, \"12\", 42]\n",
    "\n",
    "def OrganizeList(myList):\n",
    "    myList.sort()\n",
    "    return myList\n",
    "\n",
    "print(OrganizeList(my_new_list))"
   ]
  },
  {
   "cell_type": "markdown",
   "metadata": {},
   "source": [
    "From the above output we see that our function now raises a TypeError. This is because the OrganizeList() function makes sense for lists that are filled with only strings. Take control of the error messaging here and pre-empt this error by filling in the blanks below to add an assert type argument that verifies whether the input list is filled with only strings. You can have the error message say something like \"Word list must be a list of strings\"."
   ]
  },
  {
   "cell_type": "code",
   "execution_count": 3,
   "metadata": {},
   "outputs": [
    {
     "ename": "AssertionError",
     "evalue": "Word list must be a list of strings",
     "output_type": "error",
     "traceback": [
      "\u001b[1;31m---------------------------------------------------------------------------\u001b[0m",
      "\u001b[1;31mAssertionError\u001b[0m                            Traceback (most recent call last)",
      "Cell \u001b[1;32mIn[3], line 7\u001b[0m\n\u001b[0;32m      4\u001b[0m     myList\u001b[38;5;241m.\u001b[39msort()\n\u001b[0;32m      5\u001b[0m     \u001b[38;5;28;01mreturn\u001b[39;00m myList\n\u001b[1;32m----> 7\u001b[0m \u001b[38;5;28mprint\u001b[39m(\u001b[43mOrganizeList\u001b[49m\u001b[43m(\u001b[49m\u001b[43mmy_new_list\u001b[49m\u001b[43m)\u001b[49m)\n",
      "Cell \u001b[1;32mIn[3], line 3\u001b[0m, in \u001b[0;36mOrganizeList\u001b[1;34m(myList)\u001b[0m\n\u001b[0;32m      1\u001b[0m \u001b[38;5;28;01mdef\u001b[39;00m \u001b[38;5;21mOrganizeList\u001b[39m(myList):\n\u001b[0;32m      2\u001b[0m     \u001b[38;5;28;01mfor\u001b[39;00m item \u001b[38;5;129;01min\u001b[39;00m myList:\n\u001b[1;32m----> 3\u001b[0m         \u001b[38;5;28;01massert\u001b[39;00m \u001b[38;5;28mtype\u001b[39m(myList) \u001b[38;5;241m==\u001b[39m \u001b[38;5;28mstr\u001b[39m, \u001b[38;5;124m\"\u001b[39m\u001b[38;5;124mWord list must be a list of strings\u001b[39m\u001b[38;5;124m\"\u001b[39m\n\u001b[0;32m      4\u001b[0m     myList\u001b[38;5;241m.\u001b[39msort()\n\u001b[0;32m      5\u001b[0m     \u001b[38;5;28;01mreturn\u001b[39;00m myList\n",
      "\u001b[1;31mAssertionError\u001b[0m: Word list must be a list of strings"
     ]
    }
   ],
   "source": [
    "def OrganizeList(myList):\n",
    "    for item in myList:\n",
    "        assert type(myList) == str, \"Word list must be a list of strings\"\n",
    "    myList.sort()\n",
    "    return myList\n",
    "\n",
    "print(OrganizeList(my_new_list))"
   ]
  },
  {
   "cell_type": "markdown",
   "metadata": {},
   "source": [
    "Did your error message print correctly? Was the output something like: AssertionError: Word list must be a list of strings? If not, go back to the previous cell and make sure you filled in the blanks correctly. If your error message did print correctly, excellent! You are another step closer to mastering the basics of handling errors and exceptions.\n",
    "\n",
    "Let's look at one last code block. The Guess() function below takes a list of participants, assigns each a random number from 1 to 9, and stores this information in a dictionary with the participant name as the key. It then returns True if Larry was assigned the number 9 and False if this was not the case. Run it to see what it does."
   ]
  },
  {
   "cell_type": "code",
   "execution_count": 4,
   "metadata": {},
   "outputs": [
    {
     "name": "stdout",
     "output_type": "stream",
     "text": [
      "False\n"
     ]
    }
   ],
   "source": [
    "import random\n",
    "\n",
    "participants = ['Jack','Jill','Larry','Tom']\n",
    "\n",
    "def Guess(participants):\n",
    "    my_participant_dict = {}\n",
    "    for participant in participants:\n",
    "        my_participant_dict[participant] = random.randint(1, 9)\n",
    "    if my_participant_dict['Larry'] == 9:\n",
    "        return True\n",
    "    else:\n",
    "        return False\n",
    "    \n",
    "print(Guess(participants))"
   ]
  },
  {
   "cell_type": "markdown",
   "metadata": {},
   "source": [
    "The code seems to be working fine. However, there are some things that could go wrong, so find the part that might throw an exception and wrap it in a try-except block to ensure that you get sensible behavior. Do this in the cell below. Code your function to return None if an exception occurs."
   ]
  },
  {
   "cell_type": "code",
   "execution_count": 6,
   "metadata": {},
   "outputs": [
    {
     "name": "stdout",
     "output_type": "stream",
     "text": [
      "None\n"
     ]
    }
   ],
   "source": [
    "# Revised Guess() function\n",
    "def Guess(participants):\n",
    "    my_participant_dict = {}\n",
    "    for participant in participants:\n",
    "        my_participant_dict[participant] = random.randint(1, 9)\n",
    "    try:\n",
    "        if my_participant_dict['Larry'] == 9:\n",
    "            return True\n",
    "        else:\n",
    "            return False\n",
    "    except KeyError:\n",
    "        return None\n",
    "\n",
    "# Call your revised Guess() function with the following participant list.\n",
    "participants = ['Cathy','Fred','Jack','Tom']\n",
    "print(Guess(participants))"
   ]
  },
  {
   "cell_type": "markdown",
   "metadata": {},
   "source": [
    "Was the above output None? If not, go back to the code block containing your revised Guess() function and make edits so that the output is None for the previous code block. If the above output was indeed None, congratulations! You've mastered the basics of handling errors and exceptions in Python and you are all done with this notebook!"
   ]
  }
 ],
 "metadata": {
  "kernelspec": {
   "display_name": "Python 3",
   "language": "python",
   "name": "python3"
  },
  "language_info": {
   "codemirror_mode": {
    "name": "ipython",
    "version": 3
   },
   "file_extension": ".py",
   "mimetype": "text/x-python",
   "name": "python",
   "nbconvert_exporter": "python",
   "pygments_lexer": "ipython3",
   "version": "3.12.0"
  }
 },
 "nbformat": 4,
 "nbformat_minor": 2
}
