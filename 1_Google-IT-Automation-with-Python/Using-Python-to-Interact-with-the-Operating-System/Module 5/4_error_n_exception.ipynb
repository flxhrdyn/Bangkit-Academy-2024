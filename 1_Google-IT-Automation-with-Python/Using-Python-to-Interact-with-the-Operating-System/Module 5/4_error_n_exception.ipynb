{
 "cells": [
  {
   "cell_type": "markdown",
   "metadata": {},
   "source": [
    "# Errors and Exception\n",
    "You’ve learned that in some cases, it’s better to raise an error yourself, and how to test that the right error is raised when that's what you expect. You’ve also learned how to test your code to verify that it does what it should. In this reading, you’ll learn about error handling syntax, including raising exceptions, using an assert statement, and the try and except clauses. "
   ]
  },
  {
   "cell_type": "markdown",
   "metadata": {},
   "source": [
    "## 1. The Try-Except concept / Exception Handling\n",
    "When performing exception handling, it is important to predict which exceptions can happen. Sometimes, to figure out which exceptions you need to account for, you have to let your program fail.\n",
    "\n",
    "The simplest way to handle exceptions in Python is by using the try and except clauses. \n",
    "\n",
    "In the try clause, Python executes all statements until it encounters an exception. You use the except clause to catch and handle the exception(s) that Python encounters in the try clause.\n",
    "\n",
    "Here is the process for how it works: \n",
    "- Python runs the try clause, e.g., the statement(s) between the try and except keywords.\n",
    "\n",
    "- If no error occurs, Python skips the except clause and the execution of the try statement is finished.\n",
    "\n",
    "- If an error occurs during execution of the try clause, Python skips the rest of the try clause and transfers control to the corresponding except block. If the type of error matches what is listed after the except keyword, Python executes the except clause. The execution then continues on after the try/except block.\n",
    "\n",
    "- If an exception occurs but it does not match what is listed in the except clause, it is passed onto try statements outside of that try/except block. However, if a handler for that exception cannot be found, the exception becomes an unhandled exception, the execution stops, and Python displays a designated error message. \n",
    "\n",
    "Sometimes, a try statement can have more than one except clause so that the code can specify handlers for different exceptions. This can help to reduce the number of unhandled exceptions. \n",
    "\n",
    "You can use exceptions to catch almost everything. It is good practice as a developer or programmer to be as specific as possible with the types of exceptions that you intend to handle, especially if you’re creating your own exceptions.  "
   ]
  },
  {
   "cell_type": "markdown",
   "metadata": {},
   "source": [
    "## Example\n",
    "\n",
    "Here we have only one except block, for the OSError error type, but there could be more blocks if the functions called could raise other types of errors. So when writing a try-except block, the important thing to remember is that the code in the except block is only executed if one of the instructions in the try block raises an error of the matching type. "
   ]
  },
  {
   "cell_type": "code",
   "execution_count": null,
   "metadata": {},
   "outputs": [],
   "source": [
    "#!/usr/bin/env python3\n",
    "\n",
    "# character_frequency function here reads the contents of a file to count the frequency of each character in them.\n",
    "def character_frequency(filename):\n",
    "  \"\"\"Counts the frequency of each character in the given file.\"\"\"\n",
    "  # First try to open the file\n",
    "  try: \n",
    "    f = open(filename)\n",
    "  except OSError: # when OSError retun none\n",
    "    # we're returning none to indicate to the calling code that the function wasn't able to do what was requested of it.\n",
    "    return None\n",
    "\n",
    "  # Now process the file\n",
    "  characters = {} # character dict\n",
    "  for line in f: # for each line in file\n",
    "    for char in line:# for each char in line\n",
    "      characters[char] = characters.get(char, 0) + 1 # get character\n",
    "  f.close() # close the file\n",
    "  return characters"
   ]
  },
  {
   "cell_type": "markdown",
   "metadata": {},
   "source": [
    "## 2. Raise exceptions\n",
    "As a developer or programmer, you might want to raise an error yourself. Usually, this happens when some of the conditions necessary for a function to do its job properly aren't met and returning none or some other base value isn't good enough. You can raise an error or raise an exception (also known as “throwing an exception”), which forces a particular exception to occur, and notifies you that something in your code is going wrong or an error has occurred. \n",
    "\n",
    "Here are some instances where raising an exception is a useful tool:\n",
    "\n",
    "- A file doesn’t exist\n",
    "\n",
    "- A network or database connection fails\n",
    "\n",
    "- Your code receives invalid input\n",
    "\n",
    "In the example below, the code raises two built-in Python exceptions:  raise ValueError and raise ZeroDivisionError. You can find more information on these raises in the example below, along with explanations of potential errors that may occur during an exception."
   ]
  },
  {
   "cell_type": "markdown",
   "metadata": {},
   "source": [
    "## Example exception handling\n",
    "Now that you have an understanding of try and except clauses, assert statements, and raising exceptions, consider the following code examples which use all of these concepts together.\n",
    "\n",
    "The basic structure of exception handling is as follows: "
   ]
  },
  {
   "cell_type": "code",
   "execution_count": null,
   "metadata": {},
   "outputs": [],
   "source": [
    "# File reading function with exception handling\n",
    "def read_file(filename):\n",
    "\ttry:\n",
    "\t\twith open(filename, 'r') as f:\n",
    "\t\t\treturn f.read()\n",
    "\texcept FileNotFoundError:\n",
    "\t\treturn \"File not found!\"\n",
    "\tfinally:\n",
    "\t\tprint(\"Finished reading file.\")"
   ]
  },
  {
   "cell_type": "markdown",
   "metadata": {},
   "source": [
    "Imagine you have a function that reads data from a file and then divides two numbers provided within that file. There are some faults in it that you can catch with exceptions."
   ]
  },
  {
   "cell_type": "code",
   "execution_count": null,
   "metadata": {},
   "outputs": [],
   "source": [
    "def faulty_read_and_divide(filename):\n",
    "\twith open(filename, 'r') as file:\n",
    "\t\tdata = file.readlines()\n",
    "\t\tnum1 = int(data[0])\n",
    "\t\tnum2 = int(data[1])\n",
    "\t\treturn num1 / num2"
   ]
  },
  {
   "cell_type": "markdown",
   "metadata": {},
   "source": [
    "There are several potential issues here:\n",
    "\n",
    "- The file might not exist, causing a FileNotFoundError.\n",
    "\n",
    "- The file might not have enough lines of data, leading to an IndexError.\n",
    "\n",
    "- The data in the file might not be convertible to integers, raising a ValueError.\n",
    "\n",
    "- The second number might be zero, which would raise a ZeroDivisionError.\n",
    "\n",
    "To address these potential issues, you can add the appropriate exception handling illustrated below:"
   ]
  },
  {
   "cell_type": "code",
   "execution_count": null,
   "metadata": {},
   "outputs": [],
   "source": [
    "# File reading function with exception handling\n",
    "def read_file(filename):\n",
    "\ttry:\n",
    "\t\twith open(filename, 'r') as f:\n",
    "\t\t\treturn f.read()\n",
    "\texcept FileNotFoundError:\n",
    "\t\treturn \"File not found!\"\n",
    "\tfinally:\n",
    "\t\tprint(\"Finished reading file.\")\n",
    "\n",
    "def faulty_read_and_divide(filename):\n",
    "\twith open(filename, 'r') as file:\n",
    "\t\tdata = file.readlines()\n",
    "\t\tnum1 = int(data[0])\n",
    "\t\tnum2 = int(data[1])\n",
    "\t\treturn num1 / num2\n",
    "\n",
    "def enhanced_read_and_divide(filename):\n",
    "\ttry:\n",
    "\t\twith open(filename, 'r') as file:\n",
    "\t\t\tdata = file.readlines()\n",
    "\t\tif len(data) < 2:\n",
    "\t\t\traise ValueError(\"Not enough data in the file.\")\n",
    "\t\tnum1 = int(data[0])\n",
    "\t\tnum2 = int(data[1])\n",
    "\t\t# Check if second number is zero\n",
    "\t\tif num2 == 0:\n",
    "\t\t\traise ZeroDivisionError(\"The denominator is zero.\")\n",
    "\t\treturn num1 / num2\n",
    "\t\n",
    "\texcept FileNotFoundError:\n",
    "\t\treturn \"Error: The file was not found.\"\n",
    "\texcept ValueError as ve:\n",
    "\t\treturn f\"Value error: {ve}\"\n",
    "\texcept ZeroDivisionError as zde:\n",
    "\t\treturn f\"Division error: {zde}\""
   ]
  },
  {
   "cell_type": "markdown",
   "metadata": {},
   "source": [
    "Now, the function enhanced_read_and_divide is equipped to handle potential exceptions gracefully, providing informative error messages to the caller. This way, the code will explain when it fails since you have identified potential fault zones such as when dealing with unpredictable inputs or file content.\n",
    "\n",
    "Notice how the exceptions are instantiated as objects (such as ValueError ve) that you can use to further diagnose the issue by printing them out."
   ]
  },
  {
   "cell_type": "markdown",
   "metadata": {},
   "source": [
    "The errors should read:\n",
    "\n",
    "File-level issues:\n",
    "\n",
    "Value error: Not enough data in the file.\n",
    "\n",
    "Error: The file was not found.\n",
    "\n",
    "Data-level issues:\n",
    "\n",
    "Value error: invalid literal for int() with base 10: 'apple'\n",
    "\n",
    "Division error: The denominator is zero."
   ]
  },
  {
   "cell_type": "markdown",
   "metadata": {},
   "source": [
    "## 3. assert statements\n",
    "assert statements help you to verify if a certain condition is met and throw an exception if it isn’t. As is stated in the name, their purpose is to \"assert\" that certain conditions are true at specific points in your program. \n",
    "\n",
    "The assert statement exists in almost every programming language and has two main uses:\n",
    "- To help detect problems earlier in development, rather than later when some other operation fails. Problems that aren’t addressed until later in the development process can turn out to be more time-intensive and costly to fix.\n",
    "\n",
    "- To provide a form of documentation for other developers reading the code."
   ]
  },
  {
   "cell_type": "code",
   "execution_count": 6,
   "metadata": {},
   "outputs": [
    {
     "ename": "TypeError",
     "evalue": "object of type 'int' has no len()",
     "output_type": "error",
     "traceback": [
      "\u001b[1;31m---------------------------------------------------------------------------\u001b[0m",
      "\u001b[1;31mTypeError\u001b[0m                                 Traceback (most recent call last)",
      "Cell \u001b[1;32mIn[6], line 17\u001b[0m\n\u001b[0;32m     14\u001b[0m validate_user(\u001b[38;5;124m\"\u001b[39m\u001b[38;5;124mmyuser\u001b[39m\u001b[38;5;124m\"\u001b[39m, \u001b[38;5;241m1\u001b[39m)\n\u001b[0;32m     16\u001b[0m \u001b[38;5;66;03m# raising an error\u001b[39;00m\n\u001b[1;32m---> 17\u001b[0m \u001b[43mvalidate_user\u001b[49m\u001b[43m(\u001b[49m\u001b[38;5;241;43m88\u001b[39;49m\u001b[43m,\u001b[49m\u001b[43m \u001b[49m\u001b[38;5;241;43m1\u001b[39;49m\u001b[43m)\u001b[49m \n\u001b[0;32m     18\u001b[0m validate_user([], \u001b[38;5;241m1\u001b[39m)\n\u001b[0;32m     19\u001b[0m validate_user([\u001b[38;5;124m\"\u001b[39m\u001b[38;5;124mname\u001b[39m\u001b[38;5;124m\"\u001b[39m], \u001b[38;5;241m1\u001b[39m)\n",
      "Cell \u001b[1;32mIn[6], line 7\u001b[0m, in \u001b[0;36mvalidate_user\u001b[1;34m(username, minlen)\u001b[0m\n\u001b[0;32m      4\u001b[0m \u001b[38;5;28;01mif\u001b[39;00m minlen \u001b[38;5;241m<\u001b[39m \u001b[38;5;241m1\u001b[39m:\n\u001b[0;32m      5\u001b[0m   \u001b[38;5;28;01mraise\u001b[39;00m \u001b[38;5;167;01mValueError\u001b[39;00m(\u001b[38;5;124m\"\u001b[39m\u001b[38;5;124mminlen must be at least 1\u001b[39m\u001b[38;5;124m\"\u001b[39m)\n\u001b[1;32m----> 7\u001b[0m \u001b[38;5;28;01mif\u001b[39;00m \u001b[38;5;28;43mlen\u001b[39;49m\u001b[43m(\u001b[49m\u001b[43musername\u001b[49m\u001b[43m)\u001b[49m \u001b[38;5;241m<\u001b[39m minlen:\n\u001b[0;32m      8\u001b[0m   \u001b[38;5;28;01mreturn\u001b[39;00m \u001b[38;5;28;01mFalse\u001b[39;00m\n\u001b[0;32m      9\u001b[0m \u001b[38;5;28;01mif\u001b[39;00m \u001b[38;5;129;01mnot\u001b[39;00m username\u001b[38;5;241m.\u001b[39misalnum():\n",
      "\u001b[1;31mTypeError\u001b[0m: object of type 'int' has no len()"
     ]
    }
   ],
   "source": [
    "# attempt to raise error\n",
    "\n",
    "#!/usr/bin/env python3\n",
    "\n",
    "def validate_user(username, minlen):\n",
    "  if minlen < 1:\n",
    "    # raising an error\n",
    "    raise ValueError(\"minlen must be at least 1\")\n",
    "\n",
    "  if len(username) < minlen:\n",
    "    return False\n",
    "  if not username.isalnum():\n",
    "    return False\n",
    "  return True\n",
    "\n",
    "# # attempting to the value error raise error\n",
    "validate_user(\"\", 1)\n",
    "validate_user(\"myuser\", 1)\n",
    "validate_user(88, 1) \n",
    "validate_user([], 1)\n",
    "validate_user([\"name\"], 1)\n"
   ]
  },
  {
   "cell_type": "markdown",
   "metadata": {},
   "source": [
    "Using assert to show a custom error message\n",
    " \n",
    "This is the assert keyword. This keyword tries to verify that a conditional expression is true, and if it's false it raises an assertion error with the indicated message. "
   ]
  },
  {
   "cell_type": "code",
   "execution_count": 8,
   "metadata": {},
   "outputs": [
    {
     "ename": "AssertionError",
     "evalue": "username must be a string",
     "output_type": "error",
     "traceback": [
      "\u001b[1;31m---------------------------------------------------------------------------\u001b[0m",
      "\u001b[1;31mAssertionError\u001b[0m                            Traceback (most recent call last)",
      "Cell \u001b[1;32mIn[8], line 16\u001b[0m\n\u001b[0;32m     13\u001b[0m     \u001b[38;5;28;01mreturn\u001b[39;00m \u001b[38;5;28;01mFalse\u001b[39;00m\n\u001b[0;32m     14\u001b[0m   \u001b[38;5;28;01mreturn\u001b[39;00m \u001b[38;5;28;01mTrue\u001b[39;00m\n\u001b[1;32m---> 16\u001b[0m \u001b[43mvalidate_user\u001b[49m\u001b[43m(\u001b[49m\u001b[43m[\u001b[49m\u001b[38;5;241;43m3\u001b[39;49m\u001b[43m]\u001b[49m\u001b[43m,\u001b[49m\u001b[43m \u001b[49m\u001b[38;5;241;43m1\u001b[39;49m\u001b[43m)\u001b[49m\n",
      "Cell \u001b[1;32mIn[8], line 6\u001b[0m, in \u001b[0;36mvalidate_user\u001b[1;34m(username, minlen)\u001b[0m\n\u001b[0;32m      5\u001b[0m \u001b[38;5;28;01mdef\u001b[39;00m \u001b[38;5;21mvalidate_user\u001b[39m(username, minlen):\n\u001b[1;32m----> 6\u001b[0m   \u001b[38;5;28;01massert\u001b[39;00m \u001b[38;5;28mtype\u001b[39m(username) \u001b[38;5;241m==\u001b[39m \u001b[38;5;28mstr\u001b[39m, \u001b[38;5;124m\"\u001b[39m\u001b[38;5;124musername must be a string\u001b[39m\u001b[38;5;124m\"\u001b[39m\n\u001b[0;32m      7\u001b[0m   \u001b[38;5;28;01mif\u001b[39;00m minlen \u001b[38;5;241m<\u001b[39m \u001b[38;5;241m1\u001b[39m:\n\u001b[0;32m      8\u001b[0m     \u001b[38;5;28;01mraise\u001b[39;00m \u001b[38;5;167;01mValueError\u001b[39;00m(\u001b[38;5;124m\"\u001b[39m\u001b[38;5;124mminlen must be at least 1\u001b[39m\u001b[38;5;124m\"\u001b[39m)\n",
      "\u001b[1;31mAssertionError\u001b[0m: username must be a string"
     ]
    }
   ],
   "source": [
    "# fixing the raise error \n",
    "\n",
    "#!/usr/bin/env python3\n",
    "\n",
    "def validate_user(username, minlen):\n",
    "  # We've added an assertion that verifies that the type of the username variable is STR \n",
    "  # which we know is a name that the interpreter uses for strings.\n",
    "  # If the function is called with a username parameter that's not a string, an error will be raised with the message we provided.\n",
    "  assert type(username) == str, \"username must be a string\"\n",
    "  if minlen < 1:\n",
    "    raise ValueError(\"minlen must be at least 1\")\n",
    "\n",
    "  if len(username) < minlen:\n",
    "    return False\n",
    "  if not username.isalnum():\n",
    "    return False\n",
    "  return True\n",
    "\n",
    "validate_user([3], 1)"
   ]
  },
  {
   "cell_type": "markdown",
   "metadata": {},
   "source": [
    "# 2. Testing for expected errors"
   ]
  },
  {
   "cell_type": "code",
   "execution_count": null,
   "metadata": {},
   "outputs": [],
   "source": [
    "#!/usr/bin/env python3\n",
    "\n",
    "import unittest\n",
    "\n",
    "from validations import validate_user\n",
    "\n",
    "class TestValidateUser(unittest.TestCase):\n",
    "  def test_valid(self):\n",
    "    self.assertEqual(validate_user(\"validuser\", 3), True)\n",
    "\n",
    "  def test_too_short(self):\n",
    "    self.assertEqual(validate_user(\"inv\", 5), False)\n",
    "\n",
    "  def test_invalid_characters(self):\n",
    "    self.assertEqual(validate_user(\"invalid_user\", 1), False)\n",
    "  def test_invalid_minlen(self):\n",
    "    self.assertRaises(ValueError, validate_user, \"user\", -1)\n",
    "\n",
    "\n",
    "# Run the tests\n",
    "unittest.main()\n",
    "# ./validations_test.py "
   ]
  }
 ],
 "metadata": {
  "kernelspec": {
   "display_name": "Python 3",
   "language": "python",
   "name": "python3"
  },
  "language_info": {
   "codemirror_mode": {
    "name": "ipython",
    "version": 3
   },
   "file_extension": ".py",
   "mimetype": "text/x-python",
   "name": "python",
   "nbconvert_exporter": "python",
   "pygments_lexer": "ipython3",
   "version": "3.12.0"
  }
 },
 "nbformat": 4,
 "nbformat_minor": 2
}
