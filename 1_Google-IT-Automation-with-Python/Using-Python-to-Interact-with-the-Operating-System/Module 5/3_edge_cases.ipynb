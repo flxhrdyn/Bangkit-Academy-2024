{
 "cells": [
  {
   "cell_type": "markdown",
   "metadata": {},
   "source": [
    "# Edge Cases"
   ]
  },
  {
   "cell_type": "code",
   "execution_count": null,
   "metadata": {},
   "outputs": [],
   "source": [
    "#!/usr/bin/env python3\n",
    "\n",
    "import re\n",
    "\n",
    "def rearrange_name(name):\n",
    "  result = re.search(r\"^([\\w .]*), ([\\w .]*)$\", name)\n",
    "  return \"{} {}\".format(result[2], result[1])\n",
    "\n",
    "# ./rearrange_test.py "
   ]
  },
  {
   "cell_type": "code",
   "execution_count": 2,
   "metadata": {},
   "outputs": [],
   "source": [
    "#!/usr/bin/env python3\n",
    "\n",
    "import re\n",
    "\n",
    "def rearrange_name(name):\n",
    "  result = re.search(r\"^([\\w .-]*), ([\\w .-]*)$\", name)\n",
    "  if result is None:\n",
    "    return \"\"\n",
    "  return \"{} {}\".format(result[2], result[1])\n",
    "\n",
    "# ./rearrange_test.py "
   ]
  },
  {
   "cell_type": "markdown",
   "metadata": {},
   "source": [
    "## Additional test cases"
   ]
  },
  {
   "cell_type": "code",
   "execution_count": null,
   "metadata": {},
   "outputs": [],
   "source": [
    "# Testing code\n",
    "from rearrange import rearrange_name\n",
    "import unittest\n",
    "\n",
    "class TestRearrange(unittest.TestCase):\n",
    "  \n",
    "  def test_basic(self):\n",
    "    testcase = \"Lovelace, Ada\"\n",
    "    expected = \"Ada Lovelace\"\n",
    "    self.assertEqual(rearrange_name(testcase), expected)\n",
    "\n",
    "  def test_empty(self):\n",
    "    testcase = \"\"\n",
    "    expected = \"\"\n",
    "    self.assertEqual(rearrange_name(testcase), expected)\n",
    "\n",
    "  # testing the program with double name\n",
    "  def test_double_name(self):\n",
    "    testcase = \"Hopper, Grace M.\"\n",
    "    expected = \"Grace M. Hopper\"\n",
    "    self.assertEqual(rearrange_name(testcase), expected)\n",
    "\n",
    "  # testing the program with single name\n",
    "  # this case will fail because the program expected inputs is two names separated with a comma\n",
    "  def test_one_name(self): \n",
    "    testcase = \"Voltaire\"\n",
    "    expected = \"Voltaire\"\n",
    "    self.assertEqual(rearrange_name(testcase), expected)\n",
    "\n",
    "# Run the tests\n",
    "unittest.main()"
   ]
  },
  {
   "cell_type": "code",
   "execution_count": null,
   "metadata": {},
   "outputs": [],
   "source": [
    "# Fixing code\n",
    "import re\n",
    "\n",
    "def rearrange_name(name):\n",
    "  result = re.search(r\"^([\\w .]*), ([\\w .]*)$\", name)\n",
    "  if result is None:\n",
    "    return name\n",
    "  return \"{} {}\".format(result[2], result[1])\n",
    "\n",
    "# ./rearrange_test.py "
   ]
  }
 ],
 "metadata": {
  "kernelspec": {
   "display_name": "Python 3",
   "language": "python",
   "name": "python3"
  },
  "language_info": {
   "codemirror_mode": {
    "name": "ipython",
    "version": 3
   },
   "file_extension": ".py",
   "mimetype": "text/x-python",
   "name": "python",
   "nbconvert_exporter": "python",
   "pygments_lexer": "ipython3",
   "version": "3.12.0"
  }
 },
 "nbformat": 4,
 "nbformat_minor": 2
}
