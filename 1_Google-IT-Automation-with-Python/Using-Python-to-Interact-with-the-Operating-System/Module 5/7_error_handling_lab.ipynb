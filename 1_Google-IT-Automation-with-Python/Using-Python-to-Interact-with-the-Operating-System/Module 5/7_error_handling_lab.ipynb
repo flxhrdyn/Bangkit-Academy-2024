{
 "cells": [
  {
   "cell_type": "markdown",
   "metadata": {},
   "source": [
    "This script consists of two functions: populate_dictionary(filename) and find_email(argv). The function populate_dictionary(filename) reads the user_emails.csv file and populates a dictionary with name/value pairs. The other function, find_emails(argv), searches the dictionary created in the previous function for the user name passed to the function as a parameter. It then returns the associated email address. This script accepts employee's first name and last name as command-line arguments and outputs their email address.\n",
    "\n",
    "The script accepts arguments through the command line. These arguments are stored in a list named sys.argv. The first element of this list, i.e. argv[0], is always the name of the file being executed. So the parameters, i.e., first name and last name, are then stored in argv[1] and argv[2] respectively.\n",
    "\n",
    "Let's test the script now."
   ]
  },
  {
   "cell_type": "markdown",
   "metadata": {},
   "source": [
    "This will give you the email address associated with the Full Name passed as parameters. In this case, the name is Blossom Gill and the email ID associated with this name is blossom@abc.edu.\n",
    "\n",
    "\\>>> python3 emails.py Blossom Gill\n",
    "\n",
    "\\>>> Output\n",
    "\n",
    "blossom@abc.edu"
   ]
  },
  {
   "cell_type": "markdown",
   "metadata": {},
   "source": [
    "# Introduction to test cases"
   ]
  },
  {
   "cell_type": "markdown",
   "metadata": {},
   "source": [
    "## Test Case 1: Missing parameters\n",
    "Imagine a scenario where the user doesn't give either their first name or last name. What do you think the output would be in this case?"
   ]
  },
  {
   "cell_type": "code",
   "execution_count": null,
   "metadata": {},
   "outputs": [],
   "source": [
    "#!/usr/bin/env python3\n",
    "# The package unittest supports test automation, sharing of setup and shutdown code for tests, \n",
    "# aggregation of tests into collections, and independence of the tests from the reporting framework. \n",
    "# his module also provides classes that make it simple to support these qualities for a set of tests.\n",
    "import unittest\n",
    "\n",
    "# The following import statement allows a Python file to access the script from another Python file.\n",
    "# In this case, we will import the function find_email, which is defined in the script emails.py.\n",
    "from emails import find_email\n",
    "\n",
    "# Another important aspect of the unittest module is the test runner. \n",
    "# A test runner is a component that orchestrates the execution of tests and provides the outcome to the user.\n",
    "# A test case is created by subclassing unittest.TestCase. Let's write our first basic test case, test_basic.\n",
    "class TestFile(unittest.TestCase):\n",
    "  def test_basic(self):\n",
    "    # # Here, variable test case contains the parameters to be passed to the script emails.py.\n",
    "    # The variable stores the expected value to be returned by emails.py. \n",
    "    testcase = [None, \"Bree\", \"Campbell\"] \n",
    "    expected = \"breee@abc.edu\" \n",
    "    # The method assertEqual passes the test case to the function find_email, which we imported earlier from emails.py, \n",
    "    # and checks whether it generates the expected output.\n",
    "    self.assertEqual(find_email(testcase), expected)\n",
    "\n",
    "  # Let's now write a test case to handle this type of error. This test case should pass just the first name to the script.\n",
    "  def test_one_name(self):\n",
    "    testcase = [None, \"John\"]\n",
    "    expected = \"Missing parameters\"\n",
    "    self.assertEqual(find_email(testcase), expected)\n",
    "\n",
    "if __name__ == '__main__':\n",
    "  unittest.main()"
   ]
  },
  {
   "cell_type": "markdown",
   "metadata": {},
   "source": [
    "IndexError: list index out of range\n",
    "\n",
    "\\----------------------------------------------------------------------\n",
    "\n",
    "Ran 2 tests in 0.001s\n",
    "\n",
    "FAILED (errors=1)"
   ]
  },
  {
   "cell_type": "markdown",
   "metadata": {},
   "source": [
    "The output shows the function that caused the error and the description related to the error. It returned IndexError, which is raised while attempting to access an index that's outside the bounds of a list. This error occurs because the script emails.py takes in two parameters, the first and last name. We need to handle this type of incomplete inputs within the script. We need to decide what the correct output should be. Let's say, in this case, your script should output \"Missing parameter\".\n",
    "\n",
    "Let's now fix the code. The last test case showed that the script fails if only one parameter is passed. We would now handle these types of incomplete inputs given to the script file emails.py.\n",
    "\n",
    "There are two ways to solve this issue:\n",
    "\n",
    "- Use a try/except clause to handle IndexError.\n",
    "- Check the length of input parameters before traversing the user_emails.csv file for the email address.\n",
    "\n",
    "You can use either of the above methods, but remember that test cases should pass and the script should return \"Missing parameters\" in this case.\n",
    "\n",
    "We will use the try/except clause here to solve this issue. Try/except blocks are used for exceptions and error handling. Since exceptions are detected during execution of a script/program, error handling in Python is done using exceptions that are caught in try blocks and handled in except blocks.\n",
    "\n",
    "Let's dive into how try/except blocks work:\n",
    "\n",
    "- First, we execute the try clause.\n",
    "\n",
    "- If no exception occurs, the except clause is ignored.\n",
    "\n",
    "- If an exception occurs during the execution of the try clause, the rest of the try clause is then skipped.\n",
    "\n",
    "- It then attempts to match the type with the exception named after the except keyword. If this matches, the except clause is executed. If it doesn't, the control is passed on to outer try statements. If no handler is found, it's an unhandled exception and the execution stops with an error message.\n",
    "\n",
    "A try statement may have more than one except clause to specify handlers for different exceptions. In our case, the exception error we need to handle is IndexError.\n",
    "\n",
    "Let's move forward by adding a try/except clause to the script emails.py."
   ]
  },
  {
   "cell_type": "code",
   "execution_count": null,
   "metadata": {},
   "outputs": [],
   "source": [
    "#!/usr/bin/env python3\n",
    "\n",
    "import sys\n",
    "import csv\n",
    "\n",
    "# The function populate_dictionary(filename) reads the user_emails.csv file and populates a dictionary with name/value pairs.\n",
    "def populate_dictionary(filename):\n",
    "  \"\"\"Populate a dictionary with name/email pairs for easy lookup.\"\"\"\n",
    "  email_dict = {}\n",
    "  with open(filename) as csvfile:\n",
    "    lines = csv.reader(csvfile, delimiter = ',')\n",
    "    for row in lines:\n",
    "      name = str(row[0].lower())\n",
    "      email_dict[name] = row[1]\n",
    "  return email_dict\n",
    "\n",
    "# The other function, find_emails(argv), searches the dictionary created \n",
    "# in the previous function for the user name passed to the function as a parameter.\n",
    "# It then returns the associated email address. This script accepts employee's first name \n",
    "# and last name as command-line arguments and outputs their email address.\n",
    "# The script accepts arguments through the command line. These arguments are stored in a list named sys.argv. \n",
    "# The first element of this list, i.e. argv[0], is always the name of the file being executed.\n",
    "# So the parameters, i.e., first name and last name, are then stored in argv[1] and argv[2] respectively.\n",
    "def find_email(argv):\n",
    "  \"\"\" Return an email address based on the username given.\"\"\"\n",
    "  # Create the username based on the command line input.\n",
    "  try:\n",
    "    # If the function find_email(argv) receives the required number of parameters, it will return the email address.\n",
    "    fullname = str(argv[1] + \" \" + argv[2])\n",
    "    # Preprocess the data\n",
    "    email_dict = populate_dictionary('/home/{{ username }}/data/user_emails.csv')\n",
    "    # Find and print the email\n",
    "    return email_dict.get(fullname.lower())\n",
    "  # And if the function doesn't receive the required number of parameters, \n",
    "  # it will throw an IndexError exception and the except clause which handles IndexError exception would then execute\n",
    "  except IndexError:\n",
    "    return \"Missing parameters\"\n",
    "\n",
    "def main():\n",
    "  print(find_email(sys.argv))\n",
    "\n",
    "if __name__ == \"__main__\":\n",
    "  main()"
   ]
  },
  {
   "cell_type": "markdown",
   "metadata": {},
   "source": [
    "## Test Case 2: Random email address\n",
    "Let's find some other edge cases. We'll search for an employee that doesn't exist. Can you expect the output the script would give? The expected output in such a case should be \"No email address found\". Let's see how the script reacts to this case by adding a test case in the file emails_test.py just after the second test case."
   ]
  },
  {
   "cell_type": "code",
   "execution_count": null,
   "metadata": {},
   "outputs": [],
   "source": [
    "#!/usr/bin/env python3\n",
    "\n",
    "import unittest\n",
    "from emails import find_email\n",
    "\n",
    "\n",
    "class EmailsTest(unittest.TestCase):\n",
    "  def test_basic(self):\n",
    "    testcase = [None, \"Bree\", \"Campbell\"]\n",
    "    expected = \"breee@abc.edu\"\n",
    "    self.assertEqual(find_email(testcase), expected)\n",
    "\n",
    "  def test_one_name(self):\n",
    "    testcase = [None, \"John\"]\n",
    "    expected = \"Missing parameters\"\n",
    "    self.assertEqual(find_email(testcase), expected)\n",
    "\n",
    "  def test_two_name(self):\n",
    "    testcase = [None, \"Roy\",\"Cooper\"]\n",
    "    expected = \"No email address found\"\n",
    "    self.assertEqual(find_email(testcase), expected)\n",
    "\n",
    "if __name__ == '__main__':\n",
    "  unittest.main()"
   ]
  },
  {
   "cell_type": "markdown",
   "metadata": {},
   "source": [
    "The test case failed! This means the script doesn't output the message \"No email address found\" if we search for an employee that doesn't exist.\n",
    "\n",
    "Let's edit the script emails.py to return a message saying \"No email address found\" where users searched for don't exist.\n",
    "\n",
    "Can you guess the statement where the function find_email(argv) actually fetches the email address of the user? The method email_dict.get(full): does the job. This method fetches the email address from the list if found, and if not, it returns None.\n",
    "\n",
    "We need to add an if-else loop here, which will return the email address only if the method email_dict.get(username) returns a valid email address. If it doesn't, it will return the message \"No email address found\"."
   ]
  },
  {
   "cell_type": "markdown",
   "metadata": {},
   "source": [
    "Locate the statement return email_dict.get(fullname.lower()): within the script under the function find_email(argv) and replace it with the following block of code:\n",
    "\n",
    "The file should now look like this:"
   ]
  },
  {
   "cell_type": "code",
   "execution_count": null,
   "metadata": {},
   "outputs": [],
   "source": [
    "#!/usr/bin/env python3\n",
    "\n",
    "import csv\n",
    "import sys\n",
    "\n",
    "\n",
    "def populate_dictionary(filename):\n",
    "  \"\"\"Populate a dictionary with name/email pairs for easy lookup.\"\"\"\n",
    "  email_dict = {}\n",
    "  with open(filename) as csvfile:\n",
    "    lines = csv.reader(csvfile, delimiter = ',')\n",
    "    for row in lines:\n",
    "      name = str(row[0].lower())\n",
    "      email_dict[name] = row[1]\n",
    "  return email_dict\n",
    "\n",
    "def find_email(argv):\n",
    "  \"\"\" Return an email address based on the username given.\"\"\"\n",
    "  # Create the username based on the command line input.\n",
    "  try:\n",
    "    fullname = str(argv[1] + \" \" + argv[2])\n",
    "    # Preprocess the data\n",
    "    email_dict = populate_dictionary('/home/{{ username }}/data/user_emails.csv')\n",
    "     # If email exists, print it\n",
    "    if email_dict.get(fullname.lower()):\n",
    "      return email_dict.get(fullname.lower())\n",
    "    else:\n",
    "      return \"No email address found\"\n",
    "  except IndexError:\n",
    "    return \"Missing parameters\"\n",
    "\n",
    "def main():\n",
    "  print(find_email(sys.argv))\n",
    "\n",
    "if __name__ == \"__main__\":\n",
    "  main()"
   ]
  }
 ],
 "metadata": {
  "language_info": {
   "name": "python"
  }
 },
 "nbformat": 4,
 "nbformat_minor": 2
}
