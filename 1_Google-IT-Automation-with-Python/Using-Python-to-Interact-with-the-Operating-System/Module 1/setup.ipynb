{
 "cells": [
  {
   "cell_type": "markdown",
   "metadata": {},
   "source": [
    "# Setting Up a Module"
   ]
  },
  {
   "cell_type": "code",
   "execution_count": 3,
   "metadata": {},
   "outputs": [
    {
     "data": {
      "text/plain": [
       "19763"
      ]
     },
     "execution_count": 3,
     "metadata": {},
     "output_type": "execute_result"
    }
   ],
   "source": [
    "import requests # import a module\n",
    "\n",
    "response = requests.get(\"https://www.google.com/\") # calling a function from the module\n",
    "len(response.text)"
   ]
  },
  {
   "cell_type": "code",
   "execution_count": 4,
   "metadata": {},
   "outputs": [
    {
     "name": "stdout",
     "output_type": "stream",
     "text": [
      "The area of a triangle is 3.0\n",
      "The area of a rectangle is 20\n",
      "The area of a circle is 78.54\n"
     ]
    }
   ],
   "source": [
    "import areas # import area module from areas.py\n",
    "\n",
    "# calling a function from the module\n",
    "print(\"The area of a triangle is\", areas.triangle(2, 3)) # calling triangle function\n",
    "print(f\"The area of a rectangle is {areas.rectangle(4,5)}\")\n",
    "print(\"The area of a circle is {:.2f}\".format(areas.circle(5)))"
   ]
  },
  {
   "cell_type": "code",
   "execution_count": 11,
   "metadata": {},
   "outputs": [
    {
     "name": "stdout",
     "output_type": "stream",
     "text": [
      "usage(total=387405836288, used=343845027840, free=43560808448)\n"
     ]
    },
    {
     "data": {
      "text/plain": [
       "11.244231337706697"
      ]
     },
     "execution_count": 11,
     "metadata": {},
     "output_type": "execute_result"
    }
   ],
   "source": [
    "import shutil # import shutil module\n",
    "du = shutil.disk_usage(\"/\") # calling disk_usage module to calculate disk usage\n",
    "print(du) # print\n",
    "du.free/du.total*100 # free disk space percentage"
   ]
  },
  {
   "cell_type": "code",
   "execution_count": 20,
   "metadata": {},
   "outputs": [
    {
     "data": {
      "text/plain": [
       "11.7"
      ]
     },
     "execution_count": 20,
     "metadata": {},
     "output_type": "execute_result"
    }
   ],
   "source": [
    "import psutil # psutil module\n",
    "psutil.cpu_percent(0.5) # calculating cpu usage percentage with 0.5s as argument"
   ]
  },
  {
   "cell_type": "markdown",
   "metadata": {},
   "source": [
    "## Creating a PC health check\n"
   ]
  },
  {
   "cell_type": "code",
   "execution_count": 22,
   "metadata": {},
   "outputs": [
    {
     "name": "stdout",
     "output_type": "stream",
     "text": [
      "ERROR\n"
     ]
    }
   ],
   "source": [
    "# import module\n",
    "import shutil\n",
    "import psutil\n",
    "\n",
    "# \n",
    "def check_disk_usage(disk):\n",
    "    du = shutil.disk_usage(\"/\")\n",
    "    free = du.free/du.total*100\n",
    "    return free > 20\n",
    "\n",
    "def check_cpu_usage(cpu):\n",
    "    cu = psutil.cpu_percent(1)\n",
    "    return cu < 75\n",
    "\n",
    "if not check_disk_usage(\"/\") or not check_cpu_usage():\n",
    "    print(\"ERROR\")\n",
    "else:\n",
    "    print(\"Everything is Okay\")"
   ]
  },
  {
   "cell_type": "markdown",
   "metadata": {},
   "source": [
    "## Is automation worthwhile?\n",
    "To determine if automating a process would save labor time, use the following formula:\n",
    "\n",
    "__Time_to_automate < (time_to_perform * amount_of_times_done)__\n",
    "\n",
    "Let’s break down this formula and look at an example:\n",
    "\n",
    "A banking company is looking to automate one of its internal processes that takes about 40 minutes each week to complete. The automation process will take 10 hours total to complete. How many weeks will it be before the banking company begins to save time on the process and automation would be worthwhile?\n",
    "\n",
    "time_to_automate = 10 hours\n",
    "\n",
    "time_to_perform = 40 minutes\n",
    "\n",
    "Amount_of_times_done = x \n",
    "\n",
    "Pro tip: Notice that you have two measurements of time. Before plugging values into the formula, convert 10 hours to minutes."
   ]
  },
  {
   "cell_type": "code",
   "execution_count": 45,
   "metadata": {},
   "outputs": [
    {
     "name": "stdout",
     "output_type": "stream",
     "text": [
      "16.0\n"
     ]
    }
   ],
   "source": [
    "def time(auto, week):\n",
    "    while auto*60 > week:\n",
    "        week += week\n",
    "    return week\n",
    "\n",
    "takes = time(10, 40)\n",
    "print((takes/40))"
   ]
  }
 ],
 "metadata": {
  "kernelspec": {
   "display_name": "Python 3",
   "language": "python",
   "name": "python3"
  },
  "language_info": {
   "codemirror_mode": {
    "name": "ipython",
    "version": 3
   },
   "file_extension": ".py",
   "mimetype": "text/x-python",
   "name": "python",
   "nbconvert_exporter": "python",
   "pygments_lexer": "ipython3",
   "version": "3.12.0"
  }
 },
 "nbformat": 4,
 "nbformat_minor": 2
}
