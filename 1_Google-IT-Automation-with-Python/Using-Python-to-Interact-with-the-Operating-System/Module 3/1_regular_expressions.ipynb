{
 "cells": [
  {
   "cell_type": "markdown",
   "metadata": {},
   "source": [
    "## Regular Expressions\n"
   ]
  },
  {
   "cell_type": "markdown",
   "metadata": {},
   "source": [
    "Here the re module is used which lets us use the search function to find regular expressions inside strings. Then, a regular expression is defined r\"|[(\\d+)\\]\", which matches a string enclosed in square brackets followed by one or more digits. \n",
    "\n",
    "Then, it uses the re.search() function to search the string log for a match to the regular expression. The re.search() function returns a Match object if a match is found, or None if no match is found. \n",
    "\n",
    "the re.search() function returns a Match object because the string log contains a match to the regular expression. The Match object has a group() method that returns the captured groups from the match. In this case, the only captured group is the number, which is returned by the result[1] expression."
   ]
  },
  {
   "cell_type": "markdown",
   "metadata": {},
   "source": [
    "## 1. Regex vs Index"
   ]
  },
  {
   "cell_type": "code",
   "execution_count": 1,
   "metadata": {},
   "outputs": [
    {
     "name": "stdout",
     "output_type": "stream",
     "text": [
      "12345\n"
     ]
    }
   ],
   "source": [
    "# Before regex\n",
    "\n",
    "# we want to extract the process identifier([12345])\n",
    "log = \"July 31 07:51:48 mycomputer bad_process[12345]: ERROR Performing package upgrade\"\n",
    "index = log.index(\"[\") # create variable to find an open square bracket character using index\n",
    "print(log[index+1:index+6]) # print the index starting from index+1(index starts from 0), to index+6(6th index is excluded)"
   ]
  },
  {
   "cell_type": "code",
   "execution_count": 4,
   "metadata": {},
   "outputs": [
    {
     "name": "stdout",
     "output_type": "stream",
     "text": [
      "12345\n"
     ]
    }
   ],
   "source": [
    "# after regex\n",
    "import re # import regular expression\n",
    "\n",
    "log = \"July 31 07:51:48 mycomputer bad_process[12345]: ERROR Performing package upgrade\"\n",
    "regex = r\"\\[(\\d+)\\]\"\n",
    "result = re.search(regex, log) # search a regex from the log \n",
    "print(result[1]) "
   ]
  },
  {
   "cell_type": "markdown",
   "metadata": {},
   "source": [
    "## 2. Simple matching in Python"
   ]
  },
  {
   "cell_type": "markdown",
   "metadata": {},
   "source": [
    "## Returns a Match object if there is a match anywhere in the string"
   ]
  },
  {
   "cell_type": "code",
   "execution_count": 5,
   "metadata": {},
   "outputs": [
    {
     "name": "stdout",
     "output_type": "stream",
     "text": [
      "<re.Match object; span=(2, 5), match='aza'>\n"
     ]
    }
   ],
   "source": [
    "import re\n",
    "# print pattern aza inside a string plaza\n",
    "result = re.search(r\"aza\", \"plaza\") # r in r\"aza\" means rawstring, it will print a string without interpreting it (raw)\n",
    "print(result) \n",
    "\n",
    "# spam is the position of the match substring inside the string, it will be different according to the string"
   ]
  },
  {
   "cell_type": "code",
   "execution_count": 24,
   "metadata": {},
   "outputs": [
    {
     "name": "stdout",
     "output_type": "stream",
     "text": [
      "None\n"
     ]
    }
   ],
   "source": [
    "import re\n",
    "result = re.search(r\"aza\", \"mall\") # return none if the string doesn't match the expression\n",
    "print(result) "
   ]
  },
  {
   "cell_type": "markdown",
   "metadata": {},
   "source": [
    "## Starts with\n",
    "If you use the circumflex symbol (also known as a caret symbol) ^ as the first character of your regex, it will match only if the pattern occurs at the start of the string. "
   ]
  },
  {
   "cell_type": "code",
   "execution_count": 7,
   "metadata": {},
   "outputs": [
    {
     "name": "stdout",
     "output_type": "stream",
     "text": [
      "None\n",
      "<re.Match object; span=(0, 1), match='x'>\n"
     ]
    }
   ],
   "source": [
    "print(re.search(r\"^x\", \"xenon\")) # cotains a string that starts with x"
   ]
  },
  {
   "cell_type": "markdown",
   "metadata": {},
   "source": [
    "## Ends with\n",
    "Alternatively, if you use the dollar sign symbol $ at the end of a regex, it will match only if the pattern occurs at the end."
   ]
  },
  {
   "cell_type": "code",
   "execution_count": 23,
   "metadata": {},
   "outputs": [
    {
     "name": "stdout",
     "output_type": "stream",
     "text": [
      "<re.Match object; span=(3, 6), match='aar'>\n"
     ]
    }
   ],
   "source": [
    "import re\n",
    "result = re.search(r\"aar$\", \"bazaar\") # cotains a string that ends with aar\n",
    "print(result)"
   ]
  },
  {
   "cell_type": "markdown",
   "metadata": {},
   "source": [
    "## Any character (except newline character)"
   ]
  },
  {
   "cell_type": "code",
   "execution_count": 29,
   "metadata": {},
   "outputs": [
    {
     "name": "stdout",
     "output_type": "stream",
     "text": [
      "<re.Match object; span=(4, 8), match='ping'>\n",
      "<re.Match object; span=(1, 5), match='poon'>\n",
      "<re.Match object; span=(2, 7), match='ademi'>\n"
     ]
    }
   ],
   "source": [
    "import re\n",
    "print(re.search(r\"p.ng\", \"clapping\")) # cotains any character between p and ng with a certain length\n",
    "print(re.search(r\"p..n\", \"spoong\"))\n",
    "print(re.search(r\"a.e.i\", \"academia\")) # contains the vowels a, e and i, with exactly one occurrence of any other character in between."
   ]
  },
  {
   "cell_type": "markdown",
   "metadata": {},
   "source": [
    "## Case-insensitive matching"
   ]
  },
  {
   "cell_type": "code",
   "execution_count": 25,
   "metadata": {},
   "outputs": [
    {
     "name": "stdout",
     "output_type": "stream",
     "text": [
      "<re.Match object; span=(0, 4), match='Pang'>\n"
     ]
    }
   ],
   "source": [
    "import re\n",
    "# match any string/character between p and ng\n",
    "print(re.search(r\"p.ng\", \"Pangaea\", re.IGNORECASE)) # ignores uppercase or lowercase"
   ]
  },
  {
   "cell_type": "markdown",
   "metadata": {},
   "source": [
    "## 3. Wildcards and character classes"
   ]
  },
  {
   "cell_type": "markdown",
   "metadata": {},
   "source": [
    "## A set of characters"
   ]
  },
  {
   "cell_type": "code",
   "execution_count": 1,
   "metadata": {},
   "outputs": [
    {
     "name": "stdout",
     "output_type": "stream",
     "text": [
      "<re.Match object; span=(0, 6), match='Python'>\n"
     ]
    }
   ],
   "source": [
    "import re\n",
    "print(re.search(r\"[Pp]ython\", \"Python\")) # cotains python and allow both lowercase and uppercase"
   ]
  },
  {
   "cell_type": "markdown",
   "metadata": {},
   "source": [
    "## Character ranges\n",
    "Character ranges can be used to match a single character against a set of possibilities. "
   ]
  },
  {
   "cell_type": "markdown",
   "metadata": {},
   "source": [
    "## Returns a match for any character alphabetically between a and z, \n",
    "## lower case OR upper case"
   ]
  },
  {
   "cell_type": "code",
   "execution_count": 8,
   "metadata": {},
   "outputs": [
    {
     "name": "stdout",
     "output_type": "stream",
     "text": [
      "<re.Match object; span=(18, 22), match='hway'>\n",
      "<re.Match object; span=(0, 4), match='Sway'>\n",
      "None\n",
      "<re.Match object; span=(0, 6), match='cloudy'>\n",
      "<re.Match object; span=(0, 6), match='cloud9'>\n"
     ]
    }
   ],
   "source": [
    "import re\n",
    "print(re.search(r\"[a-z]way\", \"The end of the highway\")) # [a-z]way : cotains any lowercase letter before \"way\" letters\n",
    "print(re.search(r\"[A-Z]way\", \"Sway\")) # [A-Z]way : cotainsany uppercase letter before \"way\" letters\n",
    "print(re.search(r\"[A-Z]way\", \"What a way to go\")) # returns none because there is no uppercase letter before \"way\" in this string\n",
    "\n",
    "print(re.search(\"cloud[a-zA-Z0-9]\", \"cloudy\")) # cotains any lowercase, uppercase, number after the word \"cloud\"\n",
    "print(re.search(\"cloud[a-zA-Z0-9]\", \"cloud9\"))"
   ]
  },
  {
   "cell_type": "markdown",
   "metadata": {},
   "source": [
    "## \tA set of symbols"
   ]
  },
  {
   "cell_type": "code",
   "execution_count": 9,
   "metadata": {},
   "outputs": [
    {
     "name": "stdout",
     "output_type": "stream",
     "text": [
      "True\n",
      "False\n",
      "True\n",
      "True\n",
      "False\n"
     ]
    }
   ],
   "source": [
    "# code to check if the text passed contains punctuation symbols \n",
    "import re\n",
    "def check_punctuation (text):\n",
    "  result = re.search(r\"[,.:;?!]\", text) # checks commas, periods, colons, semicolons, question marks, and exclamation points.\n",
    "  return result != None\n",
    "\n",
    "print(check_punctuation(\"This is a sentence that ends with a period.\")) # True\n",
    "print(check_punctuation(\"This is a sentence fragment without a period\")) # False\n",
    "print(check_punctuation(\"Aren't regular expressions awesome?\")) # True\n",
    "print(check_punctuation(\"Wow! We're really picking up some steam now!\")) # True\n",
    "print(check_punctuation(\"End of the line\")) # False"
   ]
  },
  {
   "cell_type": "markdown",
   "metadata": {},
   "source": [
    "## Returns a match for any character EXCEPT a-z and A-Z"
   ]
  },
  {
   "cell_type": "code",
   "execution_count": 8,
   "metadata": {},
   "outputs": [
    {
     "name": "stdout",
     "output_type": "stream",
     "text": [
      "<re.Match object; span=(4, 5), match=' '>\n",
      "<re.Match object; span=(30, 31), match='.'>\n"
     ]
    }
   ],
   "source": [
    "# [^] : match any characters that aren't in a group.\n",
    "\n",
    "import re\n",
    "print(re.search(r\"[^a-zA-Z]\", \"This is a sentence with spaces.\")) # [^a-zA-Z] : looks for any character thats not a letter\n",
    "print(re.search(r\"[^a-zA-Z ]\", \"This is a sentence with spaces.\")) # [^a-zA-Z ] : looks for any character thats not a letter and not a space\n",
    "\n"
   ]
  },
  {
   "cell_type": "markdown",
   "metadata": {},
   "source": [
    "## 4. Repetition Qualifier"
   ]
  },
  {
   "cell_type": "markdown",
   "metadata": {},
   "source": [
    "## Zero or more occurrences"
   ]
  },
  {
   "cell_type": "code",
   "execution_count": 13,
   "metadata": {},
   "outputs": [
    {
     "name": "stdout",
     "output_type": "stream",
     "text": [
      "<re.Match object; span=(0, 9), match='Pygmalion'>\n",
      "<re.Match object; span=(0, 17), match='Python Programmin'>\n",
      "<re.Match object; span=(0, 6), match='Python'>\n",
      "<re.Match object; span=(0, 3), match='Pyn'>\n"
     ]
    }
   ],
   "source": [
    "import re\n",
    "# the star(*) returns Zero or more occurrences, takes as many characters are possible that matches the expression\n",
    "print(re.search(r\"Py.*n\", \"Pygmalion\")) # returns the whole letter that are in between of \"Py\" and \"n\"\n",
    "print(re.search(r\"Py.*n\", \"Python Programming\")) # returns the whole letter that are in between of \"Py\" and \"n\"\n",
    "\n",
    "print(re.search(r\"Py[a-z]*n\", \"Python Programming\")) # returns all the letter thats lowercase after \"Py\"\n",
    "print(re.search(r\"Py[a-z]*n\", \"Pyn\"))"
   ]
  },
  {
   "cell_type": "markdown",
   "metadata": {},
   "source": [
    "## One or more occurrences"
   ]
  },
  {
   "cell_type": "code",
   "execution_count": 14,
   "metadata": {},
   "outputs": [
    {
     "name": "stdout",
     "output_type": "stream",
     "text": [
      "<re.Match object; span=(1, 3), match='ol'>\n",
      "<re.Match object; span=(1, 5), match='ooll'>\n",
      "None\n"
     ]
    }
   ],
   "source": [
    "import re\n",
    "print(re.search(r\"o+l+\", \"goldfish\")) # the \"+\" match a string if there is One or more occurrences of an o followed by l \n",
    "print(re.search(r\"o++l++\", \"woolly\")) # the plus match a string if there is Two or more occurrences of an o followed by l \n",
    "print(re.search(r\"o+l+\", \"boil\"))"
   ]
  },
  {
   "cell_type": "markdown",
   "metadata": {},
   "source": [
    "## Zero or one occurrences"
   ]
  },
  {
   "cell_type": "code",
   "execution_count": 12,
   "metadata": {},
   "outputs": [
    {
     "name": "stdout",
     "output_type": "stream",
     "text": [
      "<re.Match object; span=(3, 7), match='each'>\n",
      "<re.Match object; span=(7, 12), match='peach'>\n"
     ]
    }
   ],
   "source": [
    "import re\n",
    "print(re.search(r\"p?each\", \"To each their own\")) # match a string if there is Zero or one occurrences of a character before \"each\"\n",
    "print(re.search(r\"p?each\", \"I like peaches\"))"
   ]
  },
  {
   "cell_type": "markdown",
   "metadata": {},
   "source": [
    "## 5. Escaping characters\n",
    "Special characters like dot, star, plus, question mark, circumflex, dollar sign, and square brackets can be used in regular expressions to match different kinds of strings.\n",
    "\n",
    "If we want to match one of these special characters in a string, we need to use an escape character, which is a backslash \"\\\"\n",
    "\n",
    "For example, if we want to match a dot in a string, we would use \\. instead of just a dot. Backslashes can also be used to escape\n",
    "\n",
    "Using raw strings helps avoid confusion because special characters are not interpreted when generating the string, only when parsing the regular expression."
   ]
  },
  {
   "cell_type": "code",
   "execution_count": 3,
   "metadata": {},
   "outputs": [
    {
     "name": "stdout",
     "output_type": "stream",
     "text": [
      "<re.Match object; span=(2, 6), match='lcom'>\n",
      "None\n",
      "<re.Match object; span=(8, 12), match='.com'>\n"
     ]
    }
   ],
   "source": [
    "# match finding character that contains a dot\n",
    "import re\n",
    "print(re.search(r\".com\", \"welcome\")) # match any character instead of characters that have dot\n",
    "print(re.search(r\"\\.com\", \"welcome\"))\n",
    "print(re.search(r\"\\.com\", \"mydomain.com\")) # instead we use backslash to find characters with an actual dot"
   ]
  },
  {
   "cell_type": "code",
   "execution_count": 2,
   "metadata": {},
   "outputs": [
    {
     "name": "stdout",
     "output_type": "stream",
     "text": [
      "<re.Match object; span=(0, 4), match='This'>\n",
      "<re.Match object; span=(0, 19), match='And_this_is_another'>\n"
     ]
    }
   ],
   "source": [
    "# match aplhanumeric(alphabet, letter, symbols, etc.) charater\n",
    "import re\n",
    "print(re.search(r\"\\w*\", \"This is an example\")) # print all the alphanum, it stops after there is a space because space is not alphanum\n",
    "print(re.search(r\"\\w*\", \"And_this_is_another\"))"
   ]
  },
  {
   "cell_type": "code",
   "execution_count": null,
   "metadata": {},
   "outputs": [],
   "source": [
    "# check if the text passed has at least 2 groups of alphanumeric characters (including letters, numbers, and underscores) \n",
    "# separated by one or more whitespace characters.\n",
    "\n",
    "import re\n",
    "def check_character_groups(text):\n",
    "  result = re.search(r\"\\w*\\d+\", text) # \\d is to check if there is one or more whitespace that seperates the alphanumeric char\n",
    "  return result != None\n",
    "\n",
    "print(check_character_groups(\"One\")) # False\n",
    "print(check_character_groups(\"123  Ready Set GO\")) # True\n",
    "print(check_character_groups(\"username user_01\")) # True\n",
    "print(check_character_groups(\"shopping_list: milk, bread, eggs.\")) # False"
   ]
  },
  {
   "cell_type": "markdown",
   "metadata": {},
   "source": [
    "## 6. Regex in Action "
   ]
  },
  {
   "cell_type": "code",
   "execution_count": 4,
   "metadata": {},
   "outputs": [
    {
     "name": "stdout",
     "output_type": "stream",
     "text": [
      "<re.Match object; span=(0, 9), match='Argentina'>\n",
      "<re.Match object; span=(0, 9), match='Azerbaija'>\n",
      "<re.Match object; span=(0, 9), match='Australia'>\n"
     ]
    }
   ],
   "source": [
    "# check if its start and end with an a \n",
    "import re\n",
    "# A.*a, the dot is to look for letter in between A and a, while the star returns the whole letter in between A and a\n",
    "print(re.search(r\"A.*a\", \"Argentina\")) \n",
    "print(re.search(r\"A.*a\", \"Azerbaijan\")) # the n letter at the end is not printed \n",
    "print(re.search(r\"^A.*a$\", \"Australia\")) # the $ sign means that we only want to match lines that begin and end with the letter a   "
   ]
  },
  {
   "cell_type": "markdown",
   "metadata": {},
   "source": [
    "construct a pattern that would validate if the string is a valid variable name in Python.\n",
    "\n",
    "It can contain any number of letters, numbers or underscores, but it can't start with a number."
   ]
  },
  {
   "cell_type": "code",
   "execution_count": 7,
   "metadata": {},
   "outputs": [
    {
     "name": "stdout",
     "output_type": "stream",
     "text": [
      "<re.Match object; span=(0, 30), match='_this_is_a_valid_variable_name'>\n",
      "None\n",
      "<re.Match object; span=(0, 12), match='my_variable1'>\n",
      "None\n"
     ]
    }
   ],
   "source": [
    "import re\n",
    "pattern = r\"^[a-zA-Z_][a-zA-Z0-9_]*$\" # start with [a-zA-Z_] and [a-zA-Z0-9_] at the end\n",
    "print(re.search(pattern, \"_this_is_a_valid_variable_name\")) # can starts with an underscore\n",
    "print(re.search(pattern, \"this isn't a valid variable\")) # none because it contains spaces\n",
    "print(re.search(pattern, \"my_variable1\")) # can ends with a character\n",
    "print(re.search(pattern, \"2my_variable1\")) # none because can't starts with numbers"
   ]
  },
  {
   "cell_type": "markdown",
   "metadata": {},
   "source": [
    "check if the text passed looks like a standard sentence, meaning that it starts with an uppercase letter, followed by at least some lowercase letters or a space, and ends with a period, question mark, or exclamation point. "
   ]
  },
  {
   "cell_type": "code",
   "execution_count": null,
   "metadata": {},
   "outputs": [],
   "source": [
    "import re\n",
    "def check_sentence(text):\n",
    "  result = re.search(r\"^[A-Z][a-z ]*[.?!]$\", text)\n",
    "  return result != None\n",
    "\n",
    "print(check_sentence(\"Is this is a sentence?\")) # True\n",
    "print(check_sentence(\"is this is a sentence?\")) # False\n",
    "print(check_sentence(\"Hello\")) # False\n",
    "print(check_sentence(\"1-2-3-GO!\")) # False\n",
    "print(check_sentence(\"A star is born.\")) # True"
   ]
  }
 ],
 "metadata": {
  "kernelspec": {
   "display_name": "Python 3",
   "language": "python",
   "name": "python3"
  },
  "language_info": {
   "codemirror_mode": {
    "name": "ipython",
    "version": 3
   },
   "file_extension": ".py",
   "mimetype": "text/x-python",
   "name": "python",
   "nbconvert_exporter": "python",
   "pygments_lexer": "ipython3",
   "version": "3.12.0"
  }
 },
 "nbformat": 4,
 "nbformat_minor": 2
}
