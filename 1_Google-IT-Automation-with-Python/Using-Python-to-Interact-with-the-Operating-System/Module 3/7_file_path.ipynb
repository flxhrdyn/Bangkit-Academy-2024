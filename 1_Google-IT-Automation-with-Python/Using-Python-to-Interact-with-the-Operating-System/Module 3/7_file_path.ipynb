{
 "cells": [
  {
   "cell_type": "markdown",
   "metadata": {},
   "source": [
    "# File Path"
   ]
  },
  {
   "cell_type": "markdown",
   "metadata": {},
   "source": [
    "## Windows file directory\n",
    "C:\\my-directory\\target-file.txt\n",
    "\n",
    "## Windows file directory written in Python\n",
    "- C:/my-directory/target-file.txt.\n",
    "\n",
    "- C:\\\\my-directory\\\\target-file.txt\n",
    "\n",
    "## CWD command to use the current directory: \n",
    "os.getcwd()\n",
    "\n",
    "## CWD command for external files:\n",
    "outputs['current_directory_before'] = os.getcwd()"
   ]
  }
 ],
 "metadata": {
  "language_info": {
   "name": "python"
  }
 },
 "nbformat": 4,
 "nbformat_minor": 2
}
