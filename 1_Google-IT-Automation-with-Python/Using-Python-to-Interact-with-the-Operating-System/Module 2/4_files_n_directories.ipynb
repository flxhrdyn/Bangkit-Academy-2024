{
 "cells": [
  {
   "cell_type": "markdown",
   "metadata": {},
   "source": [
    "# Files and Directories\n",
    "Managing files and directories includes creating, deleting, and moving files and directories. It also includes changing ownership and permissions of the files and directories. There are several ways to manage files and directories in Python. \n",
    "\n",
    "One of the easiest ways is to use low-level functions in the OS and SYS modules that closely mimic standard Linux commands such as os.mkdir()and  os.rmdir(). Alternatively, you can utilize the Pathlib module, which provides an object-oriented interface to working with the file systems. \n",
    "\n",
    "Let’s take a look at two examples. The first example uses OS; the second uses Pathlib. These two code examples do the same thing: They create a directory called test1 and move a file named README.md from the sample_data folder into test1."
   ]
  },
  {
   "cell_type": "code",
   "execution_count": null,
   "metadata": {},
   "outputs": [],
   "source": [
    "# Create a directory and move a file from one directory to another\n",
    "# using low-level OS functions.\n",
    "\n",
    "import os\n",
    "\n",
    "# Check to see if a directory named \"test1\" exists under the current\n",
    "# directory. If not, create it:\n",
    "dest_dir = os.path.join(os.getcwd(), \"test1\")\n",
    "if not os.path.exists(dest_dir):\n",
    " os.mkdir(dest_dir)\n",
    "\n",
    "\n",
    "# Construct source and destination paths:\n",
    "src_file = os.path.join(os.getcwd(), \"sample_data\", \"README.md\")\n",
    "dest_file = os.path.join(os.getcwd(), \"test1\", \"README.md\")\n",
    "\n",
    "\n",
    "# Move the file from its original location to the destination:\n",
    "os.rename(src_file, dest_file)"
   ]
  },
  {
   "cell_type": "code",
   "execution_count": null,
   "metadata": {},
   "outputs": [],
   "source": [
    "# Create a directory and move a file from one directory to another\n",
    "# using Pathlib.\n",
    "\n",
    "from pathlib import Path\n",
    "\n",
    "# Check to see if the \"test1\" subdirectory exists. If not, create it:\n",
    "dest_dir = Path(\"./test1/\")\n",
    "if not dest_dir.exists():\n",
    "  dest_dir.mkdir()\n",
    "\n",
    "# Construct source and destination paths:\n",
    "src_file = Path(\"./sample_data/README.md\")\n",
    "dest_file = dest_dir / \"README.md\"\n",
    "\n",
    "# Move the file from its original location to the destination:\n",
    "src_file.rename(dest_file)"
   ]
  }
 ],
 "metadata": {
  "language_info": {
   "name": "python"
  }
 },
 "nbformat": 4,
 "nbformat_minor": 2
}
