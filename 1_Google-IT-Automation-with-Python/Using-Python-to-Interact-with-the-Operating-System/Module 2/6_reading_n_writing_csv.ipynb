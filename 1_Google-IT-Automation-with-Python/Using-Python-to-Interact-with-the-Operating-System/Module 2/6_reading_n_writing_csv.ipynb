{
 "cells": [
  {
   "cell_type": "markdown",
   "metadata": {},
   "source": [
    "# Reading and Writing CSV Files\n",
    "The most common format for importing and exporting data for spreadsheets is a .csv format. A Comma Separated Values (.csv) file is a plain text file that uses—you guessed it—commas to separate each piece of data. You may already be familiar with .csv files if you have saved a spreadsheet in the .csv format."
   ]
  },
  {
   "cell_type": "markdown",
   "metadata": {},
   "source": [
    "## 1. Reading CSV\n",
    "\n",
    "__csv.reader__ This function returns a reader object that iterates over lines in the .csv file.\n",
    "\n",
    "The code read the data from the CSV file csv_file.txt and print the following information for each row:\n",
    "- Name\n",
    "- Phone number\n",
    "- Role\n",
    "\n",
    "Example output:\n",
    "- Name: Sabrina Green, Phone: 802-867-5309, Role: System Administrator\n",
    "- Name: Eli Jones, Phone: 684-3481127, Role: IT specialist\n",
    "- Name: Melody Daniels, Phone: 846-687-7436, Role: Programmer"
   ]
  },
  {
   "cell_type": "code",
   "execution_count": 1,
   "metadata": {},
   "outputs": [
    {
     "name": "stdout",
     "output_type": "stream",
     "text": [
      "Name: Sabrina Green, Phone:  802-867-5309, Role:  System Administrator\n",
      "Name: Eli Jones, Phone:  684-3481127, Role:  IT specialist\n",
      "Name: Melody Daniels, Phone:  846-687-7436, Role:  Programmer\n"
     ]
    }
   ],
   "source": [
    "# import csv module\n",
    "import csv \n",
    "# open the csv file\n",
    "f = open(\"csv_file.txt\")\n",
    "# parse/interpret the file to read the content\n",
    "csv_f = csv.reader(f)\n",
    "\n",
    "# for each row in parsed csv\n",
    "for row in csv_f:\n",
    "    # unpack the values and use variable to refer to each value inside a row\n",
    "    name, phone, role = row \n",
    "    # print the value with the desired format\n",
    "    print(\"Name: {}, Phone: {}, Role: {}\".format(name, phone, role))\n",
    "f.close() # close the file"
   ]
  },
  {
   "cell_type": "markdown",
   "metadata": {},
   "source": [
    "## 2. Generating CSV\n",
    "\n",
    "__csv.writer__ This function returns a writer object that’s responsible for converting the user’s data into delimited strings on the given file-like object."
   ]
  },
  {
   "cell_type": "code",
   "execution_count": 5,
   "metadata": {},
   "outputs": [],
   "source": [
    "import csv\n",
    "\n",
    "# create a list of list\n",
    "hosts = [[\"workstation.local\", \"192.168.25.46\"],[\"webserver.cloud\", \"10.2.5.6\"]]\n",
    "\n",
    "# open the file to write \n",
    "with open('hosts.csv', 'w') as hosts_csv:\n",
    "    # create a variable to write the list into host_csv\n",
    "    writer = csv.writer(hosts_csv) # write the list inside the csv\n",
    "    writer.writerows(hosts) # write all rows at once from the host list"
   ]
  },
  {
   "cell_type": "markdown",
   "metadata": {},
   "source": [
    "## 3. Creating a CSV using csv.DictReader()"
   ]
  },
  {
   "cell_type": "markdown",
   "metadata": {},
   "source": [
    "Here the  code is opening the file and creating a DictReader to process our CSV data, then it’s going through the rows to access information in each row using the keys just like we would when accessing data in the dictionary. "
   ]
  },
  {
   "cell_type": "code",
   "execution_count": 9,
   "metadata": {},
   "outputs": [
    {
     "name": "stdout",
     "output_type": "stream",
     "text": [
      "MailTree has 324 users\n",
      "CalDoor has 22 users\n",
      "Chatty Chicken has 4 users\n"
     ]
    }
   ],
   "source": [
    "#Output name,version,status,users\n",
    "#MailTree,5.34,production,324\n",
    "#CalDoor,1.25.1,beta,22\n",
    "#Chatty Chicken,0.34,alpha,4\n",
    "\n",
    "# open the file\n",
    "with open('software.csv') as software:\n",
    "    reader = csv.DictReader(software) # using dictreader to access csv data\n",
    "    for row in reader: # for each row in the reader\n",
    "        print((\"{} has {} users\").format(row[\"name\"], row[\"users\"])) # access this information using the key inside the csv"
   ]
  },
  {
   "cell_type": "markdown",
   "metadata": {},
   "source": [
    "## 4. Write data from a dictionary into a CSV using DictWriter()"
   ]
  },
  {
   "cell_type": "markdown",
   "metadata": {},
   "source": [
    "Here the code creates a list of dictionaries with the data that we want to store. For this example, we want to store data about the users in our company and the departments that they work in. \n",
    "\n",
    "So here we have our list of dictionaries and each contain the keys, name, username and department. We now want to write this HTML file. So we first define the list of keys that we want to write to the file, then we open the file for writing. \n",
    "\n",
    "Next we created the DictWriter passing the keys that we had identified before, and then we call two different methods on the writer. The writeheader method will create the first line of the CSV based on keys that we passed, and the writerows method will turn the list of dictionaries into lines in that file. "
   ]
  },
  {
   "cell_type": "code",
   "execution_count": 7,
   "metadata": {},
   "outputs": [],
   "source": [
    "# list of dictionaries and each contain the keys, name, username and department.\n",
    "users = [ {\"name\": \"Sol Mansi\", \"username\": \"solm\", \"department\": \"IT infrastructure\"},\n",
    "{\"name\": \"Lio Nelson\", \"username\": \"lion\", \"department\": \"User Experience Research\"},\n",
    "{\"name\": \"Charlie Grey\", \"username\": \"greyc\", \"department\": \"Development\"}]\n",
    "\n",
    "# We now want to write this HTML file. \n",
    "# So we first define the list of keys that we want to write to the file, \n",
    "keys = [\"name\", \"username\", \"department\"]\n",
    "\n",
    "# then we open the file for writing.\n",
    "with open('by_department.csv', 'w') as by_department:\n",
    "    # Next we created the DictWriter passing the keys that we had identified before\n",
    "    writer = csv.DictWriter(by_department, fieldnames=keys) # fieldnames=keys will help DictWriter() organize the CSV rows properly.\n",
    "    writer.writeheader() # he writeheader method will create the first line of the CSV based on keys that we passed\n",
    "    writer.writerows(users) # the writerows method will turn the list of dictionaries into lines in that file. "
   ]
  },
  {
   "cell_type": "code",
   "execution_count": 10,
   "metadata": {},
   "outputs": [
    {
     "name": "stdout",
     "output_type": "stream",
     "text": [
      "Name : Sol Mansi, Username : solm, Dept : IT infrastructure\n",
      "Name : Lio Nelson, Username : lion, Dept : User Experience Research\n",
      "Name : Charlie Grey, Username : greyc, Dept : Development\n"
     ]
    }
   ],
   "source": [
    "with open('by_department.csv') as dept:\n",
    "    reader = csv.DictReader(dept) # using dictreader to access csv \n",
    "    # access this information using the key inside the csv\n",
    "    print((\"Name : {}, Username : {}, Dept : {}\").format(row[\"name\"], row[\"username\"], row[\"department\"])) "
   ]
  },
  {
   "cell_type": "markdown",
   "metadata": {},
   "source": [
    "## 5. Dialects and formatting parameters\n",
    "Dialects are rules that define how a .csv file is structured, and parameters are formed to control the behavior of the .csv reader and writer and live within dialects. The following  features are supported by dialects:\n",
    "\n",
    "- Dialect.delimiter This attribute is a one-character string used to separate fields and defaults to a comma.\n",
    "\n",
    "- Dialect.quotechar  This attribute is a one-character string used to quote fields containing special characters and defaults to ‘ ‘’ ‘.\n",
    "\n",
    "- Dialect.strict  This attribute’s default is False, but when True, exception csv.Error will be raised if an error is detected."
   ]
  },
  {
   "cell_type": "markdown",
   "metadata": {},
   "source": [
    "## 6. Reader objects\n",
    "A reader object contains the following public methods and attributes:\n",
    "\n",
    "- csvreader._next_() This method returns the next row of the reader’s iterable object as a list or a dictionary, parsed properly to the current dialect. Typically, you would call this next(reader).\n",
    "\n",
    "- csvreader.dialect This attribute is a read-only description of the dialect in use by the parser."
   ]
  },
  {
   "cell_type": "markdown",
   "metadata": {},
   "source": [
    "## 7. Writer objects\n",
    "Writer objects provide you the capability to write data to a .csv file. Let’s look at a couple of public methods and attributes for writer objects:\n",
    "\n",
    "- csvwriter.writerows(rows) This method writes all elements in rows to the writer’s file object and formats following the current dialect.\n",
    "\n",
    "- csvwriter.dialect This attribute is a read-only description of the dialect being used by the writer."
   ]
  }
 ],
 "metadata": {
  "kernelspec": {
   "display_name": "Python 3",
   "language": "python",
   "name": "python3"
  },
  "language_info": {
   "codemirror_mode": {
    "name": "ipython",
    "version": 3
   },
   "file_extension": ".py",
   "mimetype": "text/x-python",
   "name": "python",
   "nbconvert_exporter": "python",
   "pygments_lexer": "ipython3",
   "version": "3.12.0"
  }
 },
 "nbformat": 4,
 "nbformat_minor": 2
}
