{
 "cells": [
  {
   "cell_type": "markdown",
   "metadata": {},
   "source": [
    "## Directories\n",
    "Python contains several modules that has a number of built-in functions to manipulate and process data. Python has also provided modules that help us to interact with the operating system and the files. These kinds of modules can be used for directory management also. \n",
    "\n",
    "OS provides functions to create, read, update, and delete directories, as well as change directories and list files. Knowing how to use these functions is key to working with files. For example, os.listdir( path ) returns a list of all files and subdirectories in a directory."
   ]
  },
  {
   "cell_type": "code",
   "execution_count": 2,
   "metadata": {},
   "outputs": [
    {
     "name": "stdout",
     "output_type": "stream",
     "text": [
      "d:\\Programming\\Python\\Google-IT-Automation-with-Python\\Using-Python-to-Interact-with-the-Operating-System\\Module 2\n"
     ]
    }
   ],
   "source": [
    "import os\n",
    "print(os.getcwd()) # This code snippet returns the current working directory."
   ]
  },
  {
   "cell_type": "code",
   "execution_count": 3,
   "metadata": {},
   "outputs": [],
   "source": [
    "os.mkdir(\"new_dir\") # The os.mkdir(\"new_dir\") function creates a new directory called new_dir"
   ]
  },
  {
   "cell_type": "code",
   "execution_count": null,
   "metadata": {},
   "outputs": [],
   "source": [
    "os.chdir(\"new_dir\") # This code snippet changes the current working directory to new_dir.\n",
    "os.getcwd() # The second line prints the current working directory."
   ]
  },
  {
   "cell_type": "code",
   "execution_count": null,
   "metadata": {},
   "outputs": [],
   "source": [
    "os.mkdir(\"newer_dir\") # This code snippet creates a new directory called newer_dir.\n",
    "os.rmdir(\"newer_dir\") # The second line deletes the newer_dir directory.\n"
   ]
  },
  {
   "cell_type": "code",
   "execution_count": null,
   "metadata": {},
   "outputs": [],
   "source": [
    "import os\n",
    "os.listdir(\"website\") #This code snippet returns a list of all the files and sub-directories in the website directory."
   ]
  },
  {
   "cell_type": "markdown",
   "metadata": {},
   "source": [
    "Here is the code all together. This code defines a dir variable with the name of the directory that we want to check. This makes our code more readable and more usable. Then, it iterates through the file names returned by the os.listdir. \n",
    "\n",
    "We know from our previous execution of this function that these are just the names of the files without directory. \n",
    "So using os.path.join, we join the directory to each of those file names and create a String with a valid full name. \n",
    "\n",
    "Finally, we use that full name to call os.path.isdir to check if it's a directory or a file. "
   ]
  },
  {
   "cell_type": "code",
   "execution_count": null,
   "metadata": {},
   "outputs": [],
   "source": [
    "# his code defines a dir variable with the name of the directory that we want to check.\n",
    "dir = \"website\"\n",
    "# Then, it iterates through the file names returned by the os.listdir. \n",
    "for name in os.listdir(dir):\n",
    "    # So using os.path.join, we join the directory to each of those file names and create a String with a valid full name. \n",
    "    fullname = os.path.join(dir, name)\n",
    "    # Finally, we use that full name to call os.path.isdir to check if it's a directory or a file. \n",
    "    if os.path.isdir(fullname):\n",
    "        print(\"{} is a directory\".format(fullname))\n",
    "    else:\n",
    "        print(\"{} is a file\".format(fullname))"
   ]
  }
 ],
 "metadata": {
  "kernelspec": {
   "display_name": "Python 3",
   "language": "python",
   "name": "python3"
  },
  "language_info": {
   "codemirror_mode": {
    "name": "ipython",
    "version": 3
   },
   "file_extension": ".py",
   "mimetype": "text/x-python",
   "name": "python",
   "nbconvert_exporter": "python",
   "pygments_lexer": "ipython3",
   "version": "3.12.0"
  }
 },
 "nbformat": 4,
 "nbformat_minor": 2
}
