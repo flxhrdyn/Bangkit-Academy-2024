{
 "cells": [
  {
   "cell_type": "markdown",
   "metadata": {},
   "source": [
    "# Reading and Writing Files"
   ]
  },
  {
   "cell_type": "markdown",
   "metadata": {},
   "source": [
    "These lines print the first three lines of the file. The readline() method reads one line from the file and returns it as a string. The read() method reads the entire file and returns it as a string. The close() method closes the file.\n",
    "\n",
    "Finally, the line that uses the with statement to open the file spider.txt is in read mode. The as keyword assigns the file object to the variable file. The code block inside the with statement will be executed, and then the file will be closed automatically.  \n",
    "\n",
    "__ALWAYS CLOSE A FILE AFTER USE__"
   ]
  },
  {
   "cell_type": "markdown",
   "metadata": {},
   "source": [
    "## 1. Open-use-close a file\n",
    "Opening a file or file-like object to read or write is one of the fundamental steps of a Python programmer. For example, you may want to read a .csv file and convert it to JSON format. Or you may want to select data from a database and write it to an output file.\n",
    "\n",
    "To read or write a file, use open(). This function includes two arguments: the file path and the mode"
   ]
  },
  {
   "cell_type": "code",
   "execution_count": 1,
   "metadata": {},
   "outputs": [
    {
     "name": "stdout",
     "output_type": "stream",
     "text": [
      "The itsy bitsy spider climbed up the watersprout.\n",
      "\n",
      "Down came the rain\n",
      "\n",
      "And washed the spider out\n",
      "Out came the sun\n",
      "And dried up all the rain\n",
      "And The itsy bitsy spider climbed up the watersprout again\n",
      "The itsy bitsy spider climbed up the watersprout.\n",
      "\n"
     ]
    }
   ],
   "source": [
    "# open the file\n",
    "file = open(\"spider.txt\") # assign a new variable called file to open spider.txt\n",
    "\n",
    "# read a line inside the file and continue to the next line each time the method called\n",
    "print(file.readline()) # read line 1\n",
    "print(file.readline()) # read line 2\n",
    "\n",
    "# the read() method reads from the current position until the end of the file.\n",
    "print(file.read()) # read line 3 until the last line\n",
    "\n",
    "# close the file\n",
    "file.close() \n",
    "\n",
    "# automaticly read and close the file after reading\n",
    "with open(\"spider.txt\") as file:\n",
    "    print(file.readline())"
   ]
  },
  {
   "cell_type": "markdown",
   "metadata": {},
   "source": [
    "## 2. Iterating through files"
   ]
  },
  {
   "cell_type": "code",
   "execution_count": 33,
   "metadata": {},
   "outputs": [
    {
     "name": "stdout",
     "output_type": "stream",
     "text": [
      "THE ITSY BITSY SPIDER CLIMBED UP THE WATERSPROUT.\n",
      "\n",
      "DOWN CAME THE RAIN\n",
      "\n",
      "AND WASHED THE SPIDER OUT\n",
      "\n",
      "OUT CAME THE SUN\n",
      "\n",
      "AND DRIED UP ALL THE RAIN\n",
      "\n",
      "AND THE ITSY BITSY SPIDER CLIMBED UP THE WATERSPROUT AGAIN\n"
     ]
    }
   ],
   "source": [
    "with open(\"spider.txt\") as file:\n",
    "    for line in file: # for each line in files\n",
    "        print(line.upper()) # make each line uppercase"
   ]
  },
  {
   "cell_type": "code",
   "execution_count": 32,
   "metadata": {},
   "outputs": [
    {
     "name": "stdout",
     "output_type": "stream",
     "text": [
      "THE ITSY BITSY SPIDER CLIMBED UP THE WATERSPROUT.\n",
      "DOWN CAME THE RAIN\n",
      "AND WASHED THE SPIDER OUT\n",
      "OUT CAME THE SUN\n",
      "AND DRIED UP ALL THE RAIN\n",
      "AND THE ITSY BITSY SPIDER CLIMBED UP THE WATERSPROUT AGAIN\n"
     ]
    }
   ],
   "source": [
    "with open(\"spider.txt\") as file:\n",
    "    for line in file: # for each line in files\n",
    "        print(line.strip().upper()) # make each line uppercase and strip the whitespaces between the line"
   ]
  },
  {
   "cell_type": "code",
   "execution_count": 31,
   "metadata": {},
   "outputs": [
    {
     "name": "stdout",
     "output_type": "stream",
     "text": [
      "['And The itsy bitsy spider climbed up the watersprout again', 'And dried up all the rain\\n', 'And washed the spider out\\n', 'Down came the rain\\n', 'Out came the sun\\n', 'The itsy bitsy spider climbed up the watersprout.\\n']\n"
     ]
    }
   ],
   "source": [
    "file = open(\"spider.txt\")\n",
    "lines = file.readlines() # turn all the line into a string inside a list\n",
    "lines.sort() # sort the list\n",
    "print(lines) "
   ]
  },
  {
   "cell_type": "markdown",
   "metadata": {},
   "source": [
    "## 3. File Mode\n",
    "The with open() statement creates a file object and assigns it to the variable file. The open() function takes two arguments: the name of the file and the mode. \n",
    "\n",
    "The mode argument is optional, and it specifies the mode in which the file is opened. If omitted, it defaults to ”r” and that means opening for reading in text mode. The common modes include:\n",
    "- “r”  open for reading (default)\n",
    "- “w”  open for writing, truncating the file first\n",
    "- “x”  open for exclusive creation, failing if the file already exists\n",
    "- “a”  open for writing, appending to the end of the file if it exists\n",
    "- “+”  open for both reading and writing\n",
    "\n",
    "Attempting to write to a file opened for read (“r”) will cause a runtime error.\n",
    "\n",
    "In this case, the mode is w, which means \"write\". This tells the open() function to __create a new file if it doesn't exist, or to overwrite the existing file__ if it does exist."
   ]
  },
  {
   "cell_type": "code",
   "execution_count": 36,
   "metadata": {},
   "outputs": [],
   "source": [
    "with open(\"new_line.txt\", \"w\") as file:\n",
    "    file.write(\"This is a new line that overwrite all the old lines\")\n",
    "    "
   ]
  }
 ],
 "metadata": {
  "kernelspec": {
   "display_name": "Python 3",
   "language": "python",
   "name": "python3"
  },
  "language_info": {
   "codemirror_mode": {
    "name": "ipython",
    "version": 3
   },
   "file_extension": ".py",
   "mimetype": "text/x-python",
   "name": "python",
   "nbconvert_exporter": "python",
   "pygments_lexer": "ipython3",
   "version": "3.12.0"
  }
 },
 "nbformat": 4,
 "nbformat_minor": 2
}
