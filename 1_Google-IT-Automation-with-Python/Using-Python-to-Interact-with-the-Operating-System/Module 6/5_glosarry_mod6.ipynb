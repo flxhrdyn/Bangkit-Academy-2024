{
 "cells": [
  {
   "cell_type": "markdown",
   "metadata": {},
   "source": [
    "# Terms and definitions from Course 2, Module 6\n",
    "- Bash script: A script that contains multiple commands\n",
    "\n",
    "- Cut: A command that can split and take only bits of each line using spaces\n",
    "\n",
    "- Globs: Characters that create list of files, like the star and question mark \n",
    "\n",
    "- Pipes: A process of connecting the output of one program to the input of another\n",
    "\n",
    "- Piping: A process of connecting multiple scripts, commands, or other programs together into a data processing pipeline\n",
    "\n",
    "- Redirection: A process of sending a stream to a different destination\n",
    "\n",
    "- Signals: Tokens delivered to running processes to indicate a desired action"
   ]
  }
 ],
 "metadata": {
  "language_info": {
   "name": "python"
  }
 },
 "nbformat": 4,
 "nbformat_minor": 2
}
