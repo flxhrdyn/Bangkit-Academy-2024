{
 "cells": [
  {
   "cell_type": "markdown",
   "metadata": {},
   "source": [
    "# Advanced Bash Concepts"
   ]
  },
  {
   "cell_type": "markdown",
   "metadata": {},
   "source": [
    "## 1. While loops in Bash scripts"
   ]
  },
  {
   "cell_type": "code",
   "execution_count": null,
   "metadata": {},
   "outputs": [],
   "source": [
    "while [ $n -le 5 ]; do\n",
    "  echo \"Iteration number $n\"\n",
    "  ((n+=1))\n",
    "done\n",
    "\n",
    "# ./while.sh"
   ]
  },
  {
   "cell_type": "markdown",
   "metadata": {},
   "source": [
    "Code output:\n",
    "\n",
    "Iteration number 1\n",
    "\n",
    "Iteration number 2\n",
    "\n",
    "Iteration number 3\n",
    "\n",
    "Iteration number 4\n",
    "\n",
    "Iteration number 5"
   ]
  },
  {
   "cell_type": "code",
   "execution_count": null,
   "metadata": {},
   "outputs": [],
   "source": [
    "#!/usr/bin/env python\n",
    "\n",
    "import random\n",
    "\n",
    "value=random.randint(0, 3)\n",
    "\n",
    "print(\"Returning: \" + str(value))\n",
    "\n",
    "sys.exit(value)\n",
    "\n",
    "# ./random-exit.py\n",
    "# ./random-exit.py\n",
    "# ./random-exit.py"
   ]
  },
  {
   "cell_type": "markdown",
   "metadata": {},
   "source": [
    "Code output:\n",
    "\n",
    "Returning: 3\n",
    "\n",
    "Returning: 2\n",
    "\n",
    "Returning: 0"
   ]
  },
  {
   "cell_type": "code",
   "execution_count": null,
   "metadata": {},
   "outputs": [],
   "source": [
    "#!/bin/bash\n",
    "\n",
    "n=0\n",
    "command=$1\n",
    "while ! $command && [ $n -le 5 ]; do\n",
    "        sleep $n\n",
    "        ((n+=1))\n",
    "        echo \"Retry #$n\"\n",
    "done;\n",
    "\n",
    "# ./retry.sh ./random"
   ]
  },
  {
   "cell_type": "markdown",
   "metadata": {},
   "source": [
    "Code output:\n",
    "\n",
    "Returning: 3\n",
    "\n",
    "Retry #1\n",
    "\n",
    "Returning: 3\n",
    "\n",
    "Retry #2\n",
    "\n",
    "Returning: 1\n",
    "\n",
    "Retry #3\n",
    "\n",
    "Returning: 3\n",
    "\n",
    "Retry #4\n",
    "\n",
    "Returning: 0"
   ]
  },
  {
   "cell_type": "markdown",
   "metadata": {},
   "source": [
    "## 2. For Loop in Bash Scripts"
   ]
  },
  {
   "cell_type": "code",
   "execution_count": null,
   "metadata": {},
   "outputs": [],
   "source": [
    "#!/bin/bash\n",
    "\n",
    "for fruit in peach orange pear; do\n",
    "\n",
    "        echo \"I like $fruit!\"\n",
    "\n",
    "# ./fruits.sh "
   ]
  },
  {
   "cell_type": "markdown",
   "metadata": {},
   "source": [
    "Code output:\n",
    "\n",
    "I like peach!\n",
    "\n",
    "I like orange!\n",
    "\n",
    "I like pear!"
   ]
  },
  {
   "cell_type": "code",
   "execution_count": null,
   "metadata": {},
   "outputs": [],
   "source": [
    "# cd old_website/\n",
    "# /old_website$ ls -l"
   ]
  },
  {
   "cell_type": "markdown",
   "metadata": {},
   "source": [
    "Code output:\n",
    "\n",
    "total 0\n",
    "\n",
    "-rw-r--r-- 1 user user 0 May 24 10:19 about.HTM\n",
    "\n",
    "-rw-r--r-- 1 user user 0 May 24 10:20 contact.HTM\n",
    "\n",
    "-rw-r--r-- 1 user user 0 May 24 10:20 footer.HTM\n",
    "\n",
    "-rw-r--r-- 1 user user 0 May 24 10:20 header.HTM\n",
    "\n",
    "-rw-r--r-- 1 user user 0 May 24 10:19 index.HTM"
   ]
  },
  {
   "cell_type": "code",
   "execution_count": null,
   "metadata": {},
   "outputs": [],
   "source": [
    "/old_website$ basename index.HTM .HTM"
   ]
  },
  {
   "cell_type": "markdown",
   "metadata": {},
   "source": [
    "About this code\n",
    "\n",
    "This command takes a filename and an extension, and then returns the name without the extension."
   ]
  },
  {
   "cell_type": "code",
   "execution_count": null,
   "metadata": {},
   "outputs": [],
   "source": [
    "# actual script\n",
    "#!/bin/bash\n",
    "\n",
    "for file in *.HTM; do\n",
    "        name=$(basename \"$file\" .HTM)\n",
    "        mv \"$file\" \"$name.html\" # rename the file\n",
    "done \n",
    "\n",
    "# Testing script\n",
    "#!/bin/bash\n",
    "\n",
    "for file in *.HTM; do\n",
    "        name=$(basename \"$file\" .HTM)\n",
    "        echo mv \"$file\" \"$name.html\" # to check if the function works\n",
    "done"
   ]
  },
  {
   "cell_type": "markdown",
   "metadata": {},
   "source": [
    "About this code\n",
    "\n",
    "The script iterates through all files with the \".HTM\" extension in the current directory. For each file, it extracts the filename without the extension and generates the new filename with the \".html\" extension. Finally, it prints the mv command that would rename the original file to the new filename.\n",
    "\n",
    "Note: This script only prints the mv commands. To actually rename the files, you need to execute the script by running chmod +x script.sh && ./script.sh where script.sh is the name of the script file."
   ]
  },
  {
   "cell_type": "code",
   "execution_count": null,
   "metadata": {},
   "outputs": [],
   "source": [
    "/old_website$ chmod +x rename.sh\n",
    "/old_website$ ./rename.sh "
   ]
  },
  {
   "cell_type": "markdown",
   "metadata": {},
   "source": [
    "About this code\n",
    "\n",
    "Here the script gets saved as rename.sh\n",
    "\n",
    "Code output:\n",
    "\n",
    "mv about.HTM about.html\n",
    "\n",
    "mv contact.HTM contact.html\n",
    "\n",
    "mv footer.HTM footer.html\n",
    "\n",
    "mv header.HTM header.html\n",
    "\n",
    "mv index.HTM index.html"
   ]
  },
  {
   "cell_type": "code",
   "execution_count": null,
   "metadata": {},
   "outputs": [],
   "source": [
    "/old_website$ ./rename.sh \n",
    "/old_website$\n",
    "/old_website$ ls -l"
   ]
  },
  {
   "cell_type": "markdown",
   "metadata": {},
   "source": [
    "About this code\n",
    "\n",
    "These commands won’t print anything. That's expected because these commands don't print anything when they succeed."
   ]
  },
  {
   "cell_type": "code",
   "execution_count": null,
   "metadata": {},
   "outputs": [],
   "source": [
    "ls -l "
   ]
  },
  {
   "cell_type": "markdown",
   "metadata": {},
   "source": [
    "About this code\n",
    "\n",
    "ls -l is a command in Linux and Unix systems used to list the contents of a directory in a long format. This format provides detailed information about each file\n",
    "\n",
    "Code output:\n",
    "\n",
    "total 4\n",
    "\n",
    "-rw-r--r-- 1 user user  0 May 24 10:19 about.html\n",
    "\n",
    "-rw-r--r-- 1 user user  0 May 24 10:20 contact.html\n",
    "\n",
    "-rw-r--r-- 1 user user  0 May 24 10:20 footer.html\n",
    "\n",
    "-rw-r--r-- 1 user user  0 May 24 10:20 header.html\n",
    "\n",
    "-rw-r--r-- 1 user user  0 May 24 10:19 index.html\n",
    "\n",
    "-rwxr-xr-x 1 user user 90 May 24 10:40 rename.sh\n",
    "\n"
   ]
  }
 ],
 "metadata": {
  "kernelspec": {
   "display_name": "Python 3",
   "language": "python",
   "name": "python3"
  },
  "language_info": {
   "codemirror_mode": {
    "name": "ipython",
    "version": 3
   },
   "file_extension": ".py",
   "mimetype": "text/x-python",
   "name": "python",
   "nbconvert_exporter": "python",
   "pygments_lexer": "ipython3",
   "version": "3.12.0"
  }
 },
 "nbformat": 4,
 "nbformat_minor": 2
}
