{
 "cells": [
  {
   "cell_type": "markdown",
   "metadata": {},
   "source": [
    "# Basic Linux commands"
   ]
  },
  {
   "cell_type": "markdown",
   "metadata": {},
   "source": [
    "Basic Linux commands are beneficial to developers when interacting with a Linux operating system through the command line interface. They are used when working with files and directories. Typically, they are easy to learn and apply, and provide developers with additional commands for more advanced situations. If needed, these commands are also easy to look up on your preferred search engine.\n",
    "\n",
    "In this reading, you will review basic Linux commands with examples provided along the way."
   ]
  },
  {
   "cell_type": "markdown",
   "metadata": {},
   "source": [
    "## 1. Managing files and directories\n",
    "Many applications configure themselves by reading files. They are designed to read and write files in specific directories. Because of this, developers need to understand how to move and rename files, change their permissions, and do simple operations on their contents. Here are some common commands:\n",
    "\n",
    "1. mv is used to move one or more files to a different directory, rename a file, or both at the same time.\n",
    "\n",
    "    Note: Linux is case-sensitive, so mv can also be used to change the case of a filename.\n",
    "- mv myfile.txt dir1/ This command moves a file to the directory.\n",
    "- mv file1.txt file2.txt file3.txt dir1/ This command moves multiple files.\n",
    "\n",
    "2. cp is used to copy one or more files. Some examples include:\n",
    "- cp file1.txt file2.txt \n",
    "- cp file1.txt file2.txt file3.txt dir1/\n",
    "\n",
    "3. chmod/chown/chgrp is used to make a file readable to everyone on the system before moving it to a public directory. A common example is:\n",
    "- chmod +r file.html && mv file.html /var/www/html/index.html \n"
   ]
  },
  {
   "cell_type": "markdown",
   "metadata": {},
   "source": [
    "## 2. Operating with the content of files\n",
    "Every programmer will use files for something. Whether it’s for configuration, data, or input and output, programmers work with files and need to know how to operate with their contents.\n",
    "\n",
    "1. cut is a command that extracts fields from a data file. Two examples are:\n",
    "- cut -f1 -d”,” addressbook.csv This command extracts the first field from a .csv file.\n",
    "- cut -c1-3,5-7,9-12 phones.txt This command extracts only the digits from a list of phone numbers.\n",
    "\n",
    "2. sort is a command that sorts the contents of a file. Some examples include:\n",
    "- sort names.txt This command sorts inputs alphabetically.\n",
    "- sort -r names.txt This command sorts inputs in reverse alphabetical order, starting with the letter z. \n",
    "- sort -n numbers.txt This command treats the inputs as numbers and then sorts them numerically.\n",
    "\n",
    "Some examples that include combining multiple commands are:\n",
    "\n",
    "- ls -l | cut -w -f5,9 | sort -rn | head -10 This command displays the 10 largest files in the current directory.\n",
    "- cut -f1-2 -d”,” addressbook.csv | sort This command extracts the first and last names from a .csv file and sorts them."
   ]
  },
  {
   "cell_type": "markdown",
   "metadata": {},
   "source": [
    "## 3. Additional commands\n",
    "Additional commands that programmers commonly use are:\n",
    "\n",
    "1. id  is a command that prints information about the current user. This command is useful if you are getting a permissions denied error and think you should be granted access to a file.\n",
    "\n",
    "- $ id\n",
    "\n",
    "    uid=3000(tradel) gid=3000(tradel) groups=3000(tradel),0(root),100(users),545(builtin_users),999(docker)\n",
    "\n",
    "2. free is a command that prints information about memory on the current system.\n",
    "\n",
    "- free -h This command prints in human-readable units instead of bytes."
   ]
  },
  {
   "cell_type": "markdown",
   "metadata": {},
   "source": [
    "# Redirections, Pipes, and Signals"
   ]
  },
  {
   "cell_type": "markdown",
   "metadata": {},
   "source": [
    "## 1. Managing streams\n",
    "These are the redirectors that we can use to take control of the streams of our programs\n",
    "- command > file: redirects standard output, overwrites file\n",
    "- command >> file: redirects standard output, appends to file\n",
    "- command < file: redirects standard input from file\n",
    "- command 2> file: redirects standard error to file\n",
    "- command1 | command2: connects the output of command1 to the input of command2"
   ]
  },
  {
   "cell_type": "markdown",
   "metadata": {},
   "source": [
    "## 2. Operating with processes\n",
    "These are some commands that are useful to know in Linux when interacting with processes. Not all of them are explained in videos, so feel free to investigate them on your own.\n",
    "\n",
    "- ps: lists the processes executing in the current terminal for the current user\n",
    "\n",
    "- ps ax: lists all processes currently executing for all users  \n",
    "\n",
    "- ps e: shows the environment for the processes listed  \n",
    "\n",
    "- kill PID: sends the SIGTERM signal to the process identified by PID\n",
    "\n",
    "- fg: causes a job that was stopped or in the background to return to the foreground\n",
    "\n",
    "- bg: causes a job that was stopped to go to the background\n",
    "\n",
    "- jobs: lists the jobs currently running or stopped\n",
    "\n",
    "- top: shows the processes currently using the most CPU time (press \"q\" to quit)"
   ]
  }
 ],
 "metadata": {
  "language_info": {
   "name": "python"
  }
 },
 "nbformat": 4,
 "nbformat_minor": 2
}
