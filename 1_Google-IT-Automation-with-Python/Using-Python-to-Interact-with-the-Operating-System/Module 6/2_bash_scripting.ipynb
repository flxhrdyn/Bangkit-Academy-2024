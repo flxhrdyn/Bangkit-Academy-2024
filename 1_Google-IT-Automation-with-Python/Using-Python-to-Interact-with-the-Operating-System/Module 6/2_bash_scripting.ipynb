{
 "cells": [
  {
   "cell_type": "markdown",
   "metadata": {},
   "source": [
    "# Bash Scripting"
   ]
  },
  {
   "cell_type": "markdown",
   "metadata": {},
   "source": [
    "## 1. Creating bash scripting"
   ]
  },
  {
   "cell_type": "code",
   "execution_count": null,
   "metadata": {},
   "outputs": [],
   "source": [
    "#!/bin/bash\n",
    "\n",
    "# print date\n",
    "echo \"Starting at: $(date)\" \n",
    "echo\n",
    "\n",
    "# print uptime\n",
    "echo \"UPTIME\"\n",
    "uptime\n",
    "echo\n",
    "\n",
    "# prints free memory\n",
    "echo \"FREE\"\n",
    "free\n",
    "echo\n",
    "\n",
    "# prints user accounts\n",
    "echo \"WHO\"\n",
    "who\n",
    "echo\n",
    "\n",
    "echo \"Finishing at: $(date)\"\n",
    "\n",
    "# run the file\n",
    "# ./gather-information.sh "
   ]
  },
  {
   "cell_type": "code",
   "execution_count": null,
   "metadata": {},
   "outputs": [],
   "source": [
    "# Another version with the same output\n",
    "\n",
    "#!/bin/bash\n",
    "\n",
    "echo \"Starting at: $(date)\"; echo\n",
    "\n",
    "echo \"UPTIME\"; uptime; echo\n",
    "\n",
    "echo \"FREE\"; free; echo\n",
    "\n",
    "echo \"WHO\"; who; echo\n",
    "\n",
    "echo \"Finishing at: $(date)\"\n",
    "\n",
    "# run the file\n",
    "# ./gather-information.sh "
   ]
  },
  {
   "cell_type": "markdown",
   "metadata": {},
   "source": [
    "Code output:\n",
    "\n",
    "Starting at: Mi 22. Mai 17:13:06 CEST 2019\n",
    "\n",
    "UPTIME\n",
    "\n",
    " 17:13:06 up 8 days,  1:34,  2 users,  load average: 0,00, 0,00, 0,00\n",
    "\n",
    "FREE\n",
    "\n",
    "              total        used        free      shared  buff/cache   available\n",
    "\n",
    "Mem:        4037132      871336      253940       10032     2911856     2865984\n",
    "\n",
    "Swap:       2097148        4364     2092784\n",
    "\n",
    "WHO\n",
    "\n",
    "user     :0           2019-05-14 15:39 (:0)\n",
    "\n",
    "user     pts/1        2019-05-14 15:40 (192.168.122.1)\n",
    "\n",
    "Finishing at: Mi 22. Mai 17:13:06 CEST 2019"
   ]
  },
  {
   "cell_type": "markdown",
   "metadata": {},
   "source": [
    "## 2. Using variables and globs"
   ]
  },
  {
   "cell_type": "code",
   "execution_count": null,
   "metadata": {},
   "outputs": [],
   "source": [
    "example=hello # cant have spaces when assigning variables\n",
    "echo $example"
   ]
  },
  {
   "cell_type": "markdown",
   "metadata": {},
   "source": [
    "Code output: \n",
    "\n",
    "hello"
   ]
  },
  {
   "cell_type": "code",
   "execution_count": null,
   "metadata": {},
   "outputs": [],
   "source": [
    "example = hello # error if there is any spaces "
   ]
  },
  {
   "cell_type": "markdown",
   "metadata": {},
   "source": [
    "Code output:\n",
    "\n",
    "Command ‘example’ not found, did you mean:\n",
    "\n",
    "\tCommand ‘gexample’ from deb pvm-examples (3.4.6-2build1)\n",
    "\n",
    "Try: sudo apt install <deb name>"
   ]
  },
  {
   "cell_type": "code",
   "execution_count": null,
   "metadata": {},
   "outputs": [],
   "source": [
    "#!/bin/bash\n",
    "\n",
    "line=\"-------------------------------------------------\" # line variable\n",
    "\n",
    "echo \"Starting at: $(date)\"; echo $line\n",
    "\n",
    "echo \"UPTIME\"; uptime; echo $line\n",
    "\n",
    "echo \"FREE\"; free; echo $line\n",
    "\n",
    "echo \"WHO\"; who; echo $line\n",
    "\n",
    "echo \"Finishing at: $(date)\""
   ]
  },
  {
   "cell_type": "markdown",
   "metadata": {},
   "source": [
    "Code output:\n",
    "\n",
    "Starting at: Mi 22. Mai 17:30:30 CEST 2019\n",
    "\n",
    "-------------------------------------------------\n",
    "\n",
    "UPTIME\n",
    "\n",
    " 17:30:30 up 8 days,  1:51,  2 users,  load average: 0,00, 0,00, 0,00\n",
    "\n",
    "-------------------------------------------------\n",
    "\n",
    "FREE\n",
    "\n",
    "            total        used        free        shared   buff/cache   available\n",
    "\n",
    "Mem:        4037132      862132      444720       10032     2730280     2875336\n",
    "\n",
    "Swap:       2097148        6156     2090992\n",
    "\n",
    "-------------------------------------------------\n",
    "\n",
    "WHO\n",
    "\n",
    "user     :0           2019-05-14 15:39 (:0)\n",
    "\n",
    "user     pts/1        2019-05-14 15:40 (192.168.122.1)\n",
    "\n",
    "-------------------------------------------------\n",
    "\n",
    "Finishing at: Mi 22. Mai 17:30:30 CEST 2019"
   ]
  },
  {
   "cell_type": "code",
   "execution_count": null,
   "metadata": {},
   "outputs": [],
   "source": [
    "echo *.py"
   ]
  },
  {
   "cell_type": "markdown",
   "metadata": {},
   "source": [
    "About this code\n",
    "\n",
    "When we write star dot py [*.py], the shell turns it into a list containing all filenames that end with py in the current directory. We can also put the star at the end of an expression to get a list of all files that start with a certain prefix.\n",
    "\n",
    "Code output: \n",
    "\n",
    "action_deprecation.py areas.py capitalize.py charfreq.py  check_deprecation.py health_checks.py hello.py mycheck.py seconds.py  stdout_example.py streams.py test.py validations.py"
   ]
  },
  {
   "cell_type": "code",
   "execution_count": null,
   "metadata": {},
   "outputs": [],
   "source": [
    "echo c*"
   ]
  },
  {
   "cell_type": "markdown",
   "metadata": {},
   "source": [
    "About this code\n",
    "\n",
    "c* allows us to get all the files in the current directory that start with c.\n",
    "\n",
    "Code output:\n",
    "\n",
    "capitalize.py charfreq.py check_localhost.sh"
   ]
  },
  {
   "cell_type": "code",
   "execution_count": null,
   "metadata": {},
   "outputs": [],
   "source": [
    "echo *"
   ]
  },
  {
   "cell_type": "markdown",
   "metadata": {},
   "source": [
    "About this code\n",
    "\n",
    "The star with no prefix or suffix matches all the files in the current directory.\n",
    "\n",
    "Code output:\n",
    "\n",
    "(... all the files ...)"
   ]
  },
  {
   "cell_type": "code",
   "execution_count": null,
   "metadata": {},
   "outputs": [],
   "source": [
    "echo ?????.py"
   ]
  },
  {
   "cell_type": "markdown",
   "metadata": {},
   "source": [
    "The question mark symbol can be used to match exactly one character, instead of any amount of characters.We can repeat it as many times as we need. In this example, we can get the Python files with five characters in their name by using five question marks together.\n",
    "\n",
    "Code output:\n",
    "\n",
    "areas.py hello.py"
   ]
  },
  {
   "cell_type": "markdown",
   "metadata": {},
   "source": [
    "## 3. Conditional execution in Bash"
   ]
  },
  {
   "cell_type": "code",
   "execution_count": null,
   "metadata": {},
   "outputs": [],
   "source": [
    "# cat check_localhost.sh "
   ]
  },
  {
   "cell_type": "markdown",
   "metadata": {},
   "source": [
    "About this code\n",
    "\n",
    "Here  we’ll start with the if  keyword, followed by the grep command. This is how we’ll check for success. At the end of the command, we have a semicolon [;], followed by the word then. After that comes the body of the conditional. "
   ]
  },
  {
   "cell_type": "code",
   "execution_count": null,
   "metadata": {},
   "outputs": [],
   "source": [
    "#!/bin/bash\n",
    "\n",
    "if grep \"127\\.0\\.0\\.1\" /etc/hosts; then\n",
    "\n",
    "\techo \"Everything ok\"\n",
    "\n",
    "else\n",
    "\n",
    "\techo \"ERROR! 127.0.0.1 is not in /etc/hosts\"\n",
    "\n",
    "fi\n",
    "\n",
    "# ./check_localhost.sh "
   ]
  },
  {
   "cell_type": "markdown",
   "metadata": {},
   "source": [
    "Code output:\n",
    "\n",
    "127.0.0.1\tlocalhost\n",
    "\n",
    "Everything ok"
   ]
  },
  {
   "cell_type": "code",
   "execution_count": null,
   "metadata": {},
   "outputs": [],
   "source": [
    "if test -n \"$PATH\"; then echo \"Your path is not empty\"; fi"
   ]
  },
  {
   "cell_type": "markdown",
   "metadata": {},
   "source": [
    "Code output:\n",
    "\n",
    "Your path is not empty"
   ]
  },
  {
   "cell_type": "code",
   "execution_count": null,
   "metadata": {},
   "outputs": [],
   "source": [
    "if [ -n \"$PATH\" ]; then echo \"Your path is not empty\"; fi"
   ]
  },
  {
   "cell_type": "markdown",
   "metadata": {},
   "source": [
    "Code output:\n",
    "\n",
    "Your path is not empty"
   ]
  }
 ],
 "metadata": {
  "language_info": {
   "name": "python"
  }
 },
 "nbformat": 4,
 "nbformat_minor": 2
}
