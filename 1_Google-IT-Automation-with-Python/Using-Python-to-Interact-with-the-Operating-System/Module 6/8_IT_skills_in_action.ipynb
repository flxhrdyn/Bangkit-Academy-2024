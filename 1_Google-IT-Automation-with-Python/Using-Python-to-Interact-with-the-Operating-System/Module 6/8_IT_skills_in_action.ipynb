{
 "cells": [
  {
   "cell_type": "markdown",
   "metadata": {},
   "source": [
    "# IT skills in action reading\n",
    "Congratulations! You have gained so much knowledge about using Python to interact with your operating system. There are many technical pieces that are included while using regexes in your code, but how would you apply the skills you learned in a professional setting?\n",
    "\n",
    "In this reading, you will review an example of how regular expressions are used in the real world.\n",
    "\n",
    "Disclaimer: The following scenario is based on a fictitious company called LogicLink Innovations."
   ]
  },
  {
   "cell_type": "markdown",
   "metadata": {},
   "source": [
    "## Time is ticking\n",
    "Dakota is a fairly new programmer with his company. He just earned a spot on the project for LogicLink Innovations. This is one of the biggest and most credible companies in the industry, so Dakota knows he has to excel on this project to help make a name for himself. LogicLink Innovations manages customer data and has hundreds of customer phone numbers in its database. The phone numbers are in inconsistent formats. Some are written with dashes, some in parentheses with spaces, and some are just digits. Dakota sees this:\n",
    "\n",
    "123-456-7890\n",
    "\n",
    "(123) 456-7890\n",
    "\n",
    "1234567890\n",
    "\n",
    "\n",
    "Dakota is assigned to take the dataset containing phone numbers and organize the formatting so they are all consistent. His manager tells him they need it by the end of the week! There is no way Dakota can work through and edit hundreds of phone numbers. There has to be another way."
   ]
  },
  {
   "cell_type": "markdown",
   "metadata": {},
   "source": [
    "## Search and replace\n",
    "Dakota remembers reading about how other programmers use regular expressions to make their coding life easier. He knows there has to be one that can help him with his dilemma. This can’t be the first time a programmer needs to standardize numbers! He decides to craft a regular expression that captures three groups of digits, each of which might be surrounded by non-digit characters.\n",
    "\n",
    "\n",
    "Using a regex tool and the sample data from above, he eventually comes up with a regex that matches all three samples:\n",
    "\n",
    "__^\\D*(\\d{3})\\D*(\\d{3})\\D*(\\d{4})$__"
   ]
  },
  {
   "cell_type": "markdown",
   "metadata": {},
   "source": [
    "Let’s break down this line of code, piece by piece:\n",
    "\n",
    "- __^\\D*__ This part of the code matches zero or more non-digit characters at the beginning of the string.\n",
    "\n",
    "- __(\\d{3})__ This part of the code captures exactly three digits, which represent the area code.\n",
    "\n",
    "- __\\D*__ This part of the code matches zero or more non-digit characters between the area code and exchange.\n",
    "\n",
    "- __(\\d{3})__ This part of the code captures the three-digit exchange.\n",
    "\n",
    "- __\\D*__ This part of the code matches zero or more non-digit characters between the exchange and line.\n",
    "\n",
    "- __(\\d{4})$__ This part of the code captures exactly four digits at the end of the string."
   ]
  },
  {
   "cell_type": "markdown",
   "metadata": {},
   "source": [
    "Now he has three capture groups: area code, exchange, and number. He then substitutes those groups into a new string using backreferences:\n",
    "\n",
    "__(\\1) \\2-\\3__\n",
    "\n",
    "\n",
    "This puts all of the phone numbers into a uniform format.\n",
    "\n",
    "\n",
    "This regular expression helps Dakota by searching for phone numbers in different formats and replacing them to match the format that Dakota’s manager needs: (123) 456-7890. Dakota begins to code.\n",
    "\n",
    "\n",
    "He writes up a simple Python script to read the dataset from a file and output the corrected phone numbers using his regular expressions:"
   ]
  },
  {
   "cell_type": "code",
   "execution_count": null,
   "metadata": {},
   "outputs": [],
   "source": [
    "import re\n",
    "with open(\"data/phones.csv\", \"r\") as phones:\n",
    "\n",
    " for phone in phones:\n",
    "\n",
    "   new_phone = re.sub(r\"^\\D*(\\d{3})\\D*(\\d{3})\\D*(\\d{4})$\", r\"(\\1) \\2-\\3\", phone)\n",
    "\n",
    "   print(new_phone)\n",
    "\n",
    "# output\n",
    "# (123) 456-7890\n",
    "\n",
    "# (123) 456-7890\n",
    "\n",
    "# (123) 456-7890"
   ]
  },
  {
   "cell_type": "markdown",
   "metadata": {},
   "source": [
    "Success! Dakota gets the project done in a single day and is now the office hero. \n",
    "\n",
    "## A happy client\n",
    "By using a regular expression, Dakota expedited the process of collecting, organizing, and providing LogicLink Innovation with its customers’ phone numbers, all in the same format. "
   ]
  }
 ],
 "metadata": {
  "language_info": {
   "name": "python"
  }
 },
 "nbformat": 4,
 "nbformat_minor": 2
}
