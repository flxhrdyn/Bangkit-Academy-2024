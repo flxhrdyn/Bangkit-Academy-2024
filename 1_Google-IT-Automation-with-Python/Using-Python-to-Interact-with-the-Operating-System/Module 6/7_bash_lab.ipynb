{
 "cells": [
  {
   "cell_type": "markdown",
   "metadata": {},
   "source": [
    "# Edit files using substrings"
   ]
  },
  {
   "cell_type": "markdown",
   "metadata": {},
   "source": [
    "## Introduction\n",
    "In this lab, you'll change the username of your coworker Jane Doe from \"jane\" to \"jdoe\" in compliance with company's naming policy. The username change has already been done. However, some files that were named with Jane's previous username \"jane\" haven't been updated yet. To help with this, you'll write a bash script and a Python script that will take care of the necessary rename operations.\n",
    "\n",
    "## What you'll do\n",
    "Practice using the cat, grep, and cut commands for file operations\n",
    "\n",
    "Use > and >> commands to redirect I/O stream\n",
    "\n",
    "Replace a substring using Python\n",
    "\n",
    "Run bash commands in Python"
   ]
  },
  {
   "cell_type": "markdown",
   "metadata": {},
   "source": [
    "## Prerequisites\n",
    "For this lab, you should have a sound knowledge of these Linux commands:\n",
    "\n",
    "- cat\n",
    "- grep\n",
    "- cut"
   ]
  },
  {
   "cell_type": "markdown",
   "metadata": {},
   "source": [
    "## 1. cat:\n",
    "\n",
    "The cat command allows us to create single or multiple files, view the contents of a file, concatenate files, and redirect output in terminal or other files.\n",
    "\n",
    "Syntax:\n",
    "\n",
    "cat [file]"
   ]
  },
  {
   "cell_type": "markdown",
   "metadata": {},
   "source": [
    "## 2. grep:\n",
    "\n",
    "The grep command, which stands for \"global regular expression print\", processes text line-by-line and prints any lines that match a specified pattern.\n",
    "\n",
    "Syntax:\n",
    "\n",
    "grep [pattern] [file-directory]\n",
    "\n",
    "Here, [file-directory] is the path to the directory/folder where you want to perform a search operation. The grep command is also used to search text and match a string or pattern within a file.\n",
    "\n",
    "Syntax:\n",
    "\n",
    "grep [pattern] [file-location]"
   ]
  },
  {
   "cell_type": "markdown",
   "metadata": {},
   "source": [
    "## 3. cut:\n",
    "\n",
    "The cut command extracts a given number of characters or columns from a file. A delimiter is a character or set of characters that separate text strings.\n",
    "\n",
    "Syntax:\n",
    "\n",
    "cut [options] [file]\n",
    "Copied!\n",
    "For delimiter separated fields, the - d option is used. The -f option specifies the field, a set of fields, or a range of fields to be extracted.\n",
    "\n",
    "Syntax:\n",
    "\n",
    "cut -d [delimiter] -f [field number]"
   ]
  },
  {
   "cell_type": "markdown",
   "metadata": {},
   "source": [
    "## Linux I/O Redirection\n",
    "Redirection is defined as switching standard streams of data from either a user-specified source or user-specified destination. Here are the following streams used in I/O redirection:\n",
    "\n",
    "- Redirection into a file using >\n",
    "- Append using >>"
   ]
  },
  {
   "cell_type": "markdown",
   "metadata": {},
   "source": [
    "Redirection into a file\n",
    "Each stream uses redirection commands. A single greater than sign (>) or a double greater than sign (>>) can be used to redirect standard output. If the target file doesn't exist, a new file with the same name will be created.\n",
    "\n",
    "Commands with a single greater than sign (>) overwrite existing file content.\n",
    "\n",
    "cat > [file]\n",
    "\n",
    "Commands with a double greater than sign (>>) do not overwrite the existing file content, but it will append to it.\n",
    "\n",
    "cat >> [file]\n",
    "\n",
    "So, rather than creating a file, the >> command is used to append a word or string to the existing file."
   ]
  },
  {
   "cell_type": "markdown",
   "metadata": {},
   "source": [
    "# Exercise"
   ]
  },
  {
   "cell_type": "markdown",
   "metadata": {},
   "source": [
    "## The Scenario\n",
    "Your coworker Jane Doe currently has the username \"jane\" but she needs to it to \"jdoe\" to comply with your company's naming policy. This username change has already been done. However, some files that were named with Jane's previous username \"jane\" haven't been updated. For example, \"jane_profile_07272018.doc\" needs to be updated to \"jdoe_profile_07272018.doc\"."
   ]
  },
  {
   "cell_type": "markdown",
   "metadata": {},
   "source": [
    "## Test command\n",
    "We'll now use the test command to test for the presence of a file. The command test is a command-line utility on Unix-like operating systems that evaluates conditional expressions.\n",
    "\n",
    "The syntax for this command is:\n",
    "\n",
    "test EXPRESSION\n"
   ]
  },
  {
   "cell_type": "markdown",
   "metadata": {},
   "source": [
    "Create a file using a Redirection operator\n",
    "We'll now use the redirection operator (>) to create an empty file simply by specifying the file name. The syntax for this is:\n",
    "\n",
    "\\> [file-name]\n",
    "\n",
    "To append any string to the test.txt file, you can use another redirection operator (>>)."
   ]
  },
  {
   "cell_type": "markdown",
   "metadata": {},
   "source": [
    "## Iteration\n",
    "Another important aspect of a scripting language is iteration. Iteration, in simple terms, is the repetition of a specific set of instructions. It's when a set of instructions is repeated a number of times or until a condition is met. And for this process, bash script allows three different iterative statements:\n",
    "\n",
    "- For: A for loop repeats the execution of a group of statements over a set of items.\n",
    "- While: A while loop executes a set of instructions as long as the control condition remains true.\n",
    "- Until: An until loop executes a set of instructions as long as the control condition remains false."
   ]
  },
  {
   "cell_type": "code",
   "execution_count": null,
   "metadata": {},
   "outputs": [],
   "source": [
    "#!/usr/bin/env python3\n",
    "import sys\n",
    "import subprocess\n",
    "\n",
    "file = sys.argv[1]\n",
    "with open(file) as f:\n",
    "  for line in f.readlines():\n",
    "      old = line.strip()\n",
    "      new = old.replace('jane', 'jdoe')\n",
    "      subprocess.run(['mv', old, new])\n",
    "  f.close()"
   ]
  }
 ],
 "metadata": {
  "language_info": {
   "name": "python"
  }
 },
 "nbformat": 4,
 "nbformat_minor": 2
}
