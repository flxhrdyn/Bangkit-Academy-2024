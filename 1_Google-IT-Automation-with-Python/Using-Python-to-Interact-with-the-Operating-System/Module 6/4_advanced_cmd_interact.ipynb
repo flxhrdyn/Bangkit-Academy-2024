{
 "cells": [
  {
   "cell_type": "markdown",
   "metadata": {},
   "source": [
    "# Advanced Command Interaction"
   ]
  },
  {
   "cell_type": "code",
   "execution_count": null,
   "metadata": {},
   "outputs": [],
   "source": [
    "tail /var/log/syslog"
   ]
  },
  {
   "cell_type": "markdown",
   "metadata": {},
   "source": [
    "Code output:\n",
    "\n",
    "May 24 10:17:01 ubuntu.local CRON[257236]: (root) CMD (   cd / && run-parts --report /etc/cron.hourly)\n",
    "\n",
    "May 24 10:18:41 ubuntu.local rsyslogd: -- MARK --\n",
    "\n",
    "May 24 10:25:19 ubuntu.local systemd[1]: Reloading."
   ]
  },
  {
   "cell_type": "code",
   "execution_count": null,
   "metadata": {},
   "outputs": [],
   "source": [
    "tail /var/log/syslog | cut -d' ' -f5-"
   ]
  },
  {
   "cell_type": "markdown",
   "metadata": {},
   "source": [
    "Code output:\n",
    "\n",
    "CRON[257236]: (root) CMD (   cd / && run-parts --report /etc/cron.hourly)\n",
    "\n",
    "rsyslogd: -- MARK --\n",
    "\n",
    "systemd[1]: Reloading."
   ]
  },
  {
   "cell_type": "code",
   "execution_count": null,
   "metadata": {},
   "outputs": [],
   "source": [
    "cut -d' ' -f5- /var/log/syslog | sort | uniq -c | sort -nr | head"
   ]
  },
  {
   "cell_type": "markdown",
   "metadata": {},
   "source": [
    "Code output:\n",
    "\n",
    "41 systemd[1]: Starting Network Manager Script Dispatcher Service...\n",
    "\n",
    "41 systemd[1]: Started Network Manager Script Dispatcher Service.\n",
    "\n",
    "41 systemd[1]: NetworkManager-dispatcher.service: Succeeded.\n",
    "\n",
    "41 nm-dispatcher: req:1 'dhcp4-change' [ens3]: start running ordered scripts...\n",
    "\n",
    "41 nm-dispatcher: req:1 'dhcp4-change' [ens3]: new request (1 scripts)\n",
    "\n",
    "41 dhclient[757]: DHCPREQUEST for 192.168.122.103 on ens3 to 192.168.122.1 port 67 (xid=0x3a5ff7ed)\n",
    "\n",
    "41 dhclient[757]: DHCPACK of 192.168.122.103 from 192.168.122.1 (xid=0xedf75f3a)\n",
    "\n",
    "41 dbus-daemon[592]: [system] Successfully activated service 'org.freedesktop.nm_dispatcher'\n",
    "\n",
    "41 dbus-daemon[592]: [system] Activating via systemd: service name='org.freedesktop.nm_dispatcher' unit='dbus-org.freedesktop.nm-dispatcher.service' requested by ':1.15' (uid=0 pid=599 comm=\"/usr/sbin/NetworkManager --no-daemon \" label=\"unconfined\")\n",
    "\n",
    "9 systemd[1]: Started Run anacron jobs."
   ]
  },
  {
   "cell_type": "code",
   "execution_count": null,
   "metadata": {},
   "outputs": [],
   "source": [
    "#!/bin/bash\n",
    "\n",
    "for logfile in /var/log/*log; do\n",
    "    echo \"Processing: $logfile\"\n",
    "    cut -d' ' -f5- $logfile | sort | uniq -c | sort -nr | head -5\n",
    "done\n",
    "\n",
    "# ./toploglines.sh"
   ]
  },
  {
   "cell_type": "markdown",
   "metadata": {},
   "source": [
    "About this code\n",
    "\n",
    "This script is written in the Bash scripting language and designed to analyze log files. It analyzes each log file in the /var/log directory and displays the top 5 most frequently occurring messages along with their counts."
   ]
  },
  {
   "cell_type": "markdown",
   "metadata": {},
   "source": [
    "Code output:\n",
    "\n",
    "(...)\n",
    "\n",
    "Processing: /var/log/user.log\n",
    "\n",
    "23 system-updater[199481]: DEBUG Command exited with status: 0\n",
    "\n",
    "19 system-updater[46682]: DEBUG Command exited with status: 0\n",
    "\n",
    "16 system-updater[175060]: DEBUG Command exited with status: 0\n",
    "\n",
    "11 /usr/bin/lock: called by /bin/bash for . uid 0, euid 0.\n",
    "\n",
    "11 network-manager-dhclient-hooks: Dispatching run of '/etc/dhcp/dhclient-exit-hooks.d/hostname' ...\n",
    "\n",
    "Processing: /var/log/Xorg.0.log\n",
    "\n",
    "87 Printing DDC gathered Modelines:\n",
    "\n",
    "87 Modeline \"1920x1080\"x0.0  141.00  1920 1936 1952 2104  1080 1083 1097 1116 -hsync -vsync (67.0 kHz eP)\n",
    "\n",
    "87 EDID vendor \"AUO\", prod id 5949\n",
    "\n",
    "78 vendor \"AUO\", prod id 5949\n",
    "\n",
    "78 DDC gathered Modelines:"
   ]
  },
  {
   "cell_type": "markdown",
   "metadata": {},
   "source": [
    "# Choosing between Bash and Python"
   ]
  },
  {
   "cell_type": "code",
   "execution_count": null,
   "metadata": {},
   "outputs": [],
   "source": [
    "for i in $(cat story.txt); do B=`echo -n \"${i:0:1}\" | tr \"[:lower:]\" \"[:upper:]\"`; echo -n \"${B}${i:1} \"; done; echo -e \"\\n\""
   ]
  },
  {
   "cell_type": "markdown",
   "metadata": {},
   "source": [
    "About this code\n",
    "This code snippet is written in the Bash scripting language and designed to capitalize the first letter of each word in a text file. This script iterates through each line in the story.txt file and capitalizes the first letter of each word. It then prints the modified text to the output."
   ]
  },
  {
   "cell_type": "code",
   "execution_count": null,
   "metadata": {},
   "outputs": [],
   "source": [
    "# cat capitalize_words.py\n",
    "#!/usr/bin/env python3\n",
    "\n",
    "import sys\n",
    "\n",
    "for line in sys.stdin:\n",
    "\n",
    "    words = line.strip().split()\n",
    "\n",
    "    print(\" \".join([word.capitalize() for word in words]))"
   ]
  },
  {
   "cell_type": "markdown",
   "metadata": {},
   "source": [
    "About this code\n",
    "\n",
    "This script takes input from a text file  or from another command, removes the whitespace, splits it into separate words, capitalizes the first letter of each word in every line, and prints the modified text to the standard output. "
   ]
  },
  {
   "cell_type": "code",
   "execution_count": null,
   "metadata": {},
   "outputs": [],
   "source": [
    "cat story.txt | ./capitalize_words.py "
   ]
  },
  {
   "cell_type": "markdown",
   "metadata": {},
   "source": [
    "Code output:\n",
    "\n",
    "Once Upon A Time There Was An Egg Of A Programming Language Called Python"
   ]
  }
 ],
 "metadata": {
  "language_info": {
   "name": "python"
  }
 },
 "nbformat": 4,
 "nbformat_minor": 2
}
