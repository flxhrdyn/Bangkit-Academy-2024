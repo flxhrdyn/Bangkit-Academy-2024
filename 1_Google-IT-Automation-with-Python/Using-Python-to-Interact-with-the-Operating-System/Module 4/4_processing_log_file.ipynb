{
 "cells": [
  {
   "cell_type": "markdown",
   "metadata": {},
   "source": [
    "# Processing Log Files"
   ]
  },
  {
   "cell_type": "markdown",
   "metadata": {},
   "source": [
    "## 1. Filtering log files with regular expressions"
   ]
  },
  {
   "cell_type": "code",
   "execution_count": null,
   "metadata": {},
   "outputs": [],
   "source": [
    "#!/bin/env/python3\n",
    "\n",
    "import sys\n",
    "\n",
    "logfile = sys.argv[1]\n",
    "with open(logfile) as f:\n",
    "  for line in f:\n",
    "    print(line.strip())\n",
    "\n",
    "\n",
    "#!/bin/env/python3\n",
    "\n",
    "import sys\n",
    "\n",
    "logfile = sys.argv[1]\n",
    "with open(logfile) as f:\n",
    "  for line in f:\n",
    "    if \"CRON\" not in line:\n",
    "      continue\n",
    "    print(line.strip())\n",
    "\n",
    "\n",
    "import re\n",
    "pattern = r\"USER \\((\\w+)\\)$\"# using regex to match letters inside parenthesis in USER(letters)\n",
    "line = \"Jul 6 14:03:01 computer.name CRON[29440]: USER (naughty_user)\"\n",
    "result = re.search(pattern, line)\n",
    "print(result[1])\n",
    "\n",
    "\n",
    "#!/bin/env/python3\n",
    "\n",
    "import re\n",
    "import sys\n",
    "\n",
    "logfile = sys.argv[1]\n",
    "with open(logfile) as f:\n",
    "  for line in f:\n",
    "    if \"CRON\" not in line:\n",
    "      continue\n",
    "    pattern = r\"USER \\((.+)\\)$\"\n",
    "    result = re.search(pattern, line)\n",
    "    print(result[1])\n",
    "\n",
    "\n",
    "# chmod +x check_cron.py \n",
    "# ./check_cron.py syslog "
   ]
  },
  {
   "cell_type": "markdown",
   "metadata": {},
   "source": [
    "## 2. Making sense out of data"
   ]
  },
  {
   "cell_type": "code",
   "execution_count": null,
   "metadata": {},
   "outputs": [],
   "source": [
    "usernames = {} # create an empty dictionary using curly brackets.\n",
    "name = \"good_user\" # Then we'll set the variable name as good user, for example.\n",
    "\n",
    "# And now, we'll set the value associated with the key as one more than the current value, \n",
    "# and we'll use the get method to get the current value, like this.\n",
    "usernames[name] = usernames.get(name, 0) + 1\n",
    "# we're taking the current value in the dictionary by passing a default value of zero,\n",
    "# so that when the key is in present in the dictionary, we get a default value.\n",
    "# We then add one and set it as a new value associated with that key. \n",
    "\n",
    "print(usernames)\n",
    "usernames[name] = usernames.get(name, 0) + 1\n",
    "print(usernames)"
   ]
  },
  {
   "cell_type": "code",
   "execution_count": null,
   "metadata": {},
   "outputs": [],
   "source": [
    "# script that processed a log file and extracted the names of each user who had started a cron job in the machine\n",
    "# count of how many times each username appears in our log.\n",
    "\n",
    "#!/bin/env/python3\n",
    "\n",
    "import re\n",
    "import sys\n",
    "\n",
    "logfile = sys.argv[1] # pull logfile\n",
    "\n",
    "# make an empty dict that will contain usernames\n",
    "usernames = {}\n",
    "with open(logfile) as f: # open the logfile\n",
    "  for line in f:\n",
    "\n",
    "    # we want to check that we actually got a match to our regular expression.\n",
    "    if \"CRON\" not in line: # We can check if the result variable is none. \n",
    "      continue # use the continue keyword if the result is none.\n",
    "    pattern = r\"USER \\((\\w+)\\)$\" # get the username inside user parenthesis -> USER (username)\n",
    "    result = re.search(pattern, line) # seach the pattern from the line\n",
    "\n",
    "    if result is None: \n",
    "      continue\n",
    "    name = result[1] # name variable that will store the captured group.\n",
    "    usernames[name] = usernames.get(name, 0) + 1 # And then we'll use that one as a key for our dictionary.\n",
    "\n",
    "print(usernames)\n",
    "\n",
    "# ./check_cron.py syslog"
   ]
  },
  {
   "cell_type": "code",
   "execution_count": null,
   "metadata": {},
   "outputs": [],
   "source": []
  }
 ],
 "metadata": {
  "kernelspec": {
   "display_name": "Python 3",
   "language": "python",
   "name": "python3"
  },
  "language_info": {
   "codemirror_mode": {
    "name": "ipython",
    "version": 3
   },
   "file_extension": ".py",
   "mimetype": "text/x-python",
   "name": "python",
   "nbconvert_exporter": "python",
   "pygments_lexer": "ipython3",
   "version": "3.12.0"
  }
 },
 "nbformat": 4,
 "nbformat_minor": 2
}
