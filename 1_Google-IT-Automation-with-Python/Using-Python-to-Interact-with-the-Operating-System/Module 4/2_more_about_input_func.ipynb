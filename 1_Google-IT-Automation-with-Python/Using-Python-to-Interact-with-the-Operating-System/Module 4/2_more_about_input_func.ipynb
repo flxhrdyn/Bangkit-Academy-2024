{
 "cells": [
  {
   "cell_type": "markdown",
   "metadata": {},
   "source": [
    "# More About Input Functions\n",
    "\n",
    "Now, you may have noticed that most of the Python code samples we've used include the line \n",
    "\n",
    "#!/usr/bin/env python3\n",
    "\n",
    "Now, this is important, because it sets the Python version to Python 3.\n",
    "\n",
    "There are some subtle differences in how data streams are handled in Python 3 and older versions, such as Python 2. Let’s just focus on input() and raw_input(), because they work differently in Python 2 and 3, and you would want to use one or the other depending on the Python version."
   ]
  },
  {
   "cell_type": "markdown",
   "metadata": {},
   "source": [
    "## In Python 2\n",
    "Taking an input from a user, raw_input should be used:"
   ]
  },
  {
   "cell_type": "code",
   "execution_count": null,
   "metadata": {},
   "outputs": [],
   "source": [
    "my_number = raw_input('Please Enter a Number: \\n')\n",
    "# Please Enter a Number:\n",
    "1337\n",
    "print(my_number)\n",
    "1337"
   ]
  },
  {
   "cell_type": "markdown",
   "metadata": {},
   "source": [
    "Now, this is important, because, raw_input does not evaluate an otherwise valid Python expression. In simple terms, raw_input will just get a string from a user, where input will actually perform basic maths and the like. See below:"
   ]
  },
  {
   "cell_type": "code",
   "execution_count": null,
   "metadata": {},
   "outputs": [],
   "source": [
    "my_raw_input = raw_input('Please Enter a Number: \\n')\n",
    "# Please Enter a Number:\n",
    "123 + 1 # This is treated like a raw string.\n",
    "my_input = input('Please Enter a Number: \\n')\n",
    "# Please Enter a Number:\n",
    "123 + 1 # This is treated like an expression.\n",
    "print(my_raw_input)\n",
    "123 + 1\n",
    "print(my_input)\n",
    "124 # See that the expression was evaluated!"
   ]
  },
  {
   "cell_type": "markdown",
   "metadata": {},
   "source": [
    "In Python 2 input(x) is just eval(raw_input(x)). eval() will just evaluate a generic string as if it were a Python expression."
   ]
  },
  {
   "cell_type": "markdown",
   "metadata": {},
   "source": [
    "## In Python 3\n",
    "Taking an input from a user, input should be used. See the below sample:"
   ]
  },
  {
   "cell_type": "code",
   "execution_count": 2,
   "metadata": {},
   "outputs": [
    {
     "name": "stdout",
     "output_type": "stream",
     "text": [
      "123\n"
     ]
    },
    {
     "data": {
      "text/plain": [
       "str"
      ]
     },
     "execution_count": 2,
     "metadata": {},
     "output_type": "execute_result"
    }
   ],
   "source": [
    "my_number = input('Please Enter a Number: \\n')\n",
    "# Please Enter a Number: \n",
    "123 + 1\n",
    "print(my_number)\n",
    "123 + 1\n",
    "type(my_number)\n",
    "# <class 'str'>"
   ]
  },
  {
   "cell_type": "markdown",
   "metadata": {},
   "source": [
    "Notice that the expression is treated just like a string. It is not evaluated. If we want to, we can call eval() and that will actually execute the string as an expression:"
   ]
  },
  {
   "cell_type": "code",
   "execution_count": 1,
   "metadata": {},
   "outputs": [
    {
     "name": "stdout",
     "output_type": "stream",
     "text": [
      "123\n"
     ]
    },
    {
     "data": {
      "text/plain": [
       "124"
      ]
     },
     "execution_count": 1,
     "metadata": {},
     "output_type": "execute_result"
    }
   ],
   "source": [
    "my_number = input('Please Enter a Number: \\n')\n",
    "# Please Enter a Number: \n",
    "123 + 1\n",
    "print(my_number)\n",
    "123 + 1\n",
    "eval(my_number)\n",
    "124"
   ]
  },
  {
   "cell_type": "markdown",
   "metadata": {},
   "source": [
    "Finally, it’s worth noting, raw_input doesn’t natively exist in Python 3, but there are some tricky ways to force the interpreter to evaluate raw_input in backwards compatible ways. This can be useful for modernizing legacy Python code without rewriting large portions of it. Research on this topic is better left to the reader, as there are lots of fun (and sometimes scary) ways of doing this."
   ]
  },
  {
   "cell_type": "markdown",
   "metadata": {},
   "source": [
    "## Summary\n",
    "Python 2 and Python 3 handle input and raw_input differently.\n",
    "\n",
    "In Python 2\n",
    "\n",
    "- input(x) is roughly the same as eval(raw_input(x))\n",
    "\n",
    "- raw_input() is preferred, unless the author wants to support evaluating string expressions.\n",
    "\n",
    "- eval() is used to evaluate string expressions."
   ]
  }
 ],
 "metadata": {
  "kernelspec": {
   "display_name": "Python 3",
   "language": "python",
   "name": "python3"
  },
  "language_info": {
   "codemirror_mode": {
    "name": "ipython",
    "version": 3
   },
   "file_extension": ".py",
   "mimetype": "text/x-python",
   "name": "python",
   "nbconvert_exporter": "python",
   "pygments_lexer": "ipython3",
   "version": "3.12.0"
  }
 },
 "nbformat": 4,
 "nbformat_minor": 2
}
