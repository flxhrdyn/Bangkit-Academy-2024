{
 "cells": [
  {
   "cell_type": "markdown",
   "metadata": {},
   "source": [
    "# Python Subprocesses\n",
    "In Python, there are usually a lot of different ways to accomplish the same task. Some are easier to write, some are better suited to a given task, and some have a lower overhead in terms of the amount of computing power used. Subprocesses are a way to call and run other applications from within Python, including other Python scripts. \n",
    "\n",
    "In Python, the subprocess module can run new codes and applications by launching the new processes from the Python program. Because subprocess allows you to spawn new processes, it is a very useful way to run multiple processes in parallel instead of sequentially.\n",
    "\n",
    "Python subprocess can launch processes to: \n",
    "\n",
    "- Open multiple data files in a folder simultaneously. \n",
    "\n",
    "- Run external programs. \n",
    "\n",
    "- Connect to input, output, and error pipes and get return codes."
   ]
  },
  {
   "cell_type": "markdown",
   "metadata": {},
   "source": [
    "## 1. When to use subprocess\n",
    "Subprocess is best used when you need to interface with external processes, run complex shell commands, or need precise control over input and output. Subprocess also spawns fewer processes per task than OS, so subprocess can use less compute power. \n",
    "\n",
    "Other advantages include:\n",
    "\n",
    "- Subprocess can run any shell command, providing greater flexibility.\n",
    "\n",
    "- Subprocess can capture stdout and stderr easily.\n",
    "\n",
    "On the other hand, OS is useful for basic file and directory operations, environment variable management, and when you don't need the object-oriented approach provided by Pathlib. \n",
    "\n",
    "Other advantages include:\n",
    "\n",
    "- OS provides a simple way to interface with the operating system for basic operations.\n",
    "\n",
    "- OS is part of the standard library, so it's widely available.\n",
    "\n",
    "Finally, Pathlib is most helpful for working extensively with file paths, when you want an object-oriented and intuitive way to handle file system tasks, or when you're working on code where readability and maintainability are crucial. \n",
    "\n",
    "Other advantages include: \n",
    "\n",
    "- Pathlib provides an object-oriented approach to handle file system paths.\n",
    "\n",
    "- Compared to OS, Pathlib is more intuitive for file and directory operations. \n",
    "\n",
    "- Pathlib is more readable for path manipulations.\n",
    "\n"
   ]
  },
  {
   "cell_type": "markdown",
   "metadata": {},
   "source": [
    "## 2. Where subprocess shines\n",
    "The basic ways of using subprocess are the .run() and .Popen() methods. There are additional methods, .call(), .check_output(), and .check_call(). Usually, you will just want to use .run() or one of the two check methods when appropriate. However, when spawning parallel processes or communicating between subprocesses, .Popen() has a lot more power!\n",
    "\n",
    "You can think of .run() as the simplest way to run a command—it’s all right there in the name—and .Popen() as the most fully featured way to call external commands. \n",
    "\n",
    "All of the methods, .run(), .call(),  .check_output(), and .check_call() are wrappers around the .Popen() class. \n",
    "\n"
   ]
  },
  {
   "cell_type": "markdown",
   "metadata": {},
   "source": [
    "## 3. Running system commands in Python"
   ]
  },
  {
   "cell_type": "markdown",
   "metadata": {},
   "source": [
    "## Run\n",
    "The .run() command is the recommended approach to invoking subprocesses. It runs the command, waits for it to complete, then returns a CompletedProcess instance that contains information about the process.\n",
    "\n",
    "Using .run() to execute the echo command:"
   ]
  },
  {
   "cell_type": "code",
   "execution_count": null,
   "metadata": {},
   "outputs": [],
   "source": [
    "import subprocess\n",
    "result_run = subprocess.run(['echo', 'Hello, World!'], capture_output=True, text=True)\n",
    "result_run.stdout.strip()  # Extracting the stdout and stripping any extra whitespace\n",
    "\n",
    "# output:\n",
    "# 'Hello, World!'"
   ]
  },
  {
   "cell_type": "code",
   "execution_count": 5,
   "metadata": {},
   "outputs": [],
   "source": [
    "import subprocess\n",
    "subprocess.run([\"date\"]) # returns a date"
   ]
  },
  {
   "cell_type": "code",
   "execution_count": null,
   "metadata": {},
   "outputs": [],
   "source": [
    "import subprocess\n",
    "subprocess.run([\"date\"])\n",
    "subprocess.run([\"sleep\", \"2\"]) "
   ]
  },
  {
   "cell_type": "code",
   "execution_count": null,
   "metadata": {},
   "outputs": [],
   "source": [
    "import subprocess\n",
    "subprocess.run([\"date\"])\n",
    "subprocess.run([\"sleep\", \"2\"])\n",
    "result = subprocess.run([\"ls\", \"this_file_does_not_exist\"]) # returns an error\n",
    "print(result.returncode)"
   ]
  },
  {
   "cell_type": "markdown",
   "metadata": {},
   "source": [
    "## Call \n",
    "The call() command runs a command, waits for it to complete, then returns the return code. Call is older and .run() should be used now, but it’s good to see how it works.\n",
    "\n",
    "Using call() to execute the echo command: "
   ]
  },
  {
   "cell_type": "code",
   "execution_count": null,
   "metadata": {},
   "outputs": [],
   "source": [
    "import subprocess\n",
    "return_code_call = subprocess.call(['echo', 'Hello from call!'])\n",
    "return_code_call\n",
    "\n",
    "# output:\n",
    "# 0\n",
    "# The returned value 0 indicates that the command was executed successfully."
   ]
  },
  {
   "cell_type": "markdown",
   "metadata": {},
   "source": [
    "## Check_call and check_output\n",
    "Use check_call() to receive just the status of a command. Use check_output() to also obtain output. These are good for situations such as file IO, where a file might not exis, or the operation may otherwise fail. \n",
    "\n",
    "The command check_call()is similar to call() but raises a CalledProcessError exception if the command returns a non-zero exit code.\n",
    "\n",
    "Using check_call() to execute the echo command:"
   ]
  },
  {
   "cell_type": "code",
   "execution_count": null,
   "metadata": {},
   "outputs": [],
   "source": [
    "return_code_check_call = subprocess.check_call(['echo', 'Hello from check_call!'])\n",
    "return_code_check_call\n",
    "\n",
    "# output:\n",
    "# 0\n",
    "# The returned value 0 indicates that the command was executed successfully."
   ]
  },
  {
   "cell_type": "markdown",
   "metadata": {},
   "source": [
    "Using check_output() to execute the echo command:\n",
    "\n",
    "Note: Check_output raises a CalledProcessError if the command returns a non-zero exit code. For more on CalledProcessError"
   ]
  },
  {
   "cell_type": "code",
   "execution_count": null,
   "metadata": {},
   "outputs": [],
   "source": [
    "output_check_output = subprocess.check_output(['echo', 'Hello from check_output!'], text=True)\n",
    "output_check_output.strip()  # Extracting the stdout and stripping any extra whitespace\n",
    "\n",
    "# output:\n",
    "# 'Hello from check_output!'"
   ]
  },
  {
   "cell_type": "markdown",
   "metadata": {},
   "source": [
    "## Popen\n",
    "Popen() offers more advanced features compared to the previously mentioned functions. It allows you to spawn a new process, connect to its input/output/error pipes, and obtain its return code.\n",
    "\n",
    "Using Popen to execute the echo command:"
   ]
  },
  {
   "cell_type": "code",
   "execution_count": null,
   "metadata": {},
   "outputs": [],
   "source": [
    "process_popen = subprocess.Popen(['echo', 'Hello from popen!'], stdout=subprocess.PIPE, text=True)\n",
    "output_popen, _ = process_popen.communicate()\n",
    "output_popen.strip()  # Extracting the stdout and stripping any extra whitespace\n",
    "\n",
    "# output:\n",
    "# 'Hello from popen!'"
   ]
  },
  {
   "cell_type": "markdown",
   "metadata": {},
   "source": [
    "## 4. Obtaining the output of a system command"
   ]
  },
  {
   "cell_type": "code",
   "execution_count": null,
   "metadata": {},
   "outputs": [],
   "source": [
    "result = subprocess.run([\"host\", \"8.8.8.8\"], capture_output=True)\n",
    "\n",
    "result = subprocess.run([\"host\", \"8.8.8.8\"], capture_output=True)\n",
    "print(result.returncode)\n",
    "\n",
    "result = subprocess.run([\"host\", \"8.8.8.8\"], capture_output=True)\n",
    "print(result.stdout)\n",
    "\n",
    "result = subprocess.run([\"host\", \"8.8.8.8\"], capture_output=True)\n",
    "print(result.stdout.decode().split()) # decode a byte into a string and split it into a list"
   ]
  },
  {
   "cell_type": "markdown",
   "metadata": {},
   "source": [
    "## 5. Advanced subprocess management"
   ]
  },
  {
   "cell_type": "markdown",
   "metadata": {},
   "source": [
    "This script is modifying the contents of the path environment variable by adding a directory to it. We then call the myapp command with that modified variable. Doing it this way, the command will run in the modified environment with the updated value of path."
   ]
  },
  {
   "cell_type": "code",
   "execution_count": null,
   "metadata": {},
   "outputs": [],
   "source": [
    "import os\n",
    "import subprocess\n",
    "\n",
    "# we start by calling the copy method of the OS environ dictionary that contains the current environment variables. \n",
    "# This creates a new dictionary that we can change as needed without modifying the original environment.\n",
    "my_env = os.environ.copy() # prepare a new environment to modify environment variables\n",
    "\n",
    "# To create the new value, we're calling the join method on the OS path substring. \n",
    "# This joins elements of the list that we're passing with a path separator corresponding to the current operating system.\n",
    "# we're joining /opt/myapp and the old value of the path variable to the path separator.\n",
    "my_env[\"PATH\"] = os.pathsep.join([\"/opt/myapp/\", my_env[\"PATH\"]])\n",
    "\n",
    "# we call the myapp command, setting the end parameter to the new environment that we've just prepared.\n",
    "result = subprocess.run([\"myapp\"], env=my_env)"
   ]
  },
  {
   "cell_type": "markdown",
   "metadata": {},
   "source": [
    "## 6. Pro tip\n",
    "The Popen command is very useful when you need asynchronous behavior and the ability to pipe information between a subprocess and the Python program that ran that subprocess. Imagine you want to start a long-running command in the background and then continue with other tasks in your script. Later on, you want to be able to check if the process has finished. Here’s how you would do that using Popen."
   ]
  },
  {
   "cell_type": "code",
   "execution_count": null,
   "metadata": {},
   "outputs": [],
   "source": [
    "import subprocess\n",
    "# Using Popen for asynchronous behavior: \n",
    "\n",
    "process = subprocess.Popen(['sleep', '5'])\n",
    "message_1 = \"The process is running in the background...\"\n",
    "# Give it a couple of seconds to demonstrate the asynchronous behavior\n",
    "\n",
    "import time\n",
    "\n",
    "time.sleep(2)\n",
    "\n",
    "# Check if the process has finished\n",
    "if process.poll() is None:\n",
    "\tmessage_2 = \"The process is still running.\"\n",
    "else:\n",
    "    message_2 = \"The process has finished.\"\n",
    "\n",
    "print(message_1, message_2)\n",
    "\n",
    "# output:\n",
    "# ('The process is running in the background...',\n",
    "#  'The process is still running.')"
   ]
  },
  {
   "cell_type": "markdown",
   "metadata": {},
   "source": [
    "The process runs in the background as the script continues with other tasks (in this case, simply waiting for a couple of seconds). Then the script checks if the process is still running. In this case, the check was after 2 seconds' sleep, but Popen called sleep on 5 seconds. So the program confirms that the subprocess has not finished running. "
   ]
  }
 ],
 "metadata": {
  "kernelspec": {
   "display_name": "Python 3",
   "language": "python",
   "name": "python3"
  },
  "language_info": {
   "codemirror_mode": {
    "name": "ipython",
    "version": 3
   },
   "file_extension": ".py",
   "mimetype": "text/x-python",
   "name": "python",
   "nbconvert_exporter": "python",
   "pygments_lexer": "ipython3",
   "version": "3.12.0"
  }
 },
 "nbformat": 4,
 "nbformat_minor": 2
}
