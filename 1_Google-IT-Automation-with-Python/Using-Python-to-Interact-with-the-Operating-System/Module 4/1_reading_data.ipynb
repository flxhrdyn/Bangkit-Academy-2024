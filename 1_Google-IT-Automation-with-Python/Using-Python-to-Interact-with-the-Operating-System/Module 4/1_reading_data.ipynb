{
 "cells": [
  {
   "cell_type": "markdown",
   "metadata": {},
   "source": [
    "# Reading data interactively"
   ]
  },
  {
   "cell_type": "markdown",
   "metadata": {},
   "source": [
    "## 1. Takes input from user"
   ]
  },
  {
   "cell_type": "code",
   "execution_count": null,
   "metadata": {},
   "outputs": [],
   "source": [
    "# cat hello.py\n",
    "#!/usr/bin/env python3\n",
    "\n",
    "name = input(\"Please enter your name: \") # make an input block\n",
    "print(\"Hello, \" + name)"
   ]
  },
  {
   "cell_type": "code",
   "execution_count": 1,
   "metadata": {},
   "outputs": [
    {
     "name": "stdout",
     "output_type": "stream",
     "text": [
      "Welcome to this time converter\n",
      "That's 4320723 seconds\n",
      "\n",
      "Goodbye!\n"
     ]
    }
   ],
   "source": [
    "# making a time converter\n",
    "def to_seconds(hours, minutes, seconds):\n",
    "    return hours*3600+minutes*60+seconds\n",
    "\n",
    "print(\"Welcome to this time converter\")\n",
    "\n",
    "cont = \"y\"\n",
    "while(cont.lower() == \"y\"):\n",
    "    hours = int(input(\"Enter the number of hours: \"))\n",
    "    minutes = int(input(\"Enter the number of minutes: \"))\n",
    "    seconds = int(input(\"Enter the number of seconds: \"))\n",
    "\n",
    "    print(\"That's {} seconds\".format(to_seconds(hours, minutes, seconds)))\n",
    "    print()\n",
    "    cont = input(\"Do you want to do another conversion? [y to continue] \")\n",
    "    \n",
    "print(\"Goodbye!\")"
   ]
  },
  {
   "cell_type": "markdown",
   "metadata": {},
   "source": [
    "## 2. Standard streams - I/O streams"
   ]
  },
  {
   "cell_type": "code",
   "execution_count": 2,
   "metadata": {},
   "outputs": [
    {
     "name": "stdout",
     "output_type": "stream",
     "text": [
      "Now we write it to STDOUT: hello\n"
     ]
    },
    {
     "ename": "TypeError",
     "evalue": "can only concatenate str (not \"int\") to str",
     "output_type": "error",
     "traceback": [
      "\u001b[1;31m---------------------------------------------------------------------------\u001b[0m",
      "\u001b[1;31mTypeError\u001b[0m                                 Traceback (most recent call last)",
      "Cell \u001b[1;32mIn[2], line 6\u001b[0m\n\u001b[0;32m      4\u001b[0m data \u001b[38;5;241m=\u001b[39m \u001b[38;5;28minput\u001b[39m(\u001b[38;5;124m\"\u001b[39m\u001b[38;5;124mThis will come from STDIN: \u001b[39m\u001b[38;5;124m\"\u001b[39m)\n\u001b[0;32m      5\u001b[0m \u001b[38;5;28mprint\u001b[39m(\u001b[38;5;124m\"\u001b[39m\u001b[38;5;124mNow we write it to STDOUT: \u001b[39m\u001b[38;5;124m\"\u001b[39m \u001b[38;5;241m+\u001b[39m data)\n\u001b[1;32m----> 6\u001b[0m \u001b[38;5;28mprint\u001b[39m(\u001b[38;5;124;43m\"\u001b[39;49m\u001b[38;5;124;43mNow we generate an error to STDERR: \u001b[39;49m\u001b[38;5;124;43m\"\u001b[39;49m\u001b[43m \u001b[49m\u001b[38;5;241;43m+\u001b[39;49m\u001b[43m \u001b[49m\u001b[43mdata\u001b[49m\u001b[43m \u001b[49m\u001b[38;5;241;43m+\u001b[39;49m\u001b[43m \u001b[49m\u001b[38;5;241;43m1\u001b[39;49m)\n\u001b[0;32m      8\u001b[0m \u001b[38;5;66;03m# ./streams.py \u001b[39;00m\n\u001b[0;32m      9\u001b[0m \u001b[38;5;66;03m# This will come from STDIN: Python Rocks!\u001b[39;00m\n\u001b[0;32m     10\u001b[0m \u001b[38;5;66;03m# Now we write it to STDOUT: Python Rocks!\u001b[39;00m\n\u001b[1;32m   (...)\u001b[0m\n\u001b[0;32m     17\u001b[0m \n\u001b[0;32m     18\u001b[0m \u001b[38;5;66;03m# ls -z\u001b[39;00m\n",
      "\u001b[1;31mTypeError\u001b[0m: can only concatenate str (not \"int\") to str"
     ]
    }
   ],
   "source": [
    "# cat streams.py\n",
    "#!/usr/bin/env python3\n",
    "\n",
    "# Standard Input / STDIN\n",
    "data = input(\"This will come from STDIN: \") # takes an input\n",
    "\n",
    "# Standart Output / STDOUT\n",
    "print(\"Now we write it to STDOUT: \" + data) # prints an output\n",
    "\n",
    "# Standart Error / STDERR\n",
    "print(\"Now we generate an error to STDERR: \" + data + 1) # generates error, because we concatenate string and interger\n",
    "\n",
    "# ./streams.py \n",
    "# This will come from STDIN: Python Rocks!\n",
    "# Now we write it to STDOUT: Python Rocks!\n",
    "\n",
    "# cat greeting.txt \n",
    "# Well hello there, STDOUT\n",
    "\n",
    "# cat greeting.txt \n",
    "# Well hello there, STDOUT\n",
    "\n",
    "# ls -z"
   ]
  },
  {
   "cell_type": "markdown",
   "metadata": {},
   "source": [
    "## 3. Enviroment variable\n",
    "To access the environment variables, we use the environ dictionary provided by the OS module.\n",
    "\n",
    "If we use the GET method, we can specify what value should be returned if the key isn't present. \n",
    "\n",
    "The GET method allows us to specify a default value when the key that we're looking for isn't in the dictionary. \n",
    "\n",
    "What we're asking Python to do is try to retrieve the value associated with the key, but if the key is not defined, return an empty string instead."
   ]
  },
  {
   "cell_type": "code",
   "execution_count": 3,
   "metadata": {},
   "outputs": [
    {
     "name": "stdout",
     "output_type": "stream",
     "text": [
      "HOME: \n",
      "SHELL: \n",
      "FRUIT: \n"
     ]
    }
   ],
   "source": [
    "# echo $PATH\n",
    "# /usr/local/sbin:/usr/local/bin:/usr/sbin:/usr/bin:/sbin:/bin\n",
    "# cat variables.py\n",
    "#!/usr/bin/env python3\n",
    "import os\n",
    "print(\"HOME: \" + os.environ.get(\"HOME\", \"\")) # if the key is not defined, return an empty string instead.\n",
    "print(\"SHELL: \" + os.environ.get(\"SHELL\", \"\"))\n",
    "print(\"FRUIT: \" + os.environ.get(\"FRUIT\", \"\"))\n",
    "# ./variables.py \n",
    "# export FRUIT=Pineapple\n",
    "# ./variables.py "
   ]
  },
  {
   "cell_type": "markdown",
   "metadata": {},
   "source": [
    "## 4. Command line arguments and exit status\n",
    "It's a super common practice to make our scripts receive certain values by command line arguments. It allows a code of the script to be generic while also letting us run it automatically without requiring any interactive user input. This means that these arguments are really useful for system administration tasks. That's because we can specify the information that we want our program to use before it even starts.\n",
    "\n",
    "The exit status is a value returned by a program to the shell. In all Unix-like operating systems, the exit status of the process is zero when the process succeeds and different than zero if it fails. The actual number returned gives additional info on what kind of error the program encountered. Knowing if a command finished successfully or not is helpful information which can be used by a program that's calling a command. For example, it can use the information to retry the command. If it failed. \n",
    "\n",
    "To check the exit status of a program, we can use a special variable that lets us see what the exit status of the last executed command was. The variable is the __?__ variable. So to see the contents we use a __$?__."
   ]
  },
  {
   "cell_type": "code",
   "execution_count": null,
   "metadata": {},
   "outputs": [],
   "source": [
    "# Command line arguments\n",
    "\n",
    "# cat parameters.py \n",
    "#!/usr/bin/env python3\n",
    "import sys\n",
    "print(sys.argv)\n",
    "\n",
    "# ./parameters.py\n",
    "['./parameters.py'] \n",
    "\n",
    "# ./parameters.py one two three\n",
    "['./parameters.py', 'one', 'two', 'three']\n",
    "\n",
    "# WC command, which counts the number of lines words and characters in a file.\n",
    "# wc variables.py \n",
    "# 7 19 174 variables.py \t\n",
    "\n",
    "#Then we printed the contents of the dollar sign question mark variable, \n",
    "# and we can see that the exit value was zero. That's because WC ran successfully.\n",
    "# echo $?\n",
    "# 0 \n",
    "# Exit status is a value returned by a program to the shell.\n",
    "\n",
    "# wc notpresent.sh \n",
    "# wc: notpresent.sh: No such file or directory\n",
    "# echo $?\n",
    "# 1\n",
    "\n",
    "#!/usr/bin/env python3\n",
    "\n",
    "import os\n",
    "import sys\n",
    "\n",
    "filename = sys.argv[1]\n",
    "\n",
    "if not os.path.exists(filename):\n",
    "    with open(filename, \"w\") as f:\n",
    "        f.write(\"New file created\\n\")\n",
    "else:\n",
    "    print(\"Error, the file {} already exists!\".format(filename))\n",
    "    sys.exit(1)\n",
    "\n",
    "# ./create_file.py example\n",
    "# echo $?\n",
    "# 0\n",
    "\n",
    "# cat example \n",
    "# New file created\n",
    "# ./create_file.py example\n",
    "# Error, the file example already exists!\n",
    "# echo $?\n",
    "# 1"
   ]
  }
 ],
 "metadata": {
  "kernelspec": {
   "display_name": "Python 3",
   "language": "python",
   "name": "python3"
  },
  "language_info": {
   "codemirror_mode": {
    "name": "ipython",
    "version": 3
   },
   "file_extension": ".py",
   "mimetype": "text/x-python",
   "name": "python",
   "nbconvert_exporter": "python",
   "pygments_lexer": "ipython3",
   "version": "3.12.0"
  }
 },
 "nbformat": 4,
 "nbformat_minor": 2
}
