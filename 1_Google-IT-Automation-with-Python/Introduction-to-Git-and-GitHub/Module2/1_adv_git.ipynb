{
 "cells": [
  {
   "cell_type": "markdown",
   "metadata": {},
   "source": [
    "# Study guide: Advanced Git"
   ]
  },
  {
   "cell_type": "markdown",
   "metadata": {},
   "source": [
    "## Commands, Explanations & Link\n",
    "\n",
    "1. git commit -a\n",
    "\n",
    "    - $ git commit -a https://git-scm.com/docs/git-commit#Documentation/git-commit.txt---all\n",
    "    \n",
    "        automatically stages the files that have been locally modified. New files which have not been published yet are not affected.\n",
    "\n",
    "2. git log -p\n",
    "\n",
    "    - $ git log -p https://git-scm.com/docs/git-log#generate_patch_text_with_p\n",
    "    \n",
    "        produces patch text. A patch file is used to share your local changes with others without pushing your changes to the main branch of the repo.\n",
    "\n",
    "3. git show\n",
    "\n",
    "    - $ git show https://git-scm.com/docs/git-show\n",
    "\n",
    "        shows you one or more object(s) such as blobs, trees, tags, and commits.\n",
    "\n",
    "4. git diff\n",
    "\n",
    "    - $ git diff https://git-scm.com/docs/git-diff\n",
    "\n",
    "        is similar to the Linux `diff` command, and can show the changes between commits, changes between the working tree and index, changes between two trees, changes from a merge, and so on.\n",
    "\n",
    "5. git diff --staged\n",
    "\n",
    "    - $ git diff --staged https://git-scm.com/docs/git-diff\n",
    "\n",
    "        is an alias of $ git diff --cached, which  shows all staged files compared to the named commit.\n",
    "\n",
    "6. git add -p\n",
    "\n",
    "    - $ git add -p https://git-scm.com/docs/git-add\n",
    "\n",
    "        allows a user to interactively review patches before adding to the current commit.\n",
    "\n",
    "7. git mv\n",
    "\n",
    "    - $ git mv https://git-scm.com/docs/git-mv\n",
    "\n",
    "        is similar to the Linux `mv` command. This command can move or rename a file, directory, or symlink.\n",
    "\n",
    "8. git rm\n",
    "\n",
    "    - $ git rm https://git-scm.com/docs/git-rm\n",
    "\n",
    "        is similar to the Linux `rm` command. This command deletes or removes a file from the working tree.\n",
    "\n",
    "There are many useful git command summaries online as well. Please take some time to research and study a few, such as \n",
    "this one https://education.github.com/git-cheat-sheet-education.pdf"
   ]
  },
  {
   "cell_type": "markdown",
   "metadata": {},
   "source": [
    "## .gitignore files\n",
    ".gitignore files are used to tell the git tool to intentionally ignore some files in a given Git repository. For example, this can be useful for configuration files or metadata files that a user may not want to check into the master branch. \n",
    "\n",
    "When writing a .gitignore file, there are some specific formats which help tell Git how to read the text in the file. For example, a line starting with # is a comment; a slash / is a directory separator. Visit https://git-scm.com/docs/gitignore to see more examples.\n",
    "\n",
    "This GitHub repository https://gist.github.com/octocat/9257657\n",
    "offers some examples of configurations which are often included in a .gitignore file. These examples include: compiled sources, packages, logs, databases, and OS generated files."
   ]
  }
 ],
 "metadata": {
  "language_info": {
   "name": "python"
  }
 },
 "nbformat": 4,
 "nbformat_minor": 2
}
