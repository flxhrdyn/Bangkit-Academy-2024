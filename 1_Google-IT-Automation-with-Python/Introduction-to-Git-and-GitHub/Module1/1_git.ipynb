{
 "cells": [
  {
   "cell_type": "markdown",
   "metadata": {},
   "source": [
    "# Git\n",
    "it project will consist of three sections. The Git directory, the working tree, and the staging area. \n",
    "- The Git directory contains the history of all the files and changes. \n",
    "- The working tree contains the current state of the project, including any changes that we've made. \n",
    "- And the staging area contains the changes that have been marked to be included in the next commit. "
   ]
  },
  {
   "cell_type": "markdown",
   "metadata": {},
   "source": [
    "## 1. Git config command\n",
    "The Git config command is used to set the values to identify who made changes to Git repositories. To set the values of user.email and user.name to your email and name, type: \n",
    "\n",
    ": ~$ git config  - -global user.email “me@example.com”\n",
    "\n",
    ": ~$ git config  - -global user.name “My name”"
   ]
  },
  {
   "cell_type": "markdown",
   "metadata": {},
   "source": [
    "## 2. Git init command\n",
    ": ~/checks$ git init\n",
    "\n",
    "The Git init command can create a new empty repository in a current directory or re-initialize an existing one. "
   ]
  },
  {
   "cell_type": "markdown",
   "metadata": {},
   "source": [
    "## 3. Git ls -la command\n",
    ": ~/checks$ ls -la\n",
    "\n",
    "The Git ls - la command checks that an identified directory exists.\n",
    "\n",
    ": ~/checks$ ls -l .git/\n",
    "\n",
    "The ls-l.git command checks inside the directory to see the different things that it contains. This is called the Git directory. The Git directory is a database for your Git project that stores the changes and the change history."
   ]
  },
  {
   "cell_type": "markdown",
   "metadata": {},
   "source": [
    "## 4. Git add command\n",
    ":~/checks$ git add disk_usage.py\n",
    "\n",
    "Using the Git add command allows Git to track your file and uses the selected file as a parameter when adding it to the staging area. The staging area is a file maintained by Git that contains all the information about what files and changes are going to go into your next commit."
   ]
  },
  {
   "cell_type": "markdown",
   "metadata": {},
   "source": [
    "## 5. Git status command\n",
    ":~/checks$ git status\n",
    "\n",
    "The Git status command is used to get some information about the current working tree and pending changes."
   ]
  },
  {
   "cell_type": "markdown",
   "metadata": {},
   "source": [
    "## 6. Git commit command\n",
    ":~/checks$ git commit\n",
    "\n",
    "The .git commit command is run to remove changes made from the staging area to the .git directory. When this command is run, it tells Git to save changes. A text editor is opened that allows a commit message to be entered."
   ]
  },
  {
   "cell_type": "markdown",
   "metadata": {},
   "source": [
    "# Guidelines for writing commit messages\n",
    "A commit message is generally broken into two sections: a short summary and a description of the changes. When the git commit command is run, Git will open a text editor to write your commit message. A good commit message includes the following:\n",
    "\n",
    "Summary: The first line contains the summary, formatted as a header, containing 50 characters or less. \n",
    "\n",
    "Description: The description is usually kept under 72 characters and provides detailed information about the change. It can include references to bugs or issues that will be fixed with the change. It also can include links to more information when relevant. \n",
    "\n",
    "Click the link to review an example of a commit message: https://commit.style/\n",
    " "
   ]
  },
  {
   "cell_type": "markdown",
   "metadata": {},
   "source": [
    "# Glossary terms from course 3, module 1\n",
    "Terms and definitions from Course 3, Module 1\n",
    "- Commit: A command to make edits to multiple files and treat that collection of edits as a single change\n",
    "\n",
    "- Commit files: A stage where the changes made to files are safely stored in a snapshot in the Git directory\n",
    "\n",
    "- Commit message: A summary and description with contextual information on the parts of the code or configuration of the commit change\n",
    "\n",
    "- Diff: A command to find the differences between two files\n",
    "\n",
    "- DNS zone file: A configuration file that specifies the mappings between IP addresses and host names in your network\n",
    "\n",
    "- Git: A free open source version control system available for installation on Unix based platforms, Windows and macOS\n",
    "\n",
    "- Git directory: A database for a Git project that stores the changes and the change history\n",
    "\n",
    "- Git log: A log that displays commit messages \n",
    "\n",
    "- Git staging area: A file maintained by Git that contains all the information about what files and changes are going to go into the next commit\n",
    "\n",
    "- Modified files: A stage where changes have been made to a file, but the have not been stored or committed \n",
    "\n",
    "- Patch: A command that can detect that there were changes made to the file and will do its best to apply the changes\n",
    "\n",
    "- Repository: An organization system of files that contain separate software projects \n",
    "\n",
    "- Source Control Management (SCM): A tool similar to VCS to store source code\n",
    "\n",
    "- Stage files: A stage where the changes to files are ready to be committed \n",
    "\n",
    "- Tracked: A file’s changes are recorded\n",
    "\n",
    "- Untracked: A file’s changes are not recorded\n",
    "\n",
    "- Version control systems (VCS): A tool to safely test code before releasing it, allow multiple people collaborate on the same coding projects together, and stores the history of that code and configuration"
   ]
  }
 ],
 "metadata": {
  "language_info": {
   "name": "python"
  }
 },
 "nbformat": 4,
 "nbformat_minor": 2
}
