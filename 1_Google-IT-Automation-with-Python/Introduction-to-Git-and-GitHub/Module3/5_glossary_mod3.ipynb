{
 "cells": [
  {
   "cell_type": "markdown",
   "metadata": {},
   "source": [
    "# Glossary terms from course 3, module 3\n",
    "Terms and definitions from Course 3, Module 3\n",
    "Application Programming Interface (API) key: This is an authentication token that calls an API, which is then called to identify the person, programmer, or program trying to access a website\n",
    "\n",
    "- Computer protocols: Guidelines published as open standards so that any given protocol can be implemented in various products\n",
    "\n",
    "- Distributed: Each developer has a copy of the whole repository on their local machine\n",
    "\n",
    "- GitHub: A web-based Git repository hosting service, allowing users to share and access repositories on the web and copy or clone them to a local computer\n",
    "\n",
    "- Merge: An operation that merges the origin/master branch into a local master branch\n",
    "\n",
    "- Private key: A secret and secure cryptographic key that must be kept confidential and protected and is used to decrypt data that has been encrypted with the corresponding public key\n",
    "\n",
    "- Public key: A safety cryptographic structure frequently employed to establish secure communication through data encryption or to validate the authenticity of a digital signature\n",
    "\n",
    "- Rebasing: The base commit that's used for a branch is changed\n",
    "\n",
    "- Remote branches: Git uses read-only branches to keep copies of the data that's stored in the remote repository\n",
    "\n",
    "- Remote repositories: Repositories that allow developers to contribute to a project from their own workstations making changes to local copies of the project independently of one another\n",
    "\n",
    "- Secure Shell (SSH): A robust protocol for connecting to servers remotely\n",
    "\n",
    "- SSH client: This  establishes a connection to the SSH server, ensuring a secure interaction, where the client makes access requests\n",
    "\n",
    "- SSH key: An access credential\n",
    "\n",
    "- SSH protocol: Standard commonly used for logging in to servers remotely on the principle of public-key encryption\n",
    "\n",
    "- SSH server: This establishes secure network connections, undergoes mutual authentication, and initiates encrypted login sessions or file transfers"
   ]
  }
 ],
 "metadata": {
  "language_info": {
   "name": "python"
  }
 },
 "nbformat": 4,
 "nbformat_minor": 2
}
