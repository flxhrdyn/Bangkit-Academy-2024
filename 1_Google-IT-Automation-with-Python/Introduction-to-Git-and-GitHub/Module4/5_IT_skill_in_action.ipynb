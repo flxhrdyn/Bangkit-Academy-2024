{
 "cells": [
  {
   "cell_type": "markdown",
   "metadata": {},
   "source": [
    "# IT skills in action\n",
    "Well done! You've gained a strong foundation in various crucial aspects of IT, from version control to project management. You’ve also practiced how to:\n",
    "\n",
    "- Implement version control using git and Github\n",
    "\n",
    "- Branch and merge your work\n",
    "\n",
    "- Secure and restore repositories \n",
    "\n",
    "- Resolve code conflicts\n",
    "\n",
    "- Run code reviews and manage pull requests\n",
    "\n",
    "- Use versioning to track and manage projects\n",
    "\n",
    "- Now, let's put your skills into action with a real-world scenario that encompasses the lessons you've learned. \n",
    "\n",
    "### The project\n",
    "Imagine you're part of an IT team responsible for developing and managing a software project. Your team is using Git for version control, collaborating on coding tasks, and ensuring project success. Let's walk through the process step by step.\n",
    "\n",
    "__Before Version Control:__ Before diving into code, ensure your team is aligned on the project's scope, goals, and responsibilities.\n",
    "\n",
    "__Version control systems:__ Choose Github as your version control system to track changes, collaborate effectively, and maintain a history of your project.\n",
    "\n",
    "__Using git:__ Start by initializing a Github repository, committing your initial code, and using git status and git log to manage and track changes.\n",
    "\n",
    "__Advanced git interaction:__ Use advanced commands like git diff to visualize changes, git stash to temporarily hide changes, and git tag to mark significant milestones.\n",
    "\n",
    "__Undoing things:__ Use git reset and git revert to undo changes and address errors in a controlled manner.\n",
    "\n",
    "__Branching and merging:__ Create branches for feature development using git branch, switch between branches with git checkout, and merge changes using git merge.\n",
    "\n",
    "__Secure shells & API keys:__ Ensure security by using SSH keys and managing sensitive data like API keys properly.\n",
    "\n",
    "__Solving conflicts:__ Resolve conflicts that arise from merging branches using git merge or pull requests.\n",
    "\n",
    "__Pull requests:__ Open pull requests to propose changes, review code, and discuss modifications with your team.\n",
    "\n",
    "__Code reviews:__ Participate in code reviews to maintain code quality, identify improvements, and ensure best practices.\n",
    "\n",
    "__Managing projects:__ Organize your project using project boards, milestones, and issues to track progress and prioritize tasks.\n",
    "\n",
    "### Putting it all together\n",
    "Imagine you're assigned to add a new feature to your project: a user authentication system. Here's how you'd apply your skills:\n",
    "\n",
    "__Before version control:__ Working with your development team and stakeholders you define the feature's scope and priorities. From the business requirements you develop user stories from which the team can build out tasks. Review the tasks your team created and discuss expected outcomes.\n",
    "\n",
    "__Version control systems:__ You create a feature branch for the authentication system on the app's existing repository that is already located on github. Your team uses this new branch to begin to work on the tasks associated with the feature request.All progress is tracked in real time and documented with comments in Github."
   ]
  },
  {
   "cell_type": "code",
   "execution_count": null,
   "metadata": {},
   "outputs": [],
   "source": [
    "# Create a new feature branch\n",
    "# git checkout -b feature/user-authentication"
   ]
  },
  {
   "cell_type": "markdown",
   "metadata": {},
   "source": [
    "__Advanced git interaction:__ You use git diff to view and compare code changes and look back at the history of changes. When needed you can use git diff to compare whole branches as the feature becomes more robust. As you get closer to completing the feature you create tags to mark development milestones. When feature release is approaching, you can use a milestone to share progress with stakeholders."
   ]
  },
  {
   "cell_type": "code",
   "execution_count": null,
   "metadata": {},
   "outputs": [],
   "source": [
    "# View code changes\n",
    "# git diff\n",
    "\n",
    "# View commit history\n",
    "# git log\n",
    "\n",
    "# Create a new tag\n",
    "# git tag v1.0.0\n",
    "\n",
    "# Compare branches\n",
    "# git diff feature/user-authentication main"
   ]
  },
  {
   "cell_type": "markdown",
   "metadata": {},
   "source": [
    "__Undoing things:__ As you encounter issues, you have stable milestones you know you can restore back. You can stash away pending changes or, safely undo changes using Git's commands."
   ]
  },
  {
   "cell_type": "code",
   "execution_count": null,
   "metadata": {},
   "outputs": [],
   "source": [
    "# Stash changes\n",
    "# git stash\n",
    "\n",
    "# Restore changes from stash\n",
    "# git stash pop\n",
    "\n",
    "# Undo changes in working directory\n",
    "# git checkout -- <file>"
   ]
  },
  {
   "cell_type": "markdown",
   "metadata": {},
   "source": [
    "__Branching and merging:__  Your team makes sure to keep up with branching and merging changes. The team tests their changes in the feature branch to avoid introducing any issues or bugs into the main branch. "
   ]
  },
  {
   "cell_type": "code",
   "execution_count": null,
   "metadata": {},
   "outputs": [],
   "source": [
    "# Merge changes from feature branch to main\n",
    "# git checkout main\n",
    "# git merge feature/user-authentication\n",
    "\n",
    "# Delete feature branch\n",
    "# git branch -d feature/user-authentication"
   ]
  },
  {
   "cell_type": "markdown",
   "metadata": {},
   "source": [
    "__Solving Conflicts:__ As code conflicts arise during merging, you attempt to automerge. When deeper conflicts arise, you gather your team and address them collaboratively."
   ]
  },
  {
   "cell_type": "code",
   "execution_count": null,
   "metadata": {},
   "outputs": [],
   "source": [
    "# Attempt to automerge\n",
    "# git merge feature/user-authentication\n",
    "\n",
    "# Resolve conflicts manually\n",
    "\n",
    "# Edit files to resolve conflicts\n",
    "\n",
    "# git add <resolved-files>\n",
    "# git commit -m \"Resolved conflicts\""
   ]
  },
  {
   "cell_type": "markdown",
   "metadata": {},
   "source": [
    "__Pull requests and code reviews:__ One of your team members opens up a pull request for your feature branch. It is finally time to merge our feature into the main branch. Automated tests run against the code in question and your team schedules a code review. You prepare to gather and track feedback."
   ]
  },
  {
   "cell_type": "code",
   "execution_count": null,
   "metadata": {},
   "outputs": [],
   "source": [
    "# Push changes and open pull request\n",
    "# git push origin feature/user-authentication\n",
    "\n",
    "# Automated tests run in CI/CD pipeline\n",
    "# Pull request is reviewed\n",
    "# Feedback is addressed"
   ]
  },
  {
   "cell_type": "markdown",
   "metadata": {},
   "source": [
    "__Code reviews:__ All concerned parties participate in code reviews. Team members address the group and review their code additions. Tests and metrics are also reviewed. The team collaborates at addressing feedback and ensuring high-quality code.\n",
    "\n",
    "__Managing projects:__ Throughout the project, and even after development efforts have concluded, you continue to track the progress of your feature using project boards, milestones, and issues. Development is iterative and your team will continue to work on features as feedback and requests come in from stakeholders.\n",
    "\n",
    "By applying your skills across the development life-cycle, you've successfully contributed to the project's growth and demonstrated your expertise in IT and project management."
   ]
  },
  {
   "cell_type": "markdown",
   "metadata": {},
   "source": [
    "### Key takeaways\n",
    "Throughout this guided activity, you've delved into the practical application of various IT skills, following a step-by-step process that encapsulates the skills you’ve learned. You've navigated the world of version control systems, using Git's essential functionalities, branching strategies, and remote repository interactions. With a keen eye for detail, you've tackled code reviews and confidently resolved conflicts, ensuring the seamless collaboration essential for effective software development. Your journey also encompassed essential project management aspects, where you employed project boards, milestones, and issue tracking to oversee and guide your projects' evolution. Feel confident to harness your IT skills in real-world contexts, paving the way for efficient, collaborative, and successful software development endeavors."
   ]
  }
 ],
 "metadata": {
  "language_info": {
   "name": "python"
  }
 },
 "nbformat": 4,
 "nbformat_minor": 2
}
