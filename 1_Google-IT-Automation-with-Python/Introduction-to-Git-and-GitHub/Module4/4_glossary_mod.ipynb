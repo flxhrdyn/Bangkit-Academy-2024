{
 "cells": [
  {
   "cell_type": "markdown",
   "metadata": {},
   "source": [
    "# Glossary terms from course 3, module 4\n",
    "Terms and definitions from Course 3, Module 4\n",
    "- CI/CD: The name for the entire continuous integration and continuous deployment system\n",
    "\n",
    "- Code reviews: The deliberate and methodical gathering of other programmers to examine each other's code for errors to increase the code quality and reduces the amount of bugs\n",
    "\n",
    "- Continuous deployment (CD): New code is deployed often after it has been automatically built and tested\n",
    "\n",
    "- Continuous integration (CI): A system that will automatically build and test our code every time there's a change\n",
    "\n",
    "- Fix up: The decision to discard commit messages for that commit \n",
    "\n",
    "- Forking: A way of creating a copy of the given repository so that it belongs to our user\n",
    "\n",
    "- Indirect merges: GitHub can merge a pull request automatically if the head branch is directly or indirectly merged into the base branch externally\n",
    "\n",
    "- Issue tracker (bug tracker): A tracker that shows tasks that need to be done, the state they're in and who's working on them\n",
    "\n",
    "- Merge commits: All commits from the feature branch are added to the base branch\n",
    "\n",
    "- Pipelines: The specific steps that need to run to obtain the desired result\n",
    "\n",
    "- Pull request: A procedure where new code is examined before it is merged to create a branch or master branch \n",
    "\n",
    "- Squash commits: The decision add commit messages together and an editor opens to make any necessary changes"
   ]
  }
 ],
 "metadata": {
  "language_info": {
   "name": "python"
  }
 },
 "nbformat": 4,
 "nbformat_minor": 2
}
