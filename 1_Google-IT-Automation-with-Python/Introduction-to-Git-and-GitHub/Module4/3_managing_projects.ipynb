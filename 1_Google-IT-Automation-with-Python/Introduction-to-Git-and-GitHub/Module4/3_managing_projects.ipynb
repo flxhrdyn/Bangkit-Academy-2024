{
 "cells": [
  {
   "cell_type": "markdown",
   "metadata": {},
   "source": [
    "# 1. Integrating git and GitHub\n",
    "Git is a disconnected client/server application. This means that repositories are kept on a server and copied to your local machine. Some Git operations, like git push or git pull, will synchronize your copy with the remote repository.\n",
    "\n",
    "While some organizations run their own private Git servers, most rely on a hosted solution. By far, the most popular is GitHub, but GitLab and Bitbucket are also in use. The Git command line can work with any of these.\n",
    "\n",
    "### Integrating Git and GitHub\n",
    "You can use either HTTPS or SSH with the command-line Git client to interact with GitHub. If you are pushing a commit, or working with a private repository, you will need to authenticate. Authentication methods differ depending on whether you’re using HTTPS or SSH.\n",
    "\n",
    "We’ll demonstrate several ways of using Git with your GitHub account.\n",
    "\n",
    "## HTTPS authentication\n",
    "### Command-line with HTTPS\n",
    "Install the Git CLI according to your operating system. When you push to a GitHub repository over HTTPS, or clone a private repository, Git will prompt you for your GitHub username and password.\n",
    "\n",
    "If you don’t want to enter your username and password every time, you can store them in a file called .netrc in your home directory, like this:  "
   ]
  },
  {
   "cell_type": "code",
   "execution_count": null,
   "metadata": {},
   "outputs": [],
   "source": [
    "# machine GitHub.com\n",
    "#     login my-username\n",
    "#     password my-password\n",
    "\n",
    "\n",
    "# machine api.GitHub.com\n",
    "#     login my-username\n",
    "#     password my-password"
   ]
  },
  {
   "cell_type": "markdown",
   "metadata": {},
   "source": [
    "Make sure the file is not readable by anyone else, or Git may ignore it.\n",
    "\n",
    "### Command-line HTTPS with token\n",
    "Instead of storing your password in plaintext in the .netrc file, you can generate a personal access token and use that in place of your password. See \n",
    "Managing your personal access tokens. https://docs.github.com/en/authentication/keeping-your-account-and-data-secure/managing-your-personal-access-tokens\n",
    "\n",
    "### Git Credential Manager\n",
    "Git Credential Manager (GCM) is a tool that securely stores your passwords and supplies them to Git without your intervention. It works on Linux, macOS, and Windows, and it supports multi-factor authentication too. You can read more about it here.\n",
    "\n",
    "## SSH authentication\n",
    "In the previous module, you learned how to generate an SSH key pair and use it for logging in to remote hosts. You can use the same SSH key to authenticate with GitHub. \n",
    "\n",
    "To add your SSH key for use with GitHub:\n",
    "\n",
    "- Find the public key you generated in the previous module. It will have a filename like id_rsa.pub.\n",
    "\n",
    "- Open GitHub.com in your browser.\n",
    "\n",
    "- Click on your profile icon in the top right corner and select Settings.\n",
    "\n",
    "- Go to SSH and GPG keys.\n",
    "\n",
    "- Click New SSH key.\n",
    "\n",
    "- Paste the contents of your public key into the text box and click Add SSH key.\n",
    "\n",
    "## Key takeaways\n",
    "Integrating Git and GitHub is necessary for storing, sharing, and publishing your code. Git is responsible for everything GitHub-related that happens locally on your computer. GitHub is a cloud-based service that can store, share, and publish your code. Git and GitHub need to be able to communicate with each other. "
   ]
  },
  {
   "cell_type": "markdown",
   "metadata": {},
   "source": [
    "# 2. GitHub Project Management Tools\n",
    "Besides serving as a repository for your code and tracking changes to your code over time, GitHub also includes tools to help manage your software project.\n",
    "\n",
    "### GitHub Projects\n",
    "GitHub offers multiple tools to manage and plan your work. For example, GitHub Projects is a flexible tool for tracking and managing work on GitHub. You can use Projects to create an adaptable spreadsheet, task-board, and road map which integrates with your issues and pull requests. With GitHub projects, you can filter, sort, and group your issues and pull requests and customize to fit your team’s workflow. Projects can be created in a repository, and then issues can be added to them.\n",
    "\n",
    "### GitHub Issues\n",
    "GitHub Issues is a part of GitHub Projects, and it provides a way to track tasks that you need to complete. An issue can be a bug, a feature request, or a housekeeping task (like upgrading a library to the latest version). Issues can have extensive text and descriptions attached to them, including screenshots and snippets of code. Issues can be discussed, commented on, assigned to people, and tagged.\n",
    "\n",
    "As issues are worked, and pull requests linked to those issues are completed, Issues will automatically move into the next column, and then the next, until they’re closed. You can also drag issues to another column, and GitHub will update the status (and possibly assignee and other fields) to match.\n",
    "\n",
    "### Traditional project management\n",
    "You can also view open issues in a more traditional project management format, with status, assignees, estimates, and more\n",
    "\n",
    "GitHub also supports extensive automation. You can define workflows that update issues or projects automatically as issues change or comments are added. "
   ]
  }
 ],
 "metadata": {
  "language_info": {
   "name": "python"
  }
 },
 "nbformat": 4,
 "nbformat_minor": 2
}
