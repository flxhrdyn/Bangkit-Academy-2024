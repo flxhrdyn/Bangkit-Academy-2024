{
 "cells": [
  {
   "cell_type": "markdown",
   "metadata": {},
   "source": [
    "# Privasi dan Etika dalam Pengolahan Data\n",
    "Nah, pada materi kali ini, kita akan membahas tentang privasi dan etika dalam proses pengolahan data. Pada beberapa dekade terakhir, kedua topik tersebut telah menjadi salah satu pembahasan hangat dalam dunia data. Hal ini merupakan imbas dari maraknya pemanfaatan data di industri sehingga mulai banyak yang menyadari potensi bahaya dalam praktik tersebut seperti pelanggaran privasi.\n",
    "\n",
    "Untuk mencegah bahaya tersebut, mulai muncul banyak studi terkait data ethics. Ia merupakan kumpulan acuan standar dalam menilai benar dan salah sebuah proses pengolahan data. Berikut merupakan beberapa aspek penting dalam data ethics\n",
    "\n",
    "## 1. Ownership\n",
    "Aspek ini menyatakan bahwa kepemilikan data berada pada setiap individu yang menghasilkan data tersebut. Sebagai pemilik data, individu memiliki kontrol penuh akan seluruh proses dan penggunaan data tersebut.\n",
    "\n",
    "## 2. Transparency\n",
    "Seluruh tahapan dan algoritma dalam proses pengolahan data harus transparan dan dipahami oleh setiap individu yang menghasilkan data tersebut.\n",
    "\n",
    "## 3. Consent\n",
    "Setiap individu harus mengetahui secara eksplisit terkait penggunaan dan alasan suatu data dikumpulkan. Hal ini dilakukan sebelum individu tersebut menyetujui pengumpulan data tersebut.\n",
    "\n",
    "## 4. Currency\n",
    "Jika data digunakan untuk transaksi keuangan, setiap individu yang menghasilkan data harus mengetahui dengan jelas detail terkait transaksi tersebut.\n",
    "\n",
    "## 5. Privacy & Openness\n",
    "Organisasi yang mengumpulkan data bertanggung jawab dalam menjaga setiap informasi yang bersifat pribadi pada setiap proses pengolahan data. Selain itu, organisasi tersebut harus menyediakan akses terhadap penggunaan dan pemanfaatan data (non private) secara bebas.\n",
    "Kelima aspek tersebut banyak digunakan sebagai dasar dalam pembuatan regulasi dalam pengolahan data."
   ]
  },
  {
   "cell_type": "markdown",
   "metadata": {},
   "source": [
    "# Regulasi dalam Pengolahan Data\n",
    "Seperti yang telah kita bahas sebelumnya, privasi merupakan salah satu isu penting yang harus kita pertimbangkan dalam menjaga hak setiap individu. Oleh karena itu, banyak lembaga atau instansi pemerintah di seluruh dunia mulai memperhatikan isu tersebut dan membuat regulasi untuk mengaturnya. Berikut merupakan beberapa regulasi yang dibuat untuk menjaga data privasi milik pengguna dan memastikan penerapan data ethics.\n",
    "\n",
    "## 1. General Data Protection Regulation (GDPR)\n",
    "Salah satu regulasi terkait privasi pengguna yang sering digunakan di industri adalah General Data Protection Regulation (GDPR). Ia merupakan regulasi yang dibuat oleh Uni Eropa untuk mengatur dan melindungi pemanfaatan data pengguna dalam lingkup European Economic Area (EEA). Regulasi ini memberikan kontrol terhadap individu atas penggunaan data pribadi mereka dan mewajibkan perusahaan untuk melindungi data tersebut. Selain itu, regulasi ini hanya mengizinkan pemanfaatan data berdasarkan persetujuan pengguna. Aturan lengkap terkait regulasi ini dapat Anda lihat pada tautan berikut: GDPR. https://gdpr.eu/tag/gdpr/\n",
    "\n",
    "## 2. Peraturan Menteri (Permen) No 20 Tahun 2016 tentang Perlindungan Data Pribadi (PDP)\n",
    "Sebagai negara yang berdaulat, Indonesia juga memiliki sebuah regulasi yang mengatur dan melindungi data pengguna. Regulasi ini diatur dalam bentuk Permen No 20 Tahun 2016 tentang Perlindungan Data Pribadi (PDP). Peraturan ini mewajibkan setiap penyelenggara sistem elektronik untuk mempunyai regulasi internal terkait perlindungan data pribadi pengguna dan memungkinkan pemilik data untuk mengubah dan memperbarui data tersebut. Selain itu, Permen ini juga hanya mengizinkan penggunaan data sesuai persetujuan pengguna atau pemilik data. Anda dapat membaca PerMen (Peraturan Menteri) ini secara lengkap melalui tautan berikut: Perlindungan Data Pribadi Dalam Sistem Elektronik. https://jdih.kominfo.go.id/produk_hukum/view/id/553/t/peraturan+menteri+komunikasi+dan+informatika+nomor+20+tahun+2016+tanggal+1+desember+2016"
   ]
  }
 ],
 "metadata": {
  "language_info": {
   "name": "python"
  }
 },
 "nbformat": 4,
 "nbformat_minor": 2
}
