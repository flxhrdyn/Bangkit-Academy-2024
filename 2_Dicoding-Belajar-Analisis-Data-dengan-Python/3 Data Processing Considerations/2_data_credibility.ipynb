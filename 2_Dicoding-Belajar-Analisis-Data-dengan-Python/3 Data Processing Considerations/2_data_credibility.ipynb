{
 "cells": [
  {
   "cell_type": "markdown",
   "metadata": {},
   "source": [
    "# Data Credibility\n",
    "First of all, kita perlu memahami definisi kredibilitas data. Ia merupakan bagian dari data quality assessment yang digunakan sebagai sebuah tolak ukur untuk menilai tingkat kepercayaan terhadap suatu data. \n",
    "\n",
    "Tingkat kepercayaan dari sebuah data akan sangat berdampak terhadap kualitas dan keakuratan hasil analisis yang akan dibuat. Tingkat kepercayaan ini tentunya dipengaruhi oleh banyak faktor, seperti sumber data, kelengkapan data, keakuratan data, dll. \n",
    "\n",
    "Nah, untuk memastikan kredibilitas data, kita perlu melihat keseluruhan faktor tersebut. Berikut merupakan beberapa poin sebagai patokan untuk memastikan data yang digunakan berkualitas dan dapat dipercaya\n",
    "\n",
    "## 1. Reliabilitas data\n",
    "Reliabilitas merupakan salah satu faktor penting untuk menilai kualitas dan kredibilitas dari sebuah data. Data disebut reliabel jika memuat informasi yang akurat, lengkap, dan tidak bias.\n",
    "\n",
    "Bisa Anda bayangkan betapa berbahayanya jika proses analisis dilakukan pada data yang tidak reliable. Proses tersebut akan menghasilkan analisis yang tidak dapat dipercaya dan tentunya akan berdampak terhadap perkembangan sebuah bisnis. Oleh karena itu, kita sangat disarankan untuk selalu menilai reliabilitas dari sebuah data sebelum menjalankan proses analisis.\n",
    "\n",
    "## 2. Orisinalitas data\n",
    "Selain reliabilitas, orisinalitas dari sebuah data juga merupakan komponen kunci dalam menilai kualitas dan kredibilitas dari sebuah data. Hal ini erat kaitannya dengan ownership (kepemilikan) dan sumber data.\n",
    "\n",
    "Ketika bekerja menggunakan data dari eksternal, kita harus selalu menilai keaslian data tersebut dengan membandingkan dengan sumber aslinya. Selain itu, kita juga bisa memastikan reputasi dari sumber data tersebut dan melihat apakah ia bagian dari organisasi yang kredibel?\n",
    "\n",
    "## 3. Komprehensif\n",
    "Poin selanjutnya yang tidak kalah penting ialah komprehensif. Poin ini sangat penting untuk memastikan data yang digunakan memiliki semua informasi yang dibutuhkan untuk menjawab pertanyaan dan tantangan bisnis.\n",
    "\n",
    "Sebuah data dikatakan berkualitas jika memuat semua informasi yang dibutuhkan untuk melakukan analisis data. Kelengkapan informasi ini tentunya akan sangat berpengaruh terhadap keakuratan dari suatu hasil analisis.\n",
    "\n",
    "## 4. Aktualitas data\n",
    "Last, but not least adalah aktualitas data. Seperti yang telah kita bahas sebelumnya, data di industri umumnya bersifat dinamis atau terus berubah. Jika kita menggunakan data lama, informasi di dalamnya mungkin akan outdated sehingga berdampak terhadap hasil analisis yang dibuat. Oleh karena itu, sangat penting bagi kita untuk memastikan proses analisis dilakukan menggunakan data terbaru. "
   ]
  }
 ],
 "metadata": {
  "language_info": {
   "name": "python"
  }
 },
 "nbformat": 4,
 "nbformat_minor": 2
}
