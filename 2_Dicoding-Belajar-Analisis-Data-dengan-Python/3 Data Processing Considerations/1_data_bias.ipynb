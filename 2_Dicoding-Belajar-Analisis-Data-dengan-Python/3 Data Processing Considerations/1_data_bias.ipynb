{
 "cells": [
  {
   "cell_type": "markdown",
   "metadata": {},
   "source": [
    "# Bias dalam Data\n",
    "Bias dalam data umumnya didefinisikan sebagai eror atau galat yang secara sistematis mengarahkan hasil menuju arah tertentu. Bias dalam data umumnya muncul disebabkan banyak faktor salah satunya adalah karena pengambilan sampel yang kurang merepresentasikan populasi secara keseluruhan\n",
    "\n",
    "# Cara Mengatasi Bias dalam Data\n",
    "Teknik dalam mengatasi bias akan berbeda-beda tergantung tipe dari bias tersebut. Nah, secara umum bias dalam data dapat dikategorikan dalam empat tipe, yaitu sampling bias, observer bias, interpretation bias, dan confirmation bias\n",
    "\n",
    "## 1. Sampling bias\n",
    "Sampling bias terjadi ketika sampel tidak mewakili populasi secara keseluruhan. Ini merupakan salah satu tipe bias yang paling sering terjadi. Bias jenis ini bisa muncul karena data sampel yang kita miliki kurang seluruh kelompok data yang ada atau hanya merepresentasikan kelompok data tertentu.\n",
    "\n",
    "Bias seperti ini dapat dihindari menggunakan teknik random sampling ketika mengumpulkan sebuah data. Teknik ini memungkinkan semua bagian dari populasi mendapat kesempatan yang sama untuk terpilih.\n",
    "\n",
    "## 2. Observer bias\n",
    "Tipe bias selanjutnya ialah observer bias atau sering juga disebut sebagai experimenter bias. Bias tipe ini muncul karena adanya kecenderungan yang berbeda dari setiap individu ketika melakukan observasi.\n",
    "\n",
    "Bias jenis ini dapat dihindari dengan melakukan observasi berulang. Sebagai contoh, untuk menghindari observasi bias ketika melakukan pengukuran, kita bisa melakukan proses pengukuran secara berulang dan mengambil nilai rata-ratanya sebagai hasil akhir.\n",
    "\n",
    "## 3. Interpretation bias\n",
    "Interpretation bias merupakan bias yang terjadi karena adanya kecenderungan kita dalam menginterpretasikan situasi ambigu hanya ke dalam dua keadaan (hitam dan putih). Hal ini berpotensi melahirkan bias karena setiap individu memiliki kecenderungan yang berbeda dalam menginterpretasi situasi yang ambigu.\n",
    "\n",
    "Hal ini dapat dihindari dengan cara melibatkan orang lain untuk mengonfirmasi hasil interpretasi yang kita buat. Selain itu, kita juga dapat menambahkan parameter atau nilai lain yang merepresentasikan keadaan ambigu.\n",
    "\n",
    "## 4. Confirmation bias\n",
    "Tipe bias terakhir adalah confirmation bias. Bias ini muncul karena adanya kecenderungan kita dalam mencari atau menafsirkan informasi untuk mengonfirmasi keyakinan yang sudah ada sebelumnya. Tipe bias ini akan sangat berbahaya karena dapat menjebak kita dalam echo chamber (keadaan yang membuat seseorang hanya menerima informasi dan opini yang sesuai dengan yang mereka percayai).\n",
    "\n",
    "Untuk mengatasi bias seperti ini, kita perlu selalu menempatkan diri senetral mungkin dan mencari fakta lain yang tidak hanya mengonfirmasi sebuah pernyataan (atau ide) melainkan juga menyanggah pernyataan tersebut. Oleh karena itu, sebagai calon praktisi data yang andal, kita harus selalu menempatkan diri senetral mungkin dalam setiap proses analisis data untuk menghindari confirmation bias."
   ]
  }
 ],
 "metadata": {
  "language_info": {
   "name": "python"
  }
 },
 "nbformat": 4,
 "nbformat_minor": 2
}
