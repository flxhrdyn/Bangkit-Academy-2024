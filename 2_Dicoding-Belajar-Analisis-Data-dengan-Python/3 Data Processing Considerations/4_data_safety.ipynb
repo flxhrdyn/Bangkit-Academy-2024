{
 "cells": [
  {
   "cell_type": "markdown",
   "metadata": {},
   "source": [
    "# Keamanan Data\n",
    "Data security dapat didefinisikan sebagai upaya dalam menjaga dan melindungi informasi digital (data) dari berbagai pihak yang tidak bertanggung jawab dalam seluruh proses pengolahannya. Hal ini mencakup keamanan fisik hardware (storage device) serta keamanan dari software atau aplikasi yang bersangkutan. Selain itu, ia juga mencakup seluruh kebijakan dan prosedur dalam sebuah organisasi\n",
    "\n",
    "Seperti yang kita ketahui, proses analisis data umumnya membutuhkan data yang cukup banyak. Hal inilah yang menjadi tantangan tersendiri bagi kita para praktisi data untuk menyeimbangkan kebutuhan analisis dengan tetap menjaga privasi pengguna. \n",
    "\n",
    "Beruntungnya terdapat beberapa teknik data security yang dapat kita terapkan guna menyeimbangkan kedua kebutuhan tersebut. Pada kesempatan ini kita akan membahas dua diantaranya yaitu seperti berikut.\n",
    "\n",
    "## 1. Encryption\n",
    "Encryption merupakan salah satu metode yang paling sering digunakan dalam lingkup data security. Ia merupakan teknik yang memanfaatkan algoritma tertentu untuk mengubah data menjadi bentuk unusable bagi individu atau aplikasi yang tidak memiliki akses terhadap algoritma tersebut.\n",
    "\n",
    "Pada penerapnnya, kita bisa menganggap algoritma tersebut sebagai key (kunci) untuk membalikkan (reverse) proses encryption. Oleh karena itu, jika memiliki akses terhadap algoritma tersebut, kita tetap bisa menggunakan data tersebut dalam bentuk originalnya.\n",
    "\n",
    "## 2. Tokenization\n",
    "Metode lain yang bisa digunakan ialah tokenisasi. Metode ini memungkinkan kita untuk mengubah elemen tertentu dalam sebuah data menjadi sebuah data random yang berperan sebagai token.\n",
    "\n",
    "Pada metode ini, data asli beserta token mapping akan disimpan dalam lokasi yang berbeda. Hal ini memungkinkan kita membatasi akses terhadap data asli dan memastikan keamanannya dengan menyimpan data tersebut di dalam lokasi yang berbeda."
   ]
  }
 ],
 "metadata": {
  "language_info": {
   "name": "python"
  }
 },
 "nbformat": 4,
 "nbformat_minor": 2
}
