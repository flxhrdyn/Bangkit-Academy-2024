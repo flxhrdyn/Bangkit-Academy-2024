{
 "cells": [
  {
   "cell_type": "markdown",
   "metadata": {},
   "source": [
    "# Statistik\n",
    "By definition, statistik merupakan ilmu yang menerapkan berbagai metode saintifik dalam proses pengumpulan, analisis, interpretasi, serta penyajian data. Terdapat beberapa konsep statistik yang umum digunakan untuk mendeskripsikan sebuah data yang dikenal sebagai descriptive statistics. Beberapa konsep tersebut bisa Anda lihat di bawah ini.\n",
    "\n",
    "- Measuring central tendency untuk mengidentifikasi nilai khas atau sentral dalam sebuah data.\n",
    "- Measuring dispersion untuk menilai variabilitas atau sebaran nilai dalam sebuah data. \n",
    "- Measuring asymmetric untuk menilai ketidaksimetrisan dalam sebuah distribusi data.\n",
    "- Data relationship untuk mengidentifikasi hubungan dua atau lebih feature/column/variable dalam sebuah data."
   ]
  },
  {
   "cell_type": "markdown",
   "metadata": {},
   "source": [
    "# Tipe Data\n",
    "Pada proses analisis, tipe data akan menentukan metode analisis dan bentuk visualisasi data yang tepat. Oleh karena itu, pemahaman terhadap tipe data merupakan pengetahuan yang krusial bagi seorang praktisi data. Secara garis besar, data dapat dibagi menjadi dua tipe, yaitu kuantitatif (numerik) dan kategoris. \n",
    "\n",
    "## 1. Data kuantitatif\n",
    "Data kuantitatif merupakan tipe yang direpresentasikan dalam skala numerik sehingga memungkinkan kita untuk menjalankan operasi matematis.\n",
    "Bayangkan jika Anda merupakan seorang pencinta kucing yang memelihara banyak kucing. Data kuantitatif akan merepresentasikan jumlah kucing yang Anda miliki.\n",
    "\n",
    "Tipe data kuantitatif dapat dibagi ke dalam dua kategori seperti berikut.\n",
    "- Data kontinu\n",
    "    Data kontinu dapat direpresentasikan dalam berbagai nilai numerik seperti bilangan desimal, bulat, dll. Umumnya data kontinu memiliki nilai yang bisa dibagi atau diubah ke dalam unit yang lebih kecil. Salah satu contoh data kontinu adalah umur kucing dalam satuan tahun. Data umur kucing ini masih bisa diubah ke dalam unit yang lebih kecil, seperti bulan, hari, dst.\n",
    "\n",
    "- Data diskret\n",
    "    Data diskret merupakan data numerik yang hanya bisa direpresentasikan dalam bilangan bulat dan tidak dapat dibagi ke dalam unit yang lebih kecil. Jumlah kucing merupakan salah satu contoh data diskret.\n",
    "\n",
    "## 3. Data kategoris\n",
    "Data kategoris merupakan tipe data yang menggunakan kelas atau label untuk merepresentasikan kelompok dari suatu informasi/data.\n",
    "Bayangkan jika Anda memiliki banyak kucing. Tentunya setiap kucing tersebut memiliki ciri khas masing-masing, seperti warna bulu, warna mata, atau bahkan jenis spesies dari kucing tersebut. Informasi terkait ciri khas dari suatu kucing ini merupakan contoh dari tipe data kategoris.\n",
    "\n",
    "Tipe data kategoris dapat dibagi lagi ke dalam dua tipe seperti berikut.\n",
    "\n",
    "- Data ordinal\n",
    "    Data ordinal merupakan tipe data kategoris yang dapat diurutkan berdasarkan peringkat. Sebagai contoh, Anda memberikan rating 1 sampai 5 terhadap seluruh kucing yang Anda miliki untuk membedakan keaktifan dari kucing tersebut. Kucing yang memiliki rating 5 merupakan kucing yang sangat aktif, sedangkan kucing yang memiliki rating 1 merupakan kucing yang sangat pasif. Data seperti ini merupakan contoh data ordinal.\n",
    "\n",
    "- Data nominal\n",
    "    Data nominal ialah tipe data kategoris yang tidak memiliki urutan atau peringkat. Warna bulu atau jenis spesies kucing merupakan contoh dari data nominal. Nilai dari kedua data tersebut tidak dapat kita urutkan. Hal inilah yang menjadi perbedaan mendasar antara data nominal dan ordinal."
   ]
  },
  {
   "cell_type": "markdown",
   "metadata": {},
   "source": [
    "## 4. Rangkuman\n",
    "1. Data kuantitatif\n",
    "\n",
    "    -  Data kontinu\n",
    "\n",
    "    Direpresentasikan dalam berbagai nilai numerik dan bisa dibagi atau diubah ke dalam unit yang lebih kecil\n",
    "    Ex : Umur, tinggi badan, berat badan, dll.\n",
    "\n",
    "    - Data diskret\n",
    "\n",
    "    Direpresentasikan dalam bilangan bulat dan tidak dapat dibagi ke dalam unit yang lebih kecil\n",
    "    Ex : Jumlah kucing peliharaan, jumlah produk yang terjual, dll.\n",
    "\n",
    "2. Data kategoris\n",
    "\n",
    "    - Data ordinal\n",
    "\n",
    "    Tipe data kategoris yang dapat diurutkan berdasarkan rangking\n",
    "    Ex : Rating, kategori pelanggan berdasarkan income, dll.\n",
    "\n",
    "    - Data nominal\n",
    "\n",
    "    Tipe data kategoris yang tidak memiliki urutan atau rangking\n",
    "    Ex : Jenis kelamin, warna bulu kucing, dll."
   ]
  }
 ],
 "metadata": {
  "language_info": {
   "name": "python"
  }
 },
 "nbformat": 4,
 "nbformat_minor": 2
}
