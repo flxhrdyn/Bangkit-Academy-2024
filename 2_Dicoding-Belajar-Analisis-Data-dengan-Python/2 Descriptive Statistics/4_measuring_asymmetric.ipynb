{
 "cells": [
  {
   "cell_type": "markdown",
   "metadata": {},
   "source": [
    "# Measuring Asymmetric\n",
    "Measuring asymmetric merupakan konsep statistik yang digunakan untuk mengidentifikasi ketidaksimetrisan dalam sebuah distribusi data numerik. Parameter statistik yang umum digunakan dalam measuring asymmetric ialah skewness. Namun, sebelum kita membahas lebih jauh terkait parameter skewness, alangkah baiknya kita mulai dari konsep dasar terlebih dahulu yaitu definisi distribusi data. \n",
    "\n",
    "## 1. Distribusi Data\n",
    "Distribusi data atau data distribution merupakan sebuah konsep statistik yang digunakan untuk menunjukkan frekuensi suatu nilai muncul dalam sebuah data. Umumnya kita menggunakan grafik histogram untuk melihat distribusi suatu data. Grafik tersebut akan menunjukkan frekuensi kemunculan setiap nilai dalam sebuah data.\n",
    "\n",
    "Secara umum, berdasarkan bentuk grafik histogram yang terbentuk, kita bisa membagi distribusi data dalam tiga bentuk yaitu symmetric distribution, right-skewed distribution, dan left-skewed distribution [4].\n",
    "\n",
    "- Symmetric distribution\n",
    "    Symmetric distribution (normal distribution atau bell curve distribution) merupakan suatu distribusi data yang memungkinkan kita untuk membagi data menjadi dua bagian secara simetris. Distribusi data ini memiliki nilai mean, median, serta mode yang sama dan berada di sentral distribusi data.\n",
    "\n",
    "    <img src=\"https://dicoding-web-img.sgp1.cdn.digitaloceanspaces.com/original/academy/dos:55be6424497017cbf34ed234413474c920230309132557.png\" width=\"300\">\n",
    "\n",
    "- Right-skewed distribution \n",
    "    Right-skewed distribution merupakan distribusi data yang memiliki sebagian besar populasi data yang terkonsentrasi pada bagian kiri. Distribusi data ini memiliki nilai mean lebih besar dari nilai median dan juga mode.\n",
    "\n",
    "    <img src=\"https://dicoding-web-img.sgp1.cdn.digitaloceanspaces.com/original/academy/dos:bd32b52d9e878d76b2e1dbb4209af02920230309132614.png\" width=\"300\">\n",
    "\n",
    "- Left-skewed distribution\n",
    "    Left-skewed distribution merupakan distribusi data yang terjadi ketika sebagian besar populasi data berada pada bagian kanan. Umumnya distribusi ini memiliki nilai median dan mode yang lebih besar dari nilai mean.\n",
    "\n",
    "    <img src=\"https://dicoding-web-img.sgp1.cdn.digitaloceanspaces.com/original/academy/dos:655e45a7084450347bb473bc20d15b0520230309132630.png  \" width=\"300\">\n",
    "\n",
    "Nah, itulah ketiga bentuk distribusi data yang umum dijumpai berdasarkan bentuk grafik histogramnya. Untuk membuat grafik histogram, tentunya kita membutuhkan sebuah tool. Pada bahasa pemrograman Python, terdapat banyak tool yang bisa digunakan untuk membuat plot histogram salah satunya adalah library matplotlib. \n",
    "\n",
    "Berikut merupakan contoh kode untuk membuat grafik histogram dari data jumlah kucing peliharaan pegawai Dicoding."
   ]
  },
  {
   "cell_type": "code",
   "execution_count": 1,
   "metadata": {},
   "outputs": [
    {
     "data": {
      "image/png": "[encoded data removed]",
      "text/plain": [
       "<Figure size 640x480 with 1 Axes>"
      ]
     },
     "metadata": {},
     "output_type": "display_data"
    }
   ],
   "source": [
    "import numpy as np\n",
    "import matplotlib.pyplot as plt\n",
    " \n",
    "jumlah_kucing = np.array([3, 2, 1, 1, 2, 3, 2, 1, 0, 2])\n",
    "plt.hist(jumlah_kucing, bins=4)\n",
    "plt.show()"
   ]
  },
  {
   "cell_type": "markdown",
   "metadata": {},
   "source": [
    "## 2. Skewness\n",
    "Oke, kita telah membahas tiga bentuk distribusi data yang dilihat berdasarkan grafik histogram yaitu symmetric distribution, right-skewed distribution, dan left-skewed distribution. Selain melihatnya menggunakan grafik histogram, kita juga bisa mengukur ketidaksimetrisan dalam distribusi data menggunakan parameter skewness. \n",
    "\n",
    "Skewness merupakan parameter statistik yang digunakan untuk mengukur kesimetrisan sebuah distribusi data. Ia mampu memberikan kita gambaran tentang banyaknya data yang menyimpang dari symmetric distribution. Parameter ini memiliki jangkauan nilai mulai dari negatif hingga positif [5].\n",
    "\n",
    "- Nilai skewness positif menggambarkan data yang memiliki distribusi yang cenderung right-skewed.\n",
    "- Nilai skewness nol menggambarkan data yang memiliki distribusi simetris sempurna.\n",
    "- Nilai skewness negatif merepresentasikan data dengan distribusi yang cenderung left-skewed.\n",
    "\n",
    "Library pandas telah menyediakan sebuah method untuk menghitung skewness dari sebuah data. Berikut merupakan contoh kode untuk menghitung skewness dari data jumlah kucing peliharaan pegawai Dicoding."
   ]
  },
  {
   "cell_type": "code",
   "execution_count": 2,
   "metadata": {},
   "outputs": [
    {
     "data": {
      "text/plain": [
       "-0.2342427896421018"
      ]
     },
     "execution_count": 2,
     "metadata": {},
     "output_type": "execute_result"
    }
   ],
   "source": [
    "import numpy as np\n",
    "import pandas as pd\n",
    " \n",
    "jumlah_kucing = np.array([3, 2, 1, 1, 2, 3, 2, 1, 0, 2])\n",
    "jumlah_kucing_series = pd.Series(jumlah_kucing)\n",
    "jumlah_kucing_series.skew()"
   ]
  },
  {
   "cell_type": "markdown",
   "metadata": {},
   "source": [
    "Kode di atas akan menghasilkan nilai skewness sebesar -0.23. Nilai tersebut menunjukkan bahwa data kita cenderung memiliki distribusi left-skewed.  "
   ]
  }
 ],
 "metadata": {
  "kernelspec": {
   "display_name": "Python 3",
   "language": "python",
   "name": "python3"
  },
  "language_info": {
   "codemirror_mode": {
    "name": "ipython",
    "version": 3
   },
   "file_extension": ".py",
   "mimetype": "text/x-python",
   "name": "python",
   "nbconvert_exporter": "python",
   "pygments_lexer": "ipython3",
   "version": "3.12.0"
  }
 },
 "nbformat": 4,
 "nbformat_minor": 2
}
