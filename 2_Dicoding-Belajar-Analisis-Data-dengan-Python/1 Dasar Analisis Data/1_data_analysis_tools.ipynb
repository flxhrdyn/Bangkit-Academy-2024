{
 "cells": [
  {
   "cell_type": "markdown",
   "metadata": {},
   "source": [
    "# Pengenalan Tool Pengolahan Data "
   ]
  },
  {
   "cell_type": "markdown",
   "metadata": {},
   "source": [
    "## 1. Pengenalan Library NumPy\n",
    "NumPy (singkatan dari numerical Python) merupakan salah satu library Python yang sangat powerful untuk membuat dan mengolah multi-dimensional arrays (sering juga disebut sebagai matriks atau tensor). NumPy dibuat dengan tujuan untuk mempercepat proses komputasi numerik dalam bahasa pemrograman Python.\n",
    "\n",
    "Untuk mendukung tujuan tersebut, NumPy hadir dengan banyak fungsi bawaan yang memungkinkan kita untuk melakukan berbagai macam operasi matematis mulai dari yang sederhana hingga kompleks, seperti basic linear algebra, random simulation, Fourier transforms, dll. Hal inilah yang membuat NumPy menjadi salah satu library populer untuk melakukan scientific computing dalam bahasa pemrograman Python. Selain itu, NumPy juga banyak digunakan sebagai komponen dasar pada banyak library populer lain, seperti pandas, SciPy, dll.\n",
    "\n",
    "Anda dapat menginstal NumPy menggunakan package manager seperti pip ataupun conda.\n",
    "\n",
    "- pip install numpy"
   ]
  },
  {
   "cell_type": "code",
   "execution_count": 1,
   "metadata": {},
   "outputs": [
    {
     "data": {
      "text/plain": [
       "array([1, 3, 5, 7])"
      ]
     },
     "execution_count": 1,
     "metadata": {},
     "output_type": "execute_result"
    }
   ],
   "source": [
    "import numpy as np\n",
    "\n",
    "array_1 = np.array([1, 3, 5, 7])\n",
    "array_1"
   ]
  },
  {
   "cell_type": "markdown",
   "metadata": {},
   "source": [
    "## 2. Pengenalan Library Pandas\n",
    "Selain NumPy, library lain yang sering digunakan adalah pandas. Ia merupakan library Python yang spesifik digunakan untuk memanipulasi dan menganalisis data. Library inilah yang akan kita gunakan sebagai tool utama dalam menganalisis data.\n",
    "\n",
    "Untuk memenuhi fungsinya, pandas menyediakan data structure bernama DataFrame. Ia merupakan sebuah data structure berbentuk tabel yang terdiri dari header, index, column, & row. Data structure inilah yang akan kita gunakan untuk mengolah dan menganalisis data.\n",
    "\n",
    "Selain itu, pandas juga menyediakan sekumpulan function serta method untuk memanipulasi dan menganalisis data secara lebih efektif. Hal inilah yang membuat pandas disebut sebagai salah satu library populer untuk mengolah data dan sering digunakan oleh para praktisi data.\n",
    "\n",
    "Sama halnya dengan NumPy, pandas juga bukan library bawaan Python sehingga perlu diinstal terlebih dahulu. Anda dapat menginstal pandas dengan menjalankan salah satu perintah berikut.\n",
    "\n",
    "- pip install pandas"
   ]
  },
  {
   "cell_type": "code",
   "execution_count": 1,
   "metadata": {},
   "outputs": [
    {
     "data": {
      "text/html": [
       "<div>\n",
       "<style scoped>\n",
       "    .dataframe tbody tr th:only-of-type {\n",
       "        vertical-align: middle;\n",
       "    }\n",
       "\n",
       "    .dataframe tbody tr th {\n",
       "        vertical-align: top;\n",
       "    }\n",
       "\n",
       "    .dataframe thead th {\n",
       "        text-align: right;\n",
       "    }\n",
       "</style>\n",
       "<table border=\"1\" class=\"dataframe\">\n",
       "  <thead>\n",
       "    <tr style=\"text-align: right;\">\n",
       "      <th></th>\n",
       "      <th>Name</th>\n",
       "      <th>Age</th>\n",
       "    </tr>\n",
       "  </thead>\n",
       "  <tbody>\n",
       "    <tr>\n",
       "      <th>0</th>\n",
       "      <td>Felix</td>\n",
       "      <td>20</td>\n",
       "    </tr>\n",
       "    <tr>\n",
       "      <th>1</th>\n",
       "      <td>Joko</td>\n",
       "      <td>45</td>\n",
       "    </tr>\n",
       "    <tr>\n",
       "      <th>2</th>\n",
       "      <td>Budi</td>\n",
       "      <td>46</td>\n",
       "    </tr>\n",
       "  </tbody>\n",
       "</table>\n",
       "</div>"
      ],
      "text/plain": [
       "    Name  Age\n",
       "0  Felix   20\n",
       "1   Joko   45\n",
       "2   Budi   46"
      ]
     },
     "execution_count": 1,
     "metadata": {},
     "output_type": "execute_result"
    }
   ],
   "source": [
    "import pandas as pd\n",
    "data = {\n",
    "    'Name': ['Felix', 'Joko', 'Budi'], \n",
    "    'Age': [20, 45, 46]\n",
    "}\n",
    " \n",
    "df = pd.DataFrame(data)\n",
    "df"
   ]
  },
  {
   "cell_type": "markdown",
   "metadata": {},
   "source": [
    "## 3. Pengenalan Library SciPy\n",
    "Library penting selanjutnya adalah SciPy (singkatan dari Scientific Python). Ia merupakan library Python yang khusus digunakan untuk kebutuhan komputasi saintifik. Library ini memanfaatkan NumPy sebagai komponen dasar dalam setiap perhitungan komputasi yang akan dilakukan.\n",
    "\n",
    "Sebagai library yang sering digunakan untuk komputasi saintifik, SciPy menyediakan banyak fungsi yang dapat digunakan untuk menyelesaikan operasi matematis kompleks yang dapat digunakan dalam dunia science dan engineering. Selain itu, SciPy juga menyediakan banyak operasi statistik sehingga dapat membantu kita dalam mengidentifikasi parameter statistik dari suatu data.\n",
    "\n",
    "SciPy juga bukan merupakan library bawaan Python sehingga perlu diinstal terlebih dahulu. Anda dapat menginstal SciPy dengan menjalankan salah satu dari perintah berikut.\n",
    "\n",
    "- pip install scipy\n",
    "\n",
    "Anda dapat menjalankan kode berikut untuk melihat versi dari library SciPy yang diinstal dan memastikan proses instalasi berhasil."
   ]
  },
  {
   "cell_type": "code",
   "execution_count": 2,
   "metadata": {},
   "outputs": [
    {
     "name": "stdout",
     "output_type": "stream",
     "text": [
      "1.12.0\n"
     ]
    }
   ],
   "source": [
    "import scipy\n",
    " \n",
    "print(scipy.__version__)"
   ]
  },
  {
   "cell_type": "markdown",
   "metadata": {},
   "source": [
    "# Pengenalan Tool Visualisasi Data\n",
    "Pada materi sebelumnya, kita berkenalan dengan berbagai tools atau library Python yang sering digunakan oleh para praktisi di industri dalam mengolah data. Namun, tools tersebut masih belum cukup untuk menangani seluruh kebutuhan kita dalam proses analisis data.\n",
    "\n",
    "Pada proses analisis data, selain mengolah data, kita juga perlu merepresentasikan data tersebut ke dalam bentuk visual yang menarik dan mudah dipahami. Nah, pada materi kali ini, kita akan berkenalan dengan berbagai tools visualisasi data yang ada dalam bahasa pemrograman Python.\n",
    "\n",
    "Sebagai salah satu bahasa pemrograman paling populer di kalangan praktisi data, Python memiliki banyak libraries dan tools yang bersifat open-source untuk mendukung pembuatan visualisasi data yang baik dan menarik. Berikut merupakan dua library Python yang paling sering digunakan oleh praktisi data di industri.\n",
    "\n",
    "- Library matplotlib\n",
    "- Library seaborn"
   ]
  },
  {
   "cell_type": "markdown",
   "metadata": {},
   "source": [
    "## 1. Pengenalan Library Matplotlib\n",
    "Matplotlib merupakan sebuah library Python yang reliable dan komprehensif untuk mendukung kebutuhan pembuatan visualisasi data. Matplotlib menyediakan banyak object dan method yang memungkinkan kita membuat visualisasi data statis, animated, dan interaktif. Anda dapat melihat berbagai contoh visualisasi data yang dibuat menggunakan library ini pada tautan berikut: examples gallery. https://matplotlib.org/stable/gallery/index.html\n",
    "\n",
    "Matplotlib memiliki sebuah submodule bernama matplotlib.pyplot yang sering dipanggil atau disingkat sebagai plt. Submodule ini menyediakan sebuah fungsi untuk membuat sebuah figure yang merupakan sebuah area atau kanvas kosong untuk membuat visualisasi data. Selain itu, plt juga menyediakan banyak fungsi untuk mendefinisikan berbagai jenis visualisasi data beserta dekorasinya, seperti label, title, dll.\n",
    "\n",
    "Sebagai library visualisasi data yang komprehensif, matplotlib juga memungkinkan kita untuk memodifikasi berbagai tampilan visual sehingga dapat disesuaikan dengan kebutuhan. Tidak hanya itu, ia juga memungkinkan kita untuk menyimpan hasil visualisasi data yang telah dibuat ke dalam berbagai format penyimpanan, seperti png, jpeg, pdf, dll.  \n",
    "\n",
    "Sama halnya dengan berbagai library yang telah kita bahas sebelumnya, matplotlib bukan merupakan library bawaan Python sehingga perlu diinstal terlebih dahulu. Anda dapat menginstal matplotlib dengan menjalankan salah satu dari perintah berikut.\n",
    "\n",
    "- pip install matplotlib\n",
    "\n",
    "Untuk memastikan Anda telah berhasil menginstal library matplotlib, jalankan kode berikut."
   ]
  },
  {
   "cell_type": "code",
   "execution_count": 3,
   "metadata": {},
   "outputs": [
    {
     "name": "stdout",
     "output_type": "stream",
     "text": [
      "3.8.3\n"
     ]
    }
   ],
   "source": [
    "import matplotlib\n",
    " \n",
    "print(matplotlib.__version__)"
   ]
  },
  {
   "cell_type": "markdown",
   "metadata": {},
   "source": [
    "## 2. Pengenalan Seaborn\n",
    "Selain matplotlib, library lain yang sering digunakan untuk visualisasi data adalah seaborn. Seaborn merupakan library Python yang spesifik digunakan untuk membuat visualisasi data yang atraktif dan informatif. Library ini memanfaatkan matplotlib untuk menampilkan grafik visualisasi data.\n",
    "\n",
    "Sebagai salah satu library visualisasi data yang andal, seaborn menyediakan berbagai bentuk visual untuk merepresentasikan data secara lebih menarik dan informatif. Anda dapat melihat berbagai contoh visualisasi data yang dibuat menggunakan library ini pada tautan berikut: example gallery. https://seaborn.pydata.org/examples/index.html\n",
    "\n",
    "Pada proses pembuatan visualisasi data, umumnya kita akan memadukan seaborn dan matplotlib. Hal ini dilakukan untuk menghasilkan bentuk visual yang lebih menarik, informatif, dan interaktif. \n",
    "\n",
    "Namun, perlu diingat bahwa untuk menggunakan seaborn, kita perlu menginstalnya terlebih dahulu. Anda dapat melakukannya dengan menjalankan salah satu perintah berikut.\n",
    "\n",
    "- pip install seaborn\n",
    "\n",
    "Anda dapat menjalankan kode di bawah ini untuk melihat versi dari library seaborn yang terinstal sekaligus memastikan proses instalasi berjalan dengan lancar."
   ]
  },
  {
   "cell_type": "code",
   "execution_count": null,
   "metadata": {},
   "outputs": [],
   "source": [
    "import seaborn as sns\n",
    " \n",
    "print(sns.__version__)"
   ]
  }
 ],
 "metadata": {
  "kernelspec": {
   "display_name": "Python 3",
   "language": "python",
   "name": "python3"
  },
  "language_info": {
   "codemirror_mode": {
    "name": "ipython",
    "version": 3
   },
   "file_extension": ".py",
   "mimetype": "text/x-python",
   "name": "python",
   "nbconvert_exporter": "python",
   "pygments_lexer": "ipython3",
   "version": "3.12.0"
  }
 },
 "nbformat": 4,
 "nbformat_minor": 2
}
