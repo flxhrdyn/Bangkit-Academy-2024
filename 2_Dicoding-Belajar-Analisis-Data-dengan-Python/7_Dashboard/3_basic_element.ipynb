{
 "cells": [
  {
   "cell_type": "markdown",
   "metadata": {},
   "source": [
    "# Basic Element dalam Streamlit\n",
    "Sebagai sebuah web app framework yang andal, streamlit telah menyediakan banyak pilihan element, widget, layout serta container untuk memastikan kita dapat membuat web app atau dashboard yang menarik dan interaktif. Nah, pada materi ini, kita hanya akan fokus pada bagian basic element dalam streamlit yang terdiri dari write, text, data display, dan chat. Yuk, kita bahas satu per satu!"
   ]
  },
  {
   "cell_type": "markdown",
   "metadata": {},
   "source": [
    "## 1. Write\n",
    "Basic element pertama yang akan kita bahas ialah write. Ia merupakan elemen streamlit yang digunakan untuk menampilkan sebuah output.  Untuk menggunakan element ini, kita hanya perlu memanggil function write() dan diikuti inputan yang ingin ditampilkan.\n",
    "\n",
    "Pada contoh pembuatan “Hello, world!” app, kita telah menggunakan function write() untuk menampilkan output dari argument markdown.  Sebenarnya function ini dapat digunakan untuk menampilkan hal lain, seperti DataFrame, visualisasi data, dll. Berikut merupakan contoh penggunaannya untuk menampilkan DataFrame."
   ]
  },
  {
   "cell_type": "code",
   "execution_count": null,
   "metadata": {},
   "outputs": [],
   "source": [
    "import streamlit as st\n",
    "import pandas as pd\n",
    " \n",
    "st.write(pd.DataFrame({\n",
    "    'c1': [1, 2, 3, 4],\n",
    "    'c2': [10, 20, 30, 40],\n",
    "}))"
   ]
  },
  {
   "cell_type": "markdown",
   "metadata": {},
   "source": [
    "Kode di atas akan menghasilkan tampilan web app seperti berikut.\n",
    "\n",
    "<img src=\"https://dicoding-web-img.sgp1.cdn.digitaloceanspaces.com/original/academy/dos:74ff12a48a358afb5e3a37bcadb2535e20230310105317.jpeg\" width=\"300\">"
   ]
  },
  {
   "cell_type": "markdown",
   "metadata": {},
   "source": [
    "## 2. Text\n",
    "Elemen lain yang ada dalam streamlit ialah text (dokumentasi: text). Sesuai dengan namanya, ia merupakan elemen yang digunakan untuk menampilkan sebuah output berupa text. Elemen ini memiliki banyak function yang bisa digunakan sesuai kebutuhan. Berikut merupakan beberapa pilihan yang tersedia saat ini. \n",
    "\n",
    "- markdown()\n",
    "    Function ini digunakan untuk menampilkan output dari argument markdown. Berikut merupakan contoh kode untuk menggunakannya."
   ]
  },
  {
   "cell_type": "code",
   "execution_count": null,
   "metadata": {},
   "outputs": [],
   "source": [
    "import streamlit as st \n",
    " \n",
    "st.markdown(\n",
    "    \"\"\"\n",
    "    # My first app\n",
    "    Hello, para calon praktisi data masa depan!\n",
    "    \"\"\"\n",
    ")"
   ]
  },
  {
   "cell_type": "markdown",
   "metadata": {},
   "source": [
    "- title()\n",
    "\n",
    "    Ini merupakan function yang digunakan untuk menampilkan teks dalam format judul. Kode yang dapat Anda gunakan untuk menerapkan function tersebut adalah seperti di bawah ini."
   ]
  },
  {
   "cell_type": "code",
   "execution_count": null,
   "metadata": {},
   "outputs": [],
   "source": [
    "import streamlit as st\n",
    " \n",
    "st.title('Belajar Analisis Data')"
   ]
  },
  {
   "cell_type": "markdown",
   "metadata": {},
   "source": [
    "- header()\n",
    "\n",
    "    Function ini digunakan untuk menampilkan output teks sebagai format header. Berikut contoh penulisan kode untuk menggunakannya."
   ]
  },
  {
   "cell_type": "code",
   "execution_count": null,
   "metadata": {},
   "outputs": [],
   "source": [
    "import streamlit as st\n",
    " \n",
    "st.header('Pengembangan Dashboard')"
   ]
  },
  {
   "cell_type": "markdown",
   "metadata": {},
   "source": [
    "- subheader()\n",
    "\n",
    "    Ini merupakan function yang digunakan untuk menampilkan output teks sebagai format subheader."
   ]
  },
  {
   "cell_type": "code",
   "execution_count": null,
   "metadata": {},
   "outputs": [],
   "source": [
    "import streamlit as st\n",
    "\n",
    "st.subheader('Pengembangan Dashboard')"
   ]
  },
  {
   "cell_type": "markdown",
   "metadata": {},
   "source": [
    "- caption()\n",
    "\n",
    "    Function berikutnya ialah caption(). Ia merupakan function yang digunakan untuk menampilkan output teks dalam ukuran kecil. Function ini biasanya digunakan untuk menampilkan caption, footnotes, dll. Contoh penggunaannya seperti di bawah ini."
   ]
  },
  {
   "cell_type": "code",
   "execution_count": null,
   "metadata": {},
   "outputs": [],
   "source": [
    "import streamlit as st\n",
    " \n",
    "st.caption('Copyright (c) 2023')"
   ]
  },
  {
   "cell_type": "markdown",
   "metadata": {},
   "source": [
    "- code()\n",
    "\n",
    "    Pada beberapa case, kita harus menampilkan potongan kode ke dalam streamlit app (web app yang dibuat menggunakan streamlit). Untuk menjawab hal ini, streamlit telah menyediakan sebuah function bernama code(). Kode di bawah ini merupakan contoh penggunaan dari function tersebut."
   ]
  },
  {
   "cell_type": "code",
   "execution_count": null,
   "metadata": {},
   "outputs": [],
   "source": [
    "import streamlit as st\n",
    " \n",
    "code = \"\"\"def hello():\n",
    "    print(\"Hello, Streamlit!\")\"\"\"\n",
    "st.code(code, language='python')"
   ]
  },
  {
   "cell_type": "markdown",
   "metadata": {},
   "source": [
    "Kode di atas akan menghasilkan tampilan seperti berikut.\n",
    "\n",
    "<img src=\"https://dicoding-web-img.sgp1.cdn.digitaloceanspaces.com/original/academy/dos:b738f09dc5ea883cc513982a82261bb920230310105318.jpeg\" width=\"600\">"
   ]
  },
  {
   "cell_type": "markdown",
   "metadata": {},
   "source": [
    "- text()\n",
    "\n",
    "    Function selanjutnya ialah text(). Function ini digunakan untuk menampilkan sebuah normal teks. Berikut merupakan contoh kode untuk mengguankannya."
   ]
  },
  {
   "cell_type": "code",
   "execution_count": null,
   "metadata": {},
   "outputs": [],
   "source": [
    "import streamlit as st\n",
    " \n",
    "st.text('Halo, calon praktisi data masa depan.')"
   ]
  },
  {
   "cell_type": "markdown",
   "metadata": {},
   "source": [
    "- latex()\n",
    "\n",
    "    Function terakhir yang dapat digunakan untuk menampilkan elemen teks ialah latex(). Sesuai namanya, function tersebut digunakan untuk menampilkan mathematical expression yang ditulis dalam format [LaTeX](https://katex.org/docs/supported.html). Berikut contoh kode untuk menggunakan function latex()."
   ]
  },
  {
   "cell_type": "code",
   "execution_count": null,
   "metadata": {},
   "outputs": [],
   "source": [
    "import streamlit as st\n",
    " \n",
    "st.latex(r\"\"\"\n",
    "    \\sum_{k=0}^{n-1} ar^k =\n",
    "    a \\left(\\frac{1-r^{n}}{1-r}\\right)\n",
    "\"\"\")"
   ]
  },
  {
   "cell_type": "markdown",
   "metadata": {},
   "source": [
    "Kode tersebut akan menghasilkan tampilan mathematical expression seperti berikut.\n",
    "\n",
    "<img src=\"https://dicoding-web-img.sgp1.cdn.digitaloceanspaces.com/original/academy/dos:b4c10746687a2d7b82a59a62ecee0ecd20230310111310.jpeg\" width=\"300\">"
   ]
  },
  {
   "cell_type": "markdown",
   "metadata": {},
   "source": [
    "## 2. Data Display\n",
    "Basic element selanjutnya yang akan kita bahas ialah data display (dokumentasi: data display). Ia merupakan elemen yang digunakan untuk menampilkan data secara cepat dan interaktif ke dalam streamlit app yang kita buat. Elemen ini memiliki beberapa function seperti berikut."
   ]
  },
  {
   "cell_type": "markdown",
   "metadata": {},
   "source": [
    "- dataframe()\n",
    "\n",
    "    Function pertama yang bisa kita gunakan untuk menampilkan data ke dalam streamlit app ialah dataframe(). Ia merupakan function yang digunakan untuk menampilkan DataFrame sebagai sebuah tabel interaktif. Pada function ini, kita bisa mengatur ukuran dari table yang ingin ditampilkan menggunakan parameter width dan height. Berikut merupakan contoh kode untuk menampilkan data menggunakan function dataframe().\n"
   ]
  },
  {
   "cell_type": "code",
   "execution_count": null,
   "metadata": {},
   "outputs": [],
   "source": [
    "import pandas as pd\n",
    "import streamlit as st \n",
    " \n",
    "df = pd.DataFrame({\n",
    "    'c1': [1, 2, 3, 4],\n",
    "    'c2': [10, 20, 30, 40],\n",
    "})\n",
    " \n",
    "st.dataframe(data=df, width=500, height=150)"
   ]
  },
  {
   "cell_type": "markdown",
   "metadata": {},
   "source": [
    "- table()\n",
    "\n",
    "    Selain dataframe(), kita juga bisa menggunakan function table()untuk menampilkan data ke dalam streamlit app. Ia dapat digunakan untuk menampilkan data dalam bentuk static table. Berikut merupakan contoh penggunaannya."
   ]
  },
  {
   "cell_type": "code",
   "execution_count": null,
   "metadata": {},
   "outputs": [],
   "source": [
    "import pandas as pd\n",
    "import streamlit as st \n",
    " \n",
    "df = pd.DataFrame({\n",
    "    'c1': [1, 2, 3, 4],\n",
    "    'c2': [10, 20, 30, 40],\n",
    "})\n",
    "st.table(data=df)"
   ]
  },
  {
   "cell_type": "markdown",
   "metadata": {},
   "source": [
    "- metric()\n",
    "\n",
    "    Ketika membuat dashboard, terkadang kita perlu menampilkan sebuah metrik tertentu. Untuk melakukan hal ini, kita bisa memanfaatkan function metric(). Function ini dapat membantu kita untuk menampilkan sebuah metrik tertentu beserta detailnya seperti label, value serta besar perubahan nilainya. Berikut merupakan contoh kode untuk menggunakannya."
   ]
  },
  {
   "cell_type": "code",
   "execution_count": null,
   "metadata": {},
   "outputs": [],
   "source": [
    "import streamlit as st\n",
    " \n",
    "st.metric(label=\"Temperature\", value=\"28 °C\", delta=\"1.2 °C\")"
   ]
  },
  {
   "cell_type": "markdown",
   "metadata": {},
   "source": [
    "Kode di atas akan menghasilkan tampilan berikut.\n",
    "\n",
    "<img src=\"https://dicoding-web-img.sgp1.cdn.digitaloceanspaces.com/original/academy/dos:eb8182ad7316976a1127338d5b668b3a20230310105318.jpeg\" width=\"100\">"
   ]
  },
  {
   "cell_type": "markdown",
   "metadata": {},
   "source": [
    "- json()\n",
    "\n",
    "    Selain bentuk DataFrame atau tabel, terkadang kita juga perlu menampilkan data dalam format JSON. Streamlit telah menyediakan function json() untuk menampilkan data dalam format JSON. Berikut merupakan contoh penggunaannya."
   ]
  },
  {
   "cell_type": "code",
   "execution_count": null,
   "metadata": {},
   "outputs": [],
   "source": [
    "import streamlit as st\n",
    " \n",
    "st.json({\n",
    "    'c1': [1, 2, 3, 4],\n",
    "    'c2': [10, 20, 30, 40],\n",
    "})"
   ]
  },
  {
   "cell_type": "markdown",
   "metadata": {},
   "source": [
    "Kode di atas akan menghasilkan tampilan berikut.\n",
    "\n",
    "<img src=\"https://dicoding-web-img.sgp1.cdn.digitaloceanspaces.com/original/academy/dos:5bea6f0e37cdbc6aec9fbed5992f4f7b20230310111741.jpeg\" width=\"100\">"
   ]
  },
  {
   "cell_type": "markdown",
   "metadata": {},
   "source": [
    "## 3. Chart\n",
    "Basic element terakhir yang perlu kita ketahui ialah chart. Sesuai namanya, elemen ini dapat digunakan untuk menampilkan grafik visualisasi data ke dalam streamlit app. Elemen inilah yang akan sering kita gunakan untuk membuat dashboard nantinya. Sebenarnya streamlit telah menyediakan banyak sekali function untuk mendukung berbagai library visualisasi data (dokumentasi: [chart](https://docs.streamlit.io/library/api-reference/charts)). Namun, pada materi ini, kita hanya akan fokus pada function pyplot().\n",
    "\n",
    "Function pyplot() dapat digunakan untuk menampilkan grafik visualisasi data yang dibuat menggunakan matplotlib. Berikut merupakan contoh kode untuk menggunakannya."
   ]
  },
  {
   "cell_type": "code",
   "execution_count": null,
   "metadata": {},
   "outputs": [],
   "source": [
    "import matplotlib.pyplot as plt\n",
    "import numpy as np\n",
    "import streamlit as st\n",
    " \n",
    "x = np.random.normal(15, 5, 250)\n",
    " \n",
    "fig, ax = plt.subplots()\n",
    "ax.hist(x=x, bins=15)\n",
    "st.pyplot(fig)"
   ]
  },
  {
   "cell_type": "markdown",
   "metadata": {},
   "source": [
    "Kode di atas akan menampilkan grafik visualisasi data berikut di dalam streamlit app.\n",
    "\n",
    "<img src=\"https://dicoding-web-img.sgp1.cdn.digitaloceanspaces.com/original/academy/dos:0abca0b15e5395dd8dc918fa8d4d8e7a20230310105318.jpeg\" width=\"300\">"
   ]
  }
 ],
 "metadata": {
  "kernelspec": {
   "display_name": "Python 3",
   "language": "python",
   "name": "python3"
  },
  "language_info": {
   "codemirror_mode": {
    "name": "ipython",
    "version": 3
   },
   "file_extension": ".py",
   "mimetype": "text/x-python",
   "name": "python",
   "nbconvert_exporter": "python",
   "pygments_lexer": "ipython3",
   "version": "3.12.0"
  }
 },
 "nbformat": 4,
 "nbformat_minor": 2
}
