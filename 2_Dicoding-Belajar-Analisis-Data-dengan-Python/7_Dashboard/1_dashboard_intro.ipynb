{
 "cells": [
  {
   "cell_type": "markdown",
   "metadata": {},
   "source": [
    "# Pengenalan Dashboard"
   ]
  },
  {
   "cell_type": "markdown",
   "metadata": {},
   "source": [
    "## 1. Apa itu Dashboard?\n",
    "Dashboard banyak digunakan sebagai media untuk memonitori berbagai metrik yang dianggap penting untuk perkembangan sebuah perusahaan. Selain itu, ia juga merupakan salah satu komponen penting dalam kultur data-driven decision making. Umumnya, sebuah dashboard terdiri dari beberapa visualisasi data yang interaktif dan saling berhubungan satu sama lain.\n",
    "\n",
    "Sederhananya, visualisasi data yang interaktif akan memungkinkan pengguna untuk mengontrol hal yang ingin ditampilkan dalam sebuah visualisasi data. Hal ini tentunya memberikan kebebasan terhadap user untuk fokus ke bagian yang menurut mereka penting. "
   ]
  },
  {
   "cell_type": "markdown",
   "metadata": {},
   "source": [
    "## 2. Pertimbangan dalam Membuat Dashboard\n",
    "Dashboard yang efektif merupakan kunci utama dalam kultur data-driven decision making. Ia umumnya memiliki atau menampilkan metrik yang jelas serta mampu menyampaikan informasi yang relevan dengan kebutuhan audiens atau pengguna. Berikut merupakan beberapa hal yang harus diperhatikan dalam membuat dashboard yang efektif\n",
    "\n",
    "- Memahami audiens\n",
    "\n",
    "    Untuk membuat dashboard yang efektif, kita harus mempertimbangkan audiens dan kebutuhannya. Oleh karena itu, pada proses pembuatan dashboard kita harus memahami siapa target user atau audiens serta goals atau kebutuhan yang ingin mereka capai dari dashboard tersebut.\n",
    "\n",
    "- Pertimbangkan ukuran tampilan\n",
    "\n",
    "    Sejalan dengan poin pertama, kita juga harus mempertimbangkan ukuran tampilan dashboard yang sesuai dengan device atau perangkat yang sering digunakan oleh target user atau audiens untuk melihat dashboard yang Anda buat.\n",
    "\n",
    "- Manfaatkan sweet spot\n",
    "\n",
    "    Anda bisa menggunakan sweet spot untuk menampilkan informasi penting dari sebuah dashboard. Tentunya Anda perlu melakukan riset terlebih dahulu untuk mengetahui sweet spot yang tepat untuk kebutuhan Anda. Sebagai contoh, umumnya, bagian kiri atas merupakan spot pertama yang dilihat dalam sebuah halaman web. Nah, kita bisa menempatkan informasi terkait metrik penting seperti KPI (key performance indicators) pada spot tersebut.\n",
    "\n",
    "- Pertimbangkan load time\n",
    "\n",
    "    Load time merupakan salah hal yang penting untuk kita pertimbangkan guna menjaga pengalaman user atau audiens. Oleh karena itu, kita harus memastikan dashboard yang dibuat memiliki load time yang relatif singkat.\n",
    "\n",
    "- Batasi komponen visual yang ditampilkan\n",
    "\n",
    "    Sama halnya ketika kita membuat visualisasi data, pada proses pengembangan dashboard juga harus mempertimbangkan jumlah komponen visual yang akan ditampilkan. Komponen visual yang terlalu banyak tentunya akan mengganggu fokus dan perhatian user. Secara umum, kita disarankan untuk hanya menampilkan dua atau tiga visualisasi data. Selain itu, kita juga perlu menghindari penggunaan komponen visual yang tidak mendukung dalam penyampaian informasi penting."
   ]
  }
 ],
 "metadata": {
  "language_info": {
   "name": "python"
  }
 },
 "nbformat": 4,
 "nbformat_minor": 2
}
