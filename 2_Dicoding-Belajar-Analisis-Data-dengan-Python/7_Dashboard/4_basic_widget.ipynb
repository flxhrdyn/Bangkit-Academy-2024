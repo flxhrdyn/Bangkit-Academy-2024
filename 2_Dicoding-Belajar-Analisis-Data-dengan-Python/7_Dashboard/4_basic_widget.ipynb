{
 "cells": [
  {
   "cell_type": "markdown",
   "metadata": {},
   "source": [
    "# Basic Widgets dalam Streamlit\n",
    "Untuk membantu kita menghasilkan web app yang interaktif, streamlit telah menyediakan banyak sekali pilihan widget yang bisa disesuaikan dengan kebutuhan. Agar lebih mudah dalam memahami seluruh widget tersebut, pada materi ini kita akan membaginya ke dalam dua kategori, yaitu input widget dan button widget. "
   ]
  },
  {
   "cell_type": "markdown",
   "metadata": {},
   "source": [
    "## 1. Input Widget\n",
    "Kategori widget yang akan kita bahas ialah input widget. Ia merupakan kategori widget yang memungkinkan pengguna untuk memberikan input ke dalam streamlit app. Terdapat beberapa widget yang termasuk kategori ini, seperti text input, number input, date input, dll. Yuk, kita bahas satu per satu!"
   ]
  },
  {
   "cell_type": "markdown",
   "metadata": {},
   "source": [
    "- Text input\n",
    "\n",
    "    Text input merupakan widget yang digunakan untuk memperoleh inputan berupa single-line text. Kita bisa menggunakan function text_input() untuk membuat widget ini. Berikut merupakan contoh kode untuk membuatnya."
   ]
  },
  {
   "cell_type": "code",
   "execution_count": null,
   "metadata": {},
   "outputs": [],
   "source": [
    "import streamlit as st\n",
    " \n",
    "name = st.text_input(label='Nama lengkap', value='')\n",
    "st.write('Nama: ', name)"
   ]
  },
  {
   "cell_type": "markdown",
   "metadata": {},
   "source": [
    "Kode di atas akan menghasilkan sebuah widget seperti berikut.\n",
    "\n",
    "<img src=\"https://dicoding-web-img.sgp1.cdn.digitaloceanspaces.com/original/academy/dos:2f842f1453d93a7268ca2c51a9a3e6e320230310112559.jpeg\" width=\"500\">"
   ]
  },
  {
   "cell_type": "markdown",
   "metadata": {},
   "source": [
    "- Number input\n",
    "    \n",
    "    Widget berikutnya yang akan kita bahas ialah number input. Ia merupakan widget yang digunakan untuk memperoleh inputan berupa angka dari pengguna. Anda dapat menggunakan contoh kode berikut untuk membuat number input widget menggunakan function number_input()."
   ]
  },
  {
   "cell_type": "code",
   "execution_count": null,
   "metadata": {},
   "outputs": [],
   "source": [
    "import streamlit as st\n",
    " \n",
    "number = st.number_input(label='Umur')\n",
    "st.write('Umur: ', int(number), ' tahun')"
   ]
  },
  {
   "cell_type": "markdown",
   "metadata": {},
   "source": [
    "Gambar di bawah ini merupakan tampilan widget yang dihasilkan dari contoh kode tersebut. \n",
    "\n",
    "<img src=\"https://dicoding-web-img.sgp1.cdn.digitaloceanspaces.com/original/academy/dos:4b06606bbf99ac30c95e7a5ca2ffb36b20230310112559.jpeg\" width=\"500\">"
   ]
  },
  {
   "cell_type": "markdown",
   "metadata": {},
   "source": [
    "- Date input\n",
    "\n",
    "    Selain inputan berupa angka dan teks, pada beberapa kasus kita juga membutuhkan input berupa tanggal dari pengguna melalui date input widget. Kita dapat membuat widget tersebut menggunakan function date_input(). Berikut merupakan contoh kode untuk menggunakannya."
   ]
  },
  {
   "cell_type": "code",
   "execution_count": null,
   "metadata": {},
   "outputs": [],
   "source": [
    "import datetime\n",
    "import streamlit as st\n",
    " \n",
    "date = st.date_input(label='Tanggal lahir', min_value=datetime.date(1900, 1, 1))\n",
    "st.write('Tanggal lahir:', date)"
   ]
  },
  {
   "cell_type": "markdown",
   "metadata": {},
   "source": [
    "Kode tersebut akan menghasilkan tampilan widget seperti berikut.\n",
    "\n",
    "<img src=\"https://dicoding-web-img.sgp1.cdn.digitaloceanspaces.com/original/academy/dos:b08b81434d2606e2dbf32bdeb793763720230310112559.jpeg\" width=\"300\">"
   ]
  },
  {
   "cell_type": "markdown",
   "metadata": {},
   "source": [
    "- File uploader\n",
    "\n",
    "    Widget selanjutnya yang akan kita bahas ialah file uploader. Widget ini memungkinkan kita meminta pengguna untuk meng-upload sebuah berkas tertentu ke dalam web app. Kita dapat membuat file uploader widget menggunakan function file_uploader() seperti pada contoh kode berikut. "
   ]
  },
  {
   "cell_type": "code",
   "execution_count": null,
   "metadata": {},
   "outputs": [],
   "source": [
    "import streamlit as st\n",
    "import pandas as pd\n",
    " \n",
    "uploaded_file = st.file_uploader('Choose a CSV file')\n",
    " \n",
    "if uploaded_file:\n",
    "    df = pd.read_csv(uploaded_file)\n",
    "    st.dataframe(df)"
   ]
  },
  {
   "cell_type": "markdown",
   "metadata": {},
   "source": [
    "Kode di atas akan menghasilkan widget seperti berikut.\n",
    "\n",
    "<img src=\"https://dicoding-web-img.sgp1.cdn.digitaloceanspaces.com/original/academy/dos:a0176d67ac8f9b6820218330d577ac8b20230310112559.jpeg\" width=\"300\">"
   ]
  },
  {
   "cell_type": "markdown",
   "metadata": {},
   "source": [
    "- Camera input\n",
    "\n",
    "    Selain file uploader, streamlit juga menyediakan camera input widget yang dapat digunakan untuk meminta user mengambil gambar melalui webcam sekaligus mengunggahnya.  Hal ini tentunya dilakukan dengan persetujuan pengguna. Berikut merupakan contoh kode untuk membuat camera input widget menggunakan function camera_input()."
   ]
  },
  {
   "cell_type": "code",
   "execution_count": null,
   "metadata": {},
   "outputs": [],
   "source": [
    "import streamlit as st\n",
    "picture = st.camera_input('Take a picture')\n",
    "if picture:\n",
    "    st.image(picture)"
   ]
  },
  {
   "cell_type": "markdown",
   "metadata": {},
   "source": [
    "Berikut merupakan tampilan widget yang akan diperoleh ketika menjalankan kode di atas.\n",
    "\n",
    "<img src=\"https://dicoding-web-img.sgp1.cdn.digitaloceanspaces.com/original/academy/dos:7c6477ceea2c6d8d69b30208c119d0ba20230310112559.jpeg\" width=\"300\">"
   ]
  },
  {
   "cell_type": "markdown",
   "metadata": {},
   "source": [
    "## 2. Button Widgets \n",
    "Oke, kategori widget selanjutnya yang akan kita bahas ialah button widget. Ia merupakan kategori widget yang terdiri dari button, checkbox, radio button, dll."
   ]
  },
  {
   "cell_type": "markdown",
   "metadata": {},
   "source": [
    "- Button\n",
    "\n",
    "    Button merupakan widget untuk menampilkan tombol interaktif. Tombol tersebut dapat digunakan pengguna untuk melakukan aksi tertentu. Untuk membuat widget ini, kita bisa menggunakan function button() seperti contoh berikut."
   ]
  },
  {
   "cell_type": "code",
   "execution_count": null,
   "metadata": {},
   "outputs": [],
   "source": [
    "import streamlit as st\n",
    " \n",
    "if st.button('Say hello'):\n",
    "    st.write('Hello there')"
   ]
  },
  {
   "cell_type": "markdown",
   "metadata": {},
   "source": [
    "Berikut merupakan button widget yang dihasilkan dari kode di atas.\n",
    "\n",
    "<img src=\"https://dicoding-web-img.sgp1.cdn.digitaloceanspaces.com/original/academy/dos:481a22315719a1e9b5f23545648f56c720230310112559.jpeg\" width=\"200\">"
   ]
  },
  {
   "cell_type": "markdown",
   "metadata": {},
   "source": [
    "- Checkbox\n",
    "\n",
    "    Checkbox merupakan widget yang digunakan untuk menampilkan sebuah checklist untuk pengguna. Kita bisa menggunakan function checkbox() untuk membuat dan menampilkan checklist dalam streamlit app. Berikut contoh kode untuk melakukannya."
   ]
  },
  {
   "cell_type": "code",
   "execution_count": null,
   "metadata": {},
   "outputs": [],
   "source": [
    "import streamlit as st\n",
    " \n",
    "agree = st.checkbox('I agree')\n",
    " \n",
    "if agree:\n",
    "    st.write('Welcome to MyApp')"
   ]
  },
  {
   "cell_type": "markdown",
   "metadata": {},
   "source": [
    "Kode di atas akan menghasilkan tampilan berikut.\n",
    "\n",
    "<img src=\"https://dicoding-web-img.sgp1.cdn.digitaloceanspaces.com/original/academy/dos:ed937e3ea27353979046a2753b2b8f2c20230310112559.jpeg\" width=\"300\">"
   ]
  },
  {
   "cell_type": "markdown",
   "metadata": {},
   "source": [
    "- Radio button\n",
    "\n",
    "    Selain button dan checkbox, terkadang kita juga membutuhkan radio button untuk menghasilkan web app yang interaktif. Ia merupakan widget yang memungkinkan pengguna untuk memilih satu dari beberapa pilihan yang ada. Untuk membuat widget ini, kita bisa menggunakan function radio() seperti pada contoh kode berikut."
   ]
  },
  {
   "cell_type": "code",
   "execution_count": null,
   "metadata": {},
   "outputs": [],
   "source": [
    "import streamlit as st\n",
    " \n",
    "genre = st.radio(\n",
    "    label=\"What's your favorite movie genre\",\n",
    "    options=('Comedy', 'Drama', 'Documentary'),\n",
    "    horizontal=False\n",
    ")"
   ]
  },
  {
   "cell_type": "markdown",
   "metadata": {},
   "source": [
    "Berikut merupakan tampilan widget yang dihasilkan dari kode di atas.\n",
    "\n",
    "<img src=\"https://dicoding-web-img.sgp1.cdn.digitaloceanspaces.com/original/academy/dos:0e1be5ea9ae7d52e69c4a17e8255aa1820230310112559.jpeg\" width=\"300\">"
   ]
  },
  {
   "cell_type": "markdown",
   "metadata": {},
   "source": [
    "- Select Box\n",
    "\n",
    "    Select box merupakan widget yang memungkinkan pengguna untuk memilih salah satu dari beberapa pilihan yang ada. Ia merupakan opsi alternatif dari radio button. Streamlit telah menyediakan function selectbox() untuk membuat select box widget. Berikut contoh penggunaannya."
   ]
  },
  {
   "cell_type": "code",
   "execution_count": null,
   "metadata": {},
   "outputs": [],
   "source": [
    "import streamlit as st\n",
    " \n",
    "genre = st.selectbox(\n",
    "    label=\"What's your favorite movie genre\",\n",
    "    options=('Comedy', 'Drama', 'Documentary')\n",
    ")"
   ]
  },
  {
   "cell_type": "markdown",
   "metadata": {},
   "source": [
    "Berikut merupakan tampilan select box dari kode di atas.\n",
    "\n",
    "<img src=\"https://dicoding-web-img.sgp1.cdn.digitaloceanspaces.com/original/academy/dos:cbae72beac30b15c215c595457ad906920230310112559.jpeg\" width=\"300\">"
   ]
  },
  {
   "cell_type": "markdown",
   "metadata": {},
   "source": [
    "- Multiselect\n",
    "\n",
    "    Widget lain yang harus kita ketahui ialah multiselect. Ia merupakan widget yang digunakan agar user dapat memilih lebih dari satu pilihan dari sekumpulan pilihan yang ada. Untuk mempermudah kita dalam membuat multiselect widget, streamlit telah menyediakan function bernama multiselect(). Berikut contoh kode untuk menggunakan function tersebut."
   ]
  },
  {
   "cell_type": "code",
   "execution_count": null,
   "metadata": {},
   "outputs": [],
   "source": [
    "import streamlit as st\n",
    " \n",
    "genre = st.multiselect(\n",
    "    label=\"What's your favorite movie genre\",\n",
    "    options=('Comedy', 'Drama', 'Documentary')\n",
    ")"
   ]
  },
  {
   "cell_type": "markdown",
   "metadata": {},
   "source": [
    "Kode di atas akan menghasilkan tampilan multiselect widget seperti berikut.\n",
    "\n",
    "<img src=\"https://dicoding-web-img.sgp1.cdn.digitaloceanspaces.com/original/academy/dos:fdfa0a615cc6e3162612946b7096361e20230310112559.jpeg\" width=\"300\">"
   ]
  },
  {
   "cell_type": "markdown",
   "metadata": {},
   "source": [
    "- Slider\n",
    "\n",
    "    Slider merupakan widget yang memungkinkan pengguna untuk untuk memilih nilai (atau range nilai) dari sebuah range nilai yang telah ditentukan. Streamlit telah menyediakan function slider() untuk membuat slider widget. Berikut merupakan contoh penggunaannya."
   ]
  },
  {
   "cell_type": "code",
   "execution_count": null,
   "metadata": {},
   "outputs": [],
   "source": [
    "values = st.slider(\n",
    "    label='Select a range of values',\n",
    "    min_value=0, max_value=100, value=(0, 100))\n",
    "st.write('Values:', values)"
   ]
  },
  {
   "cell_type": "markdown",
   "metadata": {},
   "source": [
    "Kode di atas akan menghasilkan widget seperti berikut.\n",
    "\n",
    "<img src=\"https://dicoding-web-img.sgp1.cdn.digitaloceanspaces.com/original/academy/dos:01c449ea37df8981905497e8d6aff26620230310112559.jpeg\" width=\"300\">"
   ]
  },
  {
   "cell_type": "markdown",
   "metadata": {},
   "source": [
    "Nah, itulah beberapa pilihan widget yang disediakan oleh streamlit. Anda dapat melihat lebih banyak pilihan widget pada dokumentasi berikut: [widgets in streamlit](https://docs.streamlit.io/library/api-reference/widgets). Pengetahuan terkait basic widget ini akan sangat membantu Anda dalam membuat dashboard yang interaktif nantinya. "
   ]
  },
  {
   "cell_type": "markdown",
   "metadata": {},
   "source": [
    "# Catatan\n",
    "\n",
    "Anda dapat mengakses proyek lengkap melalui tautan berikut: [proyek dicoding collection dashboard.](https://github.com/dicodingacademy/a555-dashboard)"
   ]
  }
 ],
 "metadata": {
  "language_info": {
   "name": "python"
  }
 },
 "nbformat": 4,
 "nbformat_minor": 2
}
