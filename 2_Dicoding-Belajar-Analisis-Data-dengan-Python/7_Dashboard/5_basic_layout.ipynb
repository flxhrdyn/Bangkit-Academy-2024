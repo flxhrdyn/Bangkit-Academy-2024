{
 "cells": [
  {
   "cell_type": "markdown",
   "metadata": {},
   "source": [
    "# Basic Layouts dalam Streamlit\n",
    "Sebagai sebuah web app framework, streamlit telah menyediakan berbagai pilihan layout yang dapat digunakan untuk mengatur tampilan web app (atau dashboard) yang akan dibuat. Pilihan layout yang tersedia antara lain sidebar, columns, tabs, expander, serta container. Tentunya setiap pilihan layout tersebut memiliki fungsi dan kegunaannya masing-masing. Yuk, kita bahas satu per satu! "
   ]
  },
  {
   "cell_type": "markdown",
   "metadata": {},
   "source": [
    "## 1. Sidebar\n",
    "Elemen layout pertama yang akan kita bahas ialah sidebar. Ia merupakan area yang berada di samping konten utama. Pada streamlit, posisi sidebar secara default berada di bagian kiri dari konten utama dan dapat memuat berbagai hal mulai dari gambar, teks, hingga widget.    \n",
    "\n",
    "Untuk menambahkan sebuah elemen atau widget ke dalam sidebar, kita bisa menggunakan notasi with yang diikuti sebuah object bernama sidebar yang telah disediakan oleh streamlit. Berikut merupakan contoh kode untuk menambah sebuah elemen dan widget ke dalam sidebar."
   ]
  },
  {
   "cell_type": "code",
   "execution_count": null,
   "metadata": {},
   "outputs": [],
   "source": [
    "import streamlit as st\n",
    " \n",
    "st.title('Belajar Analisis Data')\n",
    " \n",
    "with st.sidebar:\n",
    "    \n",
    "    st.text('Ini merupakan sidebar')\n",
    "    \n",
    "    values = st.slider(\n",
    "        label='Select a range of values',\n",
    "        min_value=0, max_value=100, value=(0, 100)\n",
    "    )\n",
    "    st.write('Values:', values)"
   ]
  },
  {
   "cell_type": "markdown",
   "metadata": {},
   "source": [
    "Kode di atas akan menghasilkan tampilan streamlit app seperti berikut.\n",
    "\n",
    "<img src=\"https://dicoding-web-img.sgp1.cdn.digitaloceanspaces.com/original/academy/dos:b54b16e26e48876b4a510b00ac9133f320230310135536.jpeg\" width=\"300\">\n",
    "\n",
    "Bagaimana cukup mudah bukan untuk membuat sidebar di streamlit? (dokumentasi: [sidebar](https://docs.streamlit.io/library/api-reference/layout/st.sidebar)). Nah, sidebar ini dapat kita gunakan untuk menampung gambar logo serta widget yang digunakan sebagai filter. Namun, hal ini akan kita bahas pada materi berikutnya."
   ]
  },
  {
   "cell_type": "markdown",
   "metadata": {},
   "source": [
    "## 2. Columns\n",
    "Columns merupakan elemen layout yang memungkinkan kita untuk mengatur tampilan pada konten utama ke dalam beberapa kolom sesuai kebutuhan. Gambar berikut merupakan ilustrasi tampilan dari elemen layout ini. \n",
    "\n",
    "Untuk membuat column dalam streamlit app, kita harus membuat object dari setiap kolom terlebih dahulu. Hal ini dapat dilakukan dengan memanfaatkan function columns(). Selanjutnya, kita hanya perlu menambahkan sebuah elemen atau widget ke dalam column tersebut menggunakan notasi with. Berikut merupakan contoh kode untuk membuat column dalam streamlit."
   ]
  },
  {
   "cell_type": "code",
   "execution_count": null,
   "metadata": {},
   "outputs": [],
   "source": [
    "import streamlit as st\n",
    " \n",
    "st.title('Belajar Analisis Data')\n",
    "col1, col2, col3 = st.columns(3)\n",
    " \n",
    "with col1:\n",
    "    st.header(\"Kolom 1\")\n",
    "    st.image(\"https://static.streamlit.io/examples/cat.jpg\")\n",
    " \n",
    "with col2:\n",
    "    st.header(\"Kolom 2\")\n",
    "    st.image(\"https://static.streamlit.io/examples/dog.jpg\")\n",
    " \n",
    "with col3:\n",
    "    st.header(\"Kolom 3\")\n",
    "    st.image(\"https://static.streamlit.io/examples/owl.jpg\")"
   ]
  },
  {
   "cell_type": "markdown",
   "metadata": {},
   "source": [
    "Berikut tampilan streamlit app yang dihasilkan dari kode di atas.\n",
    "\n",
    "<img src=\"https://dicoding-web-img.sgp1.cdn.digitaloceanspaces.com/original/academy/dos:390b7f05f18ada13c17edd14d4d5322120230310135540.jpeg\" width=\"300\">\n",
    "\n",
    "Sebenarnya, kita bisa dengan bebas mengatur ukuran dari column yang dibuat. Nah, untuk melakukan hal ini, kita harus memasukkan sebuah list yang berisi perbandingan ukuran dari kolom yang akan dibuat. Sebagai contoh, kode di bawah ini akan menampilkan 3 buah kolom  dengan perbandingan 2:1:1."
   ]
  },
  {
   "cell_type": "code",
   "execution_count": null,
   "metadata": {},
   "outputs": [],
   "source": [
    "import streamlit as st\n",
    " \n",
    "st.title('Belajar Analisis Data')\n",
    "col1, col2, col3 = st.columns([2, 1, 1])\n",
    " \n",
    "with col1:\n",
    "    st.header(\"Kolom 1\")\n",
    "    st.image(\"https://static.streamlit.io/examples/cat.jpg\")\n",
    " \n",
    "with col2:\n",
    "    st.header(\"Kolom 2\")\n",
    "    st.image(\"https://static.streamlit.io/examples/dog.jpg\")\n",
    " \n",
    "with col3:\n",
    "    st.header(\"Kolom 3\")"
   ]
  },
  {
   "cell_type": "markdown",
   "metadata": {},
   "source": [
    "Berikut merupakan tampilan yang akan dihasilkan dari kode tersebut.\n",
    "\n",
    "<img src=\"https://dicoding-web-img.sgp1.cdn.digitaloceanspaces.com/original/academy/dos:918ee38449f16efc8edb1921dfa22b9220230310135537.jpeg\" width=\"300\">"
   ]
  },
  {
   "cell_type": "markdown",
   "metadata": {},
   "source": [
    "## 3. Tabs\n",
    "Elemen layout berikutnya yang terdapat dalam streamlit ialah tabs. Ia merupakan elemen layout yang memungkinkan kita untuk menambahkan beberapa tabs ke dalam konten utama. Hal ini tentunya akan sangat membantu kita dalam menghasilkan dashboard yang interaktif. \n",
    "\n",
    "Sama halnya dengan columns yang sebelumnya kita bahas, untuk membuat tabs, kita harus membuat object dari setiap tab menggunakan function tabs() yang diikuti dengan list dari nama dari setiap tab. Berikut contoh kode untuk membuat tabs dalam streamlit app."
   ]
  },
  {
   "cell_type": "code",
   "execution_count": null,
   "metadata": {},
   "outputs": [],
   "source": [
    "import streamlit as st\n",
    " \n",
    "st.title('Belajar Analisis Data')\n",
    "tab1, tab2, tab3 = st.tabs([\"Tab 1\", \"Tab 2\", \"Tab 3\"])\n",
    " \n",
    "with tab1:\n",
    "    st.header(\"Tab 1\")\n",
    "    st.image(\"https://static.streamlit.io/examples/cat.jpg\")\n",
    " \n",
    "with tab2:\n",
    "    st.header(\"Tab 2\")\n",
    "    st.image(\"https://static.streamlit.io/examples/dog.jpg\")\n",
    " \n",
    "with tab3:\n",
    "    st.header(\"Tab 3\")\n",
    "    st.image(\"https://static.streamlit.io/examples/owl.jpg\")"
   ]
  },
  {
   "cell_type": "markdown",
   "metadata": {},
   "source": [
    "Berikut merupakan tampilan tabs yang akan Anda peroleh dari kode di atas.\n",
    "\n",
    "<img src=\"https://dicoding-web-img.sgp1.cdn.digitaloceanspaces.com/original/academy/dos:14b10302aa02d71ae7a5dc30760b230c20230310135537.jpeg\" width=\"300\">\n",
    "\n",
    "Nah, itulah cara membuat tabs dalam streamlit app (dokumentasi: [tabs](https://docs.streamlit.io/library/api-reference/layout/st.tabs)). Cukup mudah, bukan? "
   ]
  },
  {
   "cell_type": "markdown",
   "metadata": {},
   "source": [
    "## 4. Container\n",
    "Container merupakan elemen layout dalam streamlit yang memungkinkan kita untuk membuat sebuah wadah untuk menampung suatu atau beberapa elemen dengan ukuran yang tetap. Container ini dapat kita gunakan untuk menghasilkan dashboard yang rapi.\n",
    "\n",
    "Untuk membuat container, kita bisa menggunakan notasi with dan diikuti function container(). Kode di bawah ini merupakan contoh kode untuk membuat container dalam streamlit app. "
   ]
  },
  {
   "cell_type": "code",
   "execution_count": null,
   "metadata": {},
   "outputs": [],
   "source": [
    "import streamlit as st\n",
    "import matplotlib.pyplot as plt\n",
    "import numpy as np\n",
    " \n",
    "with st.container():\n",
    "    st.write(\"Inside the container\")\n",
    "    \n",
    "    x = np.random.normal(15, 5, 250)\n",
    " \n",
    "    fig, ax = plt.subplots()\n",
    "    ax.hist(x=x, bins=15)\n",
    "    st.pyplot(fig) \n",
    " \n",
    "st.write(\"Outside the container\")"
   ]
  },
  {
   "cell_type": "markdown",
   "metadata": {},
   "source": [
    "Berikut merupakan tampilan streamlit app dari kode di atas.\n",
    "\n",
    "<img src=\"https://dicoding-web-img.sgp1.cdn.digitaloceanspaces.com/original/academy/dos:bd5d0d2192913b447f39c7b2d15d110420230310135536.jpeg\" width=\"300\">\n",
    "\n",
    "Ketika melihat gambar di atas, mungkin Anda tidak melihat adanya perbedaan dari tampilan sebelum dan sesudah menggunakan container. Hal ini terjadi karena kita masih belum memiliki banyak elemen yang ingin ditampilkan. "
   ]
  },
  {
   "cell_type": "markdown",
   "metadata": {},
   "source": [
    "## 5. Expander\n",
    "Elemen layout selanjutnya yang tidak kalah penting ialah expander. Anda dapat menganggap elemen layout ini sebagai sebuah container yang dapat diperluas atau diciutkan secara interaktif. \n",
    "\n",
    "Untuk membuat elemen layout ini, kita bisa menggunakan notasi with dan diikuti dengan function expander() seperti pada contoh kode berikut."
   ]
  },
  {
   "cell_type": "code",
   "execution_count": null,
   "metadata": {},
   "outputs": [],
   "source": [
    "import streamlit as st\n",
    "import matplotlib.pyplot as plt\n",
    "import numpy as np\n",
    " \n",
    "x = np.random.normal(15, 5, 250)\n",
    " \n",
    "fig, ax = plt.subplots()\n",
    "ax.hist(x=x, bins=15)\n",
    "st.pyplot(fig) \n",
    " \n",
    "with st.expander(\"See explanation\"):\n",
    "    st.write(\n",
    "        \"\"\"Lorem ipsum dolor sit amet, consectetur adipiscing elit, \n",
    "        sed do eiusmod tempor incididunt ut labore et dolore magna aliqua. \n",
    "        Ut enim ad minim veniam, quis nostrud exercitation ullamco laboris \n",
    "        nisi ut aliquip ex ea commodo consequat. Duis aute irure dolor \n",
    "        in reprehenderit in voluptate velit esse cillum dolore eu fugiat \n",
    "        nulla pariatur. Excepteur sint occaecat cupidatat non proident, \n",
    "        sunt in culpa qui officia deserunt mollit anim id est laborum.\n",
    "        \"\"\"\n",
    "    )"
   ]
  },
  {
   "cell_type": "markdown",
   "metadata": {},
   "source": [
    "Berikut merupakan tampilan streamlit app dari kode di atas.\n",
    "\n",
    "<img src=\"https://dicoding-web-img.sgp1.cdn.digitaloceanspaces.com/original/academy/dos:ce66d1946a7091cd9334e0cd30bd625320230310135536.jpeg\" width=\"300\">\n",
    "\n",
    "Seperti yang terdapat pada gambar di atas, kita bisa menggunakan expander untuk menampung penjelasan atau keterangan lanjutan dari sebuah visualisasi data yang ditampilkan dalam sebuah dashboard.\n",
    "\n",
    "Nah, itulah beberapa pilihan layout yang disediakan oleh streamlit untuk membantu kita dalam membuat web app yang rapi dan interaktif. Apabila ingin mempelajari topik ini lebih lanjut, Anda dapat mengunjungi dokumentasi berikut: [layouts and containers](https://docs.streamlit.io/library/api-reference/layout)."
   ]
  }
 ],
 "metadata": {
  "language_info": {
   "name": "python"
  }
 },
 "nbformat": 4,
 "nbformat_minor": 2
}
