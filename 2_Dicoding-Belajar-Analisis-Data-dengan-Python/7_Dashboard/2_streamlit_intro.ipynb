{
 "cells": [
  {
   "cell_type": "markdown",
   "metadata": {},
   "source": [
    "# Pengenalan Streamlit\n",
    "\n",
    "<img src=\"https://dicoding-web-img.sgp1.cdn.digitaloceanspaces.com/original/academy/dos:7609ab4d164bb007ad316fefc029016620230310100714.jpeg\" width=\"300\">\n",
    "\n",
    "Streamlit merupakan salah satu open-source web app framework untuk bahasa pemrograman Python. Ia memungkinkan kita membuat web app yang baik dan interaktif dalam waktu yang singkat. Selain itu, ia juga kompatibel dengan berbagai library populer seperti NumPy, pandas, matplotlib, dll. Inilah yang menjadi alasan streamlit sering digunakan oleh oleh para praktisi data dan machine learning."
   ]
  },
  {
   "cell_type": "markdown",
   "metadata": {},
   "source": [
    "## Menginstal Streamlit\n",
    "Seperti biasa, sebelum mulai menggunakan streamlit tentunya kita perlu menyiapkan environment-nya terlebih dahulu. Berikut merupakan tahapan untuk melakukannya.\n",
    "\n",
    "1. Untuk menggunakan streamlit, kita perlu menulis kode Python dalam berkas .py. Oleh karena itu, Anda perlu menginstal code editor, seperti Visual Studio Code, Sublime Text, atau PyCharm untuk mempermudah dalam menulis kode.\n",
    "\n",
    "2. Selanjutnya, Anda perlu mengaktifkan virtual environment sebelumnya yang telah kita gunakan dalam materi latihan. Aktifkan virtual environment      dengan menjalankan perintah berikut.\n",
    "\n",
    "    conda activate main-ds\n",
    "\n",
    "3. Tahap berikutnya adalah menginstal streamlit. Berikut merupakan perintah yang bisa Anda gunakan untuk menginstal streamlit.\n",
    "\n",
    "    pip install streamlit"
   ]
  },
  {
   "cell_type": "markdown",
   "metadata": {},
   "source": [
    "## Membuat \"Hello, world!\" App dengan Streamlit\n",
    "Selamat, pada tahap ini Anda telah berhasil menginstal streamlit. Untuk memastikan proses instalasinya berjalan dengan lancar, kita akan membuat sebuah “Hello, world!” app dengan streamlit.\n",
    "\n",
    "Berikut merupakan tahapan dalam membuat “Hello, word!” app dengan streamlit.\n",
    "\n",
    "1. Buatlah sebuah folder baru bernama hello-world.\n",
    "2. Bukalah folder tersebut dengan code editor favorit Anda.\n",
    "3. Berikutnya, buatlah sebuah berkas python dengan nama hello-world.py.\n",
    "4. Buka berkas python tersebut, lalu tambahkan kode berikut"
   ]
  },
  {
   "cell_type": "code",
   "execution_count": null,
   "metadata": {},
   "outputs": [],
   "source": [
    "import streamlit as st \n",
    " \n",
    "st.write(\n",
    "    \"\"\"\n",
    "    # My first app\n",
    "    Hello, para calon praktisi data masa depan!\n",
    "    \"\"\"\n",
    ")"
   ]
  },
  {
   "cell_type": "markdown",
   "metadata": {},
   "source": [
    "Untuk menjalankan kode tersebut, Anda perlu membuka terminal, command prompt atau powershell. Arahkan path-nya ke dalam folder hello-world yang sebelumnya telah dibuat. Lalu, jalankan perintah berikut.\n",
    "\n",
    "streamlit run hello-world.py"
   ]
  }
 ],
 "metadata": {
  "language_info": {
   "name": "python"
  }
 },
 "nbformat": 4,
 "nbformat_minor": 2
}
