{
 "cells": [
  {
   "cell_type": "markdown",
   "metadata": {},
   "source": [
    "# Pengenalan Exploratory Data Analysis\n",
    "Seperti yang telah kita bahas pada materi awal, EDA merupakan tahap eksplorasi data yang telah dibersihkan guna memperoleh insight dan menjawab pertanyaan analisis. Pada prosesnya, kita akan sering menggunakan berbagai teknik dan parameter dalam descriptive statistics yang bertujuan untuk menemukan pola, hubungan, serta membangun intuisi terkait data yang diolah. Selain itu, tidak jarang kita juga menggunakan visualisasi data untuk menemukan pola dan memvalidasi parameter descriptive statistics yang diperoleh.\n",
    "\n",
    "Berdasarkan sudut pandang para praktisi data, proses EDA merupakan salah satu tahapan yang paling menarik dalam proyek analisis data. Proses ini memungkinkaan para praktisi data untuk melakukan eksplorasi dan bereksperimen terhadap sebuah data guna mencari pola, memperoleh insight, menjawab berbagai tantangan bisnis, serta membuat sebuah kesimpulan berdasarkan hasil analisis. "
   ]
  },
  {
   "cell_type": "markdown",
   "metadata": {},
   "source": [
    "# Exploratory Analysis vs Explanatory Analysis\n",
    "Sederhana, exploratory analysis merupakan proses analisis data yang bertujuan untuk mengeksplorasi dan mengenal sebuah data. Pada prosesnya sering kali mulai dengan mendefinisikan berbagai pertanyaan atau hanya menggali data guna menemukan beberapa insight yang menarik dari sebuah data. Pada proses ini, terkadang kita juga menerapkan visualisasi data sederhana yang bertujuan untuk memvalidasi insight yang diperoleh. Jika dianalogikan, proses exploratory analysis seperti proses penambangan yang mengumpulkan 100 batu untuk menemukan satu atau dua buah berlian yang berharga.\n",
    "\n",
    "<img src=\"https://dicoding-web-img.sgp1.cdn.digitaloceanspaces.com/original/academy/dos:019096910d28499a4e36db62c8402c5d20230310091333.png\" width=\"300\">\n",
    "\n",
    "Di lain sisi, explanatory analysis merupakan proses analisis data yang bertujuan untuk membagikan beberapa insight yang menarik dari sebuah data (bisa diibaratkan sebagai satu atau dua buah berlian yang berharga). Insight inilah yang akan digunakan untuk menjawab permasalahan bisnis yang dihadapi. \n",
    "\n",
    "Jika disimpulkan, explanatory analysis merupakan proses penyampaian temuan menarik dari proses exploratory analysis. Proses penyampaian ini tentunya harus diikuti dengan visualisasi data yang baik dan efektif. "
   ]
  }
 ],
 "metadata": {
  "language_info": {
   "name": "python"
  }
 },
 "nbformat": 4,
 "nbformat_minor": 2
}
