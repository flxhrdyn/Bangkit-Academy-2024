{
 "cells": [
  {
   "cell_type": "markdown",
   "metadata": {},
   "source": [
    "# Pengenalan Data Visualization\n",
    "Sederhananya, visualisasi data merupakan cara kita dalam menyajikan data dalam bentuk visual. Hal ini dilakukan untuk mempermudah kita dan orang lain dalam memahami data tersebut. Selain itu, visualisasi data yang baik juga akan sangat membantu kita dalam menyampaikan story dan pesan dari sebuah data."
   ]
  },
  {
   "cell_type": "markdown",
   "metadata": {},
   "source": [
    "## 1. Prinsip-Prinsip dalam Visualisasi Data\n",
    "Sederhananya, visualisasi data yang buruk merupakan bentuk visual yang tidak mampu menyampaikan pesan dan informasi terkait data secara baik serta efisien. Umumnya visualisasi data yang buruk memuat salah satu dari tiga masalah berikut.\n",
    "\n",
    "- Misleading\n",
    "\n",
    "    Masalah pertama dalam visualisasi data yang buruk ialah misleading information yang mampu mengakibatkan kesalahan dalam pengambilan kesimpulan dari sebuah data. Berikut contoh visualisasi data yang bisa mengakibatkan misleading information\n",
    "\n",
    "    <img src=\"https://dicoding-web-img.sgp1.cdn.digitaloceanspaces.com/original/academy/dos:5d61b7e6e261f34abee21f2ba3c4136320230309140942.jpeg\" width=\"300\">\n",
    "\n",
    "    Apa yang ada di benak Anda ketika melihat visualisasi data tersebut? Tentunya Anda akan melihat bahwa terdapat gap yang cukup besar dari kedua nilai tersebut. Hal ini contoh kesalahan pengambilan kesimpulan karena buruknya sebuah visualisasi data.\n",
    "\n",
    "    Apakah Anda bisa menebak kesalahan apa yang mengakibatkan visualisasi data di atas menghasilkan kesimpulan yang salah? Yap, benar sekali visualisasi datanya tidak mulai dari nol sehingga terkesan ada gap yang cukup besar dari kedua nilai tersebut. Berikut merupakan contoh perbaikan dari visualisasi tersebut.\n",
    "\n",
    "    <img src=\"https://dicoding-web-img.sgp1.cdn.digitaloceanspaces.com/original/academy/dos:ba2d24378cadf9b558cbbf5c17992bf220230309140942.jpeg\" width=\"300\">\n",
    "\n",
    "- Hides\n",
    "\n",
    "    Selain misleading information, masalah lain yang umum dijumpai dalam visualisasi data yang buruk ialah menyembunyikan informasi tertentu. Berikut contoh visualisasi data yang menyembunyikan informasi penting dari sebuah data\n",
    "\n",
    "    <img src=\"https://dicoding-web-img.sgp1.cdn.digitaloceanspaces.com/original/academy/dos:03a1a50a1a70ff2abef992495e5fbac620230309140942.jpeg\" width=\"300\">\n",
    "\n",
    "    Berdasarkan visualisasi data di atas bisakah Anda menjawab berapa besar market share yang dimiliki supplier A? Lalu, supplier manakah yang memiliki market share terbesar? Anda mungkin akan kesulitan dalam menjawab kedua pertanyaan tersebut karena banyak sekali informasi yang disembunyikan dari visualisasi tersebut.\n",
    "\n",
    "- Distracts\n",
    "\n",
    "    Masalah lain yang mungkin terjadi ialah distraksi. Visualisasi data yang buruk sering kali menyertakan komponen visual yang seharusnya tidak dibutuhkan dan malah mengganggu proses pengambilan kesimpulan dari sebuah visualisasi data. Berikut merupakan contoh visualisasi data yang memuat komponen visual yang tidak dibutuhkan.\n",
    "\n",
    "    <img src=\"https://dicoding-web-img.sgp1.cdn.digitaloceanspaces.com/original/academy/dos:f4d3a5d911c0c7980d5428161de3cb1220230309140942.jpeg\" width=\"300\">\n",
    "\n",
    "    Pada contoh visualisasi di atas, kita menggunakan warna untuk membedakan kategori pada data tersebut. Hal ini sebenarnya tidak dibutuhkan karena informasi terkait hal ini sudah tersedia pada sumbu x.\n",
    "\n",
    "    Warna merupakan komponen visual yang penting dalam visualisasi data. Oleh karena itu, kita bisa menggunakannya untuk menyampaikan pesan yang menarik dan mempermudah orang lain untuk memahami data yang kita miliki. Gambar di bawah ini merupakan contoh visualisasi data yang baik dalam penggunaan warna untuk menyorot bagian tertentu.\n",
    "\n",
    "    <img src=\"https://dicoding-web-img.sgp1.cdn.digitaloceanspaces.com/original/academy/dos:90c67292f2a688d99fcacfd1d63d277520230309140942.jpeg\" width=\"300\">"
   ]
  },
  {
   "cell_type": "markdown",
   "metadata": {},
   "source": [
    "## 2. Prinsip Desain dalam Visualisasi Data\n",
    "Jika ditelisik secara mendasar, visualisasi data merupakan proses dalam mengubah data ke dalam bentuk visual menggunakan berbagai elemen visual. Berikut merupakan beberapa elemen visual yang umum digunakan untuk membuat visualisasi data.\n",
    "\n",
    "- Position: elemen ini akan membantu kita merepresentasikan titik data menggunakan sumbu tertentu (seperti sumbu X, Y, dan Z) sebagai acuan.\n",
    "\n",
    "- Size: ukuran (panjang atau lebar) merupakan elemen visual yang umumnya kita gunakan untuk membedakan serta membandingkan nilai dari kategori atau    titik data tertentu.  \n",
    "\n",
    "- Shape: bentuk merupakan salah satu elemen visual yang dapat digunakan untuk membedakan kategori atau titik data tertentu. \n",
    "Ketika menggunakan elemen ini, kita harus ingat bahwa tidak semua orang memiliki kemampuan untuk membedakan warna dengan baik.\n",
    "\n",
    "- Texture: penambahan tekstur atau pola tertentu bisa menjadi alternatif lain dalam membedakan kategori atau titik data tertentu.\n",
    "\n",
    "- Angle: pada beberapa pilihan bentuk visualisasi data, sudut merupakan salah satu elemen visual yang digunakan untuk merepresentasikan nilai dari suatu data."
   ]
  }
 ],
 "metadata": {
  "language_info": {
   "name": "python"
  }
 },
 "nbformat": 4,
 "nbformat_minor": 2
}
