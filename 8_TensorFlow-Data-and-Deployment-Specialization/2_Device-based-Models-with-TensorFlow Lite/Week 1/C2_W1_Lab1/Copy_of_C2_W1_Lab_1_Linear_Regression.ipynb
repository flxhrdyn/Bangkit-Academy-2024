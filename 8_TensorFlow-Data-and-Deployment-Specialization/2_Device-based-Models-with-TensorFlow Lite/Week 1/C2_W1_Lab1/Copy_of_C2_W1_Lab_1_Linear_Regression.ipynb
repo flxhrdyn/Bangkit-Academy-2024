{
  "nbformat": 4,
  "nbformat_minor": 0,
  "metadata": {
    "colab": {
      "provenance": [],
      "toc_visible": true
    },
    "kernelspec": {
      "display_name": "Python 3",
      "name": "python3"
    },
    "language_info": {
      "codemirror_mode": {
        "name": "ipython",
        "version": 3
      },
      "file_extension": ".py",
      "mimetype": "text/x-python",
      "name": "python",
      "nbconvert_exporter": "python",
      "pygments_lexer": "ipython3",
      "version": "3.8.5"
    }
  },
  "cells": [
    {
      "cell_type": "code",
      "metadata": {
        "id": "zX4Kg8DUTKWO"
      },
      "source": [
        "#@title Licensed under the Apache License, Version 2.0 (the \"License\");\n",
        "# you may not use this file except in compliance with the License.\n",
        "# You may obtain a copy of the License at\n",
        "#\n",
        "# https://www.apache.org/licenses/LICENSE-2.0\n",
        "#\n",
        "# Unless required by applicable law or agreed to in writing, software\n",
        "# distributed under the License is distributed on an \"AS IS\" BASIS,\n",
        "# WITHOUT WARRANTIES OR CONDITIONS OF ANY KIND, either express or implied.\n",
        "# See the License for the specific language governing permissions and\n",
        "# limitations under the License."
      ],
      "execution_count": 1,
      "outputs": []
    },
    {
      "cell_type": "markdown",
      "metadata": {
        "id": "Za8-Nr5k11fh"
      },
      "source": [
        "##### Copyright 2018 The TensorFlow Authors."
      ]
    },
    {
      "cell_type": "code",
      "metadata": {
        "cellView": "form",
        "id": "Eq10uEbw0E4l"
      },
      "source": [
        "#@title Licensed under the Apache License, Version 2.0 (the \"License\");\n",
        "# you may not use this file except in compliance with the License.\n",
        "# You may obtain a copy of the License at\n",
        "#\n",
        "# https://www.apache.org/licenses/LICENSE-2.0\n",
        "#\n",
        "# Unless required by applicable law or agreed to in writing, software\n",
        "# distributed under the License is distributed on an \"AS IS\" BASIS,\n",
        "# WITHOUT WARRANTIES OR CONDITIONS OF ANY KIND, either express or implied.\n",
        "# See the License for the specific language governing permissions and\n",
        "# limitations under the License."
      ],
      "execution_count": 2,
      "outputs": []
    },
    {
      "cell_type": "markdown",
      "metadata": {
        "id": "UysiGN3tGQHY"
      },
      "source": [
        "# Running TFLite Models"
      ]
    },
    {
      "cell_type": "markdown",
      "metadata": {
        "id": "W-VhTkyTGcaQ"
      },
      "source": [
        "## Setup"
      ]
    },
    {
      "cell_type": "code",
      "metadata": {
        "id": "Ll4ii2J9Fea_",
        "colab": {
          "base_uri": "https://localhost:8080/"
        },
        "outputId": "52a514cc-4fa0-40fd-bdf4-20efffc03b1f"
      },
      "source": [
        "try:\n",
        "    %tensorflow_version 2.x\n",
        "except:\n",
        "    pass"
      ],
      "execution_count": 3,
      "outputs": [
        {
          "output_type": "stream",
          "name": "stdout",
          "text": [
            "Colab only includes TensorFlow 2.x; %tensorflow_version has no effect.\n"
          ]
        }
      ]
    },
    {
      "cell_type": "code",
      "metadata": {
        "id": "dy4BcTjBFTWx",
        "colab": {
          "base_uri": "https://localhost:8080/"
        },
        "outputId": "07659faf-8e25-486d-d925-383a641ed98d"
      },
      "source": [
        "import pathlib\n",
        "import numpy as np\n",
        "import matplotlib.pyplot as plt\n",
        "\n",
        "import tensorflow as tf\n",
        "\n",
        "print('\\u2022 Using TensorFlow Version:', tf.__version__)"
      ],
      "execution_count": 4,
      "outputs": [
        {
          "output_type": "stream",
          "name": "stdout",
          "text": [
            "• Using TensorFlow Version: 2.15.0\n"
          ]
        }
      ]
    },
    {
      "cell_type": "markdown",
      "metadata": {
        "id": "ceibQLDeGhI4"
      },
      "source": [
        "## Create a Basic Model of the Form y = mx + c"
      ]
    },
    {
      "cell_type": "code",
      "metadata": {
        "id": "YIBCsjQNF46Z",
        "colab": {
          "base_uri": "https://localhost:8080/"
        },
        "outputId": "e816f55f-836d-486a-cb0d-fa78b9a22cf7"
      },
      "source": [
        "# Create a simple Keras model.\n",
        "x = [-1, 0, 1, 2, 3, 4]\n",
        "y = [-3, -1, 1, 3, 5, 7]\n",
        "\n",
        "model = tf.keras.models.Sequential([\n",
        "        tf.keras.layers.Dense(units=1, input_shape=[1])\n",
        "])\n",
        "\n",
        "model.compile(optimizer='sgd',\n",
        "              loss='mean_squared_error')\n",
        "\n",
        "model.fit(x, y, epochs=200)"
      ],
      "execution_count": 5,
      "outputs": [
        {
          "output_type": "stream",
          "name": "stdout",
          "text": [
            "Epoch 1/200\n",
            "1/1 [==============================] - 1s 827ms/step - loss: 0.5835\n",
            "Epoch 2/200\n",
            "1/1 [==============================] - 0s 23ms/step - loss: 0.5707\n",
            "Epoch 3/200\n",
            "1/1 [==============================] - 0s 41ms/step - loss: 0.5584\n",
            "Epoch 4/200\n",
            "1/1 [==============================] - 0s 28ms/step - loss: 0.5464\n",
            "Epoch 5/200\n",
            "1/1 [==============================] - 0s 20ms/step - loss: 0.5348\n",
            "Epoch 6/200\n",
            "1/1 [==============================] - 0s 22ms/step - loss: 0.5235\n",
            "Epoch 7/200\n",
            "1/1 [==============================] - 0s 30ms/step - loss: 0.5125\n",
            "Epoch 8/200\n",
            "1/1 [==============================] - 0s 18ms/step - loss: 0.5018\n",
            "Epoch 9/200\n",
            "1/1 [==============================] - 0s 30ms/step - loss: 0.4914\n",
            "Epoch 10/200\n",
            "1/1 [==============================] - 0s 21ms/step - loss: 0.4811\n",
            "Epoch 11/200\n",
            "1/1 [==============================] - 0s 32ms/step - loss: 0.4712\n",
            "Epoch 12/200\n",
            "1/1 [==============================] - 0s 84ms/step - loss: 0.4614\n",
            "Epoch 13/200\n",
            "1/1 [==============================] - 0s 31ms/step - loss: 0.4519\n",
            "Epoch 14/200\n",
            "1/1 [==============================] - 0s 60ms/step - loss: 0.4426\n",
            "Epoch 15/200\n",
            "1/1 [==============================] - 0s 14ms/step - loss: 0.4334\n",
            "Epoch 16/200\n",
            "1/1 [==============================] - 0s 50ms/step - loss: 0.4245\n",
            "Epoch 17/200\n",
            "1/1 [==============================] - 0s 27ms/step - loss: 0.4158\n",
            "Epoch 18/200\n",
            "1/1 [==============================] - 0s 15ms/step - loss: 0.4072\n",
            "Epoch 19/200\n",
            "1/1 [==============================] - 0s 30ms/step - loss: 0.3988\n",
            "Epoch 20/200\n",
            "1/1 [==============================] - 0s 21ms/step - loss: 0.3906\n",
            "Epoch 21/200\n",
            "1/1 [==============================] - 0s 23ms/step - loss: 0.3826\n",
            "Epoch 22/200\n",
            "1/1 [==============================] - 0s 39ms/step - loss: 0.3747\n",
            "Epoch 23/200\n",
            "1/1 [==============================] - 0s 33ms/step - loss: 0.3670\n",
            "Epoch 24/200\n",
            "1/1 [==============================] - 0s 24ms/step - loss: 0.3595\n",
            "Epoch 25/200\n",
            "1/1 [==============================] - 0s 36ms/step - loss: 0.3521\n",
            "Epoch 26/200\n",
            "1/1 [==============================] - 0s 39ms/step - loss: 0.3449\n",
            "Epoch 27/200\n",
            "1/1 [==============================] - 0s 34ms/step - loss: 0.3378\n",
            "Epoch 28/200\n",
            "1/1 [==============================] - 0s 21ms/step - loss: 0.3308\n",
            "Epoch 29/200\n",
            "1/1 [==============================] - 0s 25ms/step - loss: 0.3240\n",
            "Epoch 30/200\n",
            "1/1 [==============================] - 0s 29ms/step - loss: 0.3174\n",
            "Epoch 31/200\n",
            "1/1 [==============================] - 0s 22ms/step - loss: 0.3109\n",
            "Epoch 32/200\n",
            "1/1 [==============================] - 0s 23ms/step - loss: 0.3045\n",
            "Epoch 33/200\n",
            "1/1 [==============================] - 0s 18ms/step - loss: 0.2982\n",
            "Epoch 34/200\n",
            "1/1 [==============================] - 0s 59ms/step - loss: 0.2921\n",
            "Epoch 35/200\n",
            "1/1 [==============================] - 0s 22ms/step - loss: 0.2861\n",
            "Epoch 36/200\n",
            "1/1 [==============================] - 0s 24ms/step - loss: 0.2802\n",
            "Epoch 37/200\n",
            "1/1 [==============================] - 0s 21ms/step - loss: 0.2745\n",
            "Epoch 38/200\n",
            "1/1 [==============================] - 0s 35ms/step - loss: 0.2688\n",
            "Epoch 39/200\n",
            "1/1 [==============================] - 0s 24ms/step - loss: 0.2633\n",
            "Epoch 40/200\n",
            "1/1 [==============================] - 0s 35ms/step - loss: 0.2579\n",
            "Epoch 41/200\n",
            "1/1 [==============================] - 0s 21ms/step - loss: 0.2526\n",
            "Epoch 42/200\n",
            "1/1 [==============================] - 0s 55ms/step - loss: 0.2474\n",
            "Epoch 43/200\n",
            "1/1 [==============================] - 0s 43ms/step - loss: 0.2423\n",
            "Epoch 44/200\n",
            "1/1 [==============================] - 0s 22ms/step - loss: 0.2373\n",
            "Epoch 45/200\n",
            "1/1 [==============================] - 0s 46ms/step - loss: 0.2325\n",
            "Epoch 46/200\n",
            "1/1 [==============================] - 0s 29ms/step - loss: 0.2277\n",
            "Epoch 47/200\n",
            "1/1 [==============================] - 0s 19ms/step - loss: 0.2230\n",
            "Epoch 48/200\n",
            "1/1 [==============================] - 0s 42ms/step - loss: 0.2184\n",
            "Epoch 49/200\n",
            "1/1 [==============================] - 0s 28ms/step - loss: 0.2140\n",
            "Epoch 50/200\n",
            "1/1 [==============================] - 0s 38ms/step - loss: 0.2096\n",
            "Epoch 51/200\n",
            "1/1 [==============================] - 0s 51ms/step - loss: 0.2053\n",
            "Epoch 52/200\n",
            "1/1 [==============================] - 0s 23ms/step - loss: 0.2010\n",
            "Epoch 53/200\n",
            "1/1 [==============================] - 0s 62ms/step - loss: 0.1969\n",
            "Epoch 54/200\n",
            "1/1 [==============================] - 0s 18ms/step - loss: 0.1929\n",
            "Epoch 55/200\n",
            "1/1 [==============================] - 0s 11ms/step - loss: 0.1889\n",
            "Epoch 56/200\n",
            "1/1 [==============================] - 0s 44ms/step - loss: 0.1850\n",
            "Epoch 57/200\n",
            "1/1 [==============================] - 0s 18ms/step - loss: 0.1812\n",
            "Epoch 58/200\n",
            "1/1 [==============================] - 0s 26ms/step - loss: 0.1775\n",
            "Epoch 59/200\n",
            "1/1 [==============================] - 0s 31ms/step - loss: 0.1739\n",
            "Epoch 60/200\n",
            "1/1 [==============================] - 0s 27ms/step - loss: 0.1703\n",
            "Epoch 61/200\n",
            "1/1 [==============================] - 0s 47ms/step - loss: 0.1668\n",
            "Epoch 62/200\n",
            "1/1 [==============================] - 0s 44ms/step - loss: 0.1634\n",
            "Epoch 63/200\n",
            "1/1 [==============================] - 0s 38ms/step - loss: 0.1600\n",
            "Epoch 64/200\n",
            "1/1 [==============================] - 0s 25ms/step - loss: 0.1567\n",
            "Epoch 65/200\n",
            "1/1 [==============================] - 0s 34ms/step - loss: 0.1535\n",
            "Epoch 66/200\n",
            "1/1 [==============================] - 0s 28ms/step - loss: 0.1503\n",
            "Epoch 67/200\n",
            "1/1 [==============================] - 0s 38ms/step - loss: 0.1473\n",
            "Epoch 68/200\n",
            "1/1 [==============================] - 0s 52ms/step - loss: 0.1442\n",
            "Epoch 69/200\n",
            "1/1 [==============================] - 0s 45ms/step - loss: 0.1413\n",
            "Epoch 70/200\n",
            "1/1 [==============================] - 0s 74ms/step - loss: 0.1384\n",
            "Epoch 71/200\n",
            "1/1 [==============================] - 0s 27ms/step - loss: 0.1355\n",
            "Epoch 72/200\n",
            "1/1 [==============================] - 0s 38ms/step - loss: 0.1327\n",
            "Epoch 73/200\n",
            "1/1 [==============================] - 0s 35ms/step - loss: 0.1300\n",
            "Epoch 74/200\n",
            "1/1 [==============================] - 0s 31ms/step - loss: 0.1273\n",
            "Epoch 75/200\n",
            "1/1 [==============================] - 0s 11ms/step - loss: 0.1247\n",
            "Epoch 76/200\n",
            "1/1 [==============================] - 0s 24ms/step - loss: 0.1222\n",
            "Epoch 77/200\n",
            "1/1 [==============================] - 0s 13ms/step - loss: 0.1197\n",
            "Epoch 78/200\n",
            "1/1 [==============================] - 0s 53ms/step - loss: 0.1172\n",
            "Epoch 79/200\n",
            "1/1 [==============================] - 0s 30ms/step - loss: 0.1148\n",
            "Epoch 80/200\n",
            "1/1 [==============================] - 0s 50ms/step - loss: 0.1124\n",
            "Epoch 81/200\n",
            "1/1 [==============================] - 0s 19ms/step - loss: 0.1101\n",
            "Epoch 82/200\n",
            "1/1 [==============================] - 0s 19ms/step - loss: 0.1079\n",
            "Epoch 83/200\n",
            "1/1 [==============================] - 0s 54ms/step - loss: 0.1056\n",
            "Epoch 84/200\n",
            "1/1 [==============================] - 0s 36ms/step - loss: 0.1035\n",
            "Epoch 85/200\n",
            "1/1 [==============================] - 0s 36ms/step - loss: 0.1014\n",
            "Epoch 86/200\n",
            "1/1 [==============================] - 0s 36ms/step - loss: 0.0993\n",
            "Epoch 87/200\n",
            "1/1 [==============================] - 0s 39ms/step - loss: 0.0972\n",
            "Epoch 88/200\n",
            "1/1 [==============================] - 0s 62ms/step - loss: 0.0952\n",
            "Epoch 89/200\n",
            "1/1 [==============================] - 0s 59ms/step - loss: 0.0933\n",
            "Epoch 90/200\n",
            "1/1 [==============================] - 0s 42ms/step - loss: 0.0914\n",
            "Epoch 91/200\n",
            "1/1 [==============================] - 0s 37ms/step - loss: 0.0895\n",
            "Epoch 92/200\n",
            "1/1 [==============================] - 0s 32ms/step - loss: 0.0876\n",
            "Epoch 93/200\n",
            "1/1 [==============================] - 0s 52ms/step - loss: 0.0858\n",
            "Epoch 94/200\n",
            "1/1 [==============================] - 0s 22ms/step - loss: 0.0841\n",
            "Epoch 95/200\n",
            "1/1 [==============================] - 0s 42ms/step - loss: 0.0824\n",
            "Epoch 96/200\n",
            "1/1 [==============================] - 0s 59ms/step - loss: 0.0807\n",
            "Epoch 97/200\n",
            "1/1 [==============================] - 0s 24ms/step - loss: 0.0790\n",
            "Epoch 98/200\n",
            "1/1 [==============================] - 0s 61ms/step - loss: 0.0774\n",
            "Epoch 99/200\n",
            "1/1 [==============================] - 0s 40ms/step - loss: 0.0758\n",
            "Epoch 100/200\n",
            "1/1 [==============================] - 0s 44ms/step - loss: 0.0742\n",
            "Epoch 101/200\n",
            "1/1 [==============================] - 0s 58ms/step - loss: 0.0727\n",
            "Epoch 102/200\n",
            "1/1 [==============================] - 0s 43ms/step - loss: 0.0712\n",
            "Epoch 103/200\n",
            "1/1 [==============================] - 0s 27ms/step - loss: 0.0698\n",
            "Epoch 104/200\n",
            "1/1 [==============================] - 0s 46ms/step - loss: 0.0683\n",
            "Epoch 105/200\n",
            "1/1 [==============================] - 0s 37ms/step - loss: 0.0669\n",
            "Epoch 106/200\n",
            "1/1 [==============================] - 0s 20ms/step - loss: 0.0655\n",
            "Epoch 107/200\n",
            "1/1 [==============================] - 0s 13ms/step - loss: 0.0642\n",
            "Epoch 108/200\n",
            "1/1 [==============================] - 0s 32ms/step - loss: 0.0629\n",
            "Epoch 109/200\n",
            "1/1 [==============================] - 0s 12ms/step - loss: 0.0616\n",
            "Epoch 110/200\n",
            "1/1 [==============================] - 0s 12ms/step - loss: 0.0603\n",
            "Epoch 111/200\n",
            "1/1 [==============================] - 0s 14ms/step - loss: 0.0591\n",
            "Epoch 112/200\n",
            "1/1 [==============================] - 0s 37ms/step - loss: 0.0579\n",
            "Epoch 113/200\n",
            "1/1 [==============================] - 0s 18ms/step - loss: 0.0567\n",
            "Epoch 114/200\n",
            "1/1 [==============================] - 0s 27ms/step - loss: 0.0555\n",
            "Epoch 115/200\n",
            "1/1 [==============================] - 0s 15ms/step - loss: 0.0544\n",
            "Epoch 116/200\n",
            "1/1 [==============================] - 0s 20ms/step - loss: 0.0533\n",
            "Epoch 117/200\n",
            "1/1 [==============================] - 0s 36ms/step - loss: 0.0522\n",
            "Epoch 118/200\n",
            "1/1 [==============================] - 0s 39ms/step - loss: 0.0511\n",
            "Epoch 119/200\n",
            "1/1 [==============================] - 0s 27ms/step - loss: 0.0500\n",
            "Epoch 120/200\n",
            "1/1 [==============================] - 0s 34ms/step - loss: 0.0490\n",
            "Epoch 121/200\n",
            "1/1 [==============================] - 0s 23ms/step - loss: 0.0480\n",
            "Epoch 122/200\n",
            "1/1 [==============================] - 0s 32ms/step - loss: 0.0470\n",
            "Epoch 123/200\n",
            "1/1 [==============================] - 0s 26ms/step - loss: 0.0461\n",
            "Epoch 124/200\n",
            "1/1 [==============================] - 0s 23ms/step - loss: 0.0451\n",
            "Epoch 125/200\n",
            "1/1 [==============================] - 0s 17ms/step - loss: 0.0442\n",
            "Epoch 126/200\n",
            "1/1 [==============================] - 0s 25ms/step - loss: 0.0433\n",
            "Epoch 127/200\n",
            "1/1 [==============================] - 0s 15ms/step - loss: 0.0424\n",
            "Epoch 128/200\n",
            "1/1 [==============================] - 0s 20ms/step - loss: 0.0415\n",
            "Epoch 129/200\n",
            "1/1 [==============================] - 0s 23ms/step - loss: 0.0407\n",
            "Epoch 130/200\n",
            "1/1 [==============================] - 0s 31ms/step - loss: 0.0398\n",
            "Epoch 131/200\n",
            "1/1 [==============================] - 0s 12ms/step - loss: 0.0390\n",
            "Epoch 132/200\n",
            "1/1 [==============================] - 0s 32ms/step - loss: 0.0382\n",
            "Epoch 133/200\n",
            "1/1 [==============================] - 0s 10ms/step - loss: 0.0374\n",
            "Epoch 134/200\n",
            "1/1 [==============================] - 0s 14ms/step - loss: 0.0367\n",
            "Epoch 135/200\n",
            "1/1 [==============================] - 0s 22ms/step - loss: 0.0359\n",
            "Epoch 136/200\n",
            "1/1 [==============================] - 0s 33ms/step - loss: 0.0352\n",
            "Epoch 137/200\n",
            "1/1 [==============================] - 0s 19ms/step - loss: 0.0344\n",
            "Epoch 138/200\n",
            "1/1 [==============================] - 0s 18ms/step - loss: 0.0337\n",
            "Epoch 139/200\n",
            "1/1 [==============================] - 0s 13ms/step - loss: 0.0330\n",
            "Epoch 140/200\n",
            "1/1 [==============================] - 0s 27ms/step - loss: 0.0324\n",
            "Epoch 141/200\n",
            "1/1 [==============================] - 0s 14ms/step - loss: 0.0317\n",
            "Epoch 142/200\n",
            "1/1 [==============================] - 0s 15ms/step - loss: 0.0310\n",
            "Epoch 143/200\n",
            "1/1 [==============================] - 0s 20ms/step - loss: 0.0304\n",
            "Epoch 144/200\n",
            "1/1 [==============================] - 0s 13ms/step - loss: 0.0298\n",
            "Epoch 145/200\n",
            "1/1 [==============================] - 0s 17ms/step - loss: 0.0292\n",
            "Epoch 146/200\n",
            "1/1 [==============================] - 0s 21ms/step - loss: 0.0286\n",
            "Epoch 147/200\n",
            "1/1 [==============================] - 0s 13ms/step - loss: 0.0280\n",
            "Epoch 148/200\n",
            "1/1 [==============================] - 0s 16ms/step - loss: 0.0274\n",
            "Epoch 149/200\n",
            "1/1 [==============================] - 0s 14ms/step - loss: 0.0269\n",
            "Epoch 150/200\n",
            "1/1 [==============================] - 0s 18ms/step - loss: 0.0263\n",
            "Epoch 151/200\n",
            "1/1 [==============================] - 0s 22ms/step - loss: 0.0258\n",
            "Epoch 152/200\n",
            "1/1 [==============================] - 0s 29ms/step - loss: 0.0252\n",
            "Epoch 153/200\n",
            "1/1 [==============================] - 0s 37ms/step - loss: 0.0247\n",
            "Epoch 154/200\n",
            "1/1 [==============================] - 0s 25ms/step - loss: 0.0242\n",
            "Epoch 155/200\n",
            "1/1 [==============================] - 0s 33ms/step - loss: 0.0237\n",
            "Epoch 156/200\n",
            "1/1 [==============================] - 0s 40ms/step - loss: 0.0232\n",
            "Epoch 157/200\n",
            "1/1 [==============================] - 0s 34ms/step - loss: 0.0227\n",
            "Epoch 158/200\n",
            "1/1 [==============================] - 0s 18ms/step - loss: 0.0223\n",
            "Epoch 159/200\n",
            "1/1 [==============================] - 0s 18ms/step - loss: 0.0218\n",
            "Epoch 160/200\n",
            "1/1 [==============================] - 0s 47ms/step - loss: 0.0214\n",
            "Epoch 161/200\n",
            "1/1 [==============================] - 0s 36ms/step - loss: 0.0209\n",
            "Epoch 162/200\n",
            "1/1 [==============================] - 0s 14ms/step - loss: 0.0205\n",
            "Epoch 163/200\n",
            "1/1 [==============================] - 0s 39ms/step - loss: 0.0201\n",
            "Epoch 164/200\n",
            "1/1 [==============================] - 0s 23ms/step - loss: 0.0197\n",
            "Epoch 165/200\n",
            "1/1 [==============================] - 0s 43ms/step - loss: 0.0193\n",
            "Epoch 166/200\n",
            "1/1 [==============================] - 0s 16ms/step - loss: 0.0189\n",
            "Epoch 167/200\n",
            "1/1 [==============================] - 0s 18ms/step - loss: 0.0185\n",
            "Epoch 168/200\n",
            "1/1 [==============================] - 0s 29ms/step - loss: 0.0181\n",
            "Epoch 169/200\n",
            "1/1 [==============================] - 0s 13ms/step - loss: 0.0177\n",
            "Epoch 170/200\n",
            "1/1 [==============================] - 0s 39ms/step - loss: 0.0174\n",
            "Epoch 171/200\n",
            "1/1 [==============================] - 0s 15ms/step - loss: 0.0170\n",
            "Epoch 172/200\n",
            "1/1 [==============================] - 0s 33ms/step - loss: 0.0167\n",
            "Epoch 173/200\n",
            "1/1 [==============================] - 0s 47ms/step - loss: 0.0163\n",
            "Epoch 174/200\n",
            "1/1 [==============================] - 0s 24ms/step - loss: 0.0160\n",
            "Epoch 175/200\n",
            "1/1 [==============================] - 0s 14ms/step - loss: 0.0157\n",
            "Epoch 176/200\n",
            "1/1 [==============================] - 0s 69ms/step - loss: 0.0153\n",
            "Epoch 177/200\n",
            "1/1 [==============================] - 0s 24ms/step - loss: 0.0150\n",
            "Epoch 178/200\n",
            "1/1 [==============================] - 0s 30ms/step - loss: 0.0147\n",
            "Epoch 179/200\n",
            "1/1 [==============================] - 0s 50ms/step - loss: 0.0144\n",
            "Epoch 180/200\n",
            "1/1 [==============================] - 0s 19ms/step - loss: 0.0141\n",
            "Epoch 181/200\n",
            "1/1 [==============================] - 0s 11ms/step - loss: 0.0138\n",
            "Epoch 182/200\n",
            "1/1 [==============================] - 0s 10ms/step - loss: 0.0135\n",
            "Epoch 183/200\n",
            "1/1 [==============================] - 0s 18ms/step - loss: 0.0133\n",
            "Epoch 184/200\n",
            "1/1 [==============================] - 0s 13ms/step - loss: 0.0130\n",
            "Epoch 185/200\n",
            "1/1 [==============================] - 0s 19ms/step - loss: 0.0127\n",
            "Epoch 186/200\n",
            "1/1 [==============================] - 0s 12ms/step - loss: 0.0125\n",
            "Epoch 187/200\n",
            "1/1 [==============================] - 0s 22ms/step - loss: 0.0122\n",
            "Epoch 188/200\n",
            "1/1 [==============================] - 0s 43ms/step - loss: 0.0120\n",
            "Epoch 189/200\n",
            "1/1 [==============================] - 0s 14ms/step - loss: 0.0117\n",
            "Epoch 190/200\n",
            "1/1 [==============================] - 0s 31ms/step - loss: 0.0115\n",
            "Epoch 191/200\n",
            "1/1 [==============================] - 0s 34ms/step - loss: 0.0112\n",
            "Epoch 192/200\n",
            "1/1 [==============================] - 0s 11ms/step - loss: 0.0110\n",
            "Epoch 193/200\n",
            "1/1 [==============================] - 0s 30ms/step - loss: 0.0108\n",
            "Epoch 194/200\n",
            "1/1 [==============================] - 0s 35ms/step - loss: 0.0106\n",
            "Epoch 195/200\n",
            "1/1 [==============================] - 0s 42ms/step - loss: 0.0103\n",
            "Epoch 196/200\n",
            "1/1 [==============================] - 0s 10ms/step - loss: 0.0101\n",
            "Epoch 197/200\n",
            "1/1 [==============================] - 0s 25ms/step - loss: 0.0099\n",
            "Epoch 198/200\n",
            "1/1 [==============================] - 0s 22ms/step - loss: 0.0097\n",
            "Epoch 199/200\n",
            "1/1 [==============================] - 0s 10ms/step - loss: 0.0095\n",
            "Epoch 200/200\n",
            "1/1 [==============================] - 0s 14ms/step - loss: 0.0093\n"
          ]
        },
        {
          "output_type": "execute_result",
          "data": {
            "text/plain": [
              "<keras.src.callbacks.History at 0x7a2b4694e830>"
            ]
          },
          "metadata": {},
          "execution_count": 5
        }
      ]
    },
    {
      "cell_type": "markdown",
      "metadata": {
        "id": "EjsB-QICGt6L"
      },
      "source": [
        "## Generate a SavedModel"
      ]
    },
    {
      "cell_type": "code",
      "metadata": {
        "id": "a9xcbK7QHOfm"
      },
      "source": [
        "export_dir = 'saved_model/1'\n",
        "tf.saved_model.save(model, export_dir)"
      ],
      "execution_count": 6,
      "outputs": []
    },
    {
      "cell_type": "markdown",
      "metadata": {
        "id": "RRtsNwkiGxcO"
      },
      "source": [
        "## Convert the SavedModel to TFLite"
      ]
    },
    {
      "cell_type": "code",
      "metadata": {
        "id": "TtM8yKTVTpD3"
      },
      "source": [
        "# Convert the model.\n",
        "converter = tf.lite.TFLiteConverter.from_saved_model(export_dir)\n",
        "tflite_model = converter.convert()"
      ],
      "execution_count": 7,
      "outputs": []
    },
    {
      "cell_type": "code",
      "metadata": {
        "id": "4idYulcNHTdO",
        "colab": {
          "base_uri": "https://localhost:8080/"
        },
        "outputId": "408801da-39fd-47b4-d2f7-3b9406cb2469"
      },
      "source": [
        "tflite_model_file = pathlib.Path('model.tflite')\n",
        "tflite_model_file.write_bytes(tflite_model)"
      ],
      "execution_count": 8,
      "outputs": [
        {
          "output_type": "execute_result",
          "data": {
            "text/plain": [
              "1080"
            ]
          },
          "metadata": {},
          "execution_count": 8
        }
      ]
    },
    {
      "cell_type": "markdown",
      "metadata": {
        "id": "HgGvp2yBG25Q"
      },
      "source": [
        "## Initialize the TFLite Interpreter To Try It Out"
      ]
    },
    {
      "cell_type": "code",
      "metadata": {
        "id": "DOt94wIWF8m7"
      },
      "source": [
        "# Load TFLite model and allocate tensors.\n",
        "interpreter = tf.lite.Interpreter(model_content=tflite_model)\n",
        "interpreter.allocate_tensors()\n",
        "\n",
        "# Get input and output tensors.\n",
        "input_details = interpreter.get_input_details()\n",
        "output_details = interpreter.get_output_details()"
      ],
      "execution_count": 9,
      "outputs": []
    },
    {
      "cell_type": "code",
      "metadata": {
        "id": "JGYkEK08F8qK"
      },
      "source": [
        "# Test the TensorFlow Lite model on random input data.\n",
        "input_shape = input_details[0]['shape']\n",
        "inputs, outputs = [], []\n",
        "for _ in range(100):\n",
        "    input_data = np.array(np.random.random_sample(input_shape), dtype=np.float32)\n",
        "    interpreter.set_tensor(input_details[0]['index'], input_data)\n",
        "\n",
        "    interpreter.invoke()\n",
        "    tflite_results = interpreter.get_tensor(output_details[0]['index'])\n",
        "\n",
        "    # Test the TensorFlow model on random input data.\n",
        "    tf_results = model(tf.constant(input_data))\n",
        "    output_data = np.array(tf_results)\n",
        "\n",
        "    inputs.append(input_data[0][0])\n",
        "    outputs.append(output_data[0][0])"
      ],
      "execution_count": 10,
      "outputs": []
    },
    {
      "cell_type": "markdown",
      "metadata": {
        "id": "t1gQGH1KWAgW"
      },
      "source": [
        "## Visualize the Model"
      ]
    },
    {
      "cell_type": "code",
      "metadata": {
        "id": "ccvQ1mEJVrqo",
        "colab": {
          "base_uri": "https://localhost:8080/",
          "height": 430
        },
        "outputId": "cc48731b-02b7-4ab6-9e36-98e566962882"
      },
      "source": [
        "%matplotlib inline\n",
        "\n",
        "plt.plot(inputs, outputs, 'r')\n",
        "plt.show()"
      ],
      "execution_count": 11,
      "outputs": [
        {
          "output_type": "display_data",
          "data": {
            "text/plain": [
              "<Figure size 640x480 with 1 Axes>"
            ],
            "image/png": "[encoded data removed]"
          },
          "metadata": {}
        }
      ]
    },
    {
      "cell_type": "markdown",
      "metadata": {
        "id": "WbugMH6yKvtd"
      },
      "source": [
        "## Download the TFLite Model File\n",
        "\n",
        "If you are running this notebook in a Colab, you can run the cell below to download the tflite model to your local disk.\n",
        "\n",
        "**Note**: If the file does not download when you run the cell, try running the cell a second time."
      ]
    },
    {
      "cell_type": "code",
      "metadata": {
        "id": "FOAIMETeJmkc",
        "colab": {
          "base_uri": "https://localhost:8080/",
          "height": 17
        },
        "outputId": "89ce6eca-6374-441a-eafb-0c1dfa8a79c4"
      },
      "source": [
        "try:\n",
        "    from google.colab import files\n",
        "    files.download(tflite_model_file)\n",
        "except:\n",
        "    pass"
      ],
      "execution_count": 12,
      "outputs": [
        {
          "output_type": "display_data",
          "data": {
            "text/plain": [
              "<IPython.core.display.Javascript object>"
            ],
            "application/javascript": [
              "\n",
              "    async function download(id, filename, size) {\n",
              "      if (!google.colab.kernel.accessAllowed) {\n",
              "        return;\n",
              "      }\n",
              "      const div = document.createElement('div');\n",
              "      const label = document.createElement('label');\n",
              "      label.textContent = `Downloading \"${filename}\": `;\n",
              "      div.appendChild(label);\n",
              "      const progress = document.createElement('progress');\n",
              "      progress.max = size;\n",
              "      div.appendChild(progress);\n",
              "      document.body.appendChild(div);\n",
              "\n",
              "      const buffers = [];\n",
              "      let downloaded = 0;\n",
              "\n",
              "      const channel = await google.colab.kernel.comms.open(id);\n",
              "      // Send a message to notify the kernel that we're ready.\n",
              "      channel.send({})\n",
              "\n",
              "      for await (const message of channel.messages) {\n",
              "        // Send a message to notify the kernel that we're ready.\n",
              "        channel.send({})\n",
              "        if (message.buffers) {\n",
              "          for (const buffer of message.buffers) {\n",
              "            buffers.push(buffer);\n",
              "            downloaded += buffer.byteLength;\n",
              "            progress.value = downloaded;\n",
              "          }\n",
              "        }\n",
              "      }\n",
              "      const blob = new Blob(buffers, {type: 'application/binary'});\n",
              "      const a = document.createElement('a');\n",
              "      a.href = window.URL.createObjectURL(blob);\n",
              "      a.download = filename;\n",
              "      div.appendChild(a);\n",
              "      a.click();\n",
              "      div.remove();\n",
              "    }\n",
              "  "
            ]
          },
          "metadata": {}
        },
        {
          "output_type": "display_data",
          "data": {
            "text/plain": [
              "<IPython.core.display.Javascript object>"
            ],
            "application/javascript": [
              "download(\"download_a51dcf99-b3a6-4c16-a9a3-6544d3708333\", \"model.tflite\", 1080)"
            ]
          },
          "metadata": {}
        }
      ]
    }
  ]
}