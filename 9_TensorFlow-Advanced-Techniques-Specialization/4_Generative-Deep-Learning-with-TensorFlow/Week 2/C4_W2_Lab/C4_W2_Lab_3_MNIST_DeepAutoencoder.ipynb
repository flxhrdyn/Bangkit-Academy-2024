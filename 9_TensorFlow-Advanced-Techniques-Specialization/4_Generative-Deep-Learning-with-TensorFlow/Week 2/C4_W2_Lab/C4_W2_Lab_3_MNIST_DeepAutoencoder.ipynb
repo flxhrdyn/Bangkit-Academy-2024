{
  "nbformat": 4,
  "nbformat_minor": 0,
  "metadata": {
    "colab": {
      "provenance": []
    },
    "kernelspec": {
      "name": "python3",
      "display_name": "Python 3"
    },
    "widgets": {
      "application/vnd.jupyter.widget-state+json": {
        "b8f2f154761342e48bc037c6a7c59c9b": {
          "model_module": "@jupyter-widgets/controls",
          "model_name": "HBoxModel",
          "model_module_version": "1.5.0",
          "state": {
            "_dom_classes": [],
            "_model_module": "@jupyter-widgets/controls",
            "_model_module_version": "1.5.0",
            "_model_name": "HBoxModel",
            "_view_count": null,
            "_view_module": "@jupyter-widgets/controls",
            "_view_module_version": "1.5.0",
            "_view_name": "HBoxView",
            "box_style": "",
            "children": [
              "IPY_MODEL_a0d5d96ee8ef4a52af8e506919c0922d",
              "IPY_MODEL_729106c447df48688b89eeb07e3eee96",
              "IPY_MODEL_bd9abc1402014e0eb1267f6f3d62707a"
            ],
            "layout": "IPY_MODEL_8c97a383234441b1a91536e93f174032"
          }
        },
        "a0d5d96ee8ef4a52af8e506919c0922d": {
          "model_module": "@jupyter-widgets/controls",
          "model_name": "HTMLModel",
          "model_module_version": "1.5.0",
          "state": {
            "_dom_classes": [],
            "_model_module": "@jupyter-widgets/controls",
            "_model_module_version": "1.5.0",
            "_model_name": "HTMLModel",
            "_view_count": null,
            "_view_module": "@jupyter-widgets/controls",
            "_view_module_version": "1.5.0",
            "_view_name": "HTMLView",
            "description": "",
            "description_tooltip": null,
            "layout": "IPY_MODEL_cf9d0e1d35a14af5b62182b0633b1fd3",
            "placeholder": "​",
            "style": "IPY_MODEL_a71b6458e0dd407e8cb69e09d13b2e32",
            "value": "Dl Completed...: 100%"
          }
        },
        "729106c447df48688b89eeb07e3eee96": {
          "model_module": "@jupyter-widgets/controls",
          "model_name": "FloatProgressModel",
          "model_module_version": "1.5.0",
          "state": {
            "_dom_classes": [],
            "_model_module": "@jupyter-widgets/controls",
            "_model_module_version": "1.5.0",
            "_model_name": "FloatProgressModel",
            "_view_count": null,
            "_view_module": "@jupyter-widgets/controls",
            "_view_module_version": "1.5.0",
            "_view_name": "ProgressView",
            "bar_style": "success",
            "description": "",
            "description_tooltip": null,
            "layout": "IPY_MODEL_37d0ef92f5394cab90abd34976fb32fd",
            "max": 5,
            "min": 0,
            "orientation": "horizontal",
            "style": "IPY_MODEL_0bd1fa658bc343c0867d4955930e92ee",
            "value": 5
          }
        },
        "bd9abc1402014e0eb1267f6f3d62707a": {
          "model_module": "@jupyter-widgets/controls",
          "model_name": "HTMLModel",
          "model_module_version": "1.5.0",
          "state": {
            "_dom_classes": [],
            "_model_module": "@jupyter-widgets/controls",
            "_model_module_version": "1.5.0",
            "_model_name": "HTMLModel",
            "_view_count": null,
            "_view_module": "@jupyter-widgets/controls",
            "_view_module_version": "1.5.0",
            "_view_name": "HTMLView",
            "description": "",
            "description_tooltip": null,
            "layout": "IPY_MODEL_389bd60fd7174a5d816768cc84a1a965",
            "placeholder": "​",
            "style": "IPY_MODEL_5fb48f882464456baa104d25cf7425a1",
            "value": " 5/5 [00:00&lt;00:00,  8.85 file/s]"
          }
        },
        "8c97a383234441b1a91536e93f174032": {
          "model_module": "@jupyter-widgets/base",
          "model_name": "LayoutModel",
          "model_module_version": "1.2.0",
          "state": {
            "_model_module": "@jupyter-widgets/base",
            "_model_module_version": "1.2.0",
            "_model_name": "LayoutModel",
            "_view_count": null,
            "_view_module": "@jupyter-widgets/base",
            "_view_module_version": "1.2.0",
            "_view_name": "LayoutView",
            "align_content": null,
            "align_items": null,
            "align_self": null,
            "border": null,
            "bottom": null,
            "display": null,
            "flex": null,
            "flex_flow": null,
            "grid_area": null,
            "grid_auto_columns": null,
            "grid_auto_flow": null,
            "grid_auto_rows": null,
            "grid_column": null,
            "grid_gap": null,
            "grid_row": null,
            "grid_template_areas": null,
            "grid_template_columns": null,
            "grid_template_rows": null,
            "height": null,
            "justify_content": null,
            "justify_items": null,
            "left": null,
            "margin": null,
            "max_height": null,
            "max_width": null,
            "min_height": null,
            "min_width": null,
            "object_fit": null,
            "object_position": null,
            "order": null,
            "overflow": null,
            "overflow_x": null,
            "overflow_y": null,
            "padding": null,
            "right": null,
            "top": null,
            "visibility": null,
            "width": null
          }
        },
        "cf9d0e1d35a14af5b62182b0633b1fd3": {
          "model_module": "@jupyter-widgets/base",
          "model_name": "LayoutModel",
          "model_module_version": "1.2.0",
          "state": {
            "_model_module": "@jupyter-widgets/base",
            "_model_module_version": "1.2.0",
            "_model_name": "LayoutModel",
            "_view_count": null,
            "_view_module": "@jupyter-widgets/base",
            "_view_module_version": "1.2.0",
            "_view_name": "LayoutView",
            "align_content": null,
            "align_items": null,
            "align_self": null,
            "border": null,
            "bottom": null,
            "display": null,
            "flex": null,
            "flex_flow": null,
            "grid_area": null,
            "grid_auto_columns": null,
            "grid_auto_flow": null,
            "grid_auto_rows": null,
            "grid_column": null,
            "grid_gap": null,
            "grid_row": null,
            "grid_template_areas": null,
            "grid_template_columns": null,
            "grid_template_rows": null,
            "height": null,
            "justify_content": null,
            "justify_items": null,
            "left": null,
            "margin": null,
            "max_height": null,
            "max_width": null,
            "min_height": null,
            "min_width": null,
            "object_fit": null,
            "object_position": null,
            "order": null,
            "overflow": null,
            "overflow_x": null,
            "overflow_y": null,
            "padding": null,
            "right": null,
            "top": null,
            "visibility": null,
            "width": null
          }
        },
        "a71b6458e0dd407e8cb69e09d13b2e32": {
          "model_module": "@jupyter-widgets/controls",
          "model_name": "DescriptionStyleModel",
          "model_module_version": "1.5.0",
          "state": {
            "_model_module": "@jupyter-widgets/controls",
            "_model_module_version": "1.5.0",
            "_model_name": "DescriptionStyleModel",
            "_view_count": null,
            "_view_module": "@jupyter-widgets/base",
            "_view_module_version": "1.2.0",
            "_view_name": "StyleView",
            "description_width": ""
          }
        },
        "37d0ef92f5394cab90abd34976fb32fd": {
          "model_module": "@jupyter-widgets/base",
          "model_name": "LayoutModel",
          "model_module_version": "1.2.0",
          "state": {
            "_model_module": "@jupyter-widgets/base",
            "_model_module_version": "1.2.0",
            "_model_name": "LayoutModel",
            "_view_count": null,
            "_view_module": "@jupyter-widgets/base",
            "_view_module_version": "1.2.0",
            "_view_name": "LayoutView",
            "align_content": null,
            "align_items": null,
            "align_self": null,
            "border": null,
            "bottom": null,
            "display": null,
            "flex": null,
            "flex_flow": null,
            "grid_area": null,
            "grid_auto_columns": null,
            "grid_auto_flow": null,
            "grid_auto_rows": null,
            "grid_column": null,
            "grid_gap": null,
            "grid_row": null,
            "grid_template_areas": null,
            "grid_template_columns": null,
            "grid_template_rows": null,
            "height": null,
            "justify_content": null,
            "justify_items": null,
            "left": null,
            "margin": null,
            "max_height": null,
            "max_width": null,
            "min_height": null,
            "min_width": null,
            "object_fit": null,
            "object_position": null,
            "order": null,
            "overflow": null,
            "overflow_x": null,
            "overflow_y": null,
            "padding": null,
            "right": null,
            "top": null,
            "visibility": null,
            "width": null
          }
        },
        "0bd1fa658bc343c0867d4955930e92ee": {
          "model_module": "@jupyter-widgets/controls",
          "model_name": "ProgressStyleModel",
          "model_module_version": "1.5.0",
          "state": {
            "_model_module": "@jupyter-widgets/controls",
            "_model_module_version": "1.5.0",
            "_model_name": "ProgressStyleModel",
            "_view_count": null,
            "_view_module": "@jupyter-widgets/base",
            "_view_module_version": "1.2.0",
            "_view_name": "StyleView",
            "bar_color": null,
            "description_width": ""
          }
        },
        "389bd60fd7174a5d816768cc84a1a965": {
          "model_module": "@jupyter-widgets/base",
          "model_name": "LayoutModel",
          "model_module_version": "1.2.0",
          "state": {
            "_model_module": "@jupyter-widgets/base",
            "_model_module_version": "1.2.0",
            "_model_name": "LayoutModel",
            "_view_count": null,
            "_view_module": "@jupyter-widgets/base",
            "_view_module_version": "1.2.0",
            "_view_name": "LayoutView",
            "align_content": null,
            "align_items": null,
            "align_self": null,
            "border": null,
            "bottom": null,
            "display": null,
            "flex": null,
            "flex_flow": null,
            "grid_area": null,
            "grid_auto_columns": null,
            "grid_auto_flow": null,
            "grid_auto_rows": null,
            "grid_column": null,
            "grid_gap": null,
            "grid_row": null,
            "grid_template_areas": null,
            "grid_template_columns": null,
            "grid_template_rows": null,
            "height": null,
            "justify_content": null,
            "justify_items": null,
            "left": null,
            "margin": null,
            "max_height": null,
            "max_width": null,
            "min_height": null,
            "min_width": null,
            "object_fit": null,
            "object_position": null,
            "order": null,
            "overflow": null,
            "overflow_x": null,
            "overflow_y": null,
            "padding": null,
            "right": null,
            "top": null,
            "visibility": null,
            "width": null
          }
        },
        "5fb48f882464456baa104d25cf7425a1": {
          "model_module": "@jupyter-widgets/controls",
          "model_name": "DescriptionStyleModel",
          "model_module_version": "1.5.0",
          "state": {
            "_model_module": "@jupyter-widgets/controls",
            "_model_module_version": "1.5.0",
            "_model_name": "DescriptionStyleModel",
            "_view_count": null,
            "_view_module": "@jupyter-widgets/base",
            "_view_module_version": "1.2.0",
            "_view_name": "StyleView",
            "description_width": ""
          }
        }
      }
    }
  },
  "cells": [
    {
      "cell_type": "markdown",
      "metadata": {
        "id": "hSmjE4t1dKnG"
      },
      "source": [
        "# Ungraded Lab: MNIST Deep Autoencoder\n",
        "\n",
        "Welcome back! In this lab, you will extend the shallow autoencoder you built in the previous exercise. The model here will have a deeper network so it can handle more complex images."
      ]
    },
    {
      "cell_type": "markdown",
      "metadata": {
        "id": "zTTfAJbudq7l"
      },
      "source": [
        "## Imports"
      ]
    },
    {
      "cell_type": "code",
      "metadata": {
        "id": "3EXwoz-KHtWO",
        "colab": {
          "base_uri": "https://localhost:8080/"
        },
        "outputId": "b780ecd3-45f6-48d8-ff92-e1cec3b620ab"
      },
      "source": [
        "try:\n",
        "  # %tensorflow_version only exists in Colab.\n",
        "  %tensorflow_version 2.x\n",
        "except Exception:\n",
        "  pass\n",
        "\n",
        "import tensorflow as tf\n",
        "import tensorflow_datasets as tfds\n",
        "\n",
        "import numpy as np\n",
        "import matplotlib.pyplot as plt"
      ],
      "execution_count": 1,
      "outputs": [
        {
          "output_type": "stream",
          "name": "stdout",
          "text": [
            "Colab only includes TensorFlow 2.x; %tensorflow_version has no effect.\n"
          ]
        }
      ]
    },
    {
      "cell_type": "markdown",
      "metadata": {
        "id": "25T24ET7e0ub"
      },
      "source": [
        "## Prepare the Dataset"
      ]
    },
    {
      "cell_type": "markdown",
      "metadata": {
        "id": "4RJB4eae0rgU"
      },
      "source": [
        "You will prepare the MNIST dataset just like in the previous lab."
      ]
    },
    {
      "cell_type": "code",
      "metadata": {
        "id": "5BMJF86p0d08"
      },
      "source": [
        "def map_image(image, label):\n",
        "  '''Normalizes and flattens the image. Returns image as input and label.'''\n",
        "  image = tf.cast(image, dtype=tf.float32)\n",
        "  image = image / 255.0\n",
        "  image = tf.reshape(image, shape=(784,))\n",
        "\n",
        "  return image, image"
      ],
      "execution_count": 2,
      "outputs": []
    },
    {
      "cell_type": "code",
      "metadata": {
        "id": "t9F7YsCNIKSA",
        "colab": {
          "base_uri": "https://localhost:8080/",
          "height": 84,
          "referenced_widgets": [
            "b8f2f154761342e48bc037c6a7c59c9b",
            "a0d5d96ee8ef4a52af8e506919c0922d",
            "729106c447df48688b89eeb07e3eee96",
            "bd9abc1402014e0eb1267f6f3d62707a",
            "8c97a383234441b1a91536e93f174032",
            "cf9d0e1d35a14af5b62182b0633b1fd3",
            "a71b6458e0dd407e8cb69e09d13b2e32",
            "37d0ef92f5394cab90abd34976fb32fd",
            "0bd1fa658bc343c0867d4955930e92ee",
            "389bd60fd7174a5d816768cc84a1a965",
            "5fb48f882464456baa104d25cf7425a1"
          ]
        },
        "outputId": "112e29c0-ebf1-49a4-a146-fa2ae9276ea9"
      },
      "source": [
        "# Load the train and test sets from TFDS\n",
        "\n",
        "BATCH_SIZE = 128\n",
        "SHUFFLE_BUFFER_SIZE = 1024\n",
        "\n",
        "train_dataset = tfds.load('mnist', as_supervised=True, split=\"train\")\n",
        "train_dataset = train_dataset.map(map_image)\n",
        "train_dataset = train_dataset.shuffle(SHUFFLE_BUFFER_SIZE).batch(BATCH_SIZE).repeat()\n",
        "\n",
        "test_dataset = tfds.load('mnist', as_supervised=True, split=\"test\")\n",
        "test_dataset = test_dataset.map(map_image)\n",
        "test_dataset = test_dataset.batch(BATCH_SIZE).repeat()"
      ],
      "execution_count": 3,
      "outputs": [
        {
          "output_type": "stream",
          "name": "stdout",
          "text": [
            "Downloading and preparing dataset 11.06 MiB (download: 11.06 MiB, generated: 21.00 MiB, total: 32.06 MiB) to /root/tensorflow_datasets/mnist/3.0.1...\n"
          ]
        },
        {
          "output_type": "display_data",
          "data": {
            "text/plain": [
              "Dl Completed...:   0%|          | 0/5 [00:00<?, ? file/s]"
            ],
            "application/vnd.jupyter.widget-view+json": {
              "version_major": 2,
              "version_minor": 0,
              "model_id": "b8f2f154761342e48bc037c6a7c59c9b"
            }
          },
          "metadata": {}
        },
        {
          "output_type": "stream",
          "name": "stdout",
          "text": [
            "Dataset mnist downloaded and prepared to /root/tensorflow_datasets/mnist/3.0.1. Subsequent calls will reuse this data.\n"
          ]
        }
      ]
    },
    {
      "cell_type": "markdown",
      "metadata": {
        "id": "Ji6sa0SXe3zP"
      },
      "source": [
        "## Build the Model"
      ]
    },
    {
      "cell_type": "markdown",
      "metadata": {
        "id": "x8OFTvkO02gV"
      },
      "source": [
        "As mentioned, you will have a deeper network for the autoencoder. Compare the layers here with that of the shallow network you built in the previous lab."
      ]
    },
    {
      "cell_type": "code",
      "metadata": {
        "id": "KRrE2BV4IpzR"
      },
      "source": [
        "def deep_autoencoder():\n",
        "  '''Builds the encoder and decoder using Dense layers.'''\n",
        "  encoder = tf.keras.layers.Dense(units=128, activation='relu')(inputs)\n",
        "  encoder = tf.keras.layers.Dense(units=64, activation='relu')(encoder)\n",
        "  encoder = tf.keras.layers.Dense(units=32, activation='relu')(encoder)\n",
        "\n",
        "  decoder = tf.keras.layers.Dense(units=64, activation='relu')(encoder)\n",
        "  decoder = tf.keras.layers.Dense(units=128, activation='relu')(decoder)\n",
        "  decoder = tf.keras.layers.Dense(units=784, activation='sigmoid')(decoder)\n",
        "\n",
        "  return encoder, decoder\n",
        "\n",
        "# set the input tensor\n",
        "inputs =  tf.keras.layers.Input(shape=(784,))\n",
        "\n",
        "# get the encoder and decoder output\n",
        "deep_encoder_output, deep_autoencoder_output = deep_autoencoder()\n",
        "\n",
        "# setup the encoder because you will visualize its output later\n",
        "deep_encoder_model = tf.keras.Model(inputs=inputs, outputs=deep_encoder_output)\n",
        "\n",
        "# setup the autoencoder\n",
        "deep_autoencoder_model = tf.keras.Model(inputs=inputs, outputs=deep_autoencoder_output)"
      ],
      "execution_count": 4,
      "outputs": []
    },
    {
      "cell_type": "markdown",
      "metadata": {
        "id": "5zG5ml6ufAz7"
      },
      "source": [
        "## Compile and Train the Model"
      ]
    },
    {
      "cell_type": "code",
      "metadata": {
        "id": "gj3xr9gxfAqP",
        "colab": {
          "base_uri": "https://localhost:8080/"
        },
        "outputId": "2a2eace2-aa31-45a5-de5e-2a77d180db52"
      },
      "source": [
        "train_steps = 60000 // BATCH_SIZE\n",
        "\n",
        "deep_autoencoder_model.compile(optimizer=tf.keras.optimizers.Adam(), loss='binary_crossentropy')\n",
        "deep_auto_history = deep_autoencoder_model.fit(train_dataset, steps_per_epoch=train_steps, epochs=50)"
      ],
      "execution_count": 5,
      "outputs": [
        {
          "output_type": "stream",
          "name": "stdout",
          "text": [
            "Epoch 1/50\n",
            "468/468 [==============================] - 28s 41ms/step - loss: 0.2045\n",
            "Epoch 2/50\n",
            "468/468 [==============================] - 12s 26ms/step - loss: 0.1328\n",
            "Epoch 3/50\n",
            "468/468 [==============================] - 8s 17ms/step - loss: 0.1185\n",
            "Epoch 4/50\n",
            "468/468 [==============================] - 9s 19ms/step - loss: 0.1117\n",
            "Epoch 5/50\n",
            "468/468 [==============================] - 9s 20ms/step - loss: 0.1077\n",
            "Epoch 6/50\n",
            "468/468 [==============================] - 7s 16ms/step - loss: 0.1040\n",
            "Epoch 7/50\n",
            "468/468 [==============================] - 10s 20ms/step - loss: 0.1011\n",
            "Epoch 8/50\n",
            "468/468 [==============================] - 7s 16ms/step - loss: 0.0992\n",
            "Epoch 9/50\n",
            "468/468 [==============================] - 9s 20ms/step - loss: 0.0977\n",
            "Epoch 10/50\n",
            "468/468 [==============================] - 9s 18ms/step - loss: 0.0964\n",
            "Epoch 11/50\n",
            "468/468 [==============================] - 8s 18ms/step - loss: 0.0952\n",
            "Epoch 12/50\n",
            "468/468 [==============================] - 9s 19ms/step - loss: 0.0941\n",
            "Epoch 13/50\n",
            "468/468 [==============================] - 7s 16ms/step - loss: 0.0932\n",
            "Epoch 14/50\n",
            "468/468 [==============================] - 12s 25ms/step - loss: 0.0923\n",
            "Epoch 15/50\n",
            "468/468 [==============================] - 9s 20ms/step - loss: 0.0914\n",
            "Epoch 16/50\n",
            "468/468 [==============================] - 7s 15ms/step - loss: 0.0907\n",
            "Epoch 17/50\n",
            "468/468 [==============================] - 9s 19ms/step - loss: 0.0900\n",
            "Epoch 18/50\n",
            "468/468 [==============================] - 7s 16ms/step - loss: 0.0895\n",
            "Epoch 19/50\n",
            "468/468 [==============================] - 9s 19ms/step - loss: 0.0889\n",
            "Epoch 20/50\n",
            "468/468 [==============================] - 9s 19ms/step - loss: 0.0884\n",
            "Epoch 21/50\n",
            "468/468 [==============================] - 8s 16ms/step - loss: 0.0880\n",
            "Epoch 22/50\n",
            "468/468 [==============================] - 9s 20ms/step - loss: 0.0876\n",
            "Epoch 23/50\n",
            "468/468 [==============================] - 8s 17ms/step - loss: 0.0872\n",
            "Epoch 24/50\n",
            "468/468 [==============================] - 9s 20ms/step - loss: 0.0868\n",
            "Epoch 25/50\n",
            "468/468 [==============================] - 8s 17ms/step - loss: 0.0865\n",
            "Epoch 26/50\n",
            "468/468 [==============================] - 8s 17ms/step - loss: 0.0862\n",
            "Epoch 27/50\n",
            "468/468 [==============================] - 10s 21ms/step - loss: 0.0860\n",
            "Epoch 28/50\n",
            "468/468 [==============================] - 7s 16ms/step - loss: 0.0857\n",
            "Epoch 29/50\n",
            "468/468 [==============================] - 9s 19ms/step - loss: 0.0855\n",
            "Epoch 30/50\n",
            "468/468 [==============================] - 8s 18ms/step - loss: 0.0853\n",
            "Epoch 31/50\n",
            "468/468 [==============================] - 8s 18ms/step - loss: 0.0851\n",
            "Epoch 32/50\n",
            "468/468 [==============================] - 9s 19ms/step - loss: 0.0849\n",
            "Epoch 33/50\n",
            "468/468 [==============================] - 7s 16ms/step - loss: 0.0848\n",
            "Epoch 34/50\n",
            "468/468 [==============================] - 9s 19ms/step - loss: 0.0847\n",
            "Epoch 35/50\n",
            "468/468 [==============================] - 7s 16ms/step - loss: 0.0846\n",
            "Epoch 36/50\n",
            "468/468 [==============================] - 9s 19ms/step - loss: 0.0845\n",
            "Epoch 37/50\n",
            "468/468 [==============================] - 8s 16ms/step - loss: 0.0844\n",
            "Epoch 38/50\n",
            "468/468 [==============================] - 8s 17ms/step - loss: 0.0843\n",
            "Epoch 39/50\n",
            "468/468 [==============================] - 9s 19ms/step - loss: 0.0842\n",
            "Epoch 40/50\n",
            "468/468 [==============================] - 9s 19ms/step - loss: 0.0841\n",
            "Epoch 41/50\n",
            "468/468 [==============================] - 9s 19ms/step - loss: 0.0840\n",
            "Epoch 42/50\n",
            "468/468 [==============================] - 8s 18ms/step - loss: 0.0839\n",
            "Epoch 43/50\n",
            "468/468 [==============================] - 8s 17ms/step - loss: 0.0839\n",
            "Epoch 44/50\n",
            "468/468 [==============================] - 9s 20ms/step - loss: 0.0838\n",
            "Epoch 45/50\n",
            "468/468 [==============================] - 7s 16ms/step - loss: 0.0837\n",
            "Epoch 46/50\n",
            "468/468 [==============================] - 9s 20ms/step - loss: 0.0837\n",
            "Epoch 47/50\n",
            "468/468 [==============================] - 8s 17ms/step - loss: 0.0836\n",
            "Epoch 48/50\n",
            "468/468 [==============================] - 8s 18ms/step - loss: 0.0836\n",
            "Epoch 49/50\n",
            "468/468 [==============================] - 9s 20ms/step - loss: 0.0835\n",
            "Epoch 50/50\n",
            "468/468 [==============================] - 7s 16ms/step - loss: 0.0835\n"
          ]
        }
      ]
    },
    {
      "cell_type": "markdown",
      "metadata": {
        "id": "n1XL84ydfGEh"
      },
      "source": [
        "## Display sample results\n",
        "\n",
        "See the results using the model you just trained."
      ]
    },
    {
      "cell_type": "code",
      "metadata": {
        "id": "GcR54SEZ1-XF"
      },
      "source": [
        "def display_one_row(disp_images, offset, shape=(28, 28)):\n",
        "  '''Display sample outputs in one row.'''\n",
        "  for idx, test_image in enumerate(disp_images):\n",
        "    plt.subplot(3, 10, offset + idx + 1)\n",
        "    plt.xticks([])\n",
        "    plt.yticks([])\n",
        "    test_image = np.reshape(test_image, shape)\n",
        "    plt.imshow(test_image, cmap='gray')\n",
        "\n",
        "\n",
        "def display_results(disp_input_images, disp_encoded, disp_predicted, enc_shape=(8,4)):\n",
        "  '''Displays the input, encoded, and decoded output values.'''\n",
        "  plt.figure(figsize=(15, 5))\n",
        "  display_one_row(disp_input_images, 0, shape=(28,28,))\n",
        "  display_one_row(disp_encoded, 10, shape=enc_shape)\n",
        "  display_one_row(disp_predicted, 20, shape=(28,28,))"
      ],
      "execution_count": 6,
      "outputs": []
    },
    {
      "cell_type": "code",
      "metadata": {
        "id": "qtQyQRxRN_hH",
        "colab": {
          "base_uri": "https://localhost:8080/",
          "height": 442
        },
        "outputId": "b7cf9610-9b1c-42de-e654-9b01fd07ffc7"
      },
      "source": [
        "# take 1 batch of the dataset\n",
        "test_dataset = test_dataset.take(1)\n",
        "\n",
        "# take the input images and put them in a list\n",
        "output_samples = []\n",
        "for input_image, image in tfds.as_numpy(test_dataset):\n",
        "      output_samples = input_image\n",
        "\n",
        "# pick 10 random numbers to be used as indices to the list above\n",
        "idxs = np.random.choice(BATCH_SIZE, size=10)\n",
        "\n",
        "# get the encoder output\n",
        "encoded_predicted = deep_encoder_model.predict(test_dataset)\n",
        "\n",
        "# get a prediction for the test batch\n",
        "deep_predicted = deep_autoencoder_model.predict(test_dataset)\n",
        "\n",
        "# display the 10 samples, encodings and decoded values!\n",
        "display_results(output_samples[idxs], encoded_predicted[idxs], deep_predicted[idxs])"
      ],
      "execution_count": 7,
      "outputs": [
        {
          "output_type": "stream",
          "name": "stdout",
          "text": [
            "1/1 [==============================] - 0s 141ms/step\n",
            "1/1 [==============================] - 0s 151ms/step\n"
          ]
        },
        {
          "output_type": "display_data",
          "data": {
            "text/plain": [
              "<Figure size 1500x500 with 30 Axes>"
            ],
            "image/png": "[encoded data removed]"
          },
          "metadata": {}
        }
      ]
    }
  ]
}