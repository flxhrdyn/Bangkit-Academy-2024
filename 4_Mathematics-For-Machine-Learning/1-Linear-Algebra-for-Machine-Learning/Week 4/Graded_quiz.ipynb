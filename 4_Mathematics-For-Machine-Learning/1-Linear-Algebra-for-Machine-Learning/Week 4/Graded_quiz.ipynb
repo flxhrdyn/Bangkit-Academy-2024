{
 "cells": [
  {
   "cell_type": "code",
   "execution_count": 1,
   "metadata": {},
   "outputs": [
    {
     "name": "stdout",
     "output_type": "stream",
     "text": [
      "The rank is 2\n"
     ]
    }
   ],
   "source": [
    "import numpy as np\n",
    "\n",
    "### FIND THE RANK OF TRANSFORMATIONS ###\n",
    "M = np.array(\n",
    "    [\n",
    "        [1, 3, -4],\n",
    "        [2, -1, -3],\n",
    "        [4, 5, -11],\n",
    "    ]\n",
    ")\n",
    "print(f\"The rank is {np.linalg.matrix_rank(M)}\")"
   ]
  },
  {
   "cell_type": "code",
   "execution_count": 2,
   "metadata": {},
   "outputs": [
    {
     "name": "stdout",
     "output_type": "stream",
     "text": [
      "Det M @ N = -0.0\n"
     ]
    }
   ],
   "source": [
    "### det(M@N) = DET(M) * DET(N) ###\n",
    "M = np.array([[1, 0, 1], [0, 1, 0], [1, 1, 1]])\n",
    "N = np.array([[2, 8, 7], [4, 3, 9], [1, 5, 9]])\n",
    "det_MN = np.linalg.det(M) * np.linalg.det(N)\n",
    "print(f\"Det M @ N = {det_MN}\")"
   ]
  },
  {
   "cell_type": "code",
   "execution_count": 3,
   "metadata": {},
   "outputs": [
    {
     "name": "stdout",
     "output_type": "stream",
     "text": [
      "Independency achieved\n"
     ]
    }
   ],
   "source": [
    "### SPAN OF VECTORS GIVES BY IT'S LINEAR DEPENDENCY ###\n",
    "v1 = np.array([[2], [1], [1]])\n",
    "v2 = np.array([[1], [0], [2]])\n",
    "v3 = np.array([[1], [0], [1]])\n",
    "M = np.hstack([v1, v2, v3])\n",
    "if np.linalg.det(M) == 0:\n",
    "    print(\"Dependency acheived\")\n",
    "else:\n",
    "    print(\"Independency achieved\")"
   ]
  },
  {
   "cell_type": "code",
   "execution_count": 14,
   "metadata": {},
   "outputs": [
    {
     "name": "stdout",
     "output_type": "stream",
     "text": [
      "Independency achieved\n"
     ]
    }
   ],
   "source": [
    "### 3D SPACE BASIS ###\n",
    "M = np.array([[-1, 2, 1], [1, 2, 2], [1, 6, 5]])\n",
    "M = np.array([[2, 3, 1], [0, 2.5, 3.5], [0, 5.5, 4.5]])\n",
    "M = np.array([[1, 0, 1], [0, 1, 0], [1, 0, 0]])\n",
    "M = np.array([[-1, 2, 1], [1, 2, 2], [1, 0, 1]])\n",
    "M = np.array([[2, 3, 1], [0, -1, 2], [-1, 1, 4]])\n",
    "if np.linalg.det(M) == 0:\n",
    "    print(\"Dependency acheived\")\n",
    "else:\n",
    "    print(\"Independency achieved\")"
   ]
  },
  {
   "cell_type": "code",
   "execution_count": 15,
   "metadata": {},
   "outputs": [
    {
     "name": "stdout",
     "output_type": "stream",
     "text": [
      "[[ 2.  6.]\n",
      " [ 6. 18.]]\n"
     ]
    }
   ],
   "source": [
    "### COVARIANCE MATRIX ###\n",
    "M = np.array([[3, 2], [5, 8]])\n",
    "mean_v = np.mean(M, axis=0)\n",
    "X_mean = M - mean_v\n",
    "C = (X_mean.T @ X_mean) / (M.shape[0] - 1)\n",
    "print(C)"
   ]
  },
  {
   "cell_type": "code",
   "execution_count": 16,
   "metadata": {},
   "outputs": [
    {
     "name": "stdout",
     "output_type": "stream",
     "text": [
      "[[-20.  -1.   0.]\n",
      " [ 20.   1.   0.]]\n",
      "Eigenvalues: [802.   0.   0.]\n"
     ]
    }
   ],
   "source": [
    "### X - MEAN ###\n",
    "M = np.array([[70, 2, 2], [110, 4, 2]])\n",
    "X_mean = M - np.mean(M, axis=0)\n",
    "print(X_mean)\n",
    "C = (X_mean.T @ X_mean) / (M.shape[0] - 1)\n",
    "C_eig = np.linalg.eigvals(C)\n",
    "print(f\"Eigenvalues: {C_eig}\")"
   ]
  }
 ],
 "metadata": {
  "kernelspec": {
   "display_name": "Python 3",
   "language": "python",
   "name": "python3"
  },
  "language_info": {
   "codemirror_mode": {
    "name": "ipython",
    "version": 3
   },
   "file_extension": ".py",
   "mimetype": "text/x-python",
   "name": "python",
   "nbconvert_exporter": "python",
   "pygments_lexer": "ipython3",
   "version": "3.12.0"
  }
 },
 "nbformat": 4,
 "nbformat_minor": 2
}
